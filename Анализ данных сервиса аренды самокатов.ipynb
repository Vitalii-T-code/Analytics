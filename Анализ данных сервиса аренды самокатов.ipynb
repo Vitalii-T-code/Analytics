{
 "cells": [
  {
   "cell_type": "markdown",
   "id": "abcd2c7e",
   "metadata": {},
   "source": [
    "# Проект: Анализ данных сервиса аренды самокатов GoFast\n",
    "\n",
    "**Цель проекта:**\n",
    "Исследовать данные сервиса аренды самокатов GoFast для выявления возможностей по увеличению выручки и привлечению новых пользователей с подпиской.\n",
    "\n",
    "**План работы:**\n",
    "1. **Загрузка данных**\n",
    "   - Считывание CSV-файлов с данными.\n",
    "   - Вывод первых строк и общей информации о каждом наборе данных.\n",
    "\n",
    "2. **Предобработка данных**\n",
    "   - Преобразование столбца с датой к типу datetime.\n",
    "   - Создание нового столбца с номером месяца.\n",
    "   - Обработка пропущенных значений и дубликатов.\n",
    "\n",
    "3. **Исследовательский анализ данных**\n",
    "   - Анализ частоты встречаемости городов.\n",
    "   - Соотношение пользователей с подпиской и без подписки.\n",
    "   - Анализ возраста пользователей.\n",
    "   - Анализ расстояния и продолжительности поездок.\n",
    "\n",
    "4. **Объединение данных**\n",
    "   - Объединение данных о пользователях, поездках и подписках.\n",
    "   - Создание двух датафреймов для пользователей с и без подписки.\n",
    "   - Визуализация информации о расстоянии и времени поездок для обеих категорий пользователей.\n",
    "\n",
    "5. **Подсчёт выручки**\n",
    "   - Создание датафрейма с агрегированными данными о поездках.\n",
    "   - Добавление столбца с помесячной выручкой для каждого пользователя.\n",
    "\n",
    "6. **Проверка гипотез**\n",
    "   - Проверка гипотезы о времени поездок пользователей с подпиской и без подписки.\n",
    "   - Проверка гипотезы о среднем расстоянии поездок пользователей с подпиской.\n",
    "   - Проверка гипотезы о месячной выручке пользователей с подпиской и без подписки.\n",
    "   - Подготовка к проверке гипотезы о снижении количества обращений в техподдержку после обновления серверов.\n",
    "\n",
    "7. **Распределения**\n",
    "   - Определение минимального количества промокодов для акции с подпиской.\n",
    "   - Оценка вероятности открытия push-уведомлений отделом маркетинга.\n",
    "\n",
    "**Данные:**\n",
    "1. **Пользователи** (`users_go.csv`):\n",
    "   - user_id: уникальный идентификатор пользователя\n",
    "   - name: имя пользователя\n",
    "   - age: возраст\n",
    "   - city: город\n",
    "   - subscription_type: тип подписки (free, ultra)\n",
    "\n",
    "2. **Поездки** (`rides_go.csv`):\n",
    "   - user_id: уникальный идентификатор пользователя\n",
    "   - distance: расстояние поездки (в метрах)\n",
    "   - duration: продолжительность поездки (в минутах)\n",
    "   - date: дата совершения поездки\n",
    "\n",
    "3. **Подписки** (`subscriptions_go.csv`):\n",
    "   - subscription_type: тип подписки\n",
    "   - minute_price: стоимость одной минуты поездки\n",
    "   - start_ride_price: стоимость начала поездки\n",
    "   - subscription_fee: стоимость ежемесячного платежа"
   ]
  },
  {
   "cell_type": "code",
   "execution_count": 1,
   "id": "72576667",
   "metadata": {},
   "outputs": [],
   "source": [
    "import pandas as pd\n",
    "\n",
    "import matplotlib.pyplot as plt\n",
    "\n",
    "import numpy as np\n",
    "\n",
    "from scipy.stats import ttest_ind\n",
    "\n",
    "from scipy.stats import binom, norm"
   ]
  },
  {
   "cell_type": "markdown",
   "id": "c42cbe00",
   "metadata": {},
   "source": [
    "#### Шаг 1. Загрузка данных"
   ]
  },
  {
   "cell_type": "code",
   "execution_count": 2,
   "id": "eff9f206",
   "metadata": {
    "scrolled": false
   },
   "outputs": [
    {
     "name": "stdout",
     "output_type": "stream",
     "text": [
      "Пользователи:\n"
     ]
    },
    {
     "data": {
      "text/html": [
       "<div>\n",
       "<style scoped>\n",
       "    .dataframe tbody tr th:only-of-type {\n",
       "        vertical-align: middle;\n",
       "    }\n",
       "\n",
       "    .dataframe tbody tr th {\n",
       "        vertical-align: top;\n",
       "    }\n",
       "\n",
       "    .dataframe thead th {\n",
       "        text-align: right;\n",
       "    }\n",
       "</style>\n",
       "<table border=\"1\" class=\"dataframe\">\n",
       "  <thead>\n",
       "    <tr style=\"text-align: right;\">\n",
       "      <th></th>\n",
       "      <th>user_id</th>\n",
       "      <th>name</th>\n",
       "      <th>age</th>\n",
       "      <th>city</th>\n",
       "      <th>subscription_type</th>\n",
       "    </tr>\n",
       "  </thead>\n",
       "  <tbody>\n",
       "    <tr>\n",
       "      <th>0</th>\n",
       "      <td>1</td>\n",
       "      <td>Кира</td>\n",
       "      <td>22</td>\n",
       "      <td>Тюмень</td>\n",
       "      <td>ultra</td>\n",
       "    </tr>\n",
       "    <tr>\n",
       "      <th>1</th>\n",
       "      <td>2</td>\n",
       "      <td>Станислав</td>\n",
       "      <td>31</td>\n",
       "      <td>Омск</td>\n",
       "      <td>ultra</td>\n",
       "    </tr>\n",
       "    <tr>\n",
       "      <th>2</th>\n",
       "      <td>3</td>\n",
       "      <td>Алексей</td>\n",
       "      <td>20</td>\n",
       "      <td>Москва</td>\n",
       "      <td>ultra</td>\n",
       "    </tr>\n",
       "    <tr>\n",
       "      <th>3</th>\n",
       "      <td>4</td>\n",
       "      <td>Константин</td>\n",
       "      <td>26</td>\n",
       "      <td>Ростов-на-Дону</td>\n",
       "      <td>ultra</td>\n",
       "    </tr>\n",
       "    <tr>\n",
       "      <th>4</th>\n",
       "      <td>5</td>\n",
       "      <td>Адель</td>\n",
       "      <td>28</td>\n",
       "      <td>Омск</td>\n",
       "      <td>ultra</td>\n",
       "    </tr>\n",
       "  </tbody>\n",
       "</table>\n",
       "</div>"
      ],
      "text/plain": [
       "   user_id        name  age            city subscription_type\n",
       "0        1        Кира   22          Тюмень             ultra\n",
       "1        2   Станислав   31            Омск             ultra\n",
       "2        3     Алексей   20          Москва             ultra\n",
       "3        4  Константин   26  Ростов-на-Дону             ultra\n",
       "4        5       Адель   28            Омск             ultra"
      ]
     },
     "metadata": {},
     "output_type": "display_data"
    },
    {
     "name": "stdout",
     "output_type": "stream",
     "text": [
      "\n",
      "Поездки:\n"
     ]
    },
    {
     "data": {
      "text/html": [
       "<div>\n",
       "<style scoped>\n",
       "    .dataframe tbody tr th:only-of-type {\n",
       "        vertical-align: middle;\n",
       "    }\n",
       "\n",
       "    .dataframe tbody tr th {\n",
       "        vertical-align: top;\n",
       "    }\n",
       "\n",
       "    .dataframe thead th {\n",
       "        text-align: right;\n",
       "    }\n",
       "</style>\n",
       "<table border=\"1\" class=\"dataframe\">\n",
       "  <thead>\n",
       "    <tr style=\"text-align: right;\">\n",
       "      <th></th>\n",
       "      <th>user_id</th>\n",
       "      <th>distance</th>\n",
       "      <th>duration</th>\n",
       "      <th>date</th>\n",
       "    </tr>\n",
       "  </thead>\n",
       "  <tbody>\n",
       "    <tr>\n",
       "      <th>0</th>\n",
       "      <td>1</td>\n",
       "      <td>4409.919140</td>\n",
       "      <td>25.599769</td>\n",
       "      <td>2021-01-01</td>\n",
       "    </tr>\n",
       "    <tr>\n",
       "      <th>1</th>\n",
       "      <td>1</td>\n",
       "      <td>2617.592153</td>\n",
       "      <td>15.816871</td>\n",
       "      <td>2021-01-18</td>\n",
       "    </tr>\n",
       "    <tr>\n",
       "      <th>2</th>\n",
       "      <td>1</td>\n",
       "      <td>754.159807</td>\n",
       "      <td>6.232113</td>\n",
       "      <td>2021-04-20</td>\n",
       "    </tr>\n",
       "    <tr>\n",
       "      <th>3</th>\n",
       "      <td>1</td>\n",
       "      <td>2694.783254</td>\n",
       "      <td>18.511000</td>\n",
       "      <td>2021-08-11</td>\n",
       "    </tr>\n",
       "    <tr>\n",
       "      <th>4</th>\n",
       "      <td>1</td>\n",
       "      <td>4028.687306</td>\n",
       "      <td>26.265803</td>\n",
       "      <td>2021-08-28</td>\n",
       "    </tr>\n",
       "  </tbody>\n",
       "</table>\n",
       "</div>"
      ],
      "text/plain": [
       "   user_id     distance   duration        date\n",
       "0        1  4409.919140  25.599769  2021-01-01\n",
       "1        1  2617.592153  15.816871  2021-01-18\n",
       "2        1   754.159807   6.232113  2021-04-20\n",
       "3        1  2694.783254  18.511000  2021-08-11\n",
       "4        1  4028.687306  26.265803  2021-08-28"
      ]
     },
     "metadata": {},
     "output_type": "display_data"
    },
    {
     "name": "stdout",
     "output_type": "stream",
     "text": [
      "\n",
      "Подписки:\n"
     ]
    },
    {
     "data": {
      "text/html": [
       "<div>\n",
       "<style scoped>\n",
       "    .dataframe tbody tr th:only-of-type {\n",
       "        vertical-align: middle;\n",
       "    }\n",
       "\n",
       "    .dataframe tbody tr th {\n",
       "        vertical-align: top;\n",
       "    }\n",
       "\n",
       "    .dataframe thead th {\n",
       "        text-align: right;\n",
       "    }\n",
       "</style>\n",
       "<table border=\"1\" class=\"dataframe\">\n",
       "  <thead>\n",
       "    <tr style=\"text-align: right;\">\n",
       "      <th></th>\n",
       "      <th>subscription_type</th>\n",
       "      <th>minute_price</th>\n",
       "      <th>start_ride_price</th>\n",
       "      <th>subscription_fee</th>\n",
       "    </tr>\n",
       "  </thead>\n",
       "  <tbody>\n",
       "    <tr>\n",
       "      <th>0</th>\n",
       "      <td>free</td>\n",
       "      <td>8</td>\n",
       "      <td>50</td>\n",
       "      <td>0</td>\n",
       "    </tr>\n",
       "    <tr>\n",
       "      <th>1</th>\n",
       "      <td>ultra</td>\n",
       "      <td>6</td>\n",
       "      <td>0</td>\n",
       "      <td>199</td>\n",
       "    </tr>\n",
       "  </tbody>\n",
       "</table>\n",
       "</div>"
      ],
      "text/plain": [
       "  subscription_type  minute_price  start_ride_price  subscription_fee\n",
       "0              free             8                50                 0\n",
       "1             ultra             6                 0               199"
      ]
     },
     "metadata": {},
     "output_type": "display_data"
    },
    {
     "name": "stdout",
     "output_type": "stream",
     "text": [
      "\n",
      "Информация о пользователях:\n",
      "<class 'pandas.core.frame.DataFrame'>\n",
      "RangeIndex: 1565 entries, 0 to 1564\n",
      "Data columns (total 5 columns):\n",
      " #   Column             Non-Null Count  Dtype \n",
      "---  ------             --------------  ----- \n",
      " 0   user_id            1565 non-null   int64 \n",
      " 1   name               1565 non-null   object\n",
      " 2   age                1565 non-null   int64 \n",
      " 3   city               1565 non-null   object\n",
      " 4   subscription_type  1565 non-null   object\n",
      "dtypes: int64(2), object(3)\n",
      "memory usage: 61.3+ KB\n"
     ]
    },
    {
     "data": {
      "text/plain": [
       "None"
      ]
     },
     "metadata": {},
     "output_type": "display_data"
    },
    {
     "name": "stdout",
     "output_type": "stream",
     "text": [
      "\n",
      "Информация о поездках:\n",
      "<class 'pandas.core.frame.DataFrame'>\n",
      "RangeIndex: 18068 entries, 0 to 18067\n",
      "Data columns (total 4 columns):\n",
      " #   Column    Non-Null Count  Dtype  \n",
      "---  ------    --------------  -----  \n",
      " 0   user_id   18068 non-null  int64  \n",
      " 1   distance  18068 non-null  float64\n",
      " 2   duration  18068 non-null  float64\n",
      " 3   date      18068 non-null  object \n",
      "dtypes: float64(2), int64(1), object(1)\n",
      "memory usage: 564.8+ KB\n"
     ]
    },
    {
     "data": {
      "text/plain": [
       "None"
      ]
     },
     "metadata": {},
     "output_type": "display_data"
    },
    {
     "name": "stdout",
     "output_type": "stream",
     "text": [
      "\n",
      "Информация о подписках:\n",
      "<class 'pandas.core.frame.DataFrame'>\n",
      "RangeIndex: 2 entries, 0 to 1\n",
      "Data columns (total 4 columns):\n",
      " #   Column             Non-Null Count  Dtype \n",
      "---  ------             --------------  ----- \n",
      " 0   subscription_type  2 non-null      object\n",
      " 1   minute_price       2 non-null      int64 \n",
      " 2   start_ride_price   2 non-null      int64 \n",
      " 3   subscription_fee   2 non-null      int64 \n",
      "dtypes: int64(3), object(1)\n",
      "memory usage: 192.0+ bytes\n"
     ]
    },
    {
     "data": {
      "text/plain": [
       "None"
      ]
     },
     "metadata": {},
     "output_type": "display_data"
    }
   ],
   "source": [
    "# Загрузка данных\n",
    "users_df = pd.read_csv(\"/datasets/users_go.csv\")\n",
    "rides_df = pd.read_csv(\"/datasets/rides_go.csv\")\n",
    "subscriptions_df = pd.read_csv(\"/datasets/subscriptions_go.csv\")\n",
    "\n",
    "# Вывод первых строк каждого датафрейма\n",
    "print(\"Пользователи:\")\n",
    "display(users_df.head())\n",
    "print(\"\\nПоездки:\")\n",
    "display(rides_df.head())\n",
    "print(\"\\nПодписки:\")\n",
    "display(subscriptions_df.head())\n",
    "\n",
    "# Изучение общей информации о каждом датафрейме\n",
    "print(\"\\nИнформация о пользователях:\")\n",
    "display(users_df.info())\n",
    "print(\"\\nИнформация о поездках:\")\n",
    "display(rides_df.info())\n",
    "print(\"\\nИнформация о подписках:\")\n",
    "display(subscriptions_df.info())"
   ]
  },
  {
   "cell_type": "markdown",
   "id": "79a8f4aa",
   "metadata": {},
   "source": [
    "**Вывод:**\n",
    "\n",
    "1. **Пользователи:**\n",
    "   - Предоставлена таблица с информацией о пользователях.\n",
    "   - Выведены первые 5 строк таблицы, содержащей следующие столбцы:\n",
    "     - user_id: уникальный идентификатор пользователя,\n",
    "     - name: имя пользователя,\n",
    "     - age: возраст,\n",
    "     - city: город,\n",
    "     - subscription_type: тип подписки (free, ultra).\n",
    "\n",
    "2. **Поездки:**\n",
    "   - Предоставлена таблица с информацией о поездках пользователей.\n",
    "   - Выведены первые 5 строк таблицы, содержащей следующие столбцы:\n",
    "     - user_id: уникальный идентификатор пользователя,\n",
    "     - distance: расстояние, которое пользователь проехал в текущей сессии (в метрах),\n",
    "     - duration: продолжительность сессии (в минутах) — время с того момента, как пользователь нажал кнопку «Начать поездку» до момента, как он нажал кнопку «Завершить поездку»,\n",
    "     - date: дата совершения поездки.\n",
    "\n",
    "3. **Подписки:**\n",
    "   - Предоставлена таблица с информацией о типах подписок.\n",
    "   - Выведены первые 5 строк таблицы, содержащей следующие столбцы:\n",
    "     - subscription_type: тип подписки,\n",
    "     - minute_price: стоимость одной минуты поездки по данной подписке,\n",
    "     - start_ride_price: стоимость начала поездки,\n",
    "     - subscription_fee: стоимость ежемесячного платежа.\n",
    "\n",
    "4. **Информация о пользователях, поездках и подписках:**\n",
    "   - Выведена дополнительная информация о типах данных и памяти, занимаемой каждой таблицей.\n",
    "\n",
    "Действия, выполненные на этом шаге:\n",
    "- Загружены данные о пользователях, поездках и подписках из файлов.\n",
    "- Выведены первые 5 строк каждой таблицы, чтобы ознакомиться с содержимым.\n",
    "- Проверена информация о типах данных и памяти, занимаемой каждой таблицей."
   ]
  },
  {
   "cell_type": "markdown",
   "id": "e95ebca7",
   "metadata": {},
   "source": [
    "#### Шаг 2. Предобработка данных"
   ]
  },
  {
   "cell_type": "code",
   "execution_count": 3,
   "id": "af6d202c",
   "metadata": {},
   "outputs": [
    {
     "name": "stdout",
     "output_type": "stream",
     "text": [
      "Пропущенные значения в поездках:\n"
     ]
    },
    {
     "data": {
      "text/plain": [
       "user_id     0\n",
       "distance    0\n",
       "duration    0\n",
       "date        0\n",
       "month       0\n",
       "dtype: int64"
      ]
     },
     "metadata": {},
     "output_type": "display_data"
    },
    {
     "name": "stdout",
     "output_type": "stream",
     "text": [
      "\n",
      "Дубликаты в поездках: 0\n",
      "\n",
      "Пропущенные значения в пользователях:\n"
     ]
    },
    {
     "data": {
      "text/plain": [
       "user_id              0\n",
       "name                 0\n",
       "age                  0\n",
       "city                 0\n",
       "subscription_type    0\n",
       "dtype: int64"
      ]
     },
     "metadata": {},
     "output_type": "display_data"
    },
    {
     "name": "stdout",
     "output_type": "stream",
     "text": [
      "\n",
      "Дубликаты в пользователях: 31\n",
      "\n",
      "Пропущенные значения в подписках:\n"
     ]
    },
    {
     "data": {
      "text/plain": [
       "subscription_type    0\n",
       "minute_price         0\n",
       "start_ride_price     0\n",
       "subscription_fee     0\n",
       "dtype: int64"
      ]
     },
     "metadata": {},
     "output_type": "display_data"
    },
    {
     "name": "stdout",
     "output_type": "stream",
     "text": [
      "\n",
      "Дубликаты в подписках: 0\n",
      "Минимальная дата: 2021-01-01 00:00:00\n",
      "Максимальная дата: 2021-12-30 00:00:00\n"
     ]
    }
   ],
   "source": [
    "# Преобразование столбца date к типу даты\n",
    "rides_df['date'] = pd.to_datetime(rides_df['date'])\n",
    "\n",
    "# Создание нового столбца с номером месяца\n",
    "rides_df['month'] = rides_df['date'].dt.month\n",
    "\n",
    "# Проверка наличия пропущенных значений и дубликатов в данных\n",
    "print(\"Пропущенные значения в поездках:\")\n",
    "display(rides_df.isnull().sum())\n",
    "print(\"\\nДубликаты в поездках:\", rides_df.duplicated().sum())\n",
    "\n",
    "print(\"\\nПропущенные значения в пользователях:\")\n",
    "display(users_df.isnull().sum())\n",
    "print(\"\\nДубликаты в пользователях:\", users_df.duplicated().sum())\n",
    "\n",
    "print(\"\\nПропущенные значения в подписках:\")\n",
    "display(subscriptions_df.isnull().sum())\n",
    "print(\"\\nДубликаты в подписках:\", subscriptions_df.duplicated().sum())\n",
    "\n",
    "# Удаление дубликатов из датафрейма с пользователями\n",
    "users_df.drop_duplicates(inplace=True)\n",
    "\n",
    "# Проверка временного периода данных\n",
    "min_date = rides_df['date'].min()\n",
    "max_date = rides_df['date'].max()\n",
    "\n",
    "print(\"Минимальная дата:\", min_date)\n",
    "print(\"Максимальная дата:\", max_date)"
   ]
  },
  {
   "cell_type": "markdown",
   "id": "eb8cab79",
   "metadata": {},
   "source": [
    "**Вывод:**\n",
    "\n",
    "1. **Пропущенные значения в поездках:**\n",
    "   - Нет пропущенных значений в данных о поездках.\n",
    "   - Показано количество пропущенных значений для каждого столбца: user_id, distance, duration, date, month.\n",
    "   - Количество пропущенных значений для каждого столбца равно 0.\n",
    "\n",
    "2. **Дубликаты в поездках:**\n",
    "   - Не обнаружено дубликатов в данных о поездках.\n",
    "   - Показано количество дубликатов: 0.\n",
    "\n",
    "3. **Пропущенные значения в пользователях:**\n",
    "   - Нет пропущенных значений в данных о пользователях.\n",
    "   - Показано количество пропущенных значений для каждого столбца: user_id, name, age, city, subscription_type.\n",
    "   - Количество пропущенных значений для каждого столбца равно 0.\n",
    "\n",
    "4. **Дубликаты в пользователях:**\n",
    "   - Обнаружено 31 дубликат в данных о пользователях.\n",
    "   - Показано количество дубликатов: 31.\n",
    "\n",
    "5. **Пропущенные значения в подписках:**\n",
    "   - Нет пропущенных значений в данных о подписках.\n",
    "   - Показано количество пропущенных значений для каждого столбца: subscription_type, minute_price, start_ride_price, subscription_fee.\n",
    "   - Количество пропущенных значений для каждого столбца равно 0.\n",
    "\n",
    "6. **Дубликаты в подписках:**\n",
    "   - Не обнаружено дубликатов в данных о подписках.\n",
    "   - Показано количество дубликатов: 0.\n",
    "\n",
    "Действия, выполненные на этом шаге:\n",
    "   - Проверены данные на наличие пропущенных значений и дубликатов в таблицах с информацией о пользователях, поездках и подписках.\n",
    "   \n",
    "   - Удалены дубликаты из датафрейма с информацией о пользователях (users_df).\n",
    "   \n",
    "   - Проведена проверка временного периода используемых в исследовании данных."
   ]
  },
  {
   "cell_type": "markdown",
   "id": "212593c7",
   "metadata": {},
   "source": [
    "#### Шаг 3. Исследовательский анализ данных"
   ]
  },
  {
   "cell_type": "code",
   "execution_count": 4,
   "id": "34c2214a",
   "metadata": {},
   "outputs": [
    {
     "data": {
      "image/png": "[encoded data removed]",
      "text/plain": [
       "<Figure size 720x432 with 1 Axes>"
      ]
     },
     "metadata": {
      "needs_background": "light"
     },
     "output_type": "display_data"
    },
    {
     "name": "stdout",
     "output_type": "stream",
     "text": [
      "Статистика по частоте встречаемости городов:\n"
     ]
    },
    {
     "data": {
      "text/plain": [
       "count      8.000000\n",
       "mean     191.750000\n",
       "std       15.672998\n",
       "min      168.000000\n",
       "25%      182.250000\n",
       "50%      191.000000\n",
       "75%      199.500000\n",
       "max      219.000000\n",
       "Name: city, dtype: float64"
      ]
     },
     "metadata": {},
     "output_type": "display_data"
    }
   ],
   "source": [
    "# 3.1 Частота встречаемости городов\n",
    "city_counts = users_df['city'].value_counts()\n",
    "plt.figure(figsize=(10, 6))\n",
    "city_counts.plot(kind='bar', color='skyblue')\n",
    "plt.title('Частота встречаемости городов')\n",
    "plt.xlabel('Город')\n",
    "plt.ylabel('Число пользователей')\n",
    "plt.xticks(rotation=45)\n",
    "plt.grid(axis='y')\n",
    "plt.show()\n",
    "\n",
    "print(\"Статистика по частоте встречаемости городов:\")\n",
    "display(city_counts.describe())"
   ]
  },
  {
   "cell_type": "code",
   "execution_count": 5,
   "id": "56667779",
   "metadata": {},
   "outputs": [
    {
     "data": {
      "image/png": "[encoded data removed]",
      "text/plain": [
       "<Figure size 432x432 with 1 Axes>"
      ]
     },
     "metadata": {},
     "output_type": "display_data"
    }
   ],
   "source": [
    "# 3.2 Соотношение пользователей с подпиской и без подписки\n",
    "subscription_counts = users_df['subscription_type'].value_counts()\n",
    "plt.figure(figsize=(6, 6))\n",
    "subscription_counts.plot(kind='pie', autopct='%1.1f%%', colors=['lightblue', 'lightgreen'])\n",
    "plt.title('Соотношение пользователей с подпиской и без подписки')\n",
    "plt.ylabel('')\n",
    "plt.show()"
   ]
  },
  {
   "cell_type": "code",
   "execution_count": 6,
   "id": "dfbd273b",
   "metadata": {},
   "outputs": [
    {
     "data": {
      "image/png": "[encoded data removed]",
      "text/plain": [
       "<Figure size 576x432 with 1 Axes>"
      ]
     },
     "metadata": {
      "needs_background": "light"
     },
     "output_type": "display_data"
    },
    {
     "name": "stdout",
     "output_type": "stream",
     "text": [
      "Статистика по возрасту пользователей:\n"
     ]
    },
    {
     "data": {
      "text/plain": [
       "count    1534.000000\n",
       "mean       24.903520\n",
       "std         4.572367\n",
       "min        12.000000\n",
       "25%        22.000000\n",
       "50%        25.000000\n",
       "75%        28.000000\n",
       "max        43.000000\n",
       "Name: age, dtype: float64"
      ]
     },
     "metadata": {},
     "output_type": "display_data"
    }
   ],
   "source": [
    "# 3.3 Возраст пользователей\n",
    "plt.figure(figsize=(8, 6))\n",
    "plt.hist(users_df['age'], bins=20, color='skyblue', edgecolor='black')\n",
    "plt.title('Распределение возраста пользователей')\n",
    "plt.xlabel('Возраст')\n",
    "plt.ylabel('Число пользователей')\n",
    "plt.grid(axis='y')\n",
    "plt.show()\n",
    "\n",
    "print(\"Статистика по возрасту пользователей:\")\n",
    "display(users_df['age'].describe())"
   ]
  },
  {
   "cell_type": "code",
   "execution_count": 7,
   "id": "e8b83aa1",
   "metadata": {},
   "outputs": [
    {
     "data": {
      "image/png": "[encoded data removed]",
      "text/plain": [
       "<Figure size 576x432 with 1 Axes>"
      ]
     },
     "metadata": {
      "needs_background": "light"
     },
     "output_type": "display_data"
    },
    {
     "name": "stdout",
     "output_type": "stream",
     "text": [
      "Статистика по расстоянию поездок:\n"
     ]
    },
    {
     "data": {
      "text/plain": [
       "count    18068.000000\n",
       "mean      3070.659976\n",
       "std       1116.831209\n",
       "min          0.855683\n",
       "25%       2543.226360\n",
       "50%       3133.609994\n",
       "75%       3776.222735\n",
       "max       7211.007745\n",
       "Name: distance, dtype: float64"
      ]
     },
     "metadata": {},
     "output_type": "display_data"
    }
   ],
   "source": [
    "# 3.4 Расстояние, которое пользователь преодолел за одну поездку\n",
    "plt.figure(figsize=(8, 6))\n",
    "plt.hist(rides_df['distance'], bins=30, color='lightgreen', edgecolor='black')\n",
    "plt.title('Распределение расстояния поездок')\n",
    "plt.xlabel('Расстояние (м)')\n",
    "plt.ylabel('Число поездок')\n",
    "plt.grid(axis='y')\n",
    "plt.show()\n",
    "\n",
    "print(\"Статистика по расстоянию поездок:\")\n",
    "display(rides_df['distance'].describe())"
   ]
  },
  {
   "cell_type": "code",
   "execution_count": 8,
   "id": "e3a4274c",
   "metadata": {},
   "outputs": [
    {
     "data": {
      "image/png": "[encoded data removed]",
      "text/plain": [
       "<Figure size 576x432 with 1 Axes>"
      ]
     },
     "metadata": {
      "needs_background": "light"
     },
     "output_type": "display_data"
    },
    {
     "name": "stdout",
     "output_type": "stream",
     "text": [
      "Статистика по продолжительности поездок:\n"
     ]
    },
    {
     "data": {
      "text/plain": [
       "count    18068.000000\n",
       "mean        17.805011\n",
       "std          6.091051\n",
       "min          0.500000\n",
       "25%         13.597563\n",
       "50%         17.678395\n",
       "75%         21.724800\n",
       "max         40.823963\n",
       "Name: duration, dtype: float64"
      ]
     },
     "metadata": {},
     "output_type": "display_data"
    }
   ],
   "source": [
    "# 3.5 Продолжительность поездок\n",
    "plt.figure(figsize=(8, 6))\n",
    "plt.hist(rides_df['duration'], bins=30, color='lightcoral', edgecolor='black')\n",
    "plt.title('Распределение продолжительности поездок')\n",
    "plt.xlabel('Продолжительность (мин)')\n",
    "plt.ylabel('Число поездок')\n",
    "plt.grid(axis='y')\n",
    "plt.show()\n",
    "\n",
    "print(\"Статистика по продолжительности поездок:\")\n",
    "display(rides_df['duration'].describe())"
   ]
  },
  {
   "cell_type": "markdown",
   "id": "067da60a",
   "metadata": {},
   "source": [
    "**Вывод:**\n",
    "\n",
    "**3.1 Частота встречаемости городов:**\n",
    "   - На данном графике представлена частота встречаемости различных городов, в которых проживают пользователи.\n",
    "   - Каждый столбец на гистограмме представляет собой количество пользователей в определенном городе.\n",
    "   - График помогает понять, из каких городов больше всего пользователей.\n",
    "\n",
    "**3.2 Соотношение пользователей с подпиской и без подписки:**\n",
    "   - Этот круговой график демонстрирует соотношение пользователей, имеющих подписку, и тех, кто ее не имеет.\n",
    "   - Каждый сектор круга представляет процентное соотношение пользователей с определенным типом подписки.\n",
    "   - График позволяет оценить, какая часть пользователей пользуется платными и бесплатными услугами.\n",
    "\n",
    "**3.3 Возраст пользователей:**\n",
    "   - На этом гистограмме отображено распределение возраста пользователей.\n",
    "   - Каждый столбец представляет собой количество пользователей в определенном возрастном диапазоне.\n",
    "   - График помогает понять возрастную структуру пользователей платформы.\n",
    "\n",
    "**3.4 Распределение расстояния поездок:**\n",
    "   - На этой гистограмме отображается распределение расстояния, преодоленного за одну поездку.\n",
    "   - Каждый столбец представляет собой количество поездок, преодолевших определенное расстояние.\n",
    "   - График помогает оценить, какие расстояния наиболее типичны для пользователей.\n",
    "\n",
    "**3.5 Распределение продолжительности поездок:**\n",
    "   - На данном графике показано распределение продолжительности поездок в минутах.\n",
    "   - Каждый столбец представляет собой количество поездок определенной продолжительности.\n",
    "   - График позволяет оценить типичные продолжительности поездок для пользователей платформы.\n",
    "\n",
    "Эти графики помогают лучше понять характеристики пользователей и их поведение на платформе."
   ]
  },
  {
   "cell_type": "markdown",
   "id": "4ef51331",
   "metadata": {},
   "source": [
    "#### Шаг 4. Объединение данных"
   ]
  },
  {
   "cell_type": "code",
   "execution_count": 9,
   "id": "6bf288b5",
   "metadata": {},
   "outputs": [
    {
     "data": {
      "image/png": "[encoded data removed]",
      "text/plain": [
       "<Figure size 720x432 with 1 Axes>"
      ]
     },
     "metadata": {
      "needs_background": "light"
     },
     "output_type": "display_data"
    },
    {
     "data": {
      "image/png": "[encoded data removed]",
      "text/plain": [
       "<Figure size 720x432 with 1 Axes>"
      ]
     },
     "metadata": {
      "needs_background": "light"
     },
     "output_type": "display_data"
    },
    {
     "name": "stdout",
     "output_type": "stream",
     "text": [
      "Несколько строк датафрейма для пользователей без подписки:\n"
     ]
    },
    {
     "data": {
      "text/html": [
       "<div>\n",
       "<style scoped>\n",
       "    .dataframe tbody tr th:only-of-type {\n",
       "        vertical-align: middle;\n",
       "    }\n",
       "\n",
       "    .dataframe tbody tr th {\n",
       "        vertical-align: top;\n",
       "    }\n",
       "\n",
       "    .dataframe thead th {\n",
       "        text-align: right;\n",
       "    }\n",
       "</style>\n",
       "<table border=\"1\" class=\"dataframe\">\n",
       "  <thead>\n",
       "    <tr style=\"text-align: right;\">\n",
       "      <th></th>\n",
       "      <th>user_id</th>\n",
       "      <th>distance</th>\n",
       "      <th>duration</th>\n",
       "      <th>date</th>\n",
       "      <th>month</th>\n",
       "      <th>name</th>\n",
       "      <th>age</th>\n",
       "      <th>city</th>\n",
       "      <th>subscription_type</th>\n",
       "      <th>minute_price</th>\n",
       "      <th>start_ride_price</th>\n",
       "      <th>subscription_fee</th>\n",
       "    </tr>\n",
       "  </thead>\n",
       "  <tbody>\n",
       "    <tr>\n",
       "      <th>6500</th>\n",
       "      <td>700</td>\n",
       "      <td>2515.690719</td>\n",
       "      <td>14.944286</td>\n",
       "      <td>2021-01-02</td>\n",
       "      <td>1</td>\n",
       "      <td>Айдар</td>\n",
       "      <td>22</td>\n",
       "      <td>Омск</td>\n",
       "      <td>free</td>\n",
       "      <td>8</td>\n",
       "      <td>50</td>\n",
       "      <td>0</td>\n",
       "    </tr>\n",
       "    <tr>\n",
       "      <th>6501</th>\n",
       "      <td>700</td>\n",
       "      <td>846.932642</td>\n",
       "      <td>16.234663</td>\n",
       "      <td>2021-02-01</td>\n",
       "      <td>2</td>\n",
       "      <td>Айдар</td>\n",
       "      <td>22</td>\n",
       "      <td>Омск</td>\n",
       "      <td>free</td>\n",
       "      <td>8</td>\n",
       "      <td>50</td>\n",
       "      <td>0</td>\n",
       "    </tr>\n",
       "    <tr>\n",
       "      <th>6502</th>\n",
       "      <td>700</td>\n",
       "      <td>4004.434142</td>\n",
       "      <td>20.016628</td>\n",
       "      <td>2021-02-04</td>\n",
       "      <td>2</td>\n",
       "      <td>Айдар</td>\n",
       "      <td>22</td>\n",
       "      <td>Омск</td>\n",
       "      <td>free</td>\n",
       "      <td>8</td>\n",
       "      <td>50</td>\n",
       "      <td>0</td>\n",
       "    </tr>\n",
       "    <tr>\n",
       "      <th>6503</th>\n",
       "      <td>700</td>\n",
       "      <td>1205.911290</td>\n",
       "      <td>9.782872</td>\n",
       "      <td>2021-02-10</td>\n",
       "      <td>2</td>\n",
       "      <td>Айдар</td>\n",
       "      <td>22</td>\n",
       "      <td>Омск</td>\n",
       "      <td>free</td>\n",
       "      <td>8</td>\n",
       "      <td>50</td>\n",
       "      <td>0</td>\n",
       "    </tr>\n",
       "    <tr>\n",
       "      <th>6504</th>\n",
       "      <td>700</td>\n",
       "      <td>3047.379435</td>\n",
       "      <td>17.427673</td>\n",
       "      <td>2021-02-14</td>\n",
       "      <td>2</td>\n",
       "      <td>Айдар</td>\n",
       "      <td>22</td>\n",
       "      <td>Омск</td>\n",
       "      <td>free</td>\n",
       "      <td>8</td>\n",
       "      <td>50</td>\n",
       "      <td>0</td>\n",
       "    </tr>\n",
       "  </tbody>\n",
       "</table>\n",
       "</div>"
      ],
      "text/plain": [
       "      user_id     distance   duration       date  month   name  age  city  \\\n",
       "6500      700  2515.690719  14.944286 2021-01-02      1  Айдар   22  Омск   \n",
       "6501      700   846.932642  16.234663 2021-02-01      2  Айдар   22  Омск   \n",
       "6502      700  4004.434142  20.016628 2021-02-04      2  Айдар   22  Омск   \n",
       "6503      700  1205.911290   9.782872 2021-02-10      2  Айдар   22  Омск   \n",
       "6504      700  3047.379435  17.427673 2021-02-14      2  Айдар   22  Омск   \n",
       "\n",
       "     subscription_type  minute_price  start_ride_price  subscription_fee  \n",
       "6500              free             8                50                 0  \n",
       "6501              free             8                50                 0  \n",
       "6502              free             8                50                 0  \n",
       "6503              free             8                50                 0  \n",
       "6504              free             8                50                 0  "
      ]
     },
     "metadata": {},
     "output_type": "display_data"
    },
    {
     "name": "stdout",
     "output_type": "stream",
     "text": [
      "\n",
      "Несколько строк датафрейма для пользователей с подпиской:\n"
     ]
    },
    {
     "data": {
      "text/html": [
       "<div>\n",
       "<style scoped>\n",
       "    .dataframe tbody tr th:only-of-type {\n",
       "        vertical-align: middle;\n",
       "    }\n",
       "\n",
       "    .dataframe tbody tr th {\n",
       "        vertical-align: top;\n",
       "    }\n",
       "\n",
       "    .dataframe thead th {\n",
       "        text-align: right;\n",
       "    }\n",
       "</style>\n",
       "<table border=\"1\" class=\"dataframe\">\n",
       "  <thead>\n",
       "    <tr style=\"text-align: right;\">\n",
       "      <th></th>\n",
       "      <th>user_id</th>\n",
       "      <th>distance</th>\n",
       "      <th>duration</th>\n",
       "      <th>date</th>\n",
       "      <th>month</th>\n",
       "      <th>name</th>\n",
       "      <th>age</th>\n",
       "      <th>city</th>\n",
       "      <th>subscription_type</th>\n",
       "      <th>minute_price</th>\n",
       "      <th>start_ride_price</th>\n",
       "      <th>subscription_fee</th>\n",
       "    </tr>\n",
       "  </thead>\n",
       "  <tbody>\n",
       "    <tr>\n",
       "      <th>0</th>\n",
       "      <td>1</td>\n",
       "      <td>4409.919140</td>\n",
       "      <td>25.599769</td>\n",
       "      <td>2021-01-01</td>\n",
       "      <td>1</td>\n",
       "      <td>Кира</td>\n",
       "      <td>22</td>\n",
       "      <td>Тюмень</td>\n",
       "      <td>ultra</td>\n",
       "      <td>6</td>\n",
       "      <td>0</td>\n",
       "      <td>199</td>\n",
       "    </tr>\n",
       "    <tr>\n",
       "      <th>1</th>\n",
       "      <td>1</td>\n",
       "      <td>2617.592153</td>\n",
       "      <td>15.816871</td>\n",
       "      <td>2021-01-18</td>\n",
       "      <td>1</td>\n",
       "      <td>Кира</td>\n",
       "      <td>22</td>\n",
       "      <td>Тюмень</td>\n",
       "      <td>ultra</td>\n",
       "      <td>6</td>\n",
       "      <td>0</td>\n",
       "      <td>199</td>\n",
       "    </tr>\n",
       "    <tr>\n",
       "      <th>2</th>\n",
       "      <td>1</td>\n",
       "      <td>754.159807</td>\n",
       "      <td>6.232113</td>\n",
       "      <td>2021-04-20</td>\n",
       "      <td>4</td>\n",
       "      <td>Кира</td>\n",
       "      <td>22</td>\n",
       "      <td>Тюмень</td>\n",
       "      <td>ultra</td>\n",
       "      <td>6</td>\n",
       "      <td>0</td>\n",
       "      <td>199</td>\n",
       "    </tr>\n",
       "    <tr>\n",
       "      <th>3</th>\n",
       "      <td>1</td>\n",
       "      <td>2694.783254</td>\n",
       "      <td>18.511000</td>\n",
       "      <td>2021-08-11</td>\n",
       "      <td>8</td>\n",
       "      <td>Кира</td>\n",
       "      <td>22</td>\n",
       "      <td>Тюмень</td>\n",
       "      <td>ultra</td>\n",
       "      <td>6</td>\n",
       "      <td>0</td>\n",
       "      <td>199</td>\n",
       "    </tr>\n",
       "    <tr>\n",
       "      <th>4</th>\n",
       "      <td>1</td>\n",
       "      <td>4028.687306</td>\n",
       "      <td>26.265803</td>\n",
       "      <td>2021-08-28</td>\n",
       "      <td>8</td>\n",
       "      <td>Кира</td>\n",
       "      <td>22</td>\n",
       "      <td>Тюмень</td>\n",
       "      <td>ultra</td>\n",
       "      <td>6</td>\n",
       "      <td>0</td>\n",
       "      <td>199</td>\n",
       "    </tr>\n",
       "  </tbody>\n",
       "</table>\n",
       "</div>"
      ],
      "text/plain": [
       "   user_id     distance   duration       date  month  name  age    city  \\\n",
       "0        1  4409.919140  25.599769 2021-01-01      1  Кира   22  Тюмень   \n",
       "1        1  2617.592153  15.816871 2021-01-18      1  Кира   22  Тюмень   \n",
       "2        1   754.159807   6.232113 2021-04-20      4  Кира   22  Тюмень   \n",
       "3        1  2694.783254  18.511000 2021-08-11      8  Кира   22  Тюмень   \n",
       "4        1  4028.687306  26.265803 2021-08-28      8  Кира   22  Тюмень   \n",
       "\n",
       "  subscription_type  minute_price  start_ride_price  subscription_fee  \n",
       "0             ultra             6                 0               199  \n",
       "1             ultra             6                 0               199  \n",
       "2             ultra             6                 0               199  \n",
       "3             ultra             6                 0               199  \n",
       "4             ultra             6                 0               199  "
      ]
     },
     "metadata": {},
     "output_type": "display_data"
    }
   ],
   "source": [
    "# 4.1 Объединение данных о пользователях, поездках и подписках\n",
    "merged_df = rides_df.merge(users_df, on='user_id', how='left')\n",
    "merged_df = merged_df.merge(subscriptions_df, on='subscription_type', how='left')\n",
    "\n",
    "# 4.2 Создание датафреймов для пользователей с и без подписки\n",
    "users_without_subscription = merged_df[merged_df['subscription_type'] == 'free']\n",
    "users_with_subscription = merged_df[merged_df['subscription_type'] == 'ultra']\n",
    "\n",
    "# 4.3 Визуализация информации о расстоянии и времени поездок\n",
    "plt.figure(figsize=(10, 6))\n",
    "plt.hist(users_without_subscription['distance'], bins=30, color='skyblue', edgecolor='black', alpha=0.7, label='Без подписки')\n",
    "plt.hist(users_with_subscription['distance'], bins=30, color='lightgreen', edgecolor='black', alpha=0.7, label='С подпиской')\n",
    "plt.title('Распределение расстояния поездок')\n",
    "plt.xlabel('Расстояние (м)')\n",
    "plt.ylabel('Число поездок')\n",
    "plt.legend()\n",
    "plt.grid(axis='y')\n",
    "plt.show()\n",
    "\n",
    "plt.figure(figsize=(10, 6))\n",
    "plt.hist(users_without_subscription['duration'], bins=30, color='skyblue', edgecolor='black', alpha=0.7, label='Без подписки')\n",
    "plt.hist(users_with_subscription['duration'], bins=30, color='lightgreen', edgecolor='black', alpha=0.7, label='С подпиской')\n",
    "plt.title('Распределение продолжительности поездок')\n",
    "plt.xlabel('Продолжительность (мин)')\n",
    "plt.ylabel('Число поездок')\n",
    "plt.legend()\n",
    "plt.grid(axis='y')\n",
    "plt.show()\n",
    "\n",
    "print(\"Несколько строк датафрейма для пользователей без подписки:\")\n",
    "display(users_without_subscription.head())\n",
    "\n",
    "print(\"\\nНесколько строк датафрейма для пользователей с подпиской:\")\n",
    "display(users_with_subscription.head())"
   ]
  },
  {
   "cell_type": "markdown",
   "id": "70baee36",
   "metadata": {},
   "source": [
    "**Вывод:**\n",
    "\n",
    "**4.1 Объединение данных о пользователях, поездках и подписках:**\n",
    "   - Используя метод `.merge()`, данные о поездках (`rides_df`) объединены с данными о пользователях (`users_df`) по общему ключу `user_id`, а затем с данными о подписках (`subscriptions_df`) по ключу `subscription_type`.\n",
    "   - Объединение выполнено с использованием параметра `how='left'`, чтобы сохранить все строки из датафрейма поездок (`rides_df`) даже в случае отсутствия совпадений с данными о пользователях или подписках.\n",
    "\n",
    "**4.2 Создание датафреймов для пользователей с и без подписки:**\n",
    "   - Созданы два отдельных датафрейма: `users_without_subscription` для пользователей без подписки и `users_with_subscription` для пользователей с подпиской.\n",
    "\n",
    "**4.3 Визуализация информации о расстоянии и времени поездок:**\n",
    "   - Построены две гистограммы, каждая из которых отображает распределение расстояния или продолжительности поездок для пользователей с подпиской и без подписки.\n",
    "   - На каждой гистограмме представлено два распределения: для пользователей с подпиской и без подписки.\n",
    "   - Графики помогают сравнить характеристики поездок для пользователей с разными типами подписок.\n",
    "\n",
    "Эти действия позволяют более детально изучить взаимосвязь между типом подписки и характеристиками поездок пользователей. Гистограммы предоставляют визуальное представление о том, как подписка влияет на расстояние и продолжительность поездок."
   ]
  },
  {
   "cell_type": "markdown",
   "id": "402d620f",
   "metadata": {},
   "source": [
    "#### Шаг 5. Подсчёт выручки"
   ]
  },
  {
   "cell_type": "code",
   "execution_count": 10,
   "id": "53049e0a",
   "metadata": {},
   "outputs": [
    {
     "data": {
      "text/html": [
       "<div>\n",
       "<style scoped>\n",
       "    .dataframe tbody tr th:only-of-type {\n",
       "        vertical-align: middle;\n",
       "    }\n",
       "\n",
       "    .dataframe tbody tr th {\n",
       "        vertical-align: top;\n",
       "    }\n",
       "\n",
       "    .dataframe thead th {\n",
       "        text-align: right;\n",
       "    }\n",
       "</style>\n",
       "<table border=\"1\" class=\"dataframe\">\n",
       "  <thead>\n",
       "    <tr style=\"text-align: right;\">\n",
       "      <th></th>\n",
       "      <th>user_id</th>\n",
       "      <th>month</th>\n",
       "      <th>total_distance</th>\n",
       "      <th>total_duration</th>\n",
       "      <th>total_rides</th>\n",
       "      <th>revenue</th>\n",
       "      <th>subscription_type</th>\n",
       "    </tr>\n",
       "  </thead>\n",
       "  <tbody>\n",
       "    <tr>\n",
       "      <th>0</th>\n",
       "      <td>1</td>\n",
       "      <td>1</td>\n",
       "      <td>7027.511294</td>\n",
       "      <td>42.0</td>\n",
       "      <td>2</td>\n",
       "      <td>551.0</td>\n",
       "      <td>ultra</td>\n",
       "    </tr>\n",
       "    <tr>\n",
       "      <th>1</th>\n",
       "      <td>1</td>\n",
       "      <td>4</td>\n",
       "      <td>754.159807</td>\n",
       "      <td>7.0</td>\n",
       "      <td>1</td>\n",
       "      <td>291.0</td>\n",
       "      <td>ultra</td>\n",
       "    </tr>\n",
       "    <tr>\n",
       "      <th>2</th>\n",
       "      <td>1</td>\n",
       "      <td>8</td>\n",
       "      <td>6723.470560</td>\n",
       "      <td>45.0</td>\n",
       "      <td>2</td>\n",
       "      <td>569.0</td>\n",
       "      <td>ultra</td>\n",
       "    </tr>\n",
       "    <tr>\n",
       "      <th>3</th>\n",
       "      <td>1</td>\n",
       "      <td>10</td>\n",
       "      <td>5809.911100</td>\n",
       "      <td>32.0</td>\n",
       "      <td>2</td>\n",
       "      <td>491.0</td>\n",
       "      <td>ultra</td>\n",
       "    </tr>\n",
       "    <tr>\n",
       "      <th>4</th>\n",
       "      <td>1</td>\n",
       "      <td>11</td>\n",
       "      <td>7003.499363</td>\n",
       "      <td>54.0</td>\n",
       "      <td>3</td>\n",
       "      <td>673.0</td>\n",
       "      <td>ultra</td>\n",
       "    </tr>\n",
       "  </tbody>\n",
       "</table>\n",
       "</div>"
      ],
      "text/plain": [
       "   user_id  month  total_distance  total_duration  total_rides  revenue  \\\n",
       "0        1      1     7027.511294            42.0            2    551.0   \n",
       "1        1      4      754.159807             7.0            1    291.0   \n",
       "2        1      8     6723.470560            45.0            2    569.0   \n",
       "3        1     10     5809.911100            32.0            2    491.0   \n",
       "4        1     11     7003.499363            54.0            3    673.0   \n",
       "\n",
       "  subscription_type  \n",
       "0             ultra  \n",
       "1             ultra  \n",
       "2             ultra  \n",
       "3             ultra  \n",
       "4             ultra  "
      ]
     },
     "metadata": {},
     "output_type": "display_data"
    }
   ],
   "source": [
    "# 5.1 Создание датафрейма с агрегированными данными о поездках\n",
    "aggregated_df = merged_df.groupby(['user_id', 'month']).agg({'distance': 'sum', 'duration': 'sum', 'name': 'count'}).reset_index()\n",
    "aggregated_df.columns = ['user_id', 'month', 'total_distance', 'total_duration', 'total_rides']\n",
    "\n",
    "# 5.2 Добавление столбца с помесячной выручкой\n",
    "aggregated_df['total_duration'] = np.ceil(aggregated_df['total_duration'])\n",
    "aggregated_df['revenue'] = 50 * aggregated_df['total_rides'] + \\\n",
    "                            merged_df['minute_price'] * aggregated_df['total_duration'] + \\\n",
    "                            merged_df['subscription_fee']\n",
    "\n",
    "# Добавление информации о типе подписки из исходного датафрейма merged_df\n",
    "aggregated_df = aggregated_df.merge(users_df[['user_id', 'subscription_type']], on='user_id', how='left')\n",
    "\n",
    "# Убедимся, что каждому пользователю присвоен только один тип подписки\n",
    "assert aggregated_df.groupby('user_id')['subscription_type'].nunique().max() == 1, \"У пользователя более одной подписки\"\n",
    "\n",
    "# Вывод первых строк датафрейма с агрегированными данными и информацией о типе подписки\n",
    "display(aggregated_df.head())"
   ]
  },
  {
   "cell_type": "markdown",
   "id": "8feea978",
   "metadata": {},
   "source": [
    "**Вывод:**\n",
    "\n",
    "**5.1 Создание датафрейма с агрегированными данными о поездках:**\n",
    "   - С помощью метода `.groupby()` данные были сгруппированы по `user_id` и `month`.\n",
    "   - Затем с помощью метода `.agg()` были агрегированы данные: сумма пройденного расстояния (`distance`), суммарная продолжительность поездок (`duration`) и общее количество поездок (`name`).\n",
    "   - Результаты агрегации были сброшены индексы с помощью метода `.reset_index()`.\n",
    "   - Названия столбцов были переименованы для удобства работы.\n",
    "\n",
    "**5.2 Добавление столбца с помесячной выручкой:**\n",
    "   - В датафрейме был добавлен новый столбец `revenue`, отражающий помесячную выручку.\n",
    "   - Для этого были выполнены следующие расчеты:\n",
    "     - Сумма пройденного расстояния была округлена вверх до ближайшего целого числа.\n",
    "     - Для каждого пользователя и месяца вычислялась выручка, учитывая количество поездок, продолжительность и тип подписки.\n",
    "\n",
    "**Результаты:**\n",
    "   - Выведены первые строки датафрейма с агрегированными данными.\n",
    "   - Каждая строка представляет собой информацию о пользователе, его поездках за конкретный месяц, суммарном расстоянии, продолжительности поездок, количестве поездок и выручке за этот месяц.\n",
    "   - Приведенные данные могут быть использованы для анализа пользовательского поведения, оценки эффективности подписок и принятия бизнес-решений."
   ]
  },
  {
   "cell_type": "markdown",
   "id": "41545ac0",
   "metadata": {},
   "source": [
    "#### Шаг 6. Проверка гипотез"
   ]
  },
  {
   "cell_type": "markdown",
   "id": "4f9f9860",
   "metadata": {},
   "source": [
    "**Гипотезы:**\n",
    "\n",
    "**6.1 Гипотеза о времени на поездки:**\n",
    "- **Нулевая гипотеза (H0):** Среднее время на поездки для пользователей с подпиской равно среднему времени на поездки для пользователей без подписки.\n",
    "- **Альтернативная гипотеза (H1):** Среднее время на поездки для пользователей с подпиской отличается от среднего времени на поездки для пользователей без подписки.\n",
    "\n",
    "**6.2 Гипотеза о расстоянии поездок:**\n",
    "- **Нулевая гипотеза (H0):** Среднее расстояние поездок для пользователей с подпиской не превышает 3130 метров.\n",
    "- **Альтернативная гипотеза (H1):** Среднее расстояние поездок для пользователей с подпиской превышает 3130 метров.\n",
    "\n",
    "**6.3 Гипотеза о помесячной выручке:**\n",
    "- **Нулевая гипотеза (H0):** Помесячная выручка от пользователей с подпиской не отличается от помесячной выручки от пользователей без подписки.\n",
    "- **Альтернативная гипотеза (H1):** Помесячная выручка от пользователей с подпиской выше, чем помесячная выручка от пользователей без подписки.\n",
    "\n",
    "**6.4 Гипотеза о снижении количества обращений в техподдержку после обновления серверов:**\n",
    "- **Нулевая гипотеза (H0):** Количество обращений в техподдержку до и после обновления серверов не различается.\n",
    "- **Альтернативная гипотеза (H1):** Количество обращений в техподдержку после обновления серверов статистически значимо снизилось."
   ]
  },
  {
   "cell_type": "code",
   "execution_count": 11,
   "id": "23ea867b",
   "metadata": {
    "scrolled": true
   },
   "outputs": [
    {
     "name": "stdout",
     "output_type": "stream",
     "text": [
      "Отвергаем нулевую гипотезу. Пользователи с подпиской тратят больше времени на поездки.\n",
      "Отвергаем нулевую гипотезу. Среднее расстояние поездок для пользователей с подпиской не превышает 3130 метров.\n",
      "Отвергаем нулевую гипотезу. Помесячная выручка от пользователей с подпиской выше, чем от пользователей без подписки.\n"
     ]
    }
   ],
   "source": [
    "# Объединение данных\n",
    "merged_df = pd.merge(rides_df, users_df, on='user_id')\n",
    "merged_df = pd.merge(merged_df, subscriptions_df, on='subscription_type')\n",
    "\n",
    "# 6.1: Проверка гипотезы о времени на поездки\n",
    "# Выполнение t-теста для времени на поездки пользователей с подпиской и без подписки\n",
    "time_with_subscription = merged_df[merged_df['subscription_type'] == 'ultra']['duration']\n",
    "time_without_subscription = merged_df[merged_df['subscription_type'] == 'free']['duration']\n",
    "t_stat, p_value = ttest_ind(time_with_subscription, time_without_subscription)\n",
    "# Вывод результатов\n",
    "if p_value < 0.05:\n",
    "    print(\"Отвергаем нулевую гипотезу. Пользователи с подпиской тратят больше времени на поездки.\")\n",
    "else:\n",
    "    print(\"Не отвергаем нулевую гипотезу. Время на поездки пользователей с подпиской и без подписки не различается.\")\n",
    "\n",
    "# 6.2: Проверка гипотезы о расстоянии поездок\n",
    "# Выполнение t-теста для расстояния поездок пользователей с подпиской и без подписки\n",
    "distance_with_subscription = merged_df[merged_df['subscription_type'] == 'ultra']['distance']\n",
    "distance_without_subscription = merged_df[merged_df['subscription_type'] == 'free']['distance']\n",
    "t_stat, p_value = ttest_ind(distance_with_subscription, distance_without_subscription)\n",
    "# Вывод результатов\n",
    "if p_value < 0.05:\n",
    "    print(\"Отвергаем нулевую гипотезу. Среднее расстояние поездок для пользователей с подпиской не превышает 3130 метров.\")\n",
    "else:\n",
    "    print(\"Принимаем нулевую гипотезу. Среднее расстояние поездок для пользователей с подпиской не превышает 3130 метров.\")\n",
    "\n",
    "# 6.3: Проверка гипотезы о помесячной выручке\n",
    "# Создание датафрейма с агрегированными данными о выручке\n",
    "revenue_df = merged_df.groupby(['user_id', 'subscription_type']).agg({'distance': 'sum', 'duration': 'sum', 'subscription_fee': 'first', 'minute_price': 'first', 'start_ride_price': 'first'}).reset_index()\n",
    "revenue_df['revenue'] = revenue_df['distance'] * revenue_df['minute_price'] + revenue_df['start_ride_price'] + revenue_df['subscription_fee']\n",
    "# Выполнение t-теста для выручки от пользователей с подпиской и без подписки\n",
    "revenue_with_subscription = revenue_df[revenue_df['subscription_type'] == 'ultra']['revenue']\n",
    "revenue_without_subscription = revenue_df[revenue_df['subscription_type'] == 'free']['revenue']\n",
    "t_stat, p_value = ttest_ind(revenue_with_subscription, revenue_without_subscription)\n",
    "# Вывод результатов\n",
    "if p_value < 0.05:\n",
    "    print(\"Отвергаем нулевую гипотезу. Помесячная выручка от пользователей с подпиской выше, чем от пользователей без подписки.\")\n",
    "else:\n",
    "    print(\"Не отвергаем нулевую гипотезу. Помесячная выручка от пользователей с подпиской и без подписки не различается.\")"
   ]
  },
  {
   "cell_type": "markdown",
   "id": "711f0169",
   "metadata": {},
   "source": [
    "**Вывод:**\n",
    "\n",
    "1. **Проверка гипотезы о времени на поездки:**\n",
    "   - Был проведен t-тест для времени на поездки пользователей с подпиской и без подписки.\n",
    "   - Полученный p-уровень значимости (p-value) позволил сделать вывод о том, что пользователи с подпиской тратят больше времени на поездки. Так как p-value меньше 0.05, нулевая гипотеза о равенстве времени на поездки отвергается.\n",
    "\n",
    "2. **Проверка гипотезы о расстоянии поездок:**\n",
    "   - Был выполнен t-тест для расстояния поездок пользователей с подпиской и без подписки.\n",
    "   - Полученный p-value показал, что среднее расстояние поездок для пользователей с подпиской не превышает 3130 метров. Так как p-value меньше 0.05, нулевая гипотеза об отсутствии различий в среднем расстоянии поездок также отвергается.\n",
    "\n",
    "3. **Проверка гипотезы о помесячной выручке:**\n",
    "   - Был создан датафрейм с агрегированными данными о выручке.\n",
    "   - Проведен t-тест для выручки от пользователей с подпиской и без подписки.\n",
    "   - Полученный p-value указывает на то, что помесячная выручка от пользователей с подпиской выше, чем от пользователей без подписки. Поскольку p-value меньше 0.05, нулевая гипотеза о равенстве выручки также отвергается.\n",
    "\n",
    "**Результаты:**\n",
    "- Пользователи с подпиской ultra склонны тратить больше времени на поездки и проезжать более длинные расстояния, что может свидетельствовать о более активном использовании сервиса.\n",
    "- Высокие показатели помесячной выручки от пользователей с подпиской подтверждают привлекательность данного типа подписки с точки зрения финансовых показателей для компании.\n",
    "\n",
    "Эти результаты могут помочь компании принимать решения по оптимизации стратегии ценообразования, маркетинговым кампаниям и улучшению качества сервиса для повышения привлекательности подписки и увеличения выручки."
   ]
  },
  {
   "cell_type": "markdown",
   "id": "c4eccc4a",
   "metadata": {},
   "source": [
    "**6.4 Проверка гипотезы об уменьшении обращений в техподдержку**\n",
    "\n",
    "Для проверки гипотезы о том, что обновление серверов значимо снизило количество обращений в техподдержку, можно использовать статистический тест на сравнение средних двух выборок. В данном случае можно применить t-тест для независимых выборок.\n",
    "\n",
    "Шаги для проведения теста:\n",
    "\n",
    "1. **Сбор данных**: Сначала нужно собрать данные о количестве обращений для каждого пользователя до и после обновления серверов.\n",
    "\n",
    "2. **Формулировка гипотез**: \n",
    "   - Нулевая гипотеза (H0): Средние значения количества обращений до и после обновления серверов равны.\n",
    "   - Альтернативная гипотеза (H1): Среднее значение количества обращений после обновления серверов меньше, чем до обновления.\n",
    "\n",
    "3. **Выбор уровня значимости**: Задайте уровень значимости, например, α = 0.05.\n",
    "\n",
    "4. **Проведение теста**: Примените t-тест для независимых выборок к данным о количестве обращений до и после обновления серверов.\n",
    "\n",
    "5. **Принятие решения**: На основе полученных результатов теста примите решение о том, отвергается ли нулевая гипотеза.\n",
    "\n",
    "6. **Интерпретация результатов**: Если нулевая гипотеза отвергается на выбранном уровне значимости, это будет свидетельствовать о том, что обновление серверов привело к статистически значимому снижению количества обращений в техподдержку.\n",
    "\n",
    "Важно также убедиться, что данные корректны, нет пропусков или аномалий, и что тестовые условия соблюдаются (например, нормальное распределение данных, равенство дисперсий и т. д.)."
   ]
  },
  {
   "cell_type": "markdown",
   "id": "61213c5e",
   "metadata": {},
   "source": [
    "#### Шаг 7. Распределения"
   ]
  },
  {
   "cell_type": "code",
   "execution_count": 12,
   "id": "95cd1d51",
   "metadata": {},
   "outputs": [
    {
     "name": "stdout",
     "output_type": "stream",
     "text": [
      "Минимальное количество промокодов для выполнения плана: 0\n"
     ]
    },
    {
     "data": {
      "image/png": "[encoded data removed]",
      "text/plain": [
       "<Figure size 432x288 with 1 Axes>"
      ]
     },
     "metadata": {
      "needs_background": "light"
     },
     "output_type": "display_data"
    },
    {
     "data": {
      "image/png": "[encoded data removed]",
      "text/plain": [
       "<Figure size 432x288 with 1 Axes>"
      ]
     },
     "metadata": {
      "needs_background": "light"
     },
     "output_type": "display_data"
    },
    {
     "name": "stdout",
     "output_type": "stream",
     "text": [
      "Вероятность того, что уведомление откроют не более 399,5 тыс. пользователей: 0.15371708296369768\n"
     ]
    }
   ],
   "source": [
    "# 7.1 Определение минимального количества промокодов для выполнения плана\n",
    "p = 0.1  # Вероятность успеха (продление подписки)\n",
    "target_probability = 0.05  # Целевая вероятность не выполнить план\n",
    "\n",
    "# Находим минимальное количество промокодов, для которого вероятность выполнения плана <= 0.05\n",
    "k = 0\n",
    "while binom.cdf(k, 100, p) > target_probability:\n",
    "    k += 1\n",
    "\n",
    "print(\"Минимальное количество промокодов для выполнения плана:\", k)\n",
    "\n",
    "# Построение графика биномиального распределения для визуализации\n",
    "x = np.arange(0, 101)\n",
    "plt.plot(x, binom.cdf(x, 100, p), 'bo', ms=5, label='Биномиальное распределение')\n",
    "plt.axhline(y=target_probability, color='r', linestyle='-', label='Целевая вероятность')\n",
    "plt.xlabel('Количество продлений подписок')\n",
    "plt.ylabel('Вероятность выполнения плана')\n",
    "plt.title('Вероятность выполнения плана в зависимости от количества промокодов')\n",
    "plt.legend()\n",
    "plt.grid()\n",
    "plt.show()\n",
    "\n",
    "# 7.2 Оценка вероятности открытия уведомлений\n",
    "n = 1000000  # Количество уведомлений\n",
    "p = 0.4  # Вероятность успеха (открытие уведомления)\n",
    "\n",
    "# Построение графика нормального распределения для визуализации аппроксимации\n",
    "mu = n * p\n",
    "sigma = np.sqrt(n * p * (1 - p))\n",
    "x = np.linspace(0, n, 1000)\n",
    "plt.plot(x, norm.cdf(x, mu, sigma), 'r-', lw=2, label='Нормальное распределение')\n",
    "plt.axvline(x=399500, color='b', linestyle='--', label='Количество открытых уведомлений')\n",
    "plt.xlabel('Количество открытых уведомлений')\n",
    "plt.ylabel('Вероятность')\n",
    "plt.title('Вероятность открытия уведомлений')\n",
    "plt.legend()\n",
    "plt.grid()\n",
    "plt.show()\n",
    "\n",
    "# Оценка вероятности того, что уведомление откроют не более 399,5 тыс. пользователей\n",
    "probability = norm.cdf(399500, mu, sigma)\n",
    "print(\"Вероятность того, что уведомление откроют не более 399,5 тыс. пользователей:\", probability)\n"
   ]
  },
  {
   "cell_type": "markdown",
   "id": "63b6146e",
   "metadata": {},
   "source": [
    "**Вывод:**\n",
    "\n",
    "На этапе выполнения действий для определения минимального количества промокодов для выполнения плана и оценки вероятности открытия уведомлений были сделаны следующие шаги:\n",
    "\n",
    "1. **Определение минимального количества промокодов для выполнения плана:**\n",
    "   - Используя биномиальное распределение, было определено минимальное количество промокодов, при котором вероятность выполнения плана не превышает заданную целевую вероятность. В данном случае, целевая вероятность не выполнить план составляла 0.05.\n",
    "   - Полученное минимальное количество промокодов оказалось равным 0, что может указывать на то, что существует высокая вероятность выполнения плана без использования промокодов.\n",
    "\n",
    "2. **Оценка вероятности открытия уведомлений:**\n",
    "   - Было построено нормальное распределение для визуализации вероятности открытия уведомлений.\n",
    "   - Затем была оценена вероятность того, что уведомление откроют не более 399,5 тыс. пользователей, используя нормальное распределение.\n",
    "   - Полученная вероятность составила примерно 0.1537, что означает, что существует вероятность около 15.37%, что уведомление будет открыто не более чем указанное количество пользователей.\n",
    "\n",
    "**Результаты:**\n",
    "- Вероятность выполнения плана без использования промокодов может быть высокой, что может свидетельствовать о недостаточной эффективности промокодов в данной ситуации.\n",
    "- Оценка вероятности открытия уведомлений позволяет оценить эффективность маркетинговой стратегии и ожидаемый охват аудитории. В данном случае, вероятность открытия уведомлений оказалась ниже 50%, что может указывать на необходимость корректировки стратегии привлечения внимания пользователей."
   ]
  },
  {
   "cell_type": "markdown",
   "id": "54a9fb9f",
   "metadata": {},
   "source": [
    "**Общий вывод:**\n",
    "\n",
    "**Действия, проведенные в работе:**\n",
    "   - Загрузка и предварительный анализ данных о пользователях, поездках и подписках.\n",
    "   - Обработка пропущенных значений и удаление дубликатов.\n",
    "   - Визуализация данных для анализа распределения городов пользователей, соотношения подписчиков и не подписчиков, а также возрастных групп пользователей, а также информации о поездках.\n",
    "   - Объединение данных о пользователях, поездках и подписках для дальнейшего анализа.\n",
    "   - Анализ и визуализация данных о расстоянии и времени поездок для пользователей с и без подписки.\n",
    "   - Создание датафрейма с агрегированными данными о поездках и оценка помесячной выручки.\n",
    "   - Проверка статистических гипотез о времени и расстоянии поездок, а также о помесячной выручке.\n",
    "   - Оценка минимального количества промокодов для выполнения плана и вероятности открытия уведомлений.\n",
    "\n",
    "**Полученные результаты:**\n",
    "   - Были выявлены различия во времени и расстоянии поездок для пользователей с подпиской и без подписки.\n",
    "   - Проверка гипотез показала, что пользователи с подпиской тратят больше времени на поездки, а среднее расстояние поездок для них также оказалось выше.\n",
    "   - Оценка помесячной выручки показала, что выручка от пользователей с подпиской выше, чем от пользователей без подписки.\n",
    "   - Оценка минимального количества промокодов и вероятности открытия уведомлений позволила оценить эффективность маркетинговых мероприятий.\n",
    "\n",
    "**Интерпретация результатов:**\n",
    "\n",
    "1. **Различия во времени поездок:**\n",
    "   - Результат: Отвергнута нулевая гипотеза. Пользователи с подпиской тратят больше времени на поездки.\n",
    "   - Интерпретация: Пользователи с подпиской, вероятно, предпочитают длительные поездки или используют сервис для более частых поездок.\n",
    "\n",
    "2. **Различия в расстоянии поездок:**\n",
    "   - Результат: Отвергнута нулевая гипотеза. Среднее расстояние поездок для пользователей с подпиской не превышает 3130 метров.\n",
    "   - Интерпретация: Пользователи с подпиской, вероятно, чаще совершают долгие поездки или выбирают маршруты, которые требуют большего расстояния.\n",
    "\n",
    "3. **Различия в помесячной выручке:**\n",
    "   - Результат: Отвергнута нулевая гипотеза. Помесячная выручка от пользователей с подпиской выше, чем от пользователей без подписки.\n",
    "   - Интерпретация: Пользователи с подпиской, скорее всего, используют приложение чаще и/или в большем объеме услуг, что приводит к увеличению выручки от них.\n",
    "\n",
    "4. **Минимальное количество промокодов для выполнения плана:**\n",
    "   - Результат: Минимальное количество промокодов для выполнения плана составляет 0.\n",
    "   - Интерпретация: Для достижения целевой вероятности выполнения плана не требуется выдачи промокодов, что может быть экономически эффективным решением.\n",
    "\n",
    "5. **Вероятность открытия уведомлений:**\n",
    "   - Результат: Вероятность того, что уведомление откроют не более 399,5 тыс. пользователей, составляет 0.1537.\n",
    "   - Интерпретация: Эта вероятность может служить ориентиром для оценки эффективности маркетинговых кампаний и их оптимизации для достижения более высокой конверсии."
   ]
  }
 ],
 "metadata": {
  "ExecuteTimeLog": [
   {
    "duration": 868,
    "start_time": "2024-03-17T17:32:53.458Z"
   },
   {
    "duration": 336,
    "start_time": "2024-03-17T17:32:54.328Z"
   },
   {
    "duration": 24,
    "start_time": "2024-03-17T17:32:54.666Z"
   },
   {
    "duration": 870,
    "start_time": "2024-03-17T17:32:54.692Z"
   },
   {
    "duration": 593,
    "start_time": "2024-03-17T17:32:55.565Z"
   },
   {
    "duration": 29,
    "start_time": "2024-03-17T17:32:56.160Z"
   },
   {
    "duration": 511,
    "start_time": "2024-03-17T17:32:56.191Z"
   },
   {
    "duration": 0,
    "start_time": "2024-03-17T17:32:56.705Z"
   },
   {
    "duration": 684,
    "start_time": "2024-03-17T17:34:10.216Z"
   },
   {
    "duration": 643,
    "start_time": "2024-03-17T17:37:49.104Z"
   },
   {
    "duration": 101,
    "start_time": "2024-03-17T17:37:49.749Z"
   },
   {
    "duration": 25,
    "start_time": "2024-03-17T17:37:49.852Z"
   },
   {
    "duration": 906,
    "start_time": "2024-03-17T17:37:49.879Z"
   },
   {
    "duration": 599,
    "start_time": "2024-03-17T17:37:50.786Z"
   },
   {
    "duration": 21,
    "start_time": "2024-03-17T17:37:51.387Z"
   },
   {
    "duration": 584,
    "start_time": "2024-03-17T17:37:51.410Z"
   },
   {
    "duration": 0,
    "start_time": "2024-03-17T17:37:51.995Z"
   },
   {
    "duration": 148,
    "start_time": "2024-03-17T17:42:10.029Z"
   },
   {
    "duration": 1710,
    "start_time": "2024-03-17T17:43:40.482Z"
   },
   {
    "duration": 186,
    "start_time": "2024-03-17T17:45:06.951Z"
   },
   {
    "duration": 133,
    "start_time": "2024-03-17T17:48:06.364Z"
   },
   {
    "duration": 588,
    "start_time": "2024-03-17T17:48:17.312Z"
   },
   {
    "duration": 135,
    "start_time": "2024-03-17T17:49:24.005Z"
   },
   {
    "duration": 178,
    "start_time": "2024-03-17T17:50:32.266Z"
   },
   {
    "duration": 187,
    "start_time": "2024-03-17T17:51:26.939Z"
   },
   {
    "duration": 249,
    "start_time": "2024-03-17T17:55:54.032Z"
   },
   {
    "duration": 1017,
    "start_time": "2024-03-17T18:00:38.765Z"
   },
   {
    "duration": 25,
    "start_time": "2024-03-17T18:01:32.362Z"
   },
   {
    "duration": 107,
    "start_time": "2024-03-17T18:04:35.239Z"
   },
   {
    "duration": 111,
    "start_time": "2024-03-17T18:07:04.702Z"
   },
   {
    "duration": 106,
    "start_time": "2024-03-17T18:07:20.857Z"
   },
   {
    "duration": 1688,
    "start_time": "2024-03-17T18:07:56.258Z"
   },
   {
    "duration": 106,
    "start_time": "2024-03-17T18:08:38.190Z"
   },
   {
    "duration": 171,
    "start_time": "2024-03-17T18:09:36.832Z"
   },
   {
    "duration": 122,
    "start_time": "2024-03-17T18:12:22.983Z"
   },
   {
    "duration": 723,
    "start_time": "2024-03-17T18:15:01.448Z"
   },
   {
    "duration": 103,
    "start_time": "2024-03-17T18:15:02.173Z"
   },
   {
    "duration": 27,
    "start_time": "2024-03-17T18:15:02.278Z"
   },
   {
    "duration": 913,
    "start_time": "2024-03-17T18:15:02.307Z"
   },
   {
    "duration": 589,
    "start_time": "2024-03-17T18:15:03.222Z"
   },
   {
    "duration": 22,
    "start_time": "2024-03-17T18:15:03.813Z"
   },
   {
    "duration": 595,
    "start_time": "2024-03-17T18:15:03.836Z"
   },
   {
    "duration": 660,
    "start_time": "2024-03-17T18:15:04.433Z"
   },
   {
    "duration": 625,
    "start_time": "2024-03-17T18:16:25.319Z"
   },
   {
    "duration": 115,
    "start_time": "2024-03-17T18:16:25.946Z"
   },
   {
    "duration": 38,
    "start_time": "2024-03-17T18:16:26.063Z"
   },
   {
    "duration": 884,
    "start_time": "2024-03-17T18:16:26.104Z"
   },
   {
    "duration": 614,
    "start_time": "2024-03-17T18:16:26.991Z"
   },
   {
    "duration": 22,
    "start_time": "2024-03-17T18:16:27.606Z"
   },
   {
    "duration": 574,
    "start_time": "2024-03-17T18:16:27.630Z"
   },
   {
    "duration": 672,
    "start_time": "2024-03-17T18:16:28.206Z"
   },
   {
    "duration": 46,
    "start_time": "2024-03-17T18:34:50.129Z"
   },
   {
    "duration": 1129,
    "start_time": "2024-03-17T18:38:56.300Z"
   },
   {
    "duration": 100,
    "start_time": "2024-03-17T18:38:57.431Z"
   },
   {
    "duration": 26,
    "start_time": "2024-03-17T18:38:57.533Z"
   },
   {
    "duration": 830,
    "start_time": "2024-03-17T18:38:57.561Z"
   },
   {
    "duration": 609,
    "start_time": "2024-03-17T18:38:58.393Z"
   },
   {
    "duration": 22,
    "start_time": "2024-03-17T18:38:59.004Z"
   },
   {
    "duration": 127,
    "start_time": "2024-03-17T18:38:59.028Z"
   },
   {
    "duration": 588,
    "start_time": "2024-03-17T18:38:59.157Z"
   },
   {
    "duration": 1116,
    "start_time": "2024-03-17T18:46:20.525Z"
   },
   {
    "duration": 108,
    "start_time": "2024-03-17T18:46:21.643Z"
   },
   {
    "duration": 26,
    "start_time": "2024-03-17T18:46:21.755Z"
   },
   {
    "duration": 849,
    "start_time": "2024-03-17T18:46:21.784Z"
   },
   {
    "duration": 597,
    "start_time": "2024-03-17T18:46:22.634Z"
   },
   {
    "duration": 23,
    "start_time": "2024-03-17T18:46:23.233Z"
   },
   {
    "duration": 136,
    "start_time": "2024-03-17T18:46:23.258Z"
   },
   {
    "duration": 583,
    "start_time": "2024-03-17T18:46:23.396Z"
   },
   {
    "duration": 1089,
    "start_time": "2024-03-17T19:17:06.896Z"
   },
   {
    "duration": 228,
    "start_time": "2024-03-17T19:17:07.986Z"
   },
   {
    "duration": 40,
    "start_time": "2024-03-17T19:17:08.216Z"
   },
   {
    "duration": 830,
    "start_time": "2024-03-17T19:17:08.258Z"
   },
   {
    "duration": 641,
    "start_time": "2024-03-17T19:17:09.090Z"
   },
   {
    "duration": 28,
    "start_time": "2024-03-17T19:17:09.732Z"
   },
   {
    "duration": 123,
    "start_time": "2024-03-17T19:17:09.762Z"
   },
   {
    "duration": 619,
    "start_time": "2024-03-17T19:17:09.887Z"
   },
   {
    "duration": 1277,
    "start_time": "2024-03-18T11:11:11.887Z"
   },
   {
    "duration": 350,
    "start_time": "2024-03-18T11:11:13.166Z"
   },
   {
    "duration": 27,
    "start_time": "2024-03-18T11:11:13.518Z"
   },
   {
    "duration": 878,
    "start_time": "2024-03-18T11:11:13.547Z"
   },
   {
    "duration": 624,
    "start_time": "2024-03-18T11:11:14.427Z"
   },
   {
    "duration": 38,
    "start_time": "2024-03-18T11:11:15.053Z"
   },
   {
    "duration": 129,
    "start_time": "2024-03-18T11:11:15.093Z"
   },
   {
    "duration": 671,
    "start_time": "2024-03-18T11:11:15.223Z"
   },
   {
    "duration": 1124,
    "start_time": "2024-03-18T11:13:09.302Z"
   },
   {
    "duration": 118,
    "start_time": "2024-03-18T11:13:10.428Z"
   },
   {
    "duration": 40,
    "start_time": "2024-03-18T11:13:10.548Z"
   },
   {
    "duration": 811,
    "start_time": "2024-03-18T11:13:10.590Z"
   },
   {
    "duration": 551,
    "start_time": "2024-03-18T11:13:11.403Z"
   },
   {
    "duration": 32,
    "start_time": "2024-03-18T11:13:11.956Z"
   },
   {
    "duration": 114,
    "start_time": "2024-03-18T11:13:11.989Z"
   },
   {
    "duration": 561,
    "start_time": "2024-03-18T11:13:12.105Z"
   },
   {
    "duration": 1107,
    "start_time": "2024-03-18T11:13:42.525Z"
   },
   {
    "duration": 114,
    "start_time": "2024-03-18T11:13:43.634Z"
   },
   {
    "duration": 35,
    "start_time": "2024-03-18T11:13:43.750Z"
   },
   {
    "duration": 780,
    "start_time": "2024-03-18T11:13:43.787Z"
   },
   {
    "duration": 560,
    "start_time": "2024-03-18T11:13:44.568Z"
   },
   {
    "duration": 21,
    "start_time": "2024-03-18T11:13:45.130Z"
   },
   {
    "duration": 136,
    "start_time": "2024-03-18T11:13:45.153Z"
   },
   {
    "duration": 567,
    "start_time": "2024-03-18T11:13:45.291Z"
   },
   {
    "duration": 1099,
    "start_time": "2024-03-18T11:14:27.325Z"
   },
   {
    "duration": 112,
    "start_time": "2024-03-18T11:14:28.426Z"
   },
   {
    "duration": 24,
    "start_time": "2024-03-18T11:14:28.539Z"
   },
   {
    "duration": 809,
    "start_time": "2024-03-18T11:14:28.564Z"
   },
   {
    "duration": 558,
    "start_time": "2024-03-18T11:14:29.375Z"
   },
   {
    "duration": 22,
    "start_time": "2024-03-18T11:14:29.935Z"
   },
   {
    "duration": 145,
    "start_time": "2024-03-18T11:14:29.959Z"
   },
   {
    "duration": 566,
    "start_time": "2024-03-18T11:14:30.106Z"
   },
   {
    "duration": 1044,
    "start_time": "2024-03-18T11:17:54.825Z"
   },
   {
    "duration": 115,
    "start_time": "2024-03-18T11:17:55.870Z"
   },
   {
    "duration": 42,
    "start_time": "2024-03-18T11:17:55.987Z"
   },
   {
    "duration": 824,
    "start_time": "2024-03-18T11:17:56.031Z"
   },
   {
    "duration": 558,
    "start_time": "2024-03-18T11:17:56.857Z"
   },
   {
    "duration": 21,
    "start_time": "2024-03-18T11:17:57.417Z"
   },
   {
    "duration": 127,
    "start_time": "2024-03-18T11:17:57.439Z"
   },
   {
    "duration": 594,
    "start_time": "2024-03-18T11:17:57.567Z"
   },
   {
    "duration": 1156,
    "start_time": "2024-03-18T11:18:58.579Z"
   },
   {
    "duration": 113,
    "start_time": "2024-03-18T11:18:59.736Z"
   },
   {
    "duration": 42,
    "start_time": "2024-03-18T11:18:59.850Z"
   },
   {
    "duration": 808,
    "start_time": "2024-03-18T11:18:59.893Z"
   },
   {
    "duration": 573,
    "start_time": "2024-03-18T11:19:00.704Z"
   },
   {
    "duration": 22,
    "start_time": "2024-03-18T11:19:01.281Z"
   },
   {
    "duration": 135,
    "start_time": "2024-03-18T11:19:01.304Z"
   },
   {
    "duration": 643,
    "start_time": "2024-03-18T11:19:01.440Z"
   },
   {
    "duration": 1086,
    "start_time": "2024-03-18T11:26:08.047Z"
   },
   {
    "duration": 113,
    "start_time": "2024-03-18T11:26:09.135Z"
   },
   {
    "duration": 43,
    "start_time": "2024-03-18T11:26:09.250Z"
   },
   {
    "duration": 186,
    "start_time": "2024-03-18T11:26:09.295Z"
   },
   {
    "duration": 98,
    "start_time": "2024-03-18T11:26:09.483Z"
   },
   {
    "duration": 171,
    "start_time": "2024-03-18T11:26:09.583Z"
   },
   {
    "duration": 200,
    "start_time": "2024-03-18T11:26:09.755Z"
   },
   {
    "duration": 212,
    "start_time": "2024-03-18T11:26:09.957Z"
   },
   {
    "duration": 542,
    "start_time": "2024-03-18T11:26:10.171Z"
   },
   {
    "duration": 22,
    "start_time": "2024-03-18T11:26:10.716Z"
   },
   {
    "duration": 122,
    "start_time": "2024-03-18T11:26:10.740Z"
   },
   {
    "duration": 585,
    "start_time": "2024-03-18T11:26:10.864Z"
   },
   {
    "duration": 1158,
    "start_time": "2024-03-18T11:28:29.501Z"
   },
   {
    "duration": 118,
    "start_time": "2024-03-18T11:28:30.661Z"
   },
   {
    "duration": 83,
    "start_time": "2024-03-18T11:28:30.781Z"
   },
   {
    "duration": 290,
    "start_time": "2024-03-18T11:28:30.866Z"
   },
   {
    "duration": 99,
    "start_time": "2024-03-18T11:28:31.158Z"
   },
   {
    "duration": 282,
    "start_time": "2024-03-18T11:28:31.259Z"
   },
   {
    "duration": 226,
    "start_time": "2024-03-18T11:28:31.542Z"
   },
   {
    "duration": 201,
    "start_time": "2024-03-18T11:28:31.770Z"
   },
   {
    "duration": 545,
    "start_time": "2024-03-18T11:28:31.973Z"
   },
   {
    "duration": 22,
    "start_time": "2024-03-18T11:28:32.520Z"
   },
   {
    "duration": 128,
    "start_time": "2024-03-18T11:28:32.544Z"
   },
   {
    "duration": 681,
    "start_time": "2024-03-18T11:28:32.680Z"
   },
   {
    "duration": 1168,
    "start_time": "2024-03-18T11:29:03.569Z"
   },
   {
    "duration": 121,
    "start_time": "2024-03-18T11:29:04.740Z"
   },
   {
    "duration": 50,
    "start_time": "2024-03-18T11:29:04.863Z"
   },
   {
    "duration": 208,
    "start_time": "2024-03-18T11:29:04.916Z"
   },
   {
    "duration": 105,
    "start_time": "2024-03-18T11:29:05.126Z"
   },
   {
    "duration": 177,
    "start_time": "2024-03-18T11:29:05.233Z"
   },
   {
    "duration": 228,
    "start_time": "2024-03-18T11:29:05.412Z"
   },
   {
    "duration": 221,
    "start_time": "2024-03-18T11:29:05.642Z"
   },
   {
    "duration": 586,
    "start_time": "2024-03-18T11:29:05.865Z"
   },
   {
    "duration": 29,
    "start_time": "2024-03-18T11:29:06.455Z"
   },
   {
    "duration": 124,
    "start_time": "2024-03-18T11:29:06.486Z"
   },
   {
    "duration": 553,
    "start_time": "2024-03-18T11:29:06.612Z"
   },
   {
    "duration": 1182,
    "start_time": "2024-03-18T11:31:38.671Z"
   },
   {
    "duration": 120,
    "start_time": "2024-03-18T11:31:39.855Z"
   },
   {
    "duration": 34,
    "start_time": "2024-03-18T11:31:39.976Z"
   },
   {
    "duration": 205,
    "start_time": "2024-03-18T11:31:40.012Z"
   },
   {
    "duration": 95,
    "start_time": "2024-03-18T11:31:40.219Z"
   },
   {
    "duration": 170,
    "start_time": "2024-03-18T11:31:40.316Z"
   },
   {
    "duration": 197,
    "start_time": "2024-03-18T11:31:40.487Z"
   },
   {
    "duration": 208,
    "start_time": "2024-03-18T11:31:40.685Z"
   },
   {
    "duration": 609,
    "start_time": "2024-03-18T11:31:40.894Z"
   },
   {
    "duration": 21,
    "start_time": "2024-03-18T11:31:41.505Z"
   },
   {
    "duration": 143,
    "start_time": "2024-03-18T11:31:41.528Z"
   },
   {
    "duration": 585,
    "start_time": "2024-03-18T11:31:41.673Z"
   },
   {
    "duration": 1122,
    "start_time": "2024-03-18T11:35:02.526Z"
   },
   {
    "duration": 120,
    "start_time": "2024-03-18T11:35:03.650Z"
   },
   {
    "duration": 38,
    "start_time": "2024-03-18T11:35:03.772Z"
   },
   {
    "duration": 197,
    "start_time": "2024-03-18T11:35:03.811Z"
   },
   {
    "duration": 96,
    "start_time": "2024-03-18T11:35:04.010Z"
   },
   {
    "duration": 167,
    "start_time": "2024-03-18T11:35:04.107Z"
   },
   {
    "duration": 189,
    "start_time": "2024-03-18T11:35:04.281Z"
   },
   {
    "duration": 206,
    "start_time": "2024-03-18T11:35:04.480Z"
   },
   {
    "duration": 577,
    "start_time": "2024-03-18T11:35:04.687Z"
   },
   {
    "duration": 116,
    "start_time": "2024-03-18T11:35:05.266Z"
   },
   {
    "duration": 42,
    "start_time": "2024-03-18T11:35:05.383Z"
   },
   {
    "duration": 556,
    "start_time": "2024-03-18T11:35:05.426Z"
   },
   {
    "duration": 1097,
    "start_time": "2024-03-18T11:43:15.140Z"
   },
   {
    "duration": 118,
    "start_time": "2024-03-18T11:43:16.238Z"
   },
   {
    "duration": 41,
    "start_time": "2024-03-18T11:43:16.357Z"
   },
   {
    "duration": 186,
    "start_time": "2024-03-18T11:43:16.400Z"
   },
   {
    "duration": 98,
    "start_time": "2024-03-18T11:43:16.589Z"
   },
   {
    "duration": 159,
    "start_time": "2024-03-18T11:43:16.689Z"
   },
   {
    "duration": 196,
    "start_time": "2024-03-18T11:43:16.850Z"
   },
   {
    "duration": 202,
    "start_time": "2024-03-18T11:43:17.047Z"
   },
   {
    "duration": 563,
    "start_time": "2024-03-18T11:43:17.251Z"
   },
   {
    "duration": 116,
    "start_time": "2024-03-18T11:43:17.815Z"
   },
   {
    "duration": 53,
    "start_time": "2024-03-18T11:43:17.933Z"
   },
   {
    "duration": 609,
    "start_time": "2024-03-18T11:43:17.988Z"
   },
   {
    "duration": 1037,
    "start_time": "2024-03-18T11:43:50.609Z"
   },
   {
    "duration": 113,
    "start_time": "2024-03-18T11:43:51.648Z"
   },
   {
    "duration": 30,
    "start_time": "2024-03-18T11:43:51.763Z"
   },
   {
    "duration": 193,
    "start_time": "2024-03-18T11:43:51.794Z"
   },
   {
    "duration": 101,
    "start_time": "2024-03-18T11:43:51.989Z"
   },
   {
    "duration": 154,
    "start_time": "2024-03-18T11:43:52.092Z"
   },
   {
    "duration": 205,
    "start_time": "2024-03-18T11:43:52.247Z"
   },
   {
    "duration": 198,
    "start_time": "2024-03-18T11:43:52.461Z"
   },
   {
    "duration": 580,
    "start_time": "2024-03-18T11:43:52.660Z"
   },
   {
    "duration": 123,
    "start_time": "2024-03-18T11:43:53.242Z"
   },
   {
    "duration": 48,
    "start_time": "2024-03-18T11:43:53.367Z"
   },
   {
    "duration": 543,
    "start_time": "2024-03-18T11:43:53.417Z"
   }
  ],
  "kernelspec": {
   "display_name": "Python 3 (ipykernel)",
   "language": "python",
   "name": "python3"
  },
  "language_info": {
   "codemirror_mode": {
    "name": "ipython",
    "version": 3
   },
   "file_extension": ".py",
   "mimetype": "text/x-python",
   "name": "python",
   "nbconvert_exporter": "python",
   "pygments_lexer": "ipython3",
   "version": "3.9.18"
  },
  "toc": {
   "base_numbering": 1,
   "nav_menu": {},
   "number_sections": true,
   "sideBar": true,
   "skip_h1_title": true,
   "title_cell": "Table of Contents",
   "title_sidebar": "Contents",
   "toc_cell": false,
   "toc_position": {},
   "toc_section_display": true,
   "toc_window_display": false
  },
  "varInspector": {
   "cols": {
    "lenName": 16,
    "lenType": 16,
    "lenVar": 40
   },
   "kernels_config": {
    "python": {
     "delete_cmd_postfix": "",
     "delete_cmd_prefix": "del ",
     "library": "var_list.py",
     "varRefreshCmd": "print(var_dic_list())"
    },
    "r": {
     "delete_cmd_postfix": ") ",
     "delete_cmd_prefix": "rm(",
     "library": "var_list.r",
     "varRefreshCmd": "cat(var_dic_list()) "
    }
   },
   "types_to_exclude": [
    "module",
    "function",
    "builtin_function_or_method",
    "instance",
    "_Feature"
   ],
   "window_display": false
  }
 },
 "nbformat": 4,
 "nbformat_minor": 5
}
