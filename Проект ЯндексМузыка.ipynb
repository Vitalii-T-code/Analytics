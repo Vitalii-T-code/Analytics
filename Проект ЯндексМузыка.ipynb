{
 "cells": [
  {
   "cell_type": "markdown",
   "metadata": {
    "deletable": false,
    "editable": false,
    "id": "E0vqbgi9ay0H"
   },
   "source": [
    "# Яндекс Музыка"
   ]
  },
  {
   "cell_type": "markdown",
   "metadata": {
    "deletable": false,
    "editable": false,
    "id": "VUC88oWjTJw2"
   },
   "source": [
    "Сравнение Москвы и Петербурга окружено мифами. Например:\n",
    " * Москва — мегаполис, подчинённый жёсткому ритму рабочей недели;\n",
    " * Петербург — культурная столица, со своими вкусами.\n",
    "\n",
    "На данных Яндекс Музыки вы сравните поведение пользователей двух столиц.\n",
    "\n",
    "**Цель исследования** — проверьте три гипотезы:\n",
    "1. Активность пользователей зависит от дня недели. Причём в Москве и Петербурге это проявляется по-разному.\n",
    "2. В понедельник утром в Москве преобладают одни жанры, а в Петербурге — другие. Так же и вечером пятницы преобладают разные жанры — в зависимости от города.\n",
    "3. Москва и Петербург предпочитают разные жанры музыки. В Москве чаще слушают поп-музыку, в Петербурге — русский рэп.\n",
    "\n",
    "**Ход исследования**\n",
    "\n",
    "Данные о поведении пользователей вы получите из файла `yandex_music_project.csv`. О качестве данных ничего не известно. Поэтому перед проверкой гипотез понадобится обзор данных.\n",
    "\n",
    "Вы проверите данные на ошибки и оцените их влияние на исследование. Затем, на этапе предобработки вы поищете возможность исправить самые критичные ошибки данных.\n",
    "\n",
    "Таким образом, исследование пройдёт в три этапа:\n",
    " 1. Обзор данных.\n",
    " 2. Предобработка данных.\n",
    " 3. Проверка гипотез.\n",
    "\n"
   ]
  },
  {
   "cell_type": "markdown",
   "metadata": {
    "deletable": false,
    "editable": false,
    "id": "Ml1hmfXC_Zcs"
   },
   "source": [
    "## Обзор данных\n",
    "\n",
    "Составьте первое представление о данных Яндекс Музыки.\n",
    "\n",
    "\n"
   ]
  },
  {
   "cell_type": "markdown",
   "metadata": {
    "deletable": false,
    "editable": false,
    "id": "57eAOGIz_Zcs",
    "tags": [
     "start_task"
    ]
   },
   "source": [
    "**Задание 1**"
   ]
  },
  {
   "cell_type": "code",
   "execution_count": null,
   "metadata": {
    "deletable": false,
    "id": "AXN7PHPN_Zcs"
   },
   "outputs": [],
   "source": [
    "import pandas as pd  # <импорт библиотеки pandas>"
   ]
  },
  {
   "cell_type": "markdown",
   "metadata": {
    "deletable": false,
    "editable": false,
    "id": "SG23P8tt_Zcs",
    "tags": [
     "start_task"
    ]
   },
   "source": [
    "**Задание 2**"
   ]
  },
  {
   "cell_type": "code",
   "execution_count": null,
   "metadata": {
    "deletable": false,
    "id": "fFVu7vqh_Zct"
   },
   "outputs": [],
   "source": [
    "file_path = '/datasets/yandex_music_project.csv'\n",
    "# Чтение файла и сохранение в переменной df\n",
    "df = pd.read_csv(file_path)\n",
    "# <чтение файла с данными с сохранением в df>"
   ]
  },
  {
   "cell_type": "markdown",
   "metadata": {
    "deletable": false,
    "editable": false,
    "id": "rDoOMd3uTqnZ",
    "tags": [
     "start_task"
    ]
   },
   "source": [
    "**Задание 3**"
   ]
  },
  {
   "cell_type": "code",
   "execution_count": null,
   "metadata": {
    "deletable": false,
    "id": "oWTVX3gW_Zct"
   },
   "outputs": [],
   "source": [
    "df.head(10)  # <получение первых 10 строк таблицы df>"
   ]
  },
  {
   "cell_type": "markdown",
   "metadata": {
    "deletable": false,
    "editable": false,
    "id": "EO73Kwic_Zct",
    "tags": [
     "start_task"
    ]
   },
   "source": [
    "**Задание 4**"
   ]
  },
  {
   "cell_type": "code",
   "execution_count": null,
   "metadata": {
    "deletable": false,
    "id": "DSf2kIb-_Zct"
   },
   "outputs": [],
   "source": [
    "df.info() # общая информация о таблице"
   ]
  },
  {
   "cell_type": "markdown",
   "metadata": {
    "deletable": false,
    "editable": false,
    "id": "TaQ2Iwbr_Zct"
   },
   "source": [
    "Количество значений в столбцах различается. Значит, в данных есть пропущенные значения."
   ]
  },
  {
   "cell_type": "markdown",
   "metadata": {
    "deletable": false,
    "editable": false,
    "id": "4P0UCWzswgEm",
    "tags": [
     "start_task"
    ]
   },
   "source": [
    "**Задание 5**"
   ]
  },
  {
   "cell_type": "code",
   "execution_count": null,
   "metadata": {
    "id": "c137-ZstwgEm"
   },
   "outputs": [],
   "source": [
    "# Найденное третье нарушение стиля: встречаются пробелы в названиях колонок"
   ]
  },
  {
   "cell_type": "markdown",
   "metadata": {
    "deletable": false,
    "editable": false,
    "id": "MCB6-dXG_Zct"
   },
   "source": [
    "**Выводы**\n",
    "\n",
    "В каждой строке таблицы — данные о прослушанном треке. Часть колонок описывает саму композицию: название, исполнителя и жанр. Остальные данные рассказывают о пользователе: из какого он города, когда он слушал музыку.\n",
    "\n",
    "Предварительно можно утверждать, что данных достаточно для проверки гипотез. Но встречаются пропуски в данных, а в названиях колонок — расхождения с хорошим стилем.\n",
    "\n",
    "Чтобы двигаться дальше, нужно устранить проблемы в данных."
   ]
  },
  {
   "cell_type": "markdown",
   "metadata": {
    "deletable": false,
    "editable": false,
    "id": "SjYF6Ub9_Zct"
   },
   "source": [
    "## Предобработка данных"
   ]
  },
  {
   "cell_type": "markdown",
   "metadata": {
    "deletable": false,
    "editable": false,
    "id": "dIaKXr29_Zct",
    "tags": [
     "start_task"
    ]
   },
   "source": [
    "### Переименование столбцов\n",
    "\n",
    "**Задание 6**"
   ]
  },
  {
   "cell_type": "code",
   "execution_count": null,
   "metadata": {
    "deletable": false,
    "id": "oKOTdF_Q_Zct"
   },
   "outputs": [],
   "source": [
    "print(df.columns)\n",
    "# перечень названий столбцов таблицы df"
   ]
  },
  {
   "cell_type": "markdown",
   "metadata": {
    "deletable": false,
    "editable": false,
    "id": "zj5534cv_Zct",
    "tags": [
     "start_task"
    ]
   },
   "source": [
    "**Задание 7**"
   ]
  },
  {
   "cell_type": "code",
   "execution_count": null,
   "metadata": {
    "deletable": false,
    "id": "ISlFqs5y_Zct"
   },
   "outputs": [],
   "source": [
    "df.rename(columns={'  userID': 'user_id', 'Track': 'track', '  City  ': 'city', 'Day': 'day'}, inplace=True)\n",
    "# переименование столбцов"
   ]
  },
  {
   "cell_type": "markdown",
   "metadata": {
    "deletable": false,
    "editable": false,
    "id": "1dqbh00J_Zct",
    "tags": [
     "start_task"
    ]
   },
   "source": [
    "**Задание 8**"
   ]
  },
  {
   "cell_type": "code",
   "execution_count": null,
   "metadata": {
    "deletable": false,
    "id": "d4NOAmTW_Zct"
   },
   "outputs": [],
   "source": [
    "print(df.columns)\n",
    "# проверка результатов - перечень названий столбцов"
   ]
  },
  {
   "cell_type": "markdown",
   "metadata": {
    "deletable": false,
    "editable": false,
    "id": "5ISfbcfY_Zct",
    "tags": [
     "start_task"
    ]
   },
   "source": [
    "### Обработка пропущенных значений\n",
    "\n",
    "**Задание 9**"
   ]
  },
  {
   "cell_type": "code",
   "execution_count": null,
   "metadata": {
    "deletable": false,
    "id": "RskX29qr_Zct"
   },
   "outputs": [],
   "source": [
    "missing_values = df.isnull().sum()\n",
    "print(missing_values)\n",
    "# подсчёт пропусков"
   ]
  },
  {
   "cell_type": "markdown",
   "metadata": {
    "deletable": false,
    "editable": false,
    "id": "fSv2laPA_Zct",
    "tags": [
     "start_task"
    ]
   },
   "source": [
    "**Задание 10**"
   ]
  },
  {
   "cell_type": "code",
   "execution_count": null,
   "metadata": {
    "deletable": false,
    "id": "KplB5qWs_Zct"
   },
   "outputs": [],
   "source": [
    "columns_to_replace = ['track', 'artist', 'genre']\n",
    "\n",
    "for column in columns_to_replace:\n",
    "    df[column].fillna('unknown', inplace=True)\n",
    "# замена пропущенных значений на 'unknown'"
   ]
  },
  {
   "cell_type": "markdown",
   "metadata": {
    "deletable": false,
    "editable": false,
    "id": "Ilsm-MZo_Zct",
    "tags": [
     "start_task"
    ]
   },
   "source": [
    "**Задание 11**"
   ]
  },
  {
   "cell_type": "code",
   "execution_count": null,
   "metadata": {
    "deletable": false,
    "id": "Tq4nYRX4_Zct"
   },
   "outputs": [],
   "source": [
    "missing_values_after_replace = df.isnull().sum()\n",
    "print(missing_values_after_replace)\n",
    "# проверка на отсутствие пропусков"
   ]
  },
  {
   "cell_type": "markdown",
   "metadata": {
    "deletable": false,
    "editable": false,
    "id": "BWKRtBJ3_Zct",
    "tags": [
     "start_task"
    ]
   },
   "source": [
    "### Обработка дубликатов\n",
    "\n",
    "**Задание 12**"
   ]
  },
  {
   "cell_type": "code",
   "execution_count": null,
   "metadata": {
    "deletable": false,
    "id": "36eES_S0_Zct"
   },
   "outputs": [],
   "source": [
    "duplicate_count = df.duplicated().sum()\n",
    "print(duplicate_count)\n",
    "# подсчёт явных дубликатов"
   ]
  },
  {
   "cell_type": "markdown",
   "metadata": {
    "deletable": false,
    "editable": false,
    "id": "Ot25h6XR_Zct",
    "tags": [
     "start_task"
    ]
   },
   "source": [
    "**Задание 13**"
   ]
  },
  {
   "cell_type": "code",
   "execution_count": null,
   "metadata": {
    "deletable": false,
    "id": "exFHq6tt_Zct"
   },
   "outputs": [],
   "source": [
    "df = df.drop_duplicates().reset_index(drop=True)\n",
    "# удаление явных дубликатов, создание новых индексов и удаление старых"
   ]
  },
  {
   "cell_type": "markdown",
   "metadata": {
    "deletable": false,
    "editable": false,
    "id": "Im2YwBEG_Zct",
    "tags": [
     "start_task"
    ]
   },
   "source": [
    "**Задание 14**"
   ]
  },
  {
   "cell_type": "code",
   "execution_count": null,
   "metadata": {
    "deletable": false,
    "id": "-8PuNWQ0_Zct"
   },
   "outputs": [],
   "source": [
    "duplicate_count_after_drop = df.duplicated().sum()\n",
    "print(duplicate_count_after_drop)\n",
    "# проверка на отсутствие явных дубликатов"
   ]
  },
  {
   "cell_type": "markdown",
   "metadata": {
    "deletable": false,
    "editable": false,
    "id": "eSjWwsOh_Zct",
    "tags": [
     "start_task"
    ]
   },
   "source": [
    "**Задание 15**"
   ]
  },
  {
   "cell_type": "code",
   "execution_count": null,
   "metadata": {
    "deletable": false,
    "id": "JIUcqzZN_Zct"
   },
   "outputs": [],
   "source": [
    "unique_genres = sorted(df['genre'].unique())\n",
    "print(unique_genres)\n",
    "# просмотр уникальных отсортированных названий жанров"
   ]
  },
  {
   "cell_type": "markdown",
   "metadata": {
    "deletable": false,
    "editable": false,
    "id": "qej-Qmuo_Zct",
    "tags": [
     "start_task"
    ]
   },
   "source": [
    "**Задание 16**"
   ]
  },
  {
   "cell_type": "code",
   "execution_count": null,
   "metadata": {
    "deletable": false,
    "id": "ErNDkmns_Zct"
   },
   "outputs": [],
   "source": [
    "duplicates_to_replace = ['hip', 'hop', 'hip-hop']\n",
    "df['genre'].replace(duplicates_to_replace, 'hiphop', inplace=True)\n",
    "# устранение неявных дубликатов"
   ]
  },
  {
   "cell_type": "markdown",
   "metadata": {
    "deletable": false,
    "editable": false,
    "id": "zQKF16_RG15m",
    "tags": [
     "start_task"
    ]
   },
   "source": [
    "**Задание 17**"
   ]
  },
  {
   "cell_type": "code",
   "execution_count": null,
   "metadata": {
    "deletable": false,
    "id": "wvixALnFG15m"
   },
   "outputs": [],
   "source": [
    "sorted_unique_genres = sorted(df['genre'].unique())\n",
    "print(sorted_unique_genres)\n",
    "# проверка на отсутствие неявных дубликатов"
   ]
  },
  {
   "cell_type": "markdown",
   "metadata": {
    "deletable": false,
    "editable": false,
    "id": "jz6a9-7HQUDd"
   },
   "source": [
    "**Выводы**\n",
    "\n",
    "Предобработка обнаружила три проблемы в данных:\n",
    "\n",
    "- нарушения в стиле заголовков,\n",
    "- пропущенные значения,\n",
    "- дубликаты — явные и неявные.\n",
    "\n",
    "Вы исправили заголовки, чтобы упростить работу с таблицей. Без дубликатов исследование станет более точным.\n",
    "\n",
    "Пропущенные значения вы заменили на `'unknown'`. Ещё предстоит увидеть, не повредят ли исследованию пропуски в колонке `genre`.\n",
    "\n",
    "Теперь можно перейти к проверке гипотез."
   ]
  },
  {
   "cell_type": "markdown",
   "metadata": {
    "deletable": false,
    "editable": false,
    "id": "WttZHXH0SqKk"
   },
   "source": [
    "## Проверка гипотез"
   ]
  },
  {
   "cell_type": "markdown",
   "metadata": {
    "deletable": false,
    "editable": false,
    "id": "Im936VVi_Zcu"
   },
   "source": [
    "### Сравнение поведения пользователей двух столиц"
   ]
  },
  {
   "cell_type": "markdown",
   "metadata": {
    "deletable": false,
    "editable": false,
    "id": "nwt_MuaL_Zcu"
   },
   "source": [
    "Первая гипотеза утверждает, что пользователи по-разному слушают музыку в Москве и Санкт-Петербурге. Проверим это предположение по данным о трёх днях недели — понедельнике, среде и пятнице. Для этого:\n",
    "\n",
    "* Разделим пользователей Москвы и Санкт-Петербурга.\n",
    "* Сравним, сколько треков послушала каждая группа пользователей в понедельник, среду и пятницу.\n"
   ]
  },
  {
   "cell_type": "markdown",
   "metadata": {
    "deletable": false,
    "id": "8Dw_YMmT_Zcu",
    "tags": [
     "start_task"
    ]
   },
   "source": [
    "**Задание 18**\n",
    "\n"
   ]
  },
  {
   "cell_type": "code",
   "execution_count": null,
   "metadata": {
    "deletable": false,
    "id": "0_Qs96oh_Zcu"
   },
   "outputs": [],
   "source": [
    "# Группировка данных по городу и подсчет прослушиваний\n",
    "city_activity = df.groupby('city')['track'].count()\n",
    "\n",
    "# Вывод результатов\n",
    "print(city_activity)\n",
    "\n",
    "# подсчёт прослушиваний в каждом городе"
   ]
  },
  {
   "cell_type": "markdown",
   "metadata": {
    "id": "dzli3w8o_Zcu",
    "tags": [
     "start_task"
    ]
   },
   "source": [
    "**Задание 19**\n"
   ]
  },
  {
   "cell_type": "code",
   "execution_count": null,
   "metadata": {
    "deletable": false,
    "id": "uZMKjiJz_Zcu"
   },
   "outputs": [],
   "source": [
    "# Группировка данных по дню недели и подсчет прослушиваний\n",
    "day_activity = df.groupby('day')['track'].count()\n",
    "\n",
    "# Вывод результатов\n",
    "print(day_activity)\n",
    "# подсчёт прослушиваний в каждый из трёх дней"
   ]
  },
  {
   "cell_type": "markdown",
   "metadata": {
    "deletable": false,
    "editable": false,
    "id": "POzs8bGa_Zcu",
    "tags": [
     "start_task"
    ]
   },
   "source": [
    "**Задание 20**"
   ]
  },
  {
   "cell_type": "code",
   "execution_count": null,
   "metadata": {
    "deletable": false,
    "id": "Nz3GdQB1_Zcu"
   },
   "outputs": [],
   "source": [
    "def number_tracks(day, city):\n",
    "    # Фильтрация данных по дню и городу\n",
    "    filtered_data = df[(df['day'] == day) & (df['city'] == city)]\n",
    "\n",
    "    # Подсчет числа прослушиваний после фильтрации\n",
    "    track_list_count = filtered_data['user_id'].count()\n",
    "\n",
    "    # Возврат результата из функции\n",
    "    return track_list_count\n"
   ]
  },
  {
   "cell_type": "markdown",
   "metadata": {
    "deletable": false,
    "editable": false,
    "id": "ytf7xFrFJQ2r",
    "tags": [
     "start_task"
    ]
   },
   "source": [
    "**Задание 21**"
   ]
  },
  {
   "cell_type": "code",
   "execution_count": 1,
   "metadata": {
    "deletable": false,
    "id": "rJcRATNQ_Zcu"
   },
   "outputs": [],
   "source": [
    "# Первая пара\n",
    "result_monday_moscow = number_tracks('Monday', 'Moscow')\n",
    "result_monday_spb = number_tracks('Monday', 'Saint-Petersburg')\n",
    "\n",
    "# Вторая пара\n",
    "result_wednesday_moscow = number_tracks('Wednesday', 'Moscow')\n",
    "result_wednesday_spb = number_tracks('Wednesday', 'Saint-Petersburg')\n",
    "\n",
    "# Третья пара\n",
    "result_friday_moscow = number_tracks('Friday', 'Moscow')\n",
    "result_friday_spb = number_tracks('Friday', 'Saint-Petersburg')\n",
    "\n",
    "# Вывод результатов\n",
    "print(result_monday_moscow)\n",
    "\n",
    "# количество прослушиваний в Москве по понедельникам"
   ]
  },
  {
   "cell_type": "code",
   "execution_count": null,
   "metadata": {
    "deletable": false,
    "id": "hq_ncZ5T_Zcu"
   },
   "outputs": [],
   "source": [
    "print(result_monday_spb)\n",
    "\n",
    "# количество прослушиваний в Санкт-Петербурге по понедельникам"
   ]
  },
  {
   "cell_type": "code",
   "execution_count": null,
   "metadata": {
    "deletable": false,
    "id": "_NTy2VPU_Zcu"
   },
   "outputs": [],
   "source": [
    "print(result_wednesday_moscow)\n",
    "\n",
    "# количество прослушиваний в Москве по средам"
   ]
  },
  {
   "cell_type": "code",
   "execution_count": null,
   "metadata": {
    "deletable": false,
    "id": "j2y3TAwo_Zcu"
   },
   "outputs": [],
   "source": [
    "print(result_wednesday_spb)\n",
    "\n",
    "# количество прослушиваний в Санкт-Петербурге по средам"
   ]
  },
  {
   "cell_type": "code",
   "execution_count": null,
   "metadata": {
    "deletable": false,
    "id": "vYDw5u_K_Zcu"
   },
   "outputs": [],
   "source": [
    "print(result_friday_moscow)\n",
    "\n",
    "# количество прослушиваний в Москве по пятницам"
   ]
  },
  {
   "cell_type": "code",
   "execution_count": null,
   "metadata": {
    "deletable": false,
    "id": "8_yzFtW3_Zcu"
   },
   "outputs": [],
   "source": [
    "print(result_friday_spb)\n",
    "\n",
    "# количество прослушиваний в Санкт-Петербурге по пятницам"
   ]
  },
  {
   "cell_type": "markdown",
   "metadata": {
    "deletable": false,
    "editable": false,
    "id": "7QXffbO-_Zcu",
    "tags": [
     "start_task"
    ]
   },
   "source": [
    "**Задание 22**"
   ]
  },
  {
   "cell_type": "code",
   "execution_count": null,
   "metadata": {
    "deletable": false,
    "id": "APAcLpOr_Zcu"
   },
   "outputs": [],
   "source": [
    "import pandas as pd\n",
    "\n",
    "# Создание таблицы info\n",
    "info_data = {\n",
    "    'city': ['Moscow', 'Saint-Petersburg'],\n",
    "    'monday': [result_monday_moscow, result_monday_spb],\n",
    "    'wednesday': [result_wednesday_moscow, result_wednesday_spb],\n",
    "    'friday': [result_friday_moscow, result_friday_spb]\n",
    "}\n",
    "\n",
    "info = pd.DataFrame(info_data)\n",
    "\n",
    "# Вывод таблицы на экран\n",
    "print(info)"
   ]
  },
  {
   "cell_type": "markdown",
   "metadata": {
    "deletable": false,
    "editable": false,
    "id": "-EgPIHYu_Zcu"
   },
   "source": [
    "**Выводы**\n",
    "\n",
    "Данные показывают разницу поведения пользователей:\n",
    "\n",
    "- В Москве пик прослушиваний приходится на понедельник и пятницу, а в среду заметен спад.\n",
    "- В Петербурге, наоборот, больше слушают музыку по средам. Активность в понедельник и пятницу здесь почти в равной мере уступает среде.\n",
    "\n",
    "Значит, данные говорят в пользу первой гипотезы."
   ]
  },
  {
   "cell_type": "markdown",
   "metadata": {
    "deletable": false,
    "editable": false,
    "id": "atZAxtq4_Zcu"
   },
   "source": [
    "### Музыка в начале и в конце недели"
   ]
  },
  {
   "cell_type": "markdown",
   "metadata": {
    "deletable": false,
    "editable": false,
    "id": "eXrQqXFH_Zcu"
   },
   "source": [
    "Согласно второй гипотезе, утром в понедельник в Москве преобладают одни жанры, а в Петербурге — другие. Так же и вечером пятницы преобладают разные жанры — в зависимости от города."
   ]
  },
  {
   "cell_type": "markdown",
   "metadata": {
    "deletable": false,
    "editable": false,
    "id": "S8UcW6Hw_Zcu",
    "tags": [
     "start_task"
    ]
   },
   "source": [
    "**Задание 23**"
   ]
  },
  {
   "cell_type": "code",
   "execution_count": null,
   "metadata": {
    "deletable": false,
    "id": "qeaFfM_P_Zcu"
   },
   "outputs": [],
   "source": [
    "# Таблица для Москвы\n",
    "moscow_general = df[df['city'] == 'Moscow']\n",
    "\n",
    "# получение таблицы moscow_general из тех строк таблицы df, для которых значение в столбце 'city' равно 'Moscow'\n"
   ]
  },
  {
   "cell_type": "code",
   "execution_count": null,
   "metadata": {
    "deletable": false,
    "id": "ORaVRKto_Zcu"
   },
   "outputs": [],
   "source": [
    "# Таблица для Санкт-Петербурга\n",
    "spb_general = df[df['city'] == 'Saint-Petersburg']\n",
    "\n",
    "# получение таблицы spb_general из тех строк таблицы df, для которых значение в столбце 'city' равно 'Saint-Petersburg'\n"
   ]
  },
  {
   "cell_type": "markdown",
   "metadata": {
    "deletable": false,
    "editable": false,
    "id": "MEJV-CX2_Zcu",
    "tags": [
     "start_task"
    ]
   },
   "source": [
    "**Задание 24**"
   ]
  },
  {
   "cell_type": "code",
   "execution_count": null,
   "metadata": {
    "deletable": false,
    "id": "laJT9BYl_Zcu"
   },
   "outputs": [],
   "source": [
    "def genre_weekday(df, day, time1, time2):\n",
    "    # Последовательная фильтрация\n",
    "    # Оставляем только строки, где день равен указанному дню\n",
    "    genre_df = df[df['day'] == day]\n",
    "    \n",
    "    # Оставляем только строки, где время меньше time2\n",
    "    genre_df = genre_df[genre_df['time'] < time2]\n",
    "    \n",
    "    # Оставляем только строки, где время больше time1\n",
    "    genre_df = genre_df[genre_df['time'] > time1]\n",
    "    \n",
    "    # Группировка отфильтрованных данных по жанрам и подсчет количества треков для каждого жанра\n",
    "    genre_df_grouped = genre_df.groupby('genre')['track'].count()\n",
    "    \n",
    "    # Сортировка результатов по убыванию\n",
    "    genre_df_sorted = genre_df_grouped.sort_values(ascending=False)\n",
    "    \n",
    "    # Возвращение Series с 10 самыми популярными жанрами в указанный отрезок времени заданного дня\n",
    "    return genre_df_sorted[:10]\n"
   ]
  },
  {
   "cell_type": "markdown",
   "metadata": {
    "deletable": false,
    "editable": false,
    "id": "la2s2_PF_Zcu",
    "tags": [
     "start_task"
    ]
   },
   "source": [
    "**Задание 25**"
   ]
  },
  {
   "cell_type": "code",
   "execution_count": null,
   "metadata": {
    "deletable": false,
    "id": "yz7itPUQ_Zcu"
   },
   "outputs": [],
   "source": [
    "# Вызов функции для Москвы в понедельник утром\n",
    "result_moscow_monday_morning = genre_weekday(moscow_general, 'Monday', '07:00', '11:00')\n",
    "print(result_moscow_monday_morning)\n",
    "\n",
    "# вызов функции для утра понедельника в Москве (вместо df — таблица moscow_general)"
   ]
  },
  {
   "cell_type": "code",
   "execution_count": 3,
   "metadata": {
    "deletable": false,
    "id": "kwUcHPdy_Zcu"
   },
   "outputs": [],
   "source": [
    "# Вызов функции для Санкт-Петербурга в понедельник утром\n",
    "result_spb_monday_morning = genre_weekday(spb_general, 'Monday', '07:00', '11:00')\n",
    "print(result_spb_monday_morning)\n",
    "\n",
    "# вызов функции для утра понедельника в Петербурге (вместо df — таблица spb_general)"
   ]
  },
  {
   "cell_type": "code",
   "execution_count": null,
   "metadata": {
    "deletable": false,
    "id": "EzXVRE1o_Zcu"
   },
   "outputs": [],
   "source": [
    "# Вызов функции для Москвы в пятницу вечером\n",
    "result_moscow_friday_evening = genre_weekday(moscow_general, 'Friday', '17:00', '23:00')\n",
    "print(result_moscow_friday_evening)\n",
    "\n",
    "# вызов функции для вечера пятницы в Москве"
   ]
  },
  {
   "cell_type": "code",
   "execution_count": null,
   "metadata": {
    "deletable": false,
    "id": "JZaEKu5v_Zcu"
   },
   "outputs": [],
   "source": [
    "# Вызов функции для Санкт-Петербурга в пятницу вечером\n",
    "result_spb_friday_evening = genre_weekday(spb_general, 'Friday', '17:00', '23:00')\n",
    "print(result_spb_friday_evening)\n",
    "\n",
    "# вызов функции для вечера пятницы в Петербурге"
   ]
  },
  {
   "cell_type": "markdown",
   "metadata": {
    "deletable": false,
    "editable": false,
    "id": "wrCe4MNX_Zcu"
   },
   "source": [
    "**Выводы**\n",
    "\n",
    "Если сравнить топ-10 жанров в понедельник утром, можно сделать такие выводы:\n",
    "\n",
    "1. В Москве и Петербурге слушают похожую музыку. Единственное различие — в московский рейтинг вошёл жанр “world”, а в петербургский — джаз и классика.\n",
    "\n",
    "2. В Москве пропущенных значений оказалось так много, что значение `'unknown'` заняло десятое место среди самых популярных жанров. Значит, пропущенные значения занимают существенную долю в данных и угрожают достоверности исследования.\n",
    "\n",
    "Вечер пятницы не меняет эту картину. Некоторые жанры поднимаются немного выше, другие спускаются, но в целом топ-10 остаётся тем же самым.\n",
    "\n",
    "Таким образом, вторая гипотеза подтвердилась лишь частично:\n",
    "* Пользователи слушают похожую музыку в начале недели и в конце.\n",
    "* Разница между Москвой и Петербургом не слишком выражена. В Москве чаще слушают русскую популярную музыку, в Петербурге — джаз.\n",
    "\n",
    "Однако пропуски в данных ставят под сомнение этот результат. В Москве их так много, что рейтинг топ-10 мог бы выглядеть иначе, если бы не утерянные  данные о жанрах."
   ]
  },
  {
   "cell_type": "markdown",
   "metadata": {
    "deletable": false,
    "editable": false,
    "id": "JolODAqr_Zcu"
   },
   "source": [
    "### Жанровые предпочтения в Москве и Петербурге\n",
    "\n",
    "Гипотеза: Петербург — столица рэпа, музыку этого жанра там слушают чаще, чем в Москве.  А Москва — город контрастов, в котором, тем не менее, преобладает поп-музыка."
   ]
  },
  {
   "cell_type": "markdown",
   "metadata": {
    "deletable": false,
    "editable": false,
    "id": "DlegSvaT_Zcu",
    "tags": [
     "start_task"
    ]
   },
   "source": [
    "**Задание 26**"
   ]
  },
  {
   "cell_type": "code",
   "execution_count": 4,
   "metadata": {
    "deletable": false,
    "id": "r19lIPke_Zcu"
   },
   "outputs": [],
   "source": [
    "moscow_genres = moscow_general.groupby('genre')['genre'].count().sort_values(ascending=False)\n",
    "\n",
    "# одной строкой: группировка таблицы moscow_general по столбцу 'genre', выбор столбца `genre`, подсчёт числа значений 'genre' методом count(), сохранение в moscow_genres\n",
    "# сортировка получившегося Series в порядке убывания и сохранение обратно в moscow_genres"
   ]
  },
  {
   "cell_type": "markdown",
   "metadata": {
    "deletable": false,
    "editable": false,
    "id": "6kMuomxTiIr8",
    "tags": [
     "start_task"
    ]
   },
   "source": [
    "**Задание 27**"
   ]
  },
  {
   "cell_type": "code",
   "execution_count": null,
   "metadata": {
    "deletable": false,
    "id": "WhCSooF8_Zcv"
   },
   "outputs": [],
   "source": [
    "print(moscow_genres.head(10))\n",
    "# просмотр первых 10 строк moscow_genres"
   ]
  },
  {
   "cell_type": "markdown",
   "metadata": {
    "deletable": false,
    "editable": false,
    "id": "cnPG2vnN_Zcv",
    "tags": [
     "start_task"
    ]
   },
   "source": [
    "**Задание 28**"
   ]
  },
  {
   "cell_type": "code",
   "execution_count": null,
   "metadata": {
    "deletable": false,
    "id": "gluLIpE7_Zcv"
   },
   "outputs": [],
   "source": [
    "spb_genres = spb_general.groupby('genre')['genre'].count().sort_values(ascending=False)\n",
    "\n",
    "# одной строкой: группировка таблицы spb_general по столбцу 'genre', выбор столбца `genre`, подсчёт числа значений 'genre' методом count(), сохранение в spb_genres\n",
    "# сортировка получившегося Series в порядке убывания и сохранение обратно в spb_genres"
   ]
  },
  {
   "cell_type": "markdown",
   "metadata": {
    "deletable": false,
    "editable": false,
    "id": "5Doha_ODgyQ8",
    "tags": [
     "start_task"
    ]
   },
   "source": [
    "**Задание 29**"
   ]
  },
  {
   "cell_type": "code",
   "execution_count": null,
   "metadata": {
    "deletable": false,
    "id": "uaGJHjVU_Zcv"
   },
   "outputs": [],
   "source": [
    "print(spb_genres.head(10))\n",
    "# просмотр первых 10 строк spb_genres"
   ]
  },
  {
   "cell_type": "markdown",
   "metadata": {
    "deletable": false,
    "editable": false,
    "id": "RY51YJYu_Zcv"
   },
   "source": [
    "**Выводы**"
   ]
  },
  {
   "cell_type": "markdown",
   "metadata": {
    "deletable": false,
    "editable": false,
    "id": "nVhnJEm__Zcv"
   },
   "source": [
    "Гипотеза частично подтвердилась:\n",
    "* Поп-музыка — самый популярный жанр в Москве, как и предполагала гипотеза. Более того, в топ-10 жанров встречается близкий жанр — русская популярная музыка.\n",
    "* Вопреки ожиданиям, рэп одинаково популярен в Москве и Петербурге.\n"
   ]
  },
  {
   "cell_type": "markdown",
   "metadata": {
    "deletable": false,
    "editable": false,
    "id": "ykKQ0N65_Zcv"
   },
   "source": [
    "## Итоги исследования"
   ]
  },
  {
   "cell_type": "markdown",
   "metadata": {
    "deletable": false,
    "editable": false,
    "id": "tjUwbHb3_Zcv"
   },
   "source": [
    "Вы проверили три гипотезы и установили:\n",
    "\n",
    "1. День недели по-разному влияет на активность пользователей в Москве и Петербурге.\n",
    "\n",
    "Первая гипотеза полностью подтвердилась.\n",
    "\n",
    "2. Музыкальные предпочтения не сильно меняются в течение недели — будь то Москва или Петербург. Небольшие различия заметны в начале недели, по понедельникам:\n",
    "* в Москве слушают музыку жанра “world”,\n",
    "* в Петербурге — джаз и классику.\n",
    "\n",
    "Таким образом, вторая гипотеза подтвердилась лишь отчасти. Этот результат мог оказаться иным, если бы не пропуски в данных.\n",
    "\n",
    "3. Во вкусах пользователей Москвы и Петербурга больше общего, чем различий. Вопреки ожиданиям, предпочтения жанров в Петербурге напоминают московские.\n",
    "\n",
    "Третья гипотеза не подтвердилась. Если различия в предпочтениях и существуют, на основной массе пользователей они незаметны.\n",
    "\n",
    "**На практике исследования содержат проверки статистических гипотез.**\n",
    "Из части данных одного сервиса невозможно сделать какие-то выводы о всех пользователях сервиса без методов статистики.\n",
    "Проверки статистических гипотез покажут, насколько они достоверны, исходя из имеющихся данных.\n",
    "С методами проверок гипотез вы ещё познакомитесь в следующих темах."
   ]
  }
 ],
 "metadata": {
  "ExecuteTimeLog": [
   {
    "duration": 3,
    "start_time": "2024-01-31T19:42:31.372Z"
   },
   {
    "duration": 2,
    "start_time": "2024-01-31T19:50:16.745Z"
   },
   {
    "duration": 6,
    "start_time": "2024-01-31T19:50:20.003Z"
   },
   {
    "duration": 2,
    "start_time": "2024-01-31T19:53:35.143Z"
   }
  ],
  "celltoolbar": "Отсутствует",
  "colab": {
   "collapsed_sections": [
    "E0vqbgi9ay0H",
    "VUC88oWjTJw2"
   ],
   "provenance": []
  },
  "kernelspec": {
   "display_name": "Python 3 (ipykernel)",
   "language": "python",
   "name": "python3"
  },
  "language_info": {
   "codemirror_mode": {
    "name": "ipython",
    "version": 3
   },
   "file_extension": ".py",
   "mimetype": "text/x-python",
   "name": "python",
   "nbconvert_exporter": "python",
   "pygments_lexer": "ipython3",
   "version": "3.9.18"
  },
  "toc": {
   "base_numbering": 1,
   "nav_menu": {
    "height": "215px",
    "width": "403px"
   },
   "number_sections": true,
   "sideBar": true,
   "skip_h1_title": true,
   "title_cell": "Table of Contents",
   "title_sidebar": "Contents",
   "toc_cell": false,
   "toc_position": {
    "height": "calc(100% - 180px)",
    "left": "10px",
    "top": "150px",
    "width": "285.825px"
   },
   "toc_section_display": true,
   "toc_window_display": false
  },
  "varInspector": {
   "cols": {
    "lenName": 16,
    "lenType": 16,
    "lenVar": 40
   },
   "kernels_config": {
    "python": {
     "delete_cmd_postfix": "",
     "delete_cmd_prefix": "del ",
     "library": "var_list.py",
     "varRefreshCmd": "print(var_dic_list())"
    },
    "r": {
     "delete_cmd_postfix": ") ",
     "delete_cmd_prefix": "rm(",
     "library": "var_list.r",
     "varRefreshCmd": "cat(var_dic_list()) "
    }
   },
   "types_to_exclude": [
    "module",
    "function",
    "builtin_function_or_method",
    "instance",
    "_Feature"
   ],
   "window_display": false
  }
 },
 "nbformat": 4,
 "nbformat_minor": 1
}
