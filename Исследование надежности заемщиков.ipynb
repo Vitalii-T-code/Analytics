{
 "cells": [
  {
   "cell_type": "markdown",
   "id": "813b4843",
   "metadata": {
    "deletable": false,
    "editable": false,
    "id": "c81daeeb"
   },
   "source": [
    "# Исследование надежности заемщиков\n"
   ]
  },
  {
   "cell_type": "markdown",
   "id": "18d1b1db",
   "metadata": {
    "deletable": false,
    "editable": false,
    "id": "827c20bf"
   },
   "source": [
    "Во второй части проекта вы выполните шаги 3 и 4. Их вручную проверит ревьюер.\n",
    "Чтобы вам не пришлось писать код заново для шагов 1 и 2, мы добавили авторские решения в ячейки с кодом. \n",
    "\n"
   ]
  },
  {
   "cell_type": "markdown",
   "id": "335b8255",
   "metadata": {
    "deletable": false,
    "editable": false,
    "id": "744d7639"
   },
   "source": [
    "## Откройте таблицу и изучите общую информацию о данных"
   ]
  },
  {
   "cell_type": "markdown",
   "id": "bc60436b",
   "metadata": {
    "deletable": false,
    "editable": false,
    "id": "e7a14c31"
   },
   "source": [
    "**Задание 1. Импортируйте библиотеку pandas. Считайте данные из csv-файла в датафрейм и сохраните в переменную `data`. Путь к файлу:**\n",
    "\n",
    "`/datasets/data.csv`"
   ]
  },
  {
   "cell_type": "code",
   "execution_count": 1,
   "id": "ec418759",
   "metadata": {
    "deletable": false,
    "id": "7bcf75c9"
   },
   "outputs": [],
   "source": [
    "import pandas as pd\n",
    "import seaborn as sns\n",
    "import matplotlib.pyplot as plt\n",
    "from scipy.stats import chi2_contingency\n",
    "\n",
    "try:\n",
    "    data = pd.read_csv('/datasets/data.csv')\n",
    "except:\n",
    "    data = pd.read_csv('https://code.s3.yandex.net/datasets/data.csv')"
   ]
  },
  {
   "cell_type": "markdown",
   "id": "273c2e43",
   "metadata": {
    "deletable": false,
    "editable": false,
    "id": "b8038fe3"
   },
   "source": [
    "**Задание 2. Выведите первые 20 строчек датафрейма `data` на экран.**"
   ]
  },
  {
   "cell_type": "code",
   "execution_count": 2,
   "id": "ce34e263",
   "metadata": {
    "deletable": false,
    "id": "2a7cab99",
    "outputId": "1a8f3ef2-d323-4ec2-ddf7-89670b5944c4"
   },
   "outputs": [
    {
     "data": {
      "text/html": [
       "<div>\n",
       "<style scoped>\n",
       "    .dataframe tbody tr th:only-of-type {\n",
       "        vertical-align: middle;\n",
       "    }\n",
       "\n",
       "    .dataframe tbody tr th {\n",
       "        vertical-align: top;\n",
       "    }\n",
       "\n",
       "    .dataframe thead th {\n",
       "        text-align: right;\n",
       "    }\n",
       "</style>\n",
       "<table border=\"1\" class=\"dataframe\">\n",
       "  <thead>\n",
       "    <tr style=\"text-align: right;\">\n",
       "      <th></th>\n",
       "      <th>children</th>\n",
       "      <th>days_employed</th>\n",
       "      <th>dob_years</th>\n",
       "      <th>education</th>\n",
       "      <th>education_id</th>\n",
       "      <th>family_status</th>\n",
       "      <th>family_status_id</th>\n",
       "      <th>gender</th>\n",
       "      <th>income_type</th>\n",
       "      <th>debt</th>\n",
       "      <th>total_income</th>\n",
       "      <th>purpose</th>\n",
       "    </tr>\n",
       "  </thead>\n",
       "  <tbody>\n",
       "    <tr>\n",
       "      <th>0</th>\n",
       "      <td>1</td>\n",
       "      <td>-8437.673028</td>\n",
       "      <td>42</td>\n",
       "      <td>высшее</td>\n",
       "      <td>0</td>\n",
       "      <td>женат / замужем</td>\n",
       "      <td>0</td>\n",
       "      <td>F</td>\n",
       "      <td>сотрудник</td>\n",
       "      <td>0</td>\n",
       "      <td>253875.639453</td>\n",
       "      <td>покупка жилья</td>\n",
       "    </tr>\n",
       "    <tr>\n",
       "      <th>1</th>\n",
       "      <td>1</td>\n",
       "      <td>-4024.803754</td>\n",
       "      <td>36</td>\n",
       "      <td>среднее</td>\n",
       "      <td>1</td>\n",
       "      <td>женат / замужем</td>\n",
       "      <td>0</td>\n",
       "      <td>F</td>\n",
       "      <td>сотрудник</td>\n",
       "      <td>0</td>\n",
       "      <td>112080.014102</td>\n",
       "      <td>приобретение автомобиля</td>\n",
       "    </tr>\n",
       "    <tr>\n",
       "      <th>2</th>\n",
       "      <td>0</td>\n",
       "      <td>-5623.422610</td>\n",
       "      <td>33</td>\n",
       "      <td>Среднее</td>\n",
       "      <td>1</td>\n",
       "      <td>женат / замужем</td>\n",
       "      <td>0</td>\n",
       "      <td>M</td>\n",
       "      <td>сотрудник</td>\n",
       "      <td>0</td>\n",
       "      <td>145885.952297</td>\n",
       "      <td>покупка жилья</td>\n",
       "    </tr>\n",
       "    <tr>\n",
       "      <th>3</th>\n",
       "      <td>3</td>\n",
       "      <td>-4124.747207</td>\n",
       "      <td>32</td>\n",
       "      <td>среднее</td>\n",
       "      <td>1</td>\n",
       "      <td>женат / замужем</td>\n",
       "      <td>0</td>\n",
       "      <td>M</td>\n",
       "      <td>сотрудник</td>\n",
       "      <td>0</td>\n",
       "      <td>267628.550329</td>\n",
       "      <td>дополнительное образование</td>\n",
       "    </tr>\n",
       "    <tr>\n",
       "      <th>4</th>\n",
       "      <td>0</td>\n",
       "      <td>340266.072047</td>\n",
       "      <td>53</td>\n",
       "      <td>среднее</td>\n",
       "      <td>1</td>\n",
       "      <td>гражданский брак</td>\n",
       "      <td>1</td>\n",
       "      <td>F</td>\n",
       "      <td>пенсионер</td>\n",
       "      <td>0</td>\n",
       "      <td>158616.077870</td>\n",
       "      <td>сыграть свадьбу</td>\n",
       "    </tr>\n",
       "    <tr>\n",
       "      <th>5</th>\n",
       "      <td>0</td>\n",
       "      <td>-926.185831</td>\n",
       "      <td>27</td>\n",
       "      <td>высшее</td>\n",
       "      <td>0</td>\n",
       "      <td>гражданский брак</td>\n",
       "      <td>1</td>\n",
       "      <td>M</td>\n",
       "      <td>компаньон</td>\n",
       "      <td>0</td>\n",
       "      <td>255763.565419</td>\n",
       "      <td>покупка жилья</td>\n",
       "    </tr>\n",
       "    <tr>\n",
       "      <th>6</th>\n",
       "      <td>0</td>\n",
       "      <td>-2879.202052</td>\n",
       "      <td>43</td>\n",
       "      <td>высшее</td>\n",
       "      <td>0</td>\n",
       "      <td>женат / замужем</td>\n",
       "      <td>0</td>\n",
       "      <td>F</td>\n",
       "      <td>компаньон</td>\n",
       "      <td>0</td>\n",
       "      <td>240525.971920</td>\n",
       "      <td>операции с жильем</td>\n",
       "    </tr>\n",
       "    <tr>\n",
       "      <th>7</th>\n",
       "      <td>0</td>\n",
       "      <td>-152.779569</td>\n",
       "      <td>50</td>\n",
       "      <td>СРЕДНЕЕ</td>\n",
       "      <td>1</td>\n",
       "      <td>женат / замужем</td>\n",
       "      <td>0</td>\n",
       "      <td>M</td>\n",
       "      <td>сотрудник</td>\n",
       "      <td>0</td>\n",
       "      <td>135823.934197</td>\n",
       "      <td>образование</td>\n",
       "    </tr>\n",
       "    <tr>\n",
       "      <th>8</th>\n",
       "      <td>2</td>\n",
       "      <td>-6929.865299</td>\n",
       "      <td>35</td>\n",
       "      <td>ВЫСШЕЕ</td>\n",
       "      <td>0</td>\n",
       "      <td>гражданский брак</td>\n",
       "      <td>1</td>\n",
       "      <td>F</td>\n",
       "      <td>сотрудник</td>\n",
       "      <td>0</td>\n",
       "      <td>95856.832424</td>\n",
       "      <td>на проведение свадьбы</td>\n",
       "    </tr>\n",
       "    <tr>\n",
       "      <th>9</th>\n",
       "      <td>0</td>\n",
       "      <td>-2188.756445</td>\n",
       "      <td>41</td>\n",
       "      <td>среднее</td>\n",
       "      <td>1</td>\n",
       "      <td>женат / замужем</td>\n",
       "      <td>0</td>\n",
       "      <td>M</td>\n",
       "      <td>сотрудник</td>\n",
       "      <td>0</td>\n",
       "      <td>144425.938277</td>\n",
       "      <td>покупка жилья для семьи</td>\n",
       "    </tr>\n",
       "    <tr>\n",
       "      <th>10</th>\n",
       "      <td>2</td>\n",
       "      <td>-4171.483647</td>\n",
       "      <td>36</td>\n",
       "      <td>высшее</td>\n",
       "      <td>0</td>\n",
       "      <td>женат / замужем</td>\n",
       "      <td>0</td>\n",
       "      <td>M</td>\n",
       "      <td>компаньон</td>\n",
       "      <td>0</td>\n",
       "      <td>113943.491460</td>\n",
       "      <td>покупка недвижимости</td>\n",
       "    </tr>\n",
       "    <tr>\n",
       "      <th>11</th>\n",
       "      <td>0</td>\n",
       "      <td>-792.701887</td>\n",
       "      <td>40</td>\n",
       "      <td>среднее</td>\n",
       "      <td>1</td>\n",
       "      <td>женат / замужем</td>\n",
       "      <td>0</td>\n",
       "      <td>F</td>\n",
       "      <td>сотрудник</td>\n",
       "      <td>0</td>\n",
       "      <td>77069.234271</td>\n",
       "      <td>покупка коммерческой недвижимости</td>\n",
       "    </tr>\n",
       "    <tr>\n",
       "      <th>12</th>\n",
       "      <td>0</td>\n",
       "      <td>NaN</td>\n",
       "      <td>65</td>\n",
       "      <td>среднее</td>\n",
       "      <td>1</td>\n",
       "      <td>гражданский брак</td>\n",
       "      <td>1</td>\n",
       "      <td>M</td>\n",
       "      <td>пенсионер</td>\n",
       "      <td>0</td>\n",
       "      <td>NaN</td>\n",
       "      <td>сыграть свадьбу</td>\n",
       "    </tr>\n",
       "    <tr>\n",
       "      <th>13</th>\n",
       "      <td>0</td>\n",
       "      <td>-1846.641941</td>\n",
       "      <td>54</td>\n",
       "      <td>неоконченное высшее</td>\n",
       "      <td>2</td>\n",
       "      <td>женат / замужем</td>\n",
       "      <td>0</td>\n",
       "      <td>F</td>\n",
       "      <td>сотрудник</td>\n",
       "      <td>0</td>\n",
       "      <td>130458.228857</td>\n",
       "      <td>приобретение автомобиля</td>\n",
       "    </tr>\n",
       "    <tr>\n",
       "      <th>14</th>\n",
       "      <td>0</td>\n",
       "      <td>-1844.956182</td>\n",
       "      <td>56</td>\n",
       "      <td>высшее</td>\n",
       "      <td>0</td>\n",
       "      <td>гражданский брак</td>\n",
       "      <td>1</td>\n",
       "      <td>F</td>\n",
       "      <td>компаньон</td>\n",
       "      <td>1</td>\n",
       "      <td>165127.911772</td>\n",
       "      <td>покупка жилой недвижимости</td>\n",
       "    </tr>\n",
       "    <tr>\n",
       "      <th>15</th>\n",
       "      <td>1</td>\n",
       "      <td>-972.364419</td>\n",
       "      <td>26</td>\n",
       "      <td>среднее</td>\n",
       "      <td>1</td>\n",
       "      <td>женат / замужем</td>\n",
       "      <td>0</td>\n",
       "      <td>F</td>\n",
       "      <td>сотрудник</td>\n",
       "      <td>0</td>\n",
       "      <td>116820.904450</td>\n",
       "      <td>строительство собственной недвижимости</td>\n",
       "    </tr>\n",
       "    <tr>\n",
       "      <th>16</th>\n",
       "      <td>0</td>\n",
       "      <td>-1719.934226</td>\n",
       "      <td>35</td>\n",
       "      <td>среднее</td>\n",
       "      <td>1</td>\n",
       "      <td>женат / замужем</td>\n",
       "      <td>0</td>\n",
       "      <td>F</td>\n",
       "      <td>сотрудник</td>\n",
       "      <td>0</td>\n",
       "      <td>289202.704229</td>\n",
       "      <td>недвижимость</td>\n",
       "    </tr>\n",
       "    <tr>\n",
       "      <th>17</th>\n",
       "      <td>0</td>\n",
       "      <td>-2369.999720</td>\n",
       "      <td>33</td>\n",
       "      <td>высшее</td>\n",
       "      <td>0</td>\n",
       "      <td>гражданский брак</td>\n",
       "      <td>1</td>\n",
       "      <td>M</td>\n",
       "      <td>сотрудник</td>\n",
       "      <td>0</td>\n",
       "      <td>90410.586745</td>\n",
       "      <td>строительство недвижимости</td>\n",
       "    </tr>\n",
       "    <tr>\n",
       "      <th>18</th>\n",
       "      <td>0</td>\n",
       "      <td>400281.136913</td>\n",
       "      <td>53</td>\n",
       "      <td>среднее</td>\n",
       "      <td>1</td>\n",
       "      <td>вдовец / вдова</td>\n",
       "      <td>2</td>\n",
       "      <td>F</td>\n",
       "      <td>пенсионер</td>\n",
       "      <td>0</td>\n",
       "      <td>56823.777243</td>\n",
       "      <td>на покупку подержанного автомобиля</td>\n",
       "    </tr>\n",
       "    <tr>\n",
       "      <th>19</th>\n",
       "      <td>0</td>\n",
       "      <td>-10038.818549</td>\n",
       "      <td>48</td>\n",
       "      <td>СРЕДНЕЕ</td>\n",
       "      <td>1</td>\n",
       "      <td>в разводе</td>\n",
       "      <td>3</td>\n",
       "      <td>F</td>\n",
       "      <td>сотрудник</td>\n",
       "      <td>0</td>\n",
       "      <td>242831.107982</td>\n",
       "      <td>на покупку своего автомобиля</td>\n",
       "    </tr>\n",
       "  </tbody>\n",
       "</table>\n",
       "</div>"
      ],
      "text/plain": [
       "    children  days_employed  dob_years            education  education_id  \\\n",
       "0          1   -8437.673028         42               высшее             0   \n",
       "1          1   -4024.803754         36              среднее             1   \n",
       "2          0   -5623.422610         33              Среднее             1   \n",
       "3          3   -4124.747207         32              среднее             1   \n",
       "4          0  340266.072047         53              среднее             1   \n",
       "5          0    -926.185831         27               высшее             0   \n",
       "6          0   -2879.202052         43               высшее             0   \n",
       "7          0    -152.779569         50              СРЕДНЕЕ             1   \n",
       "8          2   -6929.865299         35               ВЫСШЕЕ             0   \n",
       "9          0   -2188.756445         41              среднее             1   \n",
       "10         2   -4171.483647         36               высшее             0   \n",
       "11         0    -792.701887         40              среднее             1   \n",
       "12         0            NaN         65              среднее             1   \n",
       "13         0   -1846.641941         54  неоконченное высшее             2   \n",
       "14         0   -1844.956182         56               высшее             0   \n",
       "15         1    -972.364419         26              среднее             1   \n",
       "16         0   -1719.934226         35              среднее             1   \n",
       "17         0   -2369.999720         33               высшее             0   \n",
       "18         0  400281.136913         53              среднее             1   \n",
       "19         0  -10038.818549         48              СРЕДНЕЕ             1   \n",
       "\n",
       "       family_status  family_status_id gender income_type  debt  \\\n",
       "0    женат / замужем                 0      F   сотрудник     0   \n",
       "1    женат / замужем                 0      F   сотрудник     0   \n",
       "2    женат / замужем                 0      M   сотрудник     0   \n",
       "3    женат / замужем                 0      M   сотрудник     0   \n",
       "4   гражданский брак                 1      F   пенсионер     0   \n",
       "5   гражданский брак                 1      M   компаньон     0   \n",
       "6    женат / замужем                 0      F   компаньон     0   \n",
       "7    женат / замужем                 0      M   сотрудник     0   \n",
       "8   гражданский брак                 1      F   сотрудник     0   \n",
       "9    женат / замужем                 0      M   сотрудник     0   \n",
       "10   женат / замужем                 0      M   компаньон     0   \n",
       "11   женат / замужем                 0      F   сотрудник     0   \n",
       "12  гражданский брак                 1      M   пенсионер     0   \n",
       "13   женат / замужем                 0      F   сотрудник     0   \n",
       "14  гражданский брак                 1      F   компаньон     1   \n",
       "15   женат / замужем                 0      F   сотрудник     0   \n",
       "16   женат / замужем                 0      F   сотрудник     0   \n",
       "17  гражданский брак                 1      M   сотрудник     0   \n",
       "18    вдовец / вдова                 2      F   пенсионер     0   \n",
       "19         в разводе                 3      F   сотрудник     0   \n",
       "\n",
       "     total_income                                 purpose  \n",
       "0   253875.639453                           покупка жилья  \n",
       "1   112080.014102                 приобретение автомобиля  \n",
       "2   145885.952297                           покупка жилья  \n",
       "3   267628.550329              дополнительное образование  \n",
       "4   158616.077870                         сыграть свадьбу  \n",
       "5   255763.565419                           покупка жилья  \n",
       "6   240525.971920                       операции с жильем  \n",
       "7   135823.934197                             образование  \n",
       "8    95856.832424                   на проведение свадьбы  \n",
       "9   144425.938277                 покупка жилья для семьи  \n",
       "10  113943.491460                    покупка недвижимости  \n",
       "11   77069.234271       покупка коммерческой недвижимости  \n",
       "12            NaN                         сыграть свадьбу  \n",
       "13  130458.228857                 приобретение автомобиля  \n",
       "14  165127.911772              покупка жилой недвижимости  \n",
       "15  116820.904450  строительство собственной недвижимости  \n",
       "16  289202.704229                            недвижимость  \n",
       "17   90410.586745              строительство недвижимости  \n",
       "18   56823.777243      на покупку подержанного автомобиля  \n",
       "19  242831.107982            на покупку своего автомобиля  "
      ]
     },
     "execution_count": 2,
     "metadata": {},
     "output_type": "execute_result"
    }
   ],
   "source": [
    "data.head(20)"
   ]
  },
  {
   "cell_type": "markdown",
   "id": "689d5f6d",
   "metadata": {
    "deletable": false,
    "editable": false,
    "id": "1c12e233"
   },
   "source": [
    "**Задание 3. Выведите основную информацию о датафрейме с помощью метода `info()`.**"
   ]
  },
  {
   "cell_type": "code",
   "execution_count": 3,
   "id": "53a7942e",
   "metadata": {
    "deletable": false,
    "id": "2b757bca",
    "outputId": "15376089-8dad-46c9-b520-c05248d43158"
   },
   "outputs": [
    {
     "name": "stdout",
     "output_type": "stream",
     "text": [
      "<class 'pandas.core.frame.DataFrame'>\n",
      "RangeIndex: 21525 entries, 0 to 21524\n",
      "Data columns (total 12 columns):\n",
      " #   Column            Non-Null Count  Dtype  \n",
      "---  ------            --------------  -----  \n",
      " 0   children          21525 non-null  int64  \n",
      " 1   days_employed     19351 non-null  float64\n",
      " 2   dob_years         21525 non-null  int64  \n",
      " 3   education         21525 non-null  object \n",
      " 4   education_id      21525 non-null  int64  \n",
      " 5   family_status     21525 non-null  object \n",
      " 6   family_status_id  21525 non-null  int64  \n",
      " 7   gender            21525 non-null  object \n",
      " 8   income_type       21525 non-null  object \n",
      " 9   debt              21525 non-null  int64  \n",
      " 10  total_income      19351 non-null  float64\n",
      " 11  purpose           21525 non-null  object \n",
      "dtypes: float64(2), int64(5), object(5)\n",
      "memory usage: 2.0+ MB\n"
     ]
    }
   ],
   "source": [
    "data.info()"
   ]
  },
  {
   "cell_type": "markdown",
   "id": "e6da79ee",
   "metadata": {
    "deletable": false,
    "editable": false,
    "id": "333ec665"
   },
   "source": [
    "## Предобработка данных"
   ]
  },
  {
   "cell_type": "markdown",
   "id": "2e6632cf",
   "metadata": {
    "deletable": false,
    "editable": false,
    "id": "02d92d53"
   },
   "source": [
    "### Удаление пропусков"
   ]
  },
  {
   "cell_type": "markdown",
   "id": "4481255c",
   "metadata": {
    "deletable": false,
    "editable": false,
    "id": "cd84967c"
   },
   "source": [
    "**Задание 4. Выведите количество пропущенных значений для каждого столбца. Используйте комбинацию двух методов.**"
   ]
  },
  {
   "cell_type": "code",
   "execution_count": 4,
   "id": "a690aea8",
   "metadata": {
    "deletable": false,
    "id": "7f9b2309",
    "outputId": "81f4d817-781c-465c-ed15-91ce4446810d"
   },
   "outputs": [
    {
     "data": {
      "text/plain": [
       "children               0\n",
       "days_employed       2174\n",
       "dob_years              0\n",
       "education              0\n",
       "education_id           0\n",
       "family_status          0\n",
       "family_status_id       0\n",
       "gender                 0\n",
       "income_type            0\n",
       "debt                   0\n",
       "total_income        2174\n",
       "purpose                0\n",
       "dtype: int64"
      ]
     },
     "execution_count": 4,
     "metadata": {},
     "output_type": "execute_result"
    }
   ],
   "source": [
    "data.isna().sum()"
   ]
  },
  {
   "cell_type": "markdown",
   "id": "e8f587f9",
   "metadata": {
    "deletable": false,
    "editable": false,
    "id": "db86e27b"
   },
   "source": [
    "**Задание 5. В двух столбцах есть пропущенные значения. Один из них — `days_employed`. Пропуски в этом столбце вы обработаете на следующем этапе. Другой столбец с пропущенными значениями — `total_income` — хранит данные о доходах. На сумму дохода сильнее всего влияет тип занятости, поэтому заполнить пропуски в этом столбце нужно медианным значением по каждому типу из столбца `income_type`. Например, у человека с типом занятости `сотрудник` пропуск в столбце `total_income` должен быть заполнен медианным доходом среди всех записей с тем же типом.**"
   ]
  },
  {
   "cell_type": "code",
   "execution_count": 5,
   "id": "593a339a",
   "metadata": {
    "deletable": false,
    "id": "42006a93"
   },
   "outputs": [],
   "source": [
    "for t in data['income_type'].unique():\n",
    "    data.loc[(data['income_type'] == t) & (data['total_income'].isna()), 'total_income'] = \\\n",
    "    data.loc[(data['income_type'] == t), 'total_income'].median()"
   ]
  },
  {
   "cell_type": "markdown",
   "id": "af16d50d",
   "metadata": {
    "deletable": false,
    "editable": false,
    "id": "89da5ece"
   },
   "source": [
    "### Обработка аномальных значений"
   ]
  },
  {
   "cell_type": "markdown",
   "id": "6fc0f0d3",
   "metadata": {
    "deletable": false,
    "editable": false,
    "id": "57964554"
   },
   "source": [
    "**Задание 6. В данных могут встречаться артефакты (аномалии) — значения, которые не отражают действительность и появились по какой-то ошибке. таким артефактом будет отрицательное количество дней трудового стажа в столбце `days_employed`. Для реальных данных это нормально. Обработайте значения в этом столбце: замените все отрицательные значения положительными с помощью метода `abs()`.**"
   ]
  },
  {
   "cell_type": "code",
   "execution_count": 6,
   "id": "aee32966",
   "metadata": {
    "deletable": false,
    "id": "f6f055bf"
   },
   "outputs": [],
   "source": [
    "data['days_employed'] = data['days_employed'].abs()"
   ]
  },
  {
   "cell_type": "markdown",
   "id": "5ae78cca",
   "metadata": {
    "deletable": false,
    "editable": false,
    "id": "6107dd2f"
   },
   "source": [
    "**Задание 7. Для каждого типа занятости выведите медианное значение трудового стажа `days_employed` в днях.**"
   ]
  },
  {
   "cell_type": "code",
   "execution_count": 7,
   "id": "98681ed2",
   "metadata": {
    "deletable": false,
    "id": "85a5faf6",
    "outputId": "801ef80e-522b-4668-f34e-565af7432bcf"
   },
   "outputs": [
    {
     "data": {
      "text/plain": [
       "income_type\n",
       "безработный        366413.652744\n",
       "в декрете            3296.759962\n",
       "госслужащий          2689.368353\n",
       "компаньон            1547.382223\n",
       "пенсионер          365213.306266\n",
       "предприниматель       520.848083\n",
       "сотрудник            1574.202821\n",
       "студент               578.751554\n",
       "Name: days_employed, dtype: float64"
      ]
     },
     "execution_count": 7,
     "metadata": {},
     "output_type": "execute_result"
    }
   ],
   "source": [
    "data.groupby('income_type')['days_employed'].agg('median')"
   ]
  },
  {
   "cell_type": "markdown",
   "id": "36412c6d",
   "metadata": {
    "deletable": false,
    "editable": false,
    "id": "38d1a030"
   },
   "source": [
    "У двух типов (безработные и пенсионеры) получатся аномально большие значения. Исправить такие значения сложно, поэтому оставьте их как есть. Тем более этот столбец не понадобится вам для исследования."
   ]
  },
  {
   "cell_type": "markdown",
   "id": "2a29381a",
   "metadata": {
    "deletable": false,
    "editable": false,
    "id": "d8a9f147"
   },
   "source": [
    "**Задание 8. Выведите перечень уникальных значений столбца `children`.**"
   ]
  },
  {
   "cell_type": "code",
   "execution_count": 8,
   "id": "26bdbc38",
   "metadata": {
    "deletable": false,
    "id": "ef5056eb",
    "outputId": "6975b15c-7f95-4697-d16d-a0c79b657b03"
   },
   "outputs": [
    {
     "data": {
      "text/plain": [
       "array([ 1,  0,  3,  2, -1,  4, 20,  5])"
      ]
     },
     "execution_count": 8,
     "metadata": {},
     "output_type": "execute_result"
    }
   ],
   "source": [
    "data['children'].unique()"
   ]
  },
  {
   "cell_type": "markdown",
   "id": "61de4c68",
   "metadata": {
    "deletable": false,
    "editable": false,
    "id": "40b9ebf2"
   },
   "source": [
    "**Задание 9. В столбце `children` есть два аномальных значения. Удалите строки, в которых встречаются такие аномальные значения из датафрейма `data`.**"
   ]
  },
  {
   "cell_type": "code",
   "execution_count": 9,
   "id": "b36f7424",
   "metadata": {
    "deletable": false,
    "id": "3ff9801d"
   },
   "outputs": [],
   "source": [
    "data = data[(data['children'] != -1) & (data['children'] != 20)]"
   ]
  },
  {
   "cell_type": "markdown",
   "id": "971e54a2",
   "metadata": {
    "deletable": false,
    "editable": false,
    "id": "bbc4d0ce"
   },
   "source": [
    "**Задание 10. Ещё раз выведите перечень уникальных значений столбца `children`, чтобы убедиться, что артефакты удалены.**"
   ]
  },
  {
   "cell_type": "code",
   "execution_count": 10,
   "id": "f1f83488",
   "metadata": {
    "deletable": false,
    "id": "ad4fa8b7",
    "outputId": "b2097101-d49d-44d9-901b-32a65c9463d1"
   },
   "outputs": [
    {
     "data": {
      "text/plain": [
       "array([1, 0, 3, 2, 4, 5])"
      ]
     },
     "execution_count": 10,
     "metadata": {},
     "output_type": "execute_result"
    }
   ],
   "source": [
    "data['children'].unique()"
   ]
  },
  {
   "cell_type": "markdown",
   "id": "c750fc1c",
   "metadata": {
    "deletable": false,
    "editable": false,
    "id": "75440b63"
   },
   "source": [
    "### Удаление пропусков (продолжение)"
   ]
  },
  {
   "cell_type": "markdown",
   "id": "aadfd7f2",
   "metadata": {
    "deletable": false,
    "editable": false,
    "id": "f4ea573f"
   },
   "source": [
    "**Задание 11. Заполните пропуски в столбце `days_employed` медианными значениями по каждого типа занятости `income_type`.**"
   ]
  },
  {
   "cell_type": "code",
   "execution_count": 11,
   "id": "69b81e61",
   "metadata": {
    "deletable": false,
    "id": "af6b1a7e"
   },
   "outputs": [],
   "source": [
    "for t in data['income_type'].unique():\n",
    "    data.loc[(data['income_type'] == t) & (data['days_employed'].isna()), 'days_employed'] = \\\n",
    "    data.loc[(data['income_type'] == t), 'days_employed'].median()"
   ]
  },
  {
   "cell_type": "markdown",
   "id": "9c3b19be",
   "metadata": {
    "deletable": false,
    "editable": false,
    "id": "2753f40d"
   },
   "source": [
    "**Задание 12. Убедитесь, что все пропуски заполнены. Проверьте себя и ещё раз выведите количество пропущенных значений для каждого столбца с помощью двух методов.**"
   ]
  },
  {
   "cell_type": "code",
   "execution_count": 12,
   "id": "4d30e7b0",
   "metadata": {
    "deletable": false,
    "id": "55f78bc2",
    "outputId": "8da1e4e1-358e-4e87-98c9-f261bce0a7b2"
   },
   "outputs": [
    {
     "data": {
      "text/plain": [
       "children            0\n",
       "days_employed       0\n",
       "dob_years           0\n",
       "education           0\n",
       "education_id        0\n",
       "family_status       0\n",
       "family_status_id    0\n",
       "gender              0\n",
       "income_type         0\n",
       "debt                0\n",
       "total_income        0\n",
       "purpose             0\n",
       "dtype: int64"
      ]
     },
     "execution_count": 12,
     "metadata": {},
     "output_type": "execute_result"
    }
   ],
   "source": [
    "data.isna().sum()"
   ]
  },
  {
   "cell_type": "markdown",
   "id": "46f38983",
   "metadata": {
    "deletable": false,
    "editable": false,
    "id": "ddc81e43"
   },
   "source": [
    "### Изменение типов данных"
   ]
  },
  {
   "cell_type": "markdown",
   "id": "08964ccf",
   "metadata": {
    "deletable": false,
    "editable": false,
    "id": "42d19d24"
   },
   "source": [
    "**Задание 13. Замените вещественный тип данных в столбце `total_income` на целочисленный с помощью метода `astype()`.**"
   ]
  },
  {
   "cell_type": "code",
   "execution_count": 13,
   "id": "6d8ee20d",
   "metadata": {
    "deletable": false,
    "id": "920b65ad"
   },
   "outputs": [],
   "source": [
    "data['total_income'] = data['total_income'].astype(int)"
   ]
  },
  {
   "cell_type": "markdown",
   "id": "95961cf7",
   "metadata": {
    "deletable": false,
    "editable": false,
    "id": "80c420ba"
   },
   "source": [
    "### Обработка дубликатов"
   ]
  },
  {
   "cell_type": "markdown",
   "id": "e47af216",
   "metadata": {
    "deletable": false,
    "editable": false
   },
   "source": [
    "**Задание 14. Обработайте неявные дубликаты в столбце `education`. В этом столбце есть одни и те же значения, но записанные по-разному: с использованием заглавных и строчных букв. Приведите их к нижнему регистру. Проверьте остальные столбцы.**"
   ]
  },
  {
   "cell_type": "code",
   "execution_count": 14,
   "id": "589b88ec",
   "metadata": {
    "deletable": false
   },
   "outputs": [],
   "source": [
    "data['education'] = data['education'].str.lower()"
   ]
  },
  {
   "cell_type": "markdown",
   "id": "3b4d9f81",
   "metadata": {
    "deletable": false,
    "editable": false,
    "id": "dc587695"
   },
   "source": [
    "**Задание 15. Выведите на экран количество строк-дубликатов в данных. Если такие строки присутствуют, удалите их.**"
   ]
  },
  {
   "cell_type": "code",
   "execution_count": 15,
   "id": "0ea37e94",
   "metadata": {
    "deletable": false,
    "id": "3ee445e4",
    "outputId": "9684deba-1934-42d1-99e1-cda61740f822"
   },
   "outputs": [
    {
     "data": {
      "text/plain": [
       "71"
      ]
     },
     "execution_count": 15,
     "metadata": {},
     "output_type": "execute_result"
    }
   ],
   "source": [
    "data.duplicated().sum()"
   ]
  },
  {
   "cell_type": "code",
   "execution_count": 16,
   "id": "f4751e21",
   "metadata": {
    "deletable": false,
    "id": "8575fe05"
   },
   "outputs": [],
   "source": [
    "data = data.drop_duplicates()"
   ]
  },
  {
   "cell_type": "markdown",
   "id": "1a9f7d3d",
   "metadata": {
    "deletable": false,
    "editable": false,
    "id": "9904cf55"
   },
   "source": [
    "### Категоризация данных"
   ]
  },
  {
   "cell_type": "markdown",
   "id": "4b261344",
   "metadata": {
    "deletable": false,
    "editable": false,
    "id": "72fcc8a2"
   },
   "source": [
    "**Задание 16. На основании диапазонов, указанных ниже, создайте в датафрейме `data` столбец `total_income_category` с категориями:**\n",
    "\n",
    "- 0–30000 — `'E'`;\n",
    "- 30001–50000 — `'D'`;\n",
    "- 50001–200000 — `'C'`;\n",
    "- 200001–1000000 — `'B'`;\n",
    "- 1000001 и выше — `'A'`.\n",
    "\n",
    "\n",
    "**Например, кредитополучателю с доходом 25000 нужно назначить категорию `'E'`, а клиенту, получающему 235000, — `'B'`. Используйте собственную функцию с именем `categorize_income()` и метод `apply()`.**"
   ]
  },
  {
   "cell_type": "code",
   "execution_count": 17,
   "id": "844d71c6",
   "metadata": {
    "deletable": false,
    "id": "e1771346"
   },
   "outputs": [],
   "source": [
    "def categorize_income(income):\n",
    "    if 0 <= income <= 30000:\n",
    "        return 'E'\n",
    "    elif 30001 <= income <= 50000:\n",
    "        return 'D'\n",
    "    elif 50001 <= income <= 200000:\n",
    "        return 'C'\n",
    "    elif 200001 <= income <= 1000000:\n",
    "        return 'B'\n",
    "    elif income >= 1000001:\n",
    "        return 'A'\n",
    "    return 'Укажите корректный доход'"
   ]
  },
  {
   "cell_type": "code",
   "execution_count": 18,
   "id": "015ce2a6",
   "metadata": {
    "deletable": false,
    "id": "d5f3586d"
   },
   "outputs": [],
   "source": [
    "data['total_income_category'] = data['total_income'].apply(categorize_income)"
   ]
  },
  {
   "cell_type": "markdown",
   "id": "c565bade",
   "metadata": {
    "deletable": false,
    "editable": false,
    "id": "dde49b5c"
   },
   "source": [
    "**Задание 17. Выведите на экран перечень уникальных целей взятия кредита из столбца `purpose`.**"
   ]
  },
  {
   "cell_type": "code",
   "execution_count": 19,
   "id": "e9b4b48f",
   "metadata": {
    "deletable": false,
    "id": "f67ce9b3",
    "outputId": "673c12d9-7d7e-4ae0-9812-c622c89dd244"
   },
   "outputs": [
    {
     "data": {
      "text/plain": [
       "array(['покупка жилья', 'приобретение автомобиля',\n",
       "       'дополнительное образование', 'сыграть свадьбу',\n",
       "       'операции с жильем', 'образование', 'на проведение свадьбы',\n",
       "       'покупка жилья для семьи', 'покупка недвижимости',\n",
       "       'покупка коммерческой недвижимости', 'покупка жилой недвижимости',\n",
       "       'строительство собственной недвижимости', 'недвижимость',\n",
       "       'строительство недвижимости', 'на покупку подержанного автомобиля',\n",
       "       'на покупку своего автомобиля',\n",
       "       'операции с коммерческой недвижимостью',\n",
       "       'строительство жилой недвижимости', 'жилье',\n",
       "       'операции со своей недвижимостью', 'автомобили',\n",
       "       'заняться образованием', 'сделка с подержанным автомобилем',\n",
       "       'получение образования', 'автомобиль', 'свадьба',\n",
       "       'получение дополнительного образования', 'покупка своего жилья',\n",
       "       'операции с недвижимостью', 'получение высшего образования',\n",
       "       'свой автомобиль', 'сделка с автомобилем',\n",
       "       'профильное образование', 'высшее образование',\n",
       "       'покупка жилья для сдачи', 'на покупку автомобиля', 'ремонт жилью',\n",
       "       'заняться высшим образованием'], dtype=object)"
      ]
     },
     "execution_count": 19,
     "metadata": {},
     "output_type": "execute_result"
    }
   ],
   "source": [
    "data['purpose'].unique()"
   ]
  },
  {
   "cell_type": "markdown",
   "id": "cc6a06ab",
   "metadata": {
    "deletable": false,
    "editable": false,
    "id": "85d0aef0"
   },
   "source": [
    "**Задание 18. Создайте функцию, которая на основании данных из столбца `purpose` сформирует новый столбец `purpose_category`, в который войдут следующие категории:**\n",
    "\n",
    "- `'операции с автомобилем'`,\n",
    "- `'операции с недвижимостью'`,\n",
    "- `'проведение свадьбы'`,\n",
    "- `'получение образования'`.\n",
    "\n",
    "**Например, если в столбце `purpose` находится подстрока `'на покупку автомобиля'`, то в столбце `purpose_category` должна появиться строка `'операции с автомобилем'`.**\n",
    "\n",
    "**Используйте собственную функцию с именем `categorize_purpose()` и метод `apply()`. Изучите данные в столбце `purpose` и определите, какие подстроки помогут вам правильно определить категорию.**"
   ]
  },
  {
   "cell_type": "code",
   "execution_count": 20,
   "id": "1f203713",
   "metadata": {
    "deletable": false,
    "id": "e149fab4"
   },
   "outputs": [],
   "source": [
    "def categorize_purpose(row):\n",
    "    try:\n",
    "        if 'автом' in row:\n",
    "            return 'операции с автомобилем'\n",
    "        elif 'жил' in row or 'недвиж' in row:\n",
    "            return 'операции с недвижимостью'\n",
    "        elif 'свад' in row:\n",
    "            return 'проведение свадьбы'\n",
    "        elif 'образов' in row:\n",
    "            return 'получение образования'\n",
    "    except:\n",
    "        return 'нет категории'"
   ]
  },
  {
   "cell_type": "code",
   "execution_count": 21,
   "id": "d6b10803",
   "metadata": {
    "deletable": false,
    "id": "bf36e69b"
   },
   "outputs": [],
   "source": [
    "data['purpose_category'] = data['purpose'].apply(categorize_purpose)"
   ]
  },
  {
   "cell_type": "markdown",
   "id": "0cecc0c1",
   "metadata": {
    "deletable": false,
    "editable": false,
    "id": "09b242bf"
   },
   "source": [
    "### Шаг 3. Исследуйте данные и ответьте на вопросы"
   ]
  },
  {
   "cell_type": "markdown",
   "id": "edd62254",
   "metadata": {
    "deletable": false,
    "editable": false,
    "id": "c5d66278"
   },
   "source": [
    "#### 3.1 Есть ли зависимость между количеством детей и возвратом кредита в срок?"
   ]
  },
  {
   "cell_type": "code",
   "execution_count": 22,
   "id": "a948bc23",
   "metadata": {
    "deletable": false,
    "id": "2cacfc4a",
    "scrolled": false
   },
   "outputs": [
    {
     "data": {
      "text/html": [
       "<div>\n",
       "<style scoped>\n",
       "    .dataframe tbody tr th:only-of-type {\n",
       "        vertical-align: middle;\n",
       "    }\n",
       "\n",
       "    .dataframe tbody tr th {\n",
       "        vertical-align: top;\n",
       "    }\n",
       "\n",
       "    .dataframe thead tr th {\n",
       "        text-align: left;\n",
       "    }\n",
       "\n",
       "    .dataframe thead tr:last-of-type th {\n",
       "        text-align: right;\n",
       "    }\n",
       "</style>\n",
       "<table border=\"1\" class=\"dataframe\">\n",
       "  <thead>\n",
       "    <tr>\n",
       "      <th></th>\n",
       "      <th colspan=\"10\" halign=\"left\">count</th>\n",
       "      <th>...</th>\n",
       "      <th colspan=\"9\" halign=\"left\">mean</th>\n",
       "      <th>%_debt</th>\n",
       "    </tr>\n",
       "    <tr>\n",
       "      <th></th>\n",
       "      <th colspan=\"2\" halign=\"left\">days_employed</th>\n",
       "      <th colspan=\"2\" halign=\"left\">dob_years</th>\n",
       "      <th colspan=\"2\" halign=\"left\">education</th>\n",
       "      <th colspan=\"2\" halign=\"left\">education_id</th>\n",
       "      <th colspan=\"2\" halign=\"left\">family_status</th>\n",
       "      <th>...</th>\n",
       "      <th>days_employed</th>\n",
       "      <th colspan=\"2\" halign=\"left\">dob_years</th>\n",
       "      <th colspan=\"2\" halign=\"left\">education_id</th>\n",
       "      <th colspan=\"2\" halign=\"left\">family_status_id</th>\n",
       "      <th colspan=\"2\" halign=\"left\">total_income</th>\n",
       "      <th></th>\n",
       "    </tr>\n",
       "    <tr>\n",
       "      <th>debt</th>\n",
       "      <th>0</th>\n",
       "      <th>1</th>\n",
       "      <th>0</th>\n",
       "      <th>1</th>\n",
       "      <th>0</th>\n",
       "      <th>1</th>\n",
       "      <th>0</th>\n",
       "      <th>1</th>\n",
       "      <th>0</th>\n",
       "      <th>1</th>\n",
       "      <th>...</th>\n",
       "      <th>1</th>\n",
       "      <th>0</th>\n",
       "      <th>1</th>\n",
       "      <th>0</th>\n",
       "      <th>1</th>\n",
       "      <th>0</th>\n",
       "      <th>1</th>\n",
       "      <th>0</th>\n",
       "      <th>1</th>\n",
       "      <th></th>\n",
       "    </tr>\n",
       "    <tr>\n",
       "      <th>children</th>\n",
       "      <th></th>\n",
       "      <th></th>\n",
       "      <th></th>\n",
       "      <th></th>\n",
       "      <th></th>\n",
       "      <th></th>\n",
       "      <th></th>\n",
       "      <th></th>\n",
       "      <th></th>\n",
       "      <th></th>\n",
       "      <th></th>\n",
       "      <th></th>\n",
       "      <th></th>\n",
       "      <th></th>\n",
       "      <th></th>\n",
       "      <th></th>\n",
       "      <th></th>\n",
       "      <th></th>\n",
       "      <th></th>\n",
       "      <th></th>\n",
       "      <th></th>\n",
       "    </tr>\n",
       "  </thead>\n",
       "  <tbody>\n",
       "    <tr>\n",
       "      <th>0</th>\n",
       "      <td>13028.0</td>\n",
       "      <td>1063.0</td>\n",
       "      <td>13028.0</td>\n",
       "      <td>1063.0</td>\n",
       "      <td>13028.0</td>\n",
       "      <td>1063.0</td>\n",
       "      <td>13028.0</td>\n",
       "      <td>1063.0</td>\n",
       "      <td>13028.0</td>\n",
       "      <td>1063.0</td>\n",
       "      <td>...</td>\n",
       "      <td>69580.878269</td>\n",
       "      <td>46.495855</td>\n",
       "      <td>43.000000</td>\n",
       "      <td>0.825223</td>\n",
       "      <td>0.900282</td>\n",
       "      <td>1.111759</td>\n",
       "      <td>1.260583</td>\n",
       "      <td>163321.450107</td>\n",
       "      <td>159750.975541</td>\n",
       "      <td>0.075438</td>\n",
       "    </tr>\n",
       "    <tr>\n",
       "      <th>1</th>\n",
       "      <td>4364.0</td>\n",
       "      <td>444.0</td>\n",
       "      <td>4364.0</td>\n",
       "      <td>444.0</td>\n",
       "      <td>4364.0</td>\n",
       "      <td>444.0</td>\n",
       "      <td>4364.0</td>\n",
       "      <td>444.0</td>\n",
       "      <td>4364.0</td>\n",
       "      <td>444.0</td>\n",
       "      <td>...</td>\n",
       "      <td>14031.814874</td>\n",
       "      <td>38.558203</td>\n",
       "      <td>36.567568</td>\n",
       "      <td>0.772915</td>\n",
       "      <td>0.927928</td>\n",
       "      <td>0.796975</td>\n",
       "      <td>0.907658</td>\n",
       "      <td>169755.458753</td>\n",
       "      <td>163686.126126</td>\n",
       "      <td>0.092346</td>\n",
       "    </tr>\n",
       "    <tr>\n",
       "      <th>2</th>\n",
       "      <td>1858.0</td>\n",
       "      <td>194.0</td>\n",
       "      <td>1858.0</td>\n",
       "      <td>194.0</td>\n",
       "      <td>1858.0</td>\n",
       "      <td>194.0</td>\n",
       "      <td>1858.0</td>\n",
       "      <td>194.0</td>\n",
       "      <td>1858.0</td>\n",
       "      <td>194.0</td>\n",
       "      <td>...</td>\n",
       "      <td>7474.829032</td>\n",
       "      <td>35.850915</td>\n",
       "      <td>34.989691</td>\n",
       "      <td>0.771259</td>\n",
       "      <td>0.958763</td>\n",
       "      <td>0.448332</td>\n",
       "      <td>0.479381</td>\n",
       "      <td>170263.024220</td>\n",
       "      <td>164804.582474</td>\n",
       "      <td>0.094542</td>\n",
       "    </tr>\n",
       "    <tr>\n",
       "      <th>3</th>\n",
       "      <td>303.0</td>\n",
       "      <td>27.0</td>\n",
       "      <td>303.0</td>\n",
       "      <td>27.0</td>\n",
       "      <td>303.0</td>\n",
       "      <td>27.0</td>\n",
       "      <td>303.0</td>\n",
       "      <td>27.0</td>\n",
       "      <td>303.0</td>\n",
       "      <td>27.0</td>\n",
       "      <td>...</td>\n",
       "      <td>14936.586321</td>\n",
       "      <td>36.313531</td>\n",
       "      <td>36.000000</td>\n",
       "      <td>0.815182</td>\n",
       "      <td>0.925926</td>\n",
       "      <td>0.389439</td>\n",
       "      <td>0.555556</td>\n",
       "      <td>182235.386139</td>\n",
       "      <td>148317.703704</td>\n",
       "      <td>0.081818</td>\n",
       "    </tr>\n",
       "    <tr>\n",
       "      <th>4</th>\n",
       "      <td>37.0</td>\n",
       "      <td>4.0</td>\n",
       "      <td>37.0</td>\n",
       "      <td>4.0</td>\n",
       "      <td>37.0</td>\n",
       "      <td>4.0</td>\n",
       "      <td>37.0</td>\n",
       "      <td>4.0</td>\n",
       "      <td>37.0</td>\n",
       "      <td>4.0</td>\n",
       "      <td>...</td>\n",
       "      <td>1433.570815</td>\n",
       "      <td>35.729730</td>\n",
       "      <td>39.000000</td>\n",
       "      <td>0.756757</td>\n",
       "      <td>1.000000</td>\n",
       "      <td>0.459459</td>\n",
       "      <td>1.000000</td>\n",
       "      <td>166855.027027</td>\n",
       "      <td>161788.250000</td>\n",
       "      <td>0.097561</td>\n",
       "    </tr>\n",
       "    <tr>\n",
       "      <th>5</th>\n",
       "      <td>9.0</td>\n",
       "      <td>NaN</td>\n",
       "      <td>9.0</td>\n",
       "      <td>NaN</td>\n",
       "      <td>9.0</td>\n",
       "      <td>NaN</td>\n",
       "      <td>9.0</td>\n",
       "      <td>NaN</td>\n",
       "      <td>9.0</td>\n",
       "      <td>NaN</td>\n",
       "      <td>...</td>\n",
       "      <td>NaN</td>\n",
       "      <td>38.777778</td>\n",
       "      <td>NaN</td>\n",
       "      <td>1.222222</td>\n",
       "      <td>NaN</td>\n",
       "      <td>0.222222</td>\n",
       "      <td>NaN</td>\n",
       "      <td>167336.888889</td>\n",
       "      <td>NaN</td>\n",
       "      <td>NaN</td>\n",
       "    </tr>\n",
       "  </tbody>\n",
       "</table>\n",
       "<p>6 rows × 45 columns</p>\n",
       "</div>"
      ],
      "text/plain": [
       "                 count                                              \\\n",
       "         days_employed         dob_years         education           \n",
       "debt                 0       1         0       1         0       1   \n",
       "children                                                             \n",
       "0              13028.0  1063.0   13028.0  1063.0   13028.0  1063.0   \n",
       "1               4364.0   444.0    4364.0   444.0    4364.0   444.0   \n",
       "2               1858.0   194.0    1858.0   194.0    1858.0   194.0   \n",
       "3                303.0    27.0     303.0    27.0     303.0    27.0   \n",
       "4                 37.0     4.0      37.0     4.0      37.0     4.0   \n",
       "5                  9.0     NaN       9.0     NaN       9.0     NaN   \n",
       "\n",
       "                                                     ...          mean  \\\n",
       "         education_id         family_status          ... days_employed   \n",
       "debt                0       1             0       1  ...             1   \n",
       "children                                             ...                 \n",
       "0             13028.0  1063.0       13028.0  1063.0  ...  69580.878269   \n",
       "1              4364.0   444.0        4364.0   444.0  ...  14031.814874   \n",
       "2              1858.0   194.0        1858.0   194.0  ...   7474.829032   \n",
       "3               303.0    27.0         303.0    27.0  ...  14936.586321   \n",
       "4                37.0     4.0          37.0     4.0  ...   1433.570815   \n",
       "5                 9.0     NaN           9.0     NaN  ...           NaN   \n",
       "\n",
       "                                                                        \\\n",
       "          dob_years            education_id           family_status_id   \n",
       "debt              0          1            0         1                0   \n",
       "children                                                                 \n",
       "0         46.495855  43.000000     0.825223  0.900282         1.111759   \n",
       "1         38.558203  36.567568     0.772915  0.927928         0.796975   \n",
       "2         35.850915  34.989691     0.771259  0.958763         0.448332   \n",
       "3         36.313531  36.000000     0.815182  0.925926         0.389439   \n",
       "4         35.729730  39.000000     0.756757  1.000000         0.459459   \n",
       "5         38.777778        NaN     1.222222       NaN         0.222222   \n",
       "\n",
       "                                                    %_debt  \n",
       "                     total_income                           \n",
       "debt             1              0              1            \n",
       "children                                                    \n",
       "0         1.260583  163321.450107  159750.975541  0.075438  \n",
       "1         0.907658  169755.458753  163686.126126  0.092346  \n",
       "2         0.479381  170263.024220  164804.582474  0.094542  \n",
       "3         0.555556  182235.386139  148317.703704  0.081818  \n",
       "4         1.000000  166855.027027  161788.250000  0.097561  \n",
       "5              NaN  167336.888889            NaN       NaN  \n",
       "\n",
       "[6 rows x 45 columns]"
      ]
     },
     "metadata": {},
     "output_type": "display_data"
    },
    {
     "data": {
      "image/png": "[encoded data removed]",
      "text/plain": [
       "<Figure size 432x288 with 1 Axes>"
      ]
     },
     "metadata": {
      "needs_background": "light"
     },
     "output_type": "display_data"
    },
    {
     "name": "stdout",
     "output_type": "stream",
     "text": [
      "\n",
      "Кросс-таблица для количества детей и долга:\n"
     ]
    },
    {
     "data": {
      "text/html": [
       "<div>\n",
       "<style scoped>\n",
       "    .dataframe tbody tr th:only-of-type {\n",
       "        vertical-align: middle;\n",
       "    }\n",
       "\n",
       "    .dataframe tbody tr th {\n",
       "        vertical-align: top;\n",
       "    }\n",
       "\n",
       "    .dataframe thead th {\n",
       "        text-align: right;\n",
       "    }\n",
       "</style>\n",
       "<table border=\"1\" class=\"dataframe\">\n",
       "  <thead>\n",
       "    <tr style=\"text-align: right;\">\n",
       "      <th>debt</th>\n",
       "      <th>0</th>\n",
       "      <th>1</th>\n",
       "    </tr>\n",
       "    <tr>\n",
       "      <th>children</th>\n",
       "      <th></th>\n",
       "      <th></th>\n",
       "    </tr>\n",
       "  </thead>\n",
       "  <tbody>\n",
       "    <tr>\n",
       "      <th>0</th>\n",
       "      <td>13028</td>\n",
       "      <td>1063</td>\n",
       "    </tr>\n",
       "    <tr>\n",
       "      <th>1</th>\n",
       "      <td>4364</td>\n",
       "      <td>444</td>\n",
       "    </tr>\n",
       "    <tr>\n",
       "      <th>2</th>\n",
       "      <td>1858</td>\n",
       "      <td>194</td>\n",
       "    </tr>\n",
       "    <tr>\n",
       "      <th>3</th>\n",
       "      <td>303</td>\n",
       "      <td>27</td>\n",
       "    </tr>\n",
       "    <tr>\n",
       "      <th>4</th>\n",
       "      <td>37</td>\n",
       "      <td>4</td>\n",
       "    </tr>\n",
       "    <tr>\n",
       "      <th>5</th>\n",
       "      <td>9</td>\n",
       "      <td>0</td>\n",
       "    </tr>\n",
       "  </tbody>\n",
       "</table>\n",
       "</div>"
      ],
      "text/plain": [
       "debt          0     1\n",
       "children             \n",
       "0         13028  1063\n",
       "1          4364   444\n",
       "2          1858   194\n",
       "3           303    27\n",
       "4            37     4\n",
       "5             9     0"
      ]
     },
     "metadata": {},
     "output_type": "display_data"
    },
    {
     "name": "stdout",
     "output_type": "stream",
     "text": [
      "\n",
      "Корреляционная матрица для количества детей и долга:\n"
     ]
    },
    {
     "data": {
      "text/html": [
       "<div>\n",
       "<style scoped>\n",
       "    .dataframe tbody tr th:only-of-type {\n",
       "        vertical-align: middle;\n",
       "    }\n",
       "\n",
       "    .dataframe tbody tr th {\n",
       "        vertical-align: top;\n",
       "    }\n",
       "\n",
       "    .dataframe thead th {\n",
       "        text-align: right;\n",
       "    }\n",
       "</style>\n",
       "<table border=\"1\" class=\"dataframe\">\n",
       "  <thead>\n",
       "    <tr style=\"text-align: right;\">\n",
       "      <th></th>\n",
       "      <th>children</th>\n",
       "      <th>debt</th>\n",
       "    </tr>\n",
       "  </thead>\n",
       "  <tbody>\n",
       "    <tr>\n",
       "      <th>children</th>\n",
       "      <td>1.000000</td>\n",
       "      <td>0.024643</td>\n",
       "    </tr>\n",
       "    <tr>\n",
       "      <th>debt</th>\n",
       "      <td>0.024643</td>\n",
       "      <td>1.000000</td>\n",
       "    </tr>\n",
       "  </tbody>\n",
       "</table>\n",
       "</div>"
      ],
      "text/plain": [
       "          children      debt\n",
       "children  1.000000  0.024643\n",
       "debt      0.024643  1.000000"
      ]
     },
     "metadata": {},
     "output_type": "display_data"
    }
   ],
   "source": [
    "# Предположим, что у вас есть данные data и вы хотите создать DataFrame df\n",
    "df = pd.DataFrame(data)\n",
    "\n",
    "# Исправление значений в столбце 'children'\n",
    "df['children'] = df['children'].astype('str')\n",
    "df.loc[df['children'] == '20', 'children'] = '2'\n",
    "df['children'] = df['children'].astype('int')\n",
    "df['children'] = df['children'].abs()\n",
    "\n",
    "# Таблица с данными\n",
    "children_debt = df.pivot_table(index=['children'], columns=['debt'], aggfunc=['count','sum','mean'])\n",
    "children_debt['%_debt'] = children_debt['count']['days_employed'][1] / (children_debt['count']['days_employed'][0] \n",
    "                                                                       + children_debt['count']['days_employed'][1])\n",
    "display(children_debt)\n",
    "\n",
    "# Создание сводной таблицы для количества детей и возврата кредита\n",
    "cross_tab_children = pd.crosstab(data['children'], data['debt'])\n",
    "\n",
    "# Визуализация\n",
    "sns.countplot(x='children', hue='debt', data=df)\n",
    "plt.title('Зависимость наличия долга от количества детей')\n",
    "plt.xlabel('Количество детей')\n",
    "plt.ylabel('Долг')\n",
    "plt.legend(loc='upper right', bbox_to_anchor=(1.01, 0.99))\n",
    "plt.show()\n",
    "\n",
    "# Кросс-таблица\n",
    "print('\\nКросс-таблица для количества детей и долга:')\n",
    "display(cross_tab_children)\n",
    "\n",
    "# Корреляция\n",
    "correlation_children = data[['children', 'debt']].corr()\n",
    "print('\\nКорреляционная матрица для количества детей и долга:')\n",
    "display(correlation_children)"
   ]
  },
  {
   "cell_type": "markdown",
   "id": "9ff85b96",
   "metadata": {
    "deletable": false,
    "id": "3a6b99ec"
   },
   "source": [
    "**Вывод:**\n",
    "\n",
    "1. Количество детей и долг:\n",
    "\n",
    "Большинство заемщиков не имеют детей (категория 'children=0'), и их количество заметно больше, чем у тех, у кого есть дети.\n",
    "Процент людей с долгами по кредиту кажется немного выше у тех, у кого есть дети, особенно у тех, у кого их больше.\n",
    "Визуализация показывает, что процент долгов выше у клиентов с детьми, но общее количество клиентов с детьми все равно меньше.\n",
    "\n",
    "2. Кросс-таблица и корреляция:\n",
    "\n",
    "Кросс-таблица предоставляет детализированную информацию о количестве заемщиков и долгов в зависимости от количества детей.\n",
    "Корреляция между количеством детей и наличием долга невелика (0.02), что указывает на слабую связь между этими двумя переменными.\n",
    "\n",
    "Общий вывод:\n",
    "На основе предоставленных данных можно сказать, что наличие детей в семье слабо влияет на вероятность возникновения долга по кредиту. Вероятность долга несколько выше у клиентов с детьми, но эта связь не слишком значительна."
   ]
  },
  {
   "cell_type": "markdown",
   "id": "041b5859",
   "metadata": {
    "deletable": false,
    "editable": false,
    "id": "97be82ca"
   },
   "source": [
    "#### 3.2 Есть ли зависимость между семейным положением и возвратом кредита в срок?"
   ]
  },
  {
   "cell_type": "code",
   "execution_count": 23,
   "id": "4b0944ed",
   "metadata": {
    "deletable": false,
    "id": "dc3f7ee8"
   },
   "outputs": [
    {
     "data": {
      "text/html": [
       "<div>\n",
       "<style scoped>\n",
       "    .dataframe tbody tr th:only-of-type {\n",
       "        vertical-align: middle;\n",
       "    }\n",
       "\n",
       "    .dataframe tbody tr th {\n",
       "        vertical-align: top;\n",
       "    }\n",
       "\n",
       "    .dataframe thead th {\n",
       "        text-align: right;\n",
       "    }\n",
       "</style>\n",
       "<table border=\"1\" class=\"dataframe\">\n",
       "  <thead>\n",
       "    <tr style=\"text-align: right;\">\n",
       "      <th></th>\n",
       "      <th>family_status</th>\n",
       "      <th>0</th>\n",
       "      <th>1</th>\n",
       "      <th>%_debt</th>\n",
       "    </tr>\n",
       "  </thead>\n",
       "  <tbody>\n",
       "    <tr>\n",
       "      <th>0</th>\n",
       "      <td>женат / замужем</td>\n",
       "      <td>11334</td>\n",
       "      <td>927</td>\n",
       "      <td>0.075606</td>\n",
       "    </tr>\n",
       "    <tr>\n",
       "      <th>1</th>\n",
       "      <td>гражданский брак</td>\n",
       "      <td>3749</td>\n",
       "      <td>385</td>\n",
       "      <td>0.093130</td>\n",
       "    </tr>\n",
       "    <tr>\n",
       "      <th>2</th>\n",
       "      <td>вдовец / вдова</td>\n",
       "      <td>888</td>\n",
       "      <td>63</td>\n",
       "      <td>0.066246</td>\n",
       "    </tr>\n",
       "    <tr>\n",
       "      <th>3</th>\n",
       "      <td>в разводе</td>\n",
       "      <td>1105</td>\n",
       "      <td>84</td>\n",
       "      <td>0.070648</td>\n",
       "    </tr>\n",
       "    <tr>\n",
       "      <th>4</th>\n",
       "      <td>Не женат / не замужем</td>\n",
       "      <td>2523</td>\n",
       "      <td>273</td>\n",
       "      <td>0.097639</td>\n",
       "    </tr>\n",
       "  </tbody>\n",
       "</table>\n",
       "</div>"
      ],
      "text/plain": [
       "           family_status      0    1    %_debt\n",
       "0        женат / замужем  11334  927  0.075606\n",
       "1       гражданский брак   3749  385  0.093130\n",
       "2         вдовец / вдова    888   63  0.066246\n",
       "3              в разводе   1105   84  0.070648\n",
       "4  Не женат / не замужем   2523  273  0.097639"
      ]
     },
     "metadata": {},
     "output_type": "display_data"
    },
    {
     "data": {
      "image/png": "[encoded data removed]",
      "text/plain": [
       "<Figure size 432x288 with 1 Axes>"
      ]
     },
     "metadata": {
      "needs_background": "light"
     },
     "output_type": "display_data"
    },
    {
     "name": "stdout",
     "output_type": "stream",
     "text": [
      "\n",
      "Кросс-таблица для семейного положения и долга:\n"
     ]
    },
    {
     "data": {
      "text/html": [
       "<div>\n",
       "<style scoped>\n",
       "    .dataframe tbody tr th:only-of-type {\n",
       "        vertical-align: middle;\n",
       "    }\n",
       "\n",
       "    .dataframe tbody tr th {\n",
       "        vertical-align: top;\n",
       "    }\n",
       "\n",
       "    .dataframe thead th {\n",
       "        text-align: right;\n",
       "    }\n",
       "</style>\n",
       "<table border=\"1\" class=\"dataframe\">\n",
       "  <thead>\n",
       "    <tr style=\"text-align: right;\">\n",
       "      <th>debt</th>\n",
       "      <th>0</th>\n",
       "      <th>1</th>\n",
       "    </tr>\n",
       "    <tr>\n",
       "      <th>family_status_id</th>\n",
       "      <th></th>\n",
       "      <th></th>\n",
       "    </tr>\n",
       "  </thead>\n",
       "  <tbody>\n",
       "    <tr>\n",
       "      <th>0</th>\n",
       "      <td>11334</td>\n",
       "      <td>927</td>\n",
       "    </tr>\n",
       "    <tr>\n",
       "      <th>1</th>\n",
       "      <td>3749</td>\n",
       "      <td>385</td>\n",
       "    </tr>\n",
       "    <tr>\n",
       "      <th>2</th>\n",
       "      <td>888</td>\n",
       "      <td>63</td>\n",
       "    </tr>\n",
       "    <tr>\n",
       "      <th>3</th>\n",
       "      <td>1105</td>\n",
       "      <td>84</td>\n",
       "    </tr>\n",
       "    <tr>\n",
       "      <th>4</th>\n",
       "      <td>2523</td>\n",
       "      <td>273</td>\n",
       "    </tr>\n",
       "  </tbody>\n",
       "</table>\n",
       "</div>"
      ],
      "text/plain": [
       "debt                  0    1\n",
       "family_status_id            \n",
       "0                 11334  927\n",
       "1                  3749  385\n",
       "2                   888   63\n",
       "3                  1105   84\n",
       "4                  2523  273"
      ]
     },
     "metadata": {},
     "output_type": "display_data"
    },
    {
     "name": "stdout",
     "output_type": "stream",
     "text": [
      "\n",
      "Корреляционная матрица для семейного положения и долга:\n"
     ]
    },
    {
     "data": {
      "text/html": [
       "<div>\n",
       "<style scoped>\n",
       "    .dataframe tbody tr th:only-of-type {\n",
       "        vertical-align: middle;\n",
       "    }\n",
       "\n",
       "    .dataframe tbody tr th {\n",
       "        vertical-align: top;\n",
       "    }\n",
       "\n",
       "    .dataframe thead th {\n",
       "        text-align: right;\n",
       "    }\n",
       "</style>\n",
       "<table border=\"1\" class=\"dataframe\">\n",
       "  <thead>\n",
       "    <tr style=\"text-align: right;\">\n",
       "      <th></th>\n",
       "      <th>family_status_id</th>\n",
       "      <th>debt</th>\n",
       "    </tr>\n",
       "  </thead>\n",
       "  <tbody>\n",
       "    <tr>\n",
       "      <th>family_status_id</th>\n",
       "      <td>1.000000</td>\n",
       "      <td>0.020181</td>\n",
       "    </tr>\n",
       "    <tr>\n",
       "      <th>debt</th>\n",
       "      <td>0.020181</td>\n",
       "      <td>1.000000</td>\n",
       "    </tr>\n",
       "  </tbody>\n",
       "</table>\n",
       "</div>"
      ],
      "text/plain": [
       "                  family_status_id      debt\n",
       "family_status_id          1.000000  0.020181\n",
       "debt                      0.020181  1.000000"
      ]
     },
     "metadata": {},
     "output_type": "display_data"
    }
   ],
   "source": [
    "# Создание таблицы с семейным статусом и его id\n",
    "family_df = df[['family_status','family_status_id']]\n",
    "# удаление явных дубликатов (с удалением старых индексов и формированием новых) \n",
    "family_df = family_df.drop_duplicates().reset_index(drop=True)\n",
    "\n",
    "# Таблица с данными\n",
    "fam_status_debt = df.pivot_table(index=['family_status_id'], columns=['debt'], aggfunc='count')['days_employed']\n",
    "fam_status_debt['%_debt'] = fam_status_debt[1] / (fam_status_debt[0] + fam_status_debt[1])\n",
    "data_fam = family_df.merge(fam_status_debt, on='family_status_id', how='left').drop('family_status_id', axis = 1)\n",
    "display(data_fam)\n",
    "\n",
    "# Создание сводной таблицы для семейного положения и возврата кредита\n",
    "cross_tab_family_status = pd.crosstab(data['family_status_id'], data['debt'])\n",
    "\n",
    "# Визуализация\n",
    "sns.countplot(x='family_status_id', hue='debt', data=data)\n",
    "plt.title('Зависимость наличия долга от семейного положения')\n",
    "plt.xlabel('Семейное положение')\n",
    "plt.ylabel('Долг')\n",
    "plt.show()\n",
    "\n",
    "# Кросс-таблица\n",
    "print('\\nКросс-таблица для семейного положения и долга:')\n",
    "display(cross_tab_family_status)\n",
    "\n",
    "# Корреляция\n",
    "correlation_family_status = data[['family_status_id', 'debt']].corr()\n",
    "print('\\nКорреляционная матрица для семейного положения и долга:')\n",
    "display(correlation_family_status)"
   ]
  },
  {
   "cell_type": "markdown",
   "id": "acd0228f",
   "metadata": {
    "deletable": false,
    "editable": false,
    "id": "1e8b2fca"
   },
   "source": [
    "#### 3.3 Есть ли зависимость между уровнем дохода и возвратом кредита в срок?"
   ]
  },
  {
   "cell_type": "markdown",
   "id": "622b5419",
   "metadata": {
    "deletable": false,
    "id": "1cef7837"
   },
   "source": [
    "**Вывод:**\n",
    "\n",
    "1. Семейное положение и долг:\n",
    "   - Заемщики в категории \"вдовец / вдова\" имеют самый низкий процент долгов.\n",
    "   - Заемщики, находящиеся в гражданском браке, имеют более высокий процент долгов по сравнению с остальными категориями. Это может быть связано с меньшей стабильностью финансового положения в гражданском браке.\n",
    "   - Заемщики в категории \"Не женат / не замужем\" также имеют высокий процент долгов, что может свидетельствовать о финансовой неустойчивости в данной группе.\n",
    "2. Кросс-таблица и корреляция:\n",
    "   - Кросс-таблица предоставляет детализированную информацию о количестве заемщиков и долгов в зависимости от семейного положения.\n",
    "   - Корреляция между семейным положением и наличием долга также невелика (0.02), что указывает на слабую связь между этими двумя переменными.\n",
    "   \n",
    "Общий вывод:\n",
    "На основе данных видно, что семейное положение может влиять на вероятность возникновения долга по кредиту. Заемщики, находящиеся в гражданском браке или не состоящие в официальных отношениях, более склонны к долгам. В то время как вдовцы/вдовы демонстрируют более низкий уровень долгов. Однако стоит отметить, что корреляция между семейным положением и долгами слаба, и для более точного анализа необходимо рассматривать другие факторы, такие как уровень дохода и цель кредита."
   ]
  },
  {
   "cell_type": "code",
   "execution_count": 24,
   "id": "958968cf",
   "metadata": {
    "deletable": false,
    "id": "cd7e3720"
   },
   "outputs": [
    {
     "data": {
      "text/html": [
       "<div>\n",
       "<style scoped>\n",
       "    .dataframe tbody tr th:only-of-type {\n",
       "        vertical-align: middle;\n",
       "    }\n",
       "\n",
       "    .dataframe tbody tr th {\n",
       "        vertical-align: top;\n",
       "    }\n",
       "\n",
       "    .dataframe thead th {\n",
       "        text-align: right;\n",
       "    }\n",
       "</style>\n",
       "<table border=\"1\" class=\"dataframe\">\n",
       "  <thead>\n",
       "    <tr style=\"text-align: right;\">\n",
       "      <th>debt</th>\n",
       "      <th>0</th>\n",
       "      <th>1</th>\n",
       "      <th>%_debt</th>\n",
       "    </tr>\n",
       "    <tr>\n",
       "      <th>total_income_category</th>\n",
       "      <th></th>\n",
       "      <th></th>\n",
       "      <th></th>\n",
       "    </tr>\n",
       "  </thead>\n",
       "  <tbody>\n",
       "    <tr>\n",
       "      <th>0-50k</th>\n",
       "      <td>348</td>\n",
       "      <td>23</td>\n",
       "      <td>0.061995</td>\n",
       "    </tr>\n",
       "    <tr>\n",
       "      <th>50k-100k</th>\n",
       "      <td>3742</td>\n",
       "      <td>331</td>\n",
       "      <td>0.081267</td>\n",
       "    </tr>\n",
       "    <tr>\n",
       "      <th>100k-150k</th>\n",
       "      <td>6491</td>\n",
       "      <td>619</td>\n",
       "      <td>0.087060</td>\n",
       "    </tr>\n",
       "    <tr>\n",
       "      <th>150k-200k</th>\n",
       "      <td>4335</td>\n",
       "      <td>403</td>\n",
       "      <td>0.085057</td>\n",
       "    </tr>\n",
       "    <tr>\n",
       "      <th>200k+</th>\n",
       "      <td>4683</td>\n",
       "      <td>356</td>\n",
       "      <td>0.070649</td>\n",
       "    </tr>\n",
       "  </tbody>\n",
       "</table>\n",
       "</div>"
      ],
      "text/plain": [
       "debt                      0    1    %_debt\n",
       "total_income_category                     \n",
       "0-50k                   348   23  0.061995\n",
       "50k-100k               3742  331  0.081267\n",
       "100k-150k              6491  619  0.087060\n",
       "150k-200k              4335  403  0.085057\n",
       "200k+                  4683  356  0.070649"
      ]
     },
     "metadata": {},
     "output_type": "display_data"
    },
    {
     "data": {
      "image/png": "[encoded data removed]",
      "text/plain": [
       "<Figure size 864x432 with 1 Axes>"
      ]
     },
     "metadata": {
      "needs_background": "light"
     },
     "output_type": "display_data"
    },
    {
     "name": "stdout",
     "output_type": "stream",
     "text": [
      "\n",
      "Кросс-таблица для уровня дохода и долга:\n"
     ]
    },
    {
     "data": {
      "text/html": [
       "<div>\n",
       "<style scoped>\n",
       "    .dataframe tbody tr th:only-of-type {\n",
       "        vertical-align: middle;\n",
       "    }\n",
       "\n",
       "    .dataframe tbody tr th {\n",
       "        vertical-align: top;\n",
       "    }\n",
       "\n",
       "    .dataframe thead th {\n",
       "        text-align: right;\n",
       "    }\n",
       "</style>\n",
       "<table border=\"1\" class=\"dataframe\">\n",
       "  <thead>\n",
       "    <tr style=\"text-align: right;\">\n",
       "      <th>debt</th>\n",
       "      <th>0</th>\n",
       "      <th>1</th>\n",
       "    </tr>\n",
       "    <tr>\n",
       "      <th>total_income</th>\n",
       "      <th></th>\n",
       "      <th></th>\n",
       "    </tr>\n",
       "  </thead>\n",
       "  <tbody>\n",
       "    <tr>\n",
       "      <th>20667</th>\n",
       "      <td>0</td>\n",
       "      <td>1</td>\n",
       "    </tr>\n",
       "    <tr>\n",
       "      <th>21205</th>\n",
       "      <td>1</td>\n",
       "      <td>0</td>\n",
       "    </tr>\n",
       "    <tr>\n",
       "      <th>21367</th>\n",
       "      <td>1</td>\n",
       "      <td>0</td>\n",
       "    </tr>\n",
       "    <tr>\n",
       "      <th>21695</th>\n",
       "      <td>1</td>\n",
       "      <td>0</td>\n",
       "    </tr>\n",
       "    <tr>\n",
       "      <th>21895</th>\n",
       "      <td>1</td>\n",
       "      <td>0</td>\n",
       "    </tr>\n",
       "    <tr>\n",
       "      <th>...</th>\n",
       "      <td>...</td>\n",
       "      <td>...</td>\n",
       "    </tr>\n",
       "    <tr>\n",
       "      <th>1711309</th>\n",
       "      <td>1</td>\n",
       "      <td>0</td>\n",
       "    </tr>\n",
       "    <tr>\n",
       "      <th>1715018</th>\n",
       "      <td>1</td>\n",
       "      <td>0</td>\n",
       "    </tr>\n",
       "    <tr>\n",
       "      <th>1726276</th>\n",
       "      <td>1</td>\n",
       "      <td>0</td>\n",
       "    </tr>\n",
       "    <tr>\n",
       "      <th>2200852</th>\n",
       "      <td>0</td>\n",
       "      <td>1</td>\n",
       "    </tr>\n",
       "    <tr>\n",
       "      <th>2265604</th>\n",
       "      <td>1</td>\n",
       "      <td>0</td>\n",
       "    </tr>\n",
       "  </tbody>\n",
       "</table>\n",
       "<p>18504 rows × 2 columns</p>\n",
       "</div>"
      ],
      "text/plain": [
       "debt          0  1\n",
       "total_income      \n",
       "20667         0  1\n",
       "21205         1  0\n",
       "21367         1  0\n",
       "21695         1  0\n",
       "21895         1  0\n",
       "...          .. ..\n",
       "1711309       1  0\n",
       "1715018       1  0\n",
       "1726276       1  0\n",
       "2200852       0  1\n",
       "2265604       1  0\n",
       "\n",
       "[18504 rows x 2 columns]"
      ]
     },
     "metadata": {},
     "output_type": "display_data"
    },
    {
     "name": "stdout",
     "output_type": "stream",
     "text": [
      "\n",
      "Корреляционная матрица для уровня дохода и долга:\n"
     ]
    },
    {
     "data": {
      "text/html": [
       "<div>\n",
       "<style scoped>\n",
       "    .dataframe tbody tr th:only-of-type {\n",
       "        vertical-align: middle;\n",
       "    }\n",
       "\n",
       "    .dataframe tbody tr th {\n",
       "        vertical-align: top;\n",
       "    }\n",
       "\n",
       "    .dataframe thead th {\n",
       "        text-align: right;\n",
       "    }\n",
       "</style>\n",
       "<table border=\"1\" class=\"dataframe\">\n",
       "  <thead>\n",
       "    <tr style=\"text-align: right;\">\n",
       "      <th></th>\n",
       "      <th>total_income</th>\n",
       "      <th>debt</th>\n",
       "    </tr>\n",
       "  </thead>\n",
       "  <tbody>\n",
       "    <tr>\n",
       "      <th>total_income</th>\n",
       "      <td>1.000000</td>\n",
       "      <td>-0.012671</td>\n",
       "    </tr>\n",
       "    <tr>\n",
       "      <th>debt</th>\n",
       "      <td>-0.012671</td>\n",
       "      <td>1.000000</td>\n",
       "    </tr>\n",
       "  </tbody>\n",
       "</table>\n",
       "</div>"
      ],
      "text/plain": [
       "              total_income      debt\n",
       "total_income      1.000000 -0.012671\n",
       "debt             -0.012671  1.000000"
      ]
     },
     "metadata": {},
     "output_type": "display_data"
    }
   ],
   "source": [
    "# Создание столбца 'total_income_category' с категориями\n",
    "df['total_income_category'] = pd.cut(df['total_income'], bins=[0, 50000, 100000, 150000, 200000, float('inf')], labels=['0-50k', '50k-100k', '100k-150k', '150k-200k', '200k+'])\n",
    "\n",
    "# Вывод таблицы\n",
    "income_status_debt = df.pivot_table(index=['total_income_category'], columns=['debt'], aggfunc='count')['days_employed']\n",
    "income_status_debt['%_debt'] = income_status_debt[1] / (income_status_debt[0] + income_status_debt[1])\n",
    "display(income_status_debt)\n",
    "\n",
    "# Создание сводной таблицы для уровня дохода и возврата кредита\n",
    "cross_tab_income = pd.crosstab(data['total_income'], data['debt'])\n",
    "\n",
    "# Визуализация\n",
    "plt.figure(figsize=(12, 6))\n",
    "sns.histplot(data, x='total_income', hue='debt', multiple='stack', bins=50, kde=True)\n",
    "plt.title('Зависимость наличия долга от уровня дохода')\n",
    "plt.xlabel('Уровень дохода')\n",
    "plt.ylabel('Долг')\n",
    "plt.show()\n",
    "\n",
    "# Кросс-таблица\n",
    "print('\\nКросс-таблица для уровня дохода и долга:')\n",
    "display(cross_tab_income)\n",
    "\n",
    "# Корреляция\n",
    "correlation_income = data[['total_income', 'debt']].corr()\n",
    "print('\\nКорреляционная матрица для уровня дохода и долга:')\n",
    "display(correlation_income)"
   ]
  },
  {
   "cell_type": "markdown",
   "id": "236c1aef",
   "metadata": {
    "deletable": false,
    "id": "e8593def"
   },
   "source": [
    "**Вывод:**\n",
    "1. Уровень дохода и долг:\n",
    "   - Уровень дохода оказывает влияние на вероятность возникновения долга по кредиту. Заемщики с более низким доходом (0-50k) обычно имеют более низкий процент долга, в то время как уровень долга увеличивается с ростом дохода, достигая пика в категории \"100k-150k\".\n",
    "\n",
    "2. Кросс-таблица и корреляция:\n",
    "   - Кросс-таблица предоставляет детализированную информацию о количестве заемщиков и долгов в зависимости от уровня дохода.\n",
    "   - Корреляция между уровнем дохода и наличием долга невелика (-0.012), что указывает на слабую отрицательную связь между этими двумя переменными.\n",
    "\n",
    "Общий вывод:\n",
    "Уровень дохода оказывает влияние на вероятность возникновения долга по кредиту. Заемщики с более низким доходом (0-50k) обычно имеют более низкий процент долга, в то время как уровень долга увеличивается с ростом дохода, достигая пика в категории \"100k-150k\". Однако стоит отметить, что корреляция между уровнем дохода и долгами слаба, и для более точного анализа необходимо рассматривать и другие факторы, такие как семейное положение и цель кредита."
   ]
  },
  {
   "cell_type": "markdown",
   "id": "3f2ca97c",
   "metadata": {
    "deletable": false,
    "editable": false,
    "id": "99ecbd1f"
   },
   "source": [
    "#### 3.4 Как разные цели кредита влияют на его возврат в срок?"
   ]
  },
  {
   "cell_type": "code",
   "execution_count": 25,
   "id": "271bc701",
   "metadata": {
    "deletable": false,
    "id": "2b687290"
   },
   "outputs": [
    {
     "data": {
      "text/html": [
       "<div>\n",
       "<style scoped>\n",
       "    .dataframe tbody tr th:only-of-type {\n",
       "        vertical-align: middle;\n",
       "    }\n",
       "\n",
       "    .dataframe tbody tr th {\n",
       "        vertical-align: top;\n",
       "    }\n",
       "\n",
       "    .dataframe thead th {\n",
       "        text-align: right;\n",
       "    }\n",
       "</style>\n",
       "<table border=\"1\" class=\"dataframe\">\n",
       "  <thead>\n",
       "    <tr style=\"text-align: right;\">\n",
       "      <th>debt</th>\n",
       "      <th>0</th>\n",
       "      <th>1</th>\n",
       "      <th>%_debt</th>\n",
       "    </tr>\n",
       "    <tr>\n",
       "      <th>purpose_category</th>\n",
       "      <th></th>\n",
       "      <th></th>\n",
       "      <th></th>\n",
       "    </tr>\n",
       "  </thead>\n",
       "  <tbody>\n",
       "    <tr>\n",
       "      <th>операции с автомобилем</th>\n",
       "      <td>3879</td>\n",
       "      <td>400</td>\n",
       "      <td>0.093480</td>\n",
       "    </tr>\n",
       "    <tr>\n",
       "      <th>операции с недвижимостью</th>\n",
       "      <td>9971</td>\n",
       "      <td>780</td>\n",
       "      <td>0.072551</td>\n",
       "    </tr>\n",
       "    <tr>\n",
       "      <th>получение образования</th>\n",
       "      <td>3619</td>\n",
       "      <td>369</td>\n",
       "      <td>0.092528</td>\n",
       "    </tr>\n",
       "    <tr>\n",
       "      <th>проведение свадьбы</th>\n",
       "      <td>2130</td>\n",
       "      <td>183</td>\n",
       "      <td>0.079118</td>\n",
       "    </tr>\n",
       "  </tbody>\n",
       "</table>\n",
       "</div>"
      ],
      "text/plain": [
       "debt                         0    1    %_debt\n",
       "purpose_category                             \n",
       "операции с автомобилем    3879  400  0.093480\n",
       "операции с недвижимостью  9971  780  0.072551\n",
       "получение образования     3619  369  0.092528\n",
       "проведение свадьбы        2130  183  0.079118"
      ]
     },
     "metadata": {},
     "output_type": "display_data"
    },
    {
     "data": {
      "image/png": "[encoded data removed]",
      "text/plain": [
       "<Figure size 720x432 with 1 Axes>"
      ]
     },
     "metadata": {
      "needs_background": "light"
     },
     "output_type": "display_data"
    },
    {
     "name": "stdout",
     "output_type": "stream",
     "text": [
      "\n",
      "Кросс-таблица для целей кредита и долга:\n"
     ]
    },
    {
     "data": {
      "text/html": [
       "<div>\n",
       "<style scoped>\n",
       "    .dataframe tbody tr th:only-of-type {\n",
       "        vertical-align: middle;\n",
       "    }\n",
       "\n",
       "    .dataframe tbody tr th {\n",
       "        vertical-align: top;\n",
       "    }\n",
       "\n",
       "    .dataframe thead th {\n",
       "        text-align: right;\n",
       "    }\n",
       "</style>\n",
       "<table border=\"1\" class=\"dataframe\">\n",
       "  <thead>\n",
       "    <tr style=\"text-align: right;\">\n",
       "      <th>debt</th>\n",
       "      <th>0</th>\n",
       "      <th>1</th>\n",
       "    </tr>\n",
       "    <tr>\n",
       "      <th>purpose_category</th>\n",
       "      <th></th>\n",
       "      <th></th>\n",
       "    </tr>\n",
       "  </thead>\n",
       "  <tbody>\n",
       "    <tr>\n",
       "      <th>операции с автомобилем</th>\n",
       "      <td>3879</td>\n",
       "      <td>400</td>\n",
       "    </tr>\n",
       "    <tr>\n",
       "      <th>операции с недвижимостью</th>\n",
       "      <td>9971</td>\n",
       "      <td>780</td>\n",
       "    </tr>\n",
       "    <tr>\n",
       "      <th>получение образования</th>\n",
       "      <td>3619</td>\n",
       "      <td>369</td>\n",
       "    </tr>\n",
       "    <tr>\n",
       "      <th>проведение свадьбы</th>\n",
       "      <td>2130</td>\n",
       "      <td>183</td>\n",
       "    </tr>\n",
       "  </tbody>\n",
       "</table>\n",
       "</div>"
      ],
      "text/plain": [
       "debt                         0    1\n",
       "purpose_category                   \n",
       "операции с автомобилем    3879  400\n",
       "операции с недвижимостью  9971  780\n",
       "получение образования     3619  369\n",
       "проведение свадьбы        2130  183"
      ]
     },
     "metadata": {},
     "output_type": "display_data"
    },
    {
     "name": "stdout",
     "output_type": "stream",
     "text": [
      "\n",
      "Корреляционная матрица для целей кредита и долга:\n"
     ]
    },
    {
     "data": {
      "text/html": [
       "<div>\n",
       "<style scoped>\n",
       "    .dataframe tbody tr th:only-of-type {\n",
       "        vertical-align: middle;\n",
       "    }\n",
       "\n",
       "    .dataframe tbody tr th {\n",
       "        vertical-align: top;\n",
       "    }\n",
       "\n",
       "    .dataframe thead th {\n",
       "        text-align: right;\n",
       "    }\n",
       "</style>\n",
       "<table border=\"1\" class=\"dataframe\">\n",
       "  <thead>\n",
       "    <tr style=\"text-align: right;\">\n",
       "      <th></th>\n",
       "      <th>debt</th>\n",
       "    </tr>\n",
       "  </thead>\n",
       "  <tbody>\n",
       "    <tr>\n",
       "      <th>debt</th>\n",
       "      <td>1.0</td>\n",
       "    </tr>\n",
       "  </tbody>\n",
       "</table>\n",
       "</div>"
      ],
      "text/plain": [
       "      debt\n",
       "debt   1.0"
      ]
     },
     "metadata": {},
     "output_type": "display_data"
    }
   ],
   "source": [
    "# Таблица с данными\n",
    "data['purpose_category'] = data['purpose'].apply(lambda x: categorize_purpose(x))\n",
    "aim_debt = data.pivot_table(index=['purpose_category'], columns=['debt'], aggfunc='count')['days_employed']\n",
    "aim_debt['%_debt'] = aim_debt[1] / (aim_debt[0] + aim_debt[1])\n",
    "display(aim_debt)\n",
    "\n",
    "# Создание сводной таблицы для целей кредита и возврата кредита\n",
    "cross_tab_purpose = pd.crosstab(data['purpose_category'], data['debt'])\n",
    "\n",
    "# Визуализация\n",
    "plt.figure(figsize=(10, 6))\n",
    "sns.countplot(x='purpose_category', hue='debt', data=data)\n",
    "plt.title('Зависимость наличия долга от целей кредита')\n",
    "plt.xticks(rotation=45, ha='right')\n",
    "plt.show()\n",
    "\n",
    "# Кросс-таблица\n",
    "print('\\nКросс-таблица для целей кредита и долга:')\n",
    "display(cross_tab_purpose)\n",
    "\n",
    "# Корреляция\n",
    "correlation_purpose = data[['purpose_category', 'debt']].corr()\n",
    "print('\\nКорреляционная матрица для целей кредита и долга:')\n",
    "display(correlation_purpose)"
   ]
  },
  {
   "cell_type": "markdown",
   "id": "42b824d7",
   "metadata": {
    "deletable": false,
    "id": "b4bb2ce6"
   },
   "source": [
    "**Вывод:** \n",
    "1. Цель кредита и долг:\n",
    "   - Заемщики, чья цель кредита связана с операциями с автомобилем и получением образования, имеют более высокий процент долгов, чем те, кто берет кредит на операции с недвижимостью или проведение свадьбы.\n",
    "   - Заемщики, берущие кредит на операции с недвижимостью, демонстрируют более низкий процент долгов по сравнению с другими категориями.\n",
    "2. Кросс-таблица и корреляция:\n",
    "   - Кросс-таблица предоставляет детализированную информацию о количестве заемщиков и долгов в зависимости от цели кредита.\n",
    "   - Корреляция между целью кредита и наличием долга представлена как 1.0, что не является информативным показателем, возможно, из-за особенностей представления данных.\n",
    "\n",
    "Общий вывод:\n",
    "На основе данных видно, что цель кредита может влиять на вероятность возникновения долга по кредиту. Заемщики, берущие кредит на операции с автомобилем или получение образования, более склонны к долгам, в то время как клиенты, цель которых связана с операциями с недвижимостью или проведением свадьбы, имеют более низкий процент долгов. Однако стоит отметить, что корреляция между целью кредита и долгами требует дополнительного анализа, так как ее значение может быть искажено особенностями данных."
   ]
  },
  {
   "cell_type": "markdown",
   "id": "5bc03e44",
   "metadata": {
    "deletable": false,
    "editable": false,
    "id": "09c3ac4c"
   },
   "source": [
    "#### 3.5 Приведите возможные причины появления пропусков в исходных данных."
   ]
  },
  {
   "cell_type": "markdown",
   "id": "0b840093",
   "metadata": {
    "deletable": false,
    "id": "9da2ceda"
   },
   "source": [
    "## Возможные причины появления пропусков в исходных данных:\n",
    "В данном случае возможно несколько причин появления пропусков в исходных данных.\n",
    "\n",
    "**1. Ошибки при сборе данных:**\n",
    "\n",
    "Ошибки ввода: Ошибки при вводе данных вручную или при сканировании.\n",
    "\n",
    "Недостаточная подготовка: Нечеткие инструкции или недостаточная квалификация \n",
    "персонала, ведущего сбор данных.\n",
    "\n",
    "Технические проблемы: Сбои в работе оборудования или программного обеспечения.\n",
    "\n",
    "**2. Отсутствие информации:**\n",
    "\n",
    "Недоступность информации: Данные могут быть недоступны из-за\n",
    "\n",
    "-отсутствия документации,\n",
    "\n",
    "-конфиденциальности,\n",
    "\n",
    "-или по другим причинам."
   ]
  },
  {
   "cell_type": "markdown",
   "id": "5705ff64",
   "metadata": {
    "deletable": false,
    "editable": false,
    "id": "7b0487d6"
   },
   "source": [
    "#### 3.6 Объясните, почему заполнить пропуски медианным значением — лучшее решение для количественных переменных."
   ]
  },
  {
   "cell_type": "markdown",
   "id": "947b1d25",
   "metadata": {
    "deletable": false,
    "id": "7ecf2b8e"
   },
   "source": [
    "## Заполнение пропусков медианным значением для количественных переменных:\n",
    "\n",
    "**1. Сохранение центральной тенденции:**\n",
    "\n",
    "Медиана, как и среднее значение, является мерой центральной тенденции. \n",
    "Заполнение пропусков медианным значением позволяет сохранить \n",
    "центральную тенденцию данных без искажения.\n",
    "\n",
    "**2. Устойчивость к выбросам:**\n",
    "\n",
    "Медиана менее чувствительна к выбросам, чем среднее значение. \n",
    "Это означает, что выбросы не будут иметь \n",
    "непропорционального влияния на медианное значение.\n",
    "\n",
    "**3. Простота вычисления:**\n",
    "\n",
    "Медиана может быть легко вычислена без использования сложных \n",
    "математических формул.\n",
    "\n",
    "**4. Не требует нормальности распределения:**\n",
    "\n",
    "В отличие от среднего значения, медиана не требует, \n",
    "чтобы данные были нормально распределены.\n",
    "\n",
    "**5. Подходит для асимметричных данных:**\n",
    "\n",
    "Медиана является более надежной мерой центральной \n",
    "тенденции для асимметричных данных, чем среднее значение.\n",
    "\n",
    "**6. Интерпретируемость:**\n",
    "\n",
    "Медиана может быть легко интерпретирована как значение, \n",
    "которое делит данные на две равные части.\n",
    "\n",
    "**7. Сохранение порядковых отношений:**\n",
    "\n",
    "Медиана сохраняет порядковые отношения между \n",
    "наблюдениями, что важно для некоторых типов данных.\n",
    "\n",
    "**8. Универсальность:**\n",
    "\n",
    "Медиана может быть использована для \n",
    "заполнения пропусков в различных типах количественных \n",
    "переменных."
   ]
  },
  {
   "cell_type": "markdown",
   "id": "722560b0",
   "metadata": {
    "deletable": false,
    "editable": false,
    "id": "6db5255a"
   },
   "source": [
    "### Шаг 4: общий вывод."
   ]
  },
  {
   "cell_type": "markdown",
   "id": "9f753f30",
   "metadata": {
    "deletable": false,
    "id": "bad65432"
   },
   "source": [
    "1. **Предобработка данных:**\n",
    "   - Удаление дубликатов: Произведена тщательная очистка данных от явных и неявных дубликатов, что обеспечило надежность и точность анализа.\n",
    "   - Заполнение пропущенных значений: Произведено заполнение пропущенных значений, основываясь на методах, сохраняющих структуру данных и уменьшающих влияние пропусков на результаты анализа.\n",
    "   - Исправление аномалий: Выявлены и исправлены аномалии в данных для повышения их качества.\n",
    "\n",
    "2. **Типизация и категоризация данных:**\n",
    "   - Произведена тщательная типизация данных для правильной интерпретации информации.\n",
    "   - Категоризация данных: Данные были разделены на категории, учитывая специфику их влияния на возврат кредитов.\n",
    "\n",
    "3. **Анализ влияния факторов на возврат кредита в срок:**\n",
    "  \n",
    "**Зависимость от количества детей и возврат кредита в срок:**\n",
    "\n",
    "Наличие детей слабо влияет на вероятность возникновения долга по кредиту.\n",
    "Заемщики без детей имеют более низкий процент долгов, но процент долгов у заемщиков с детьми также остается на относительно невысоком уровне.\n",
    "\n",
    "Доля невозврата:\n",
    "\n",
    "Лучшая категория: Заемщики без детей (процент невозврата - 7.5438 %).\n",
    "\n",
    "Худшая категория: Заемщики с четырьмя и более детьми (процент невозврата - 9.7561 %).\n",
    "\n",
    "На основе данных можно сказать, что наличие детей в семье может слегка повысить вероятность возникновения долга по кредиту.\n",
    "Заемщики с тремя и более детьми более подвержены долгам, чем те, у кого детей меньше.\n",
    "Однако, стоит отметить, что связь между количеством детей и долгами не является сильной, и другие факторы, такие как уровень дохода и цель кредита, также могут оказывать влияние на этот процесс.\n",
    "\n",
    "**Зависимость между семейным положением и возвратом кредита в срок:**\n",
    "\n",
    "Семейное положение оказывает некоторое влияние на возврат кредита в срок.\n",
    "Заемщики в категории \"вдовец/вдова\" имеют самый низкий процент долгов, что свидетельствует о более высокой надежности возврата в этой группе.\n",
    "Заемщики в гражданском браке или не женатые/не замужние чаще сталкиваются с проблемами в возврате кредита, имея более высокий процент долгов.\n",
    "\n",
    "Доля невозврата:\n",
    "\n",
    "Лучшая категория: Заемщики вдовцы/вдовы (процент невозврата - 6.6246 %).\n",
    "\n",
    "Худшая категория: Заемщики в гражданском браке (процент невозврата - 9.313 %).\n",
    "\n",
    "**Зависимость между уровнем дохода и возвратом кредита в срок:**\n",
    "\n",
    "Уровень дохода оказывает влияние на вероятность возникновения долга по кредиту. Заемщики с более низким доходом (0-50k) обычно имеют более низкий процент долга, в то время как уровень долга увеличивается с ростом дохода, достигая пика в категории \"100k-150k\".\n",
    "\n",
    "Доля невозврата:\n",
    "\n",
    "Лучшая категория: Заемщики с доходом 0-50k (процент невозврата - 6.1995 %).\n",
    "\n",
    "Худшая категория: Заемщики с доходом 100k-150k (процент невозврата - 8.706 %).\n",
    "\n",
    "**Влияние разных целей кредита на возврат в срок:**\n",
    "\n",
    "Цель кредита также играет роль в возврате кредита.\n",
    "Заемщики, берущие кредит на операции с автомобилем или получение образования, более склонны к долгам.\n",
    "Заемщики, цель которых связана с операциями с недвижимостью или свадьбой, имеют более низкий процент долгов.\n",
    "\n",
    "Доля невозврата:\n",
    "\n",
    "Лучшая категория: Заемщики берущие кредит на операции с недвижимостью (процент невозврата - 7.2551 %).\n",
    "\n",
    "Худшая категория: Заемщики берущие кредит на операции с автомобилем\t(процент невозврата - 9.348 %).\n",
    "\n",
    "4. **Скоринговая модель и выводы:**\n",
    "   - На основе анализа данных может быть разработана скоринговая модель, в которой учтены ключевые факторы, влияющие на возврат кредита в срок.\n",
    "   - Вывод: Предложенные переменные, такие как количество детей, ежемесячный доход, семейное положение и цель кредита, существенно влияют на прогнозирование возврата кредита. Модель предоставляет инструмент для эффективной оценки рисков и принятия обоснованных решений в сфере кредитования.\n",
    "\n",
    "Таким образом, результаты исследования подтверждают, что учет перечисленных факторов существенно улучшает точность прогнозирования возврата кредитов и может быть успешно использован в практике кредитных организаций для минимизации рисков."
   ]
  }
 ],
 "metadata": {
  "ExecuteTimeLog": [
   {
    "duration": 52,
    "start_time": "2024-02-04T18:12:49.508Z"
   },
   {
    "duration": 1022,
    "start_time": "2024-02-04T18:13:31.883Z"
   },
   {
    "duration": 97,
    "start_time": "2024-02-04T18:32:47.524Z"
   },
   {
    "duration": 830,
    "start_time": "2024-02-04T18:43:14.086Z"
   },
   {
    "duration": 278,
    "start_time": "2024-02-04T18:45:54.979Z"
   },
   {
    "duration": 287,
    "start_time": "2024-02-04T18:49:33.046Z"
   },
   {
    "duration": 280,
    "start_time": "2024-02-04T18:52:33.641Z"
   },
   {
    "duration": 264,
    "start_time": "2024-02-04T18:58:07.120Z"
   },
   {
    "duration": 915,
    "start_time": "2024-02-04T19:11:53.172Z"
   },
   {
    "duration": 953,
    "start_time": "2024-02-04T19:13:27.531Z"
   },
   {
    "duration": 296,
    "start_time": "2024-02-04T19:27:38.925Z"
   },
   {
    "duration": 303,
    "start_time": "2024-02-04T19:36:10.765Z"
   },
   {
    "duration": 303,
    "start_time": "2024-02-04T19:44:10.028Z"
   },
   {
    "duration": 910,
    "start_time": "2024-02-04T19:53:49.179Z"
   },
   {
    "duration": 336,
    "start_time": "2024-02-04T19:53:54.071Z"
   },
   {
    "duration": 665,
    "start_time": "2024-02-05T11:54:06.573Z"
   },
   {
    "duration": 24,
    "start_time": "2024-02-05T11:54:07.240Z"
   },
   {
    "duration": 18,
    "start_time": "2024-02-05T11:54:07.266Z"
   },
   {
    "duration": 18,
    "start_time": "2024-02-05T11:54:07.285Z"
   },
   {
    "duration": 44,
    "start_time": "2024-02-05T11:54:07.306Z"
   },
   {
    "duration": 4,
    "start_time": "2024-02-05T11:54:07.351Z"
   },
   {
    "duration": 25,
    "start_time": "2024-02-05T11:54:07.357Z"
   },
   {
    "duration": 21,
    "start_time": "2024-02-05T11:54:07.383Z"
   },
   {
    "duration": 33,
    "start_time": "2024-02-05T11:54:07.405Z"
   },
   {
    "duration": 8,
    "start_time": "2024-02-05T11:54:07.439Z"
   },
   {
    "duration": 59,
    "start_time": "2024-02-05T11:54:07.449Z"
   },
   {
    "duration": 12,
    "start_time": "2024-02-05T11:54:07.509Z"
   },
   {
    "duration": 4,
    "start_time": "2024-02-05T11:54:07.523Z"
   },
   {
    "duration": 14,
    "start_time": "2024-02-05T11:54:07.530Z"
   },
   {
    "duration": 25,
    "start_time": "2024-02-05T11:54:07.546Z"
   },
   {
    "duration": 17,
    "start_time": "2024-02-05T11:54:07.573Z"
   },
   {
    "duration": 6,
    "start_time": "2024-02-05T11:54:07.591Z"
   },
   {
    "duration": 32,
    "start_time": "2024-02-05T11:54:07.599Z"
   },
   {
    "duration": 10,
    "start_time": "2024-02-05T11:54:07.633Z"
   },
   {
    "duration": 13,
    "start_time": "2024-02-05T11:54:07.644Z"
   },
   {
    "duration": 29,
    "start_time": "2024-02-05T11:54:07.658Z"
   },
   {
    "duration": 1309,
    "start_time": "2024-02-05T11:54:07.689Z"
   },
   {
    "duration": 240,
    "start_time": "2024-02-05T11:54:08.999Z"
   },
   {
    "duration": 1011,
    "start_time": "2024-02-05T11:54:09.240Z"
   },
   {
    "duration": 297,
    "start_time": "2024-02-05T11:54:10.252Z"
   },
   {
    "duration": 622,
    "start_time": "2024-02-05T15:13:53.220Z"
   },
   {
    "duration": 18,
    "start_time": "2024-02-05T15:13:53.844Z"
   },
   {
    "duration": 17,
    "start_time": "2024-02-05T15:13:53.864Z"
   },
   {
    "duration": 7,
    "start_time": "2024-02-05T15:13:53.882Z"
   },
   {
    "duration": 35,
    "start_time": "2024-02-05T15:13:53.891Z"
   },
   {
    "duration": 3,
    "start_time": "2024-02-05T15:13:53.927Z"
   },
   {
    "duration": 13,
    "start_time": "2024-02-05T15:13:53.931Z"
   },
   {
    "duration": 16,
    "start_time": "2024-02-05T15:13:53.945Z"
   },
   {
    "duration": 12,
    "start_time": "2024-02-05T15:13:53.962Z"
   },
   {
    "duration": 3,
    "start_time": "2024-02-05T15:13:53.975Z"
   },
   {
    "duration": 26,
    "start_time": "2024-02-05T15:13:53.979Z"
   },
   {
    "duration": 8,
    "start_time": "2024-02-05T15:13:54.006Z"
   },
   {
    "duration": 10,
    "start_time": "2024-02-05T15:13:54.015Z"
   },
   {
    "duration": 11,
    "start_time": "2024-02-05T15:13:54.027Z"
   },
   {
    "duration": 18,
    "start_time": "2024-02-05T15:13:54.039Z"
   },
   {
    "duration": 14,
    "start_time": "2024-02-05T15:13:54.058Z"
   },
   {
    "duration": 3,
    "start_time": "2024-02-05T15:13:54.073Z"
   },
   {
    "duration": 10,
    "start_time": "2024-02-05T15:13:54.077Z"
   },
   {
    "duration": 14,
    "start_time": "2024-02-05T15:13:54.088Z"
   },
   {
    "duration": 3,
    "start_time": "2024-02-05T15:13:54.103Z"
   },
   {
    "duration": 34,
    "start_time": "2024-02-05T15:13:54.107Z"
   },
   {
    "duration": 1029,
    "start_time": "2024-02-05T15:13:54.142Z"
   },
   {
    "duration": 186,
    "start_time": "2024-02-05T15:13:55.173Z"
   },
   {
    "duration": 1143,
    "start_time": "2024-02-05T15:13:55.360Z"
   },
   {
    "duration": 499,
    "start_time": "2024-02-05T15:13:56.504Z"
   },
   {
    "duration": 1836,
    "start_time": "2024-02-05T18:11:54.748Z"
   },
   {
    "duration": 248,
    "start_time": "2024-02-05T18:12:29.848Z"
   },
   {
    "duration": 259,
    "start_time": "2024-02-05T18:13:41.497Z"
   },
   {
    "duration": 247,
    "start_time": "2024-02-05T18:14:57.417Z"
   },
   {
    "duration": 305,
    "start_time": "2024-02-05T18:16:18.873Z"
   },
   {
    "duration": 260,
    "start_time": "2024-02-05T18:20:43.411Z"
   },
   {
    "duration": 218,
    "start_time": "2024-02-05T18:22:05.934Z"
   },
   {
    "duration": 273,
    "start_time": "2024-02-05T18:25:28.822Z"
   },
   {
    "duration": 31,
    "start_time": "2024-02-05T18:26:48.600Z"
   },
   {
    "duration": 179,
    "start_time": "2024-02-05T18:29:27.268Z"
   },
   {
    "duration": 245,
    "start_time": "2024-02-05T18:34:31.737Z"
   },
   {
    "duration": 175,
    "start_time": "2024-02-05T18:36:20.047Z"
   },
   {
    "duration": 106,
    "start_time": "2024-02-05T18:36:59.079Z"
   },
   {
    "duration": 204,
    "start_time": "2024-02-05T18:37:43.703Z"
   },
   {
    "duration": 259,
    "start_time": "2024-02-05T18:38:48.766Z"
   },
   {
    "duration": 175,
    "start_time": "2024-02-05T18:40:36.001Z"
   },
   {
    "duration": 730,
    "start_time": "2024-02-05T18:42:41.359Z"
   },
   {
    "duration": 16,
    "start_time": "2024-02-05T18:42:58.052Z"
   },
   {
    "duration": 23,
    "start_time": "2024-02-05T18:44:19.593Z"
   },
   {
    "duration": 223,
    "start_time": "2024-02-05T18:47:50.753Z"
   },
   {
    "duration": 219,
    "start_time": "2024-02-05T18:48:45.726Z"
   },
   {
    "duration": 225,
    "start_time": "2024-02-05T18:52:35.681Z"
   },
   {
    "duration": 11,
    "start_time": "2024-02-05T18:53:55.254Z"
   },
   {
    "duration": 17,
    "start_time": "2024-02-05T18:55:17.247Z"
   },
   {
    "duration": 204,
    "start_time": "2024-02-05T18:55:36.049Z"
   },
   {
    "duration": 283,
    "start_time": "2024-02-05T18:56:03.753Z"
   },
   {
    "duration": 14,
    "start_time": "2024-02-05T18:57:33.426Z"
   },
   {
    "duration": 7,
    "start_time": "2024-02-05T18:59:23.935Z"
   },
   {
    "duration": 4,
    "start_time": "2024-02-05T19:00:19.136Z"
   },
   {
    "duration": 3,
    "start_time": "2024-02-05T19:01:55.939Z"
   },
   {
    "duration": 3,
    "start_time": "2024-02-05T19:02:22.695Z"
   },
   {
    "duration": 11,
    "start_time": "2024-02-05T19:03:16.941Z"
   },
   {
    "duration": 717,
    "start_time": "2024-02-05T19:04:14.770Z"
   },
   {
    "duration": 82,
    "start_time": "2024-02-06T20:16:27.859Z"
   },
   {
    "duration": 9,
    "start_time": "2024-02-06T20:16:50.552Z"
   },
   {
    "duration": 10,
    "start_time": "2024-02-06T20:17:31.021Z"
   },
   {
    "duration": 9,
    "start_time": "2024-02-06T20:18:50.625Z"
   },
   {
    "duration": 9,
    "start_time": "2024-02-06T20:23:30.333Z"
   },
   {
    "duration": 11,
    "start_time": "2024-02-06T20:25:35.411Z"
   },
   {
    "duration": 10,
    "start_time": "2024-02-06T20:26:36.443Z"
   },
   {
    "duration": 10,
    "start_time": "2024-02-06T20:27:19.377Z"
   },
   {
    "duration": 9,
    "start_time": "2024-02-06T20:28:02.383Z"
   },
   {
    "duration": 9,
    "start_time": "2024-02-06T20:29:03.556Z"
   },
   {
    "duration": 12,
    "start_time": "2024-02-06T20:29:21.912Z"
   },
   {
    "duration": 10,
    "start_time": "2024-02-06T20:29:32.861Z"
   },
   {
    "duration": 1660,
    "start_time": "2024-02-06T20:31:36.439Z"
   },
   {
    "duration": 328,
    "start_time": "2024-02-06T20:31:53.018Z"
   },
   {
    "duration": 79,
    "start_time": "2024-02-06T20:32:36.752Z"
   },
   {
    "duration": 78,
    "start_time": "2024-02-06T20:34:48.672Z"
   },
   {
    "duration": 16,
    "start_time": "2024-02-06T20:34:48.752Z"
   },
   {
    "duration": 26,
    "start_time": "2024-02-06T20:34:48.769Z"
   },
   {
    "duration": 21,
    "start_time": "2024-02-06T20:34:48.797Z"
   },
   {
    "duration": 41,
    "start_time": "2024-02-06T20:34:48.820Z"
   },
   {
    "duration": 3,
    "start_time": "2024-02-06T20:34:48.863Z"
   },
   {
    "duration": 8,
    "start_time": "2024-02-06T20:34:48.882Z"
   },
   {
    "duration": 6,
    "start_time": "2024-02-06T20:34:48.892Z"
   },
   {
    "duration": 14,
    "start_time": "2024-02-06T20:34:48.899Z"
   },
   {
    "duration": 12,
    "start_time": "2024-02-06T20:34:48.915Z"
   },
   {
    "duration": 58,
    "start_time": "2024-02-06T20:34:48.928Z"
   },
   {
    "duration": 18,
    "start_time": "2024-02-06T20:34:48.988Z"
   },
   {
    "duration": 5,
    "start_time": "2024-02-06T20:34:49.009Z"
   },
   {
    "duration": 21,
    "start_time": "2024-02-06T20:34:49.016Z"
   },
   {
    "duration": 52,
    "start_time": "2024-02-06T20:34:49.039Z"
   },
   {
    "duration": 19,
    "start_time": "2024-02-06T20:34:49.092Z"
   },
   {
    "duration": 3,
    "start_time": "2024-02-06T20:34:49.113Z"
   },
   {
    "duration": 22,
    "start_time": "2024-02-06T20:34:49.118Z"
   },
   {
    "duration": 6,
    "start_time": "2024-02-06T20:34:49.142Z"
   },
   {
    "duration": 7,
    "start_time": "2024-02-06T20:34:49.149Z"
   },
   {
    "duration": 31,
    "start_time": "2024-02-06T20:34:49.158Z"
   },
   {
    "duration": 333,
    "start_time": "2024-02-06T20:34:49.191Z"
   },
   {
    "duration": 242,
    "start_time": "2024-02-06T20:34:49.526Z"
   },
   {
    "duration": 92,
    "start_time": "2024-02-06T20:34:49.769Z"
   },
   {
    "duration": 0,
    "start_time": "2024-02-06T20:34:49.863Z"
   },
   {
    "duration": 78,
    "start_time": "2024-02-06T20:35:24.766Z"
   },
   {
    "duration": 16,
    "start_time": "2024-02-06T20:35:24.845Z"
   },
   {
    "duration": 23,
    "start_time": "2024-02-06T20:35:24.863Z"
   },
   {
    "duration": 12,
    "start_time": "2024-02-06T20:35:24.888Z"
   },
   {
    "duration": 37,
    "start_time": "2024-02-06T20:35:24.901Z"
   },
   {
    "duration": 3,
    "start_time": "2024-02-06T20:35:24.940Z"
   },
   {
    "duration": 38,
    "start_time": "2024-02-06T20:35:24.945Z"
   },
   {
    "duration": 5,
    "start_time": "2024-02-06T20:35:24.985Z"
   },
   {
    "duration": 9,
    "start_time": "2024-02-06T20:35:24.991Z"
   },
   {
    "duration": 7,
    "start_time": "2024-02-06T20:35:25.003Z"
   },
   {
    "duration": 39,
    "start_time": "2024-02-06T20:35:25.012Z"
   },
   {
    "duration": 34,
    "start_time": "2024-02-06T20:35:25.052Z"
   },
   {
    "duration": 4,
    "start_time": "2024-02-06T20:35:25.088Z"
   },
   {
    "duration": 15,
    "start_time": "2024-02-06T20:35:25.094Z"
   },
   {
    "duration": 19,
    "start_time": "2024-02-06T20:35:25.111Z"
   },
   {
    "duration": 17,
    "start_time": "2024-02-06T20:35:25.132Z"
   },
   {
    "duration": 32,
    "start_time": "2024-02-06T20:35:25.151Z"
   },
   {
    "duration": 21,
    "start_time": "2024-02-06T20:35:25.184Z"
   },
   {
    "duration": 11,
    "start_time": "2024-02-06T20:35:25.206Z"
   },
   {
    "duration": 4,
    "start_time": "2024-02-06T20:35:25.219Z"
   },
   {
    "duration": 10,
    "start_time": "2024-02-06T20:35:25.225Z"
   },
   {
    "duration": 324,
    "start_time": "2024-02-06T20:35:25.236Z"
   },
   {
    "duration": 249,
    "start_time": "2024-02-06T20:35:25.561Z"
   },
   {
    "duration": 24,
    "start_time": "2024-02-06T20:35:25.812Z"
   },
   {
    "duration": 0,
    "start_time": "2024-02-06T20:35:25.839Z"
   },
   {
    "duration": 134,
    "start_time": "2024-02-06T20:37:26.841Z"
   },
   {
    "duration": 301,
    "start_time": "2024-02-06T20:37:49.226Z"
   },
   {
    "duration": 323,
    "start_time": "2024-02-06T20:37:59.360Z"
   },
   {
    "duration": 220,
    "start_time": "2024-02-06T20:38:44.880Z"
   },
   {
    "duration": 225,
    "start_time": "2024-02-06T20:39:41.628Z"
   },
   {
    "duration": 278,
    "start_time": "2024-02-06T20:40:46.762Z"
   },
   {
    "duration": 18,
    "start_time": "2024-02-06T20:41:44.445Z"
   },
   {
    "duration": 75,
    "start_time": "2024-02-06T20:42:11.027Z"
   },
   {
    "duration": 76,
    "start_time": "2024-02-06T20:42:18.357Z"
   },
   {
    "duration": 78,
    "start_time": "2024-02-06T20:42:59.371Z"
   },
   {
    "duration": 16,
    "start_time": "2024-02-06T20:42:59.452Z"
   },
   {
    "duration": 23,
    "start_time": "2024-02-06T20:42:59.469Z"
   },
   {
    "duration": 20,
    "start_time": "2024-02-06T20:42:59.494Z"
   },
   {
    "duration": 39,
    "start_time": "2024-02-06T20:42:59.516Z"
   },
   {
    "duration": 4,
    "start_time": "2024-02-06T20:42:59.556Z"
   },
   {
    "duration": 24,
    "start_time": "2024-02-06T20:42:59.562Z"
   },
   {
    "duration": 5,
    "start_time": "2024-02-06T20:42:59.588Z"
   },
   {
    "duration": 6,
    "start_time": "2024-02-06T20:42:59.594Z"
   },
   {
    "duration": 4,
    "start_time": "2024-02-06T20:42:59.603Z"
   },
   {
    "duration": 39,
    "start_time": "2024-02-06T20:42:59.609Z"
   },
   {
    "duration": 12,
    "start_time": "2024-02-06T20:42:59.681Z"
   },
   {
    "duration": 5,
    "start_time": "2024-02-06T20:42:59.695Z"
   },
   {
    "duration": 11,
    "start_time": "2024-02-06T20:42:59.702Z"
   },
   {
    "duration": 29,
    "start_time": "2024-02-06T20:42:59.715Z"
   },
   {
    "duration": 46,
    "start_time": "2024-02-06T20:42:59.746Z"
   },
   {
    "duration": 4,
    "start_time": "2024-02-06T20:42:59.793Z"
   },
   {
    "duration": 12,
    "start_time": "2024-02-06T20:42:59.799Z"
   },
   {
    "duration": 17,
    "start_time": "2024-02-06T20:42:59.813Z"
   },
   {
    "duration": 5,
    "start_time": "2024-02-06T20:42:59.832Z"
   },
   {
    "duration": 14,
    "start_time": "2024-02-06T20:42:59.839Z"
   },
   {
    "duration": 355,
    "start_time": "2024-02-06T20:42:59.854Z"
   },
   {
    "duration": 240,
    "start_time": "2024-02-06T20:43:00.210Z"
   },
   {
    "duration": 33,
    "start_time": "2024-02-06T20:43:00.452Z"
   },
   {
    "duration": 0,
    "start_time": "2024-02-06T20:43:00.487Z"
   },
   {
    "duration": 1346,
    "start_time": "2024-02-06T20:43:43.862Z"
   },
   {
    "duration": 28,
    "start_time": "2024-02-06T20:43:45.211Z"
   },
   {
    "duration": 34,
    "start_time": "2024-02-06T20:43:45.241Z"
   },
   {
    "duration": 19,
    "start_time": "2024-02-06T20:43:45.277Z"
   },
   {
    "duration": 83,
    "start_time": "2024-02-06T20:43:45.298Z"
   },
   {
    "duration": 3,
    "start_time": "2024-02-06T20:43:45.383Z"
   },
   {
    "duration": 26,
    "start_time": "2024-02-06T20:43:45.388Z"
   },
   {
    "duration": 34,
    "start_time": "2024-02-06T20:43:45.416Z"
   },
   {
    "duration": 28,
    "start_time": "2024-02-06T20:43:45.451Z"
   },
   {
    "duration": 28,
    "start_time": "2024-02-06T20:43:45.481Z"
   },
   {
    "duration": 51,
    "start_time": "2024-02-06T20:43:45.511Z"
   },
   {
    "duration": 11,
    "start_time": "2024-02-06T20:43:45.564Z"
   },
   {
    "duration": 25,
    "start_time": "2024-02-06T20:43:45.576Z"
   },
   {
    "duration": 39,
    "start_time": "2024-02-06T20:43:45.602Z"
   },
   {
    "duration": 39,
    "start_time": "2024-02-06T20:43:45.642Z"
   },
   {
    "duration": 19,
    "start_time": "2024-02-06T20:43:45.682Z"
   },
   {
    "duration": 19,
    "start_time": "2024-02-06T20:43:45.702Z"
   },
   {
    "duration": 142,
    "start_time": "2024-02-06T20:43:45.723Z"
   },
   {
    "duration": 0,
    "start_time": "2024-02-06T20:43:45.867Z"
   },
   {
    "duration": 0,
    "start_time": "2024-02-06T20:43:45.868Z"
   },
   {
    "duration": 0,
    "start_time": "2024-02-06T20:43:45.869Z"
   },
   {
    "duration": 0,
    "start_time": "2024-02-06T20:43:45.870Z"
   },
   {
    "duration": 0,
    "start_time": "2024-02-06T20:43:45.871Z"
   },
   {
    "duration": 0,
    "start_time": "2024-02-06T20:43:45.882Z"
   },
   {
    "duration": 0,
    "start_time": "2024-02-06T20:43:45.883Z"
   },
   {
    "duration": 79,
    "start_time": "2024-02-06T20:44:28.596Z"
   },
   {
    "duration": 16,
    "start_time": "2024-02-06T20:44:28.677Z"
   },
   {
    "duration": 17,
    "start_time": "2024-02-06T20:44:28.695Z"
   },
   {
    "duration": 11,
    "start_time": "2024-02-06T20:44:28.714Z"
   },
   {
    "duration": 62,
    "start_time": "2024-02-06T20:44:28.727Z"
   },
   {
    "duration": 3,
    "start_time": "2024-02-06T20:44:28.791Z"
   },
   {
    "duration": 26,
    "start_time": "2024-02-06T20:44:28.796Z"
   },
   {
    "duration": 10,
    "start_time": "2024-02-06T20:44:28.823Z"
   },
   {
    "duration": 10,
    "start_time": "2024-02-06T20:44:28.835Z"
   },
   {
    "duration": 30,
    "start_time": "2024-02-06T20:44:28.847Z"
   },
   {
    "duration": 50,
    "start_time": "2024-02-06T20:44:28.878Z"
   },
   {
    "duration": 11,
    "start_time": "2024-02-06T20:44:28.929Z"
   },
   {
    "duration": 7,
    "start_time": "2024-02-06T20:44:28.941Z"
   },
   {
    "duration": 11,
    "start_time": "2024-02-06T20:44:28.951Z"
   },
   {
    "duration": 43,
    "start_time": "2024-02-06T20:44:28.964Z"
   },
   {
    "duration": 28,
    "start_time": "2024-02-06T20:44:29.009Z"
   },
   {
    "duration": 4,
    "start_time": "2024-02-06T20:44:29.039Z"
   },
   {
    "duration": 31,
    "start_time": "2024-02-06T20:44:29.045Z"
   },
   {
    "duration": 0,
    "start_time": "2024-02-06T20:44:29.078Z"
   },
   {
    "duration": 0,
    "start_time": "2024-02-06T20:44:29.082Z"
   },
   {
    "duration": 0,
    "start_time": "2024-02-06T20:44:29.083Z"
   },
   {
    "duration": 0,
    "start_time": "2024-02-06T20:44:29.084Z"
   },
   {
    "duration": 0,
    "start_time": "2024-02-06T20:44:29.086Z"
   },
   {
    "duration": 0,
    "start_time": "2024-02-06T20:44:29.087Z"
   },
   {
    "duration": 0,
    "start_time": "2024-02-06T20:44:29.088Z"
   },
   {
    "duration": 1405,
    "start_time": "2024-02-06T20:44:42.047Z"
   },
   {
    "duration": 21,
    "start_time": "2024-02-06T20:44:43.453Z"
   },
   {
    "duration": 27,
    "start_time": "2024-02-06T20:44:43.475Z"
   },
   {
    "duration": 11,
    "start_time": "2024-02-06T20:44:43.504Z"
   },
   {
    "duration": 45,
    "start_time": "2024-02-06T20:44:43.516Z"
   },
   {
    "duration": 3,
    "start_time": "2024-02-06T20:44:43.563Z"
   },
   {
    "duration": 19,
    "start_time": "2024-02-06T20:44:43.568Z"
   },
   {
    "duration": 5,
    "start_time": "2024-02-06T20:44:43.588Z"
   },
   {
    "duration": 9,
    "start_time": "2024-02-06T20:44:43.594Z"
   },
   {
    "duration": 4,
    "start_time": "2024-02-06T20:44:43.606Z"
   },
   {
    "duration": 50,
    "start_time": "2024-02-06T20:44:43.612Z"
   },
   {
    "duration": 22,
    "start_time": "2024-02-06T20:44:43.664Z"
   },
   {
    "duration": 4,
    "start_time": "2024-02-06T20:44:43.688Z"
   },
   {
    "duration": 12,
    "start_time": "2024-02-06T20:44:43.693Z"
   },
   {
    "duration": 20,
    "start_time": "2024-02-06T20:44:43.707Z"
   },
   {
    "duration": 18,
    "start_time": "2024-02-06T20:44:43.729Z"
   },
   {
    "duration": 33,
    "start_time": "2024-02-06T20:44:43.749Z"
   },
   {
    "duration": 124,
    "start_time": "2024-02-06T20:44:43.784Z"
   },
   {
    "duration": 0,
    "start_time": "2024-02-06T20:44:43.909Z"
   },
   {
    "duration": 0,
    "start_time": "2024-02-06T20:44:43.911Z"
   },
   {
    "duration": 0,
    "start_time": "2024-02-06T20:44:43.911Z"
   },
   {
    "duration": 0,
    "start_time": "2024-02-06T20:44:43.912Z"
   },
   {
    "duration": 0,
    "start_time": "2024-02-06T20:44:43.914Z"
   },
   {
    "duration": 0,
    "start_time": "2024-02-06T20:44:43.915Z"
   },
   {
    "duration": 0,
    "start_time": "2024-02-06T20:44:43.916Z"
   },
   {
    "duration": 76,
    "start_time": "2024-02-06T20:44:58.701Z"
   },
   {
    "duration": 16,
    "start_time": "2024-02-06T20:44:58.779Z"
   },
   {
    "duration": 16,
    "start_time": "2024-02-06T20:44:58.796Z"
   },
   {
    "duration": 12,
    "start_time": "2024-02-06T20:44:58.814Z"
   },
   {
    "duration": 59,
    "start_time": "2024-02-06T20:44:58.827Z"
   },
   {
    "duration": 3,
    "start_time": "2024-02-06T20:44:58.888Z"
   },
   {
    "duration": 18,
    "start_time": "2024-02-06T20:44:58.893Z"
   },
   {
    "duration": 7,
    "start_time": "2024-02-06T20:44:58.912Z"
   },
   {
    "duration": 19,
    "start_time": "2024-02-06T20:44:58.921Z"
   },
   {
    "duration": 13,
    "start_time": "2024-02-06T20:44:58.943Z"
   },
   {
    "duration": 44,
    "start_time": "2024-02-06T20:44:58.958Z"
   },
   {
    "duration": 10,
    "start_time": "2024-02-06T20:44:59.004Z"
   },
   {
    "duration": 17,
    "start_time": "2024-02-06T20:44:59.016Z"
   },
   {
    "duration": 12,
    "start_time": "2024-02-06T20:44:59.034Z"
   },
   {
    "duration": 20,
    "start_time": "2024-02-06T20:44:59.047Z"
   },
   {
    "duration": 30,
    "start_time": "2024-02-06T20:44:59.068Z"
   },
   {
    "duration": 5,
    "start_time": "2024-02-06T20:44:59.100Z"
   },
   {
    "duration": 9,
    "start_time": "2024-02-06T20:44:59.107Z"
   },
   {
    "duration": 0,
    "start_time": "2024-02-06T20:44:59.118Z"
   },
   {
    "duration": 0,
    "start_time": "2024-02-06T20:44:59.119Z"
   },
   {
    "duration": 0,
    "start_time": "2024-02-06T20:44:59.121Z"
   },
   {
    "duration": 0,
    "start_time": "2024-02-06T20:44:59.122Z"
   },
   {
    "duration": 0,
    "start_time": "2024-02-06T20:44:59.124Z"
   },
   {
    "duration": 0,
    "start_time": "2024-02-06T20:44:59.125Z"
   },
   {
    "duration": 0,
    "start_time": "2024-02-06T20:44:59.126Z"
   },
   {
    "duration": 1344,
    "start_time": "2024-02-06T20:45:14.666Z"
   },
   {
    "duration": 21,
    "start_time": "2024-02-06T20:45:16.012Z"
   },
   {
    "duration": 16,
    "start_time": "2024-02-06T20:45:16.035Z"
   },
   {
    "duration": 11,
    "start_time": "2024-02-06T20:45:16.053Z"
   },
   {
    "duration": 38,
    "start_time": "2024-02-06T20:45:16.082Z"
   },
   {
    "duration": 4,
    "start_time": "2024-02-06T20:45:16.121Z"
   },
   {
    "duration": 15,
    "start_time": "2024-02-06T20:45:16.126Z"
   },
   {
    "duration": 5,
    "start_time": "2024-02-06T20:45:16.143Z"
   },
   {
    "duration": 17,
    "start_time": "2024-02-06T20:45:16.150Z"
   },
   {
    "duration": 5,
    "start_time": "2024-02-06T20:45:16.181Z"
   },
   {
    "duration": 39,
    "start_time": "2024-02-06T20:45:16.187Z"
   },
   {
    "duration": 12,
    "start_time": "2024-02-06T20:45:16.228Z"
   },
   {
    "duration": 4,
    "start_time": "2024-02-06T20:45:16.242Z"
   },
   {
    "duration": 43,
    "start_time": "2024-02-06T20:45:16.248Z"
   },
   {
    "duration": 23,
    "start_time": "2024-02-06T20:45:16.292Z"
   },
   {
    "duration": 20,
    "start_time": "2024-02-06T20:45:16.317Z"
   },
   {
    "duration": 4,
    "start_time": "2024-02-06T20:45:16.339Z"
   },
   {
    "duration": 137,
    "start_time": "2024-02-06T20:45:16.346Z"
   },
   {
    "duration": 0,
    "start_time": "2024-02-06T20:45:16.485Z"
   },
   {
    "duration": 0,
    "start_time": "2024-02-06T20:45:16.486Z"
   },
   {
    "duration": 0,
    "start_time": "2024-02-06T20:45:16.487Z"
   },
   {
    "duration": 0,
    "start_time": "2024-02-06T20:45:16.488Z"
   },
   {
    "duration": 0,
    "start_time": "2024-02-06T20:45:16.489Z"
   },
   {
    "duration": 0,
    "start_time": "2024-02-06T20:45:16.490Z"
   },
   {
    "duration": 0,
    "start_time": "2024-02-06T20:45:16.491Z"
   },
   {
    "duration": 320,
    "start_time": "2024-02-06T20:45:20.913Z"
   },
   {
    "duration": 255,
    "start_time": "2024-02-06T20:45:30.697Z"
   },
   {
    "duration": 21,
    "start_time": "2024-02-06T20:45:35.821Z"
   },
   {
    "duration": 19,
    "start_time": "2024-02-06T20:45:40.081Z"
   },
   {
    "duration": 861,
    "start_time": "2024-02-06T20:48:17.136Z"
   },
   {
    "duration": 914,
    "start_time": "2024-02-06T20:49:31.738Z"
   },
   {
    "duration": 17,
    "start_time": "2024-02-06T20:50:52.963Z"
   },
   {
    "duration": 264,
    "start_time": "2024-02-06T20:51:53.605Z"
   },
   {
    "duration": 311,
    "start_time": "2024-02-06T20:52:11.536Z"
   },
   {
    "duration": 5,
    "start_time": "2024-02-06T20:53:01.952Z"
   },
   {
    "duration": 12,
    "start_time": "2024-02-06T20:53:20.328Z"
   },
   {
    "duration": 9,
    "start_time": "2024-02-06T20:53:33.293Z"
   },
   {
    "duration": 5,
    "start_time": "2024-02-06T20:54:01.446Z"
   },
   {
    "duration": 11,
    "start_time": "2024-02-06T20:54:10.775Z"
   },
   {
    "duration": 12,
    "start_time": "2024-02-06T20:54:15.907Z"
   },
   {
    "duration": 4,
    "start_time": "2024-02-06T20:54:18.932Z"
   },
   {
    "duration": 1327,
    "start_time": "2024-02-06T20:54:29.048Z"
   },
   {
    "duration": 22,
    "start_time": "2024-02-06T20:54:30.377Z"
   },
   {
    "duration": 57,
    "start_time": "2024-02-06T20:54:30.401Z"
   },
   {
    "duration": 58,
    "start_time": "2024-02-06T20:54:30.460Z"
   },
   {
    "duration": 166,
    "start_time": "2024-02-06T20:54:30.521Z"
   },
   {
    "duration": 29,
    "start_time": "2024-02-06T20:54:30.688Z"
   },
   {
    "duration": 72,
    "start_time": "2024-02-06T20:54:30.719Z"
   },
   {
    "duration": 73,
    "start_time": "2024-02-06T20:54:30.793Z"
   },
   {
    "duration": 43,
    "start_time": "2024-02-06T20:54:30.868Z"
   },
   {
    "duration": 43,
    "start_time": "2024-02-06T20:54:30.913Z"
   },
   {
    "duration": 74,
    "start_time": "2024-02-06T20:54:30.958Z"
   },
   {
    "duration": 14,
    "start_time": "2024-02-06T20:54:31.034Z"
   },
   {
    "duration": 42,
    "start_time": "2024-02-06T20:54:31.051Z"
   },
   {
    "duration": 75,
    "start_time": "2024-02-06T20:54:31.097Z"
   },
   {
    "duration": 63,
    "start_time": "2024-02-06T20:54:31.174Z"
   },
   {
    "duration": 49,
    "start_time": "2024-02-06T20:54:31.239Z"
   },
   {
    "duration": 15,
    "start_time": "2024-02-06T20:54:31.290Z"
   },
   {
    "duration": 107,
    "start_time": "2024-02-06T20:54:31.307Z"
   },
   {
    "duration": 13,
    "start_time": "2024-02-06T20:54:31.416Z"
   },
   {
    "duration": 48,
    "start_time": "2024-02-06T20:54:31.432Z"
   },
   {
    "duration": 45,
    "start_time": "2024-02-06T20:54:31.483Z"
   },
   {
    "duration": 357,
    "start_time": "2024-02-06T20:54:31.531Z"
   },
   {
    "duration": 244,
    "start_time": "2024-02-06T20:54:31.890Z"
   },
   {
    "duration": 1024,
    "start_time": "2024-02-06T20:54:32.136Z"
   },
   {
    "duration": 361,
    "start_time": "2024-02-06T20:54:33.162Z"
   },
   {
    "duration": 939,
    "start_time": "2024-02-06T21:14:22.416Z"
   },
   {
    "duration": 266,
    "start_time": "2024-02-06T21:15:18.979Z"
   },
   {
    "duration": 1395,
    "start_time": "2024-02-06T21:18:24.582Z"
   },
   {
    "duration": 29,
    "start_time": "2024-02-06T21:18:25.980Z"
   },
   {
    "duration": 30,
    "start_time": "2024-02-06T21:18:26.011Z"
   },
   {
    "duration": 12,
    "start_time": "2024-02-06T21:18:26.044Z"
   },
   {
    "duration": 60,
    "start_time": "2024-02-06T21:18:26.058Z"
   },
   {
    "duration": 4,
    "start_time": "2024-02-06T21:18:26.120Z"
   },
   {
    "duration": 36,
    "start_time": "2024-02-06T21:18:26.126Z"
   },
   {
    "duration": 4,
    "start_time": "2024-02-06T21:18:26.164Z"
   },
   {
    "duration": 13,
    "start_time": "2024-02-06T21:18:26.170Z"
   },
   {
    "duration": 6,
    "start_time": "2024-02-06T21:18:26.185Z"
   },
   {
    "duration": 52,
    "start_time": "2024-02-06T21:18:26.193Z"
   },
   {
    "duration": 11,
    "start_time": "2024-02-06T21:18:26.247Z"
   },
   {
    "duration": 7,
    "start_time": "2024-02-06T21:18:26.259Z"
   },
   {
    "duration": 21,
    "start_time": "2024-02-06T21:18:26.268Z"
   },
   {
    "duration": 25,
    "start_time": "2024-02-06T21:18:26.290Z"
   },
   {
    "duration": 18,
    "start_time": "2024-02-06T21:18:26.317Z"
   },
   {
    "duration": 3,
    "start_time": "2024-02-06T21:18:26.337Z"
   },
   {
    "duration": 44,
    "start_time": "2024-02-06T21:18:26.342Z"
   },
   {
    "duration": 8,
    "start_time": "2024-02-06T21:18:26.388Z"
   },
   {
    "duration": 5,
    "start_time": "2024-02-06T21:18:26.398Z"
   },
   {
    "duration": 20,
    "start_time": "2024-02-06T21:18:26.404Z"
   },
   {
    "duration": 389,
    "start_time": "2024-02-06T21:18:26.426Z"
   },
   {
    "duration": 285,
    "start_time": "2024-02-06T21:18:26.817Z"
   },
   {
    "duration": 800,
    "start_time": "2024-02-06T21:18:27.104Z"
   },
   {
    "duration": 318,
    "start_time": "2024-02-06T21:18:27.906Z"
   },
   {
    "duration": 1239,
    "start_time": "2024-02-06T21:21:32.383Z"
   },
   {
    "duration": 21,
    "start_time": "2024-02-06T21:21:33.624Z"
   },
   {
    "duration": 16,
    "start_time": "2024-02-06T21:21:33.647Z"
   },
   {
    "duration": 18,
    "start_time": "2024-02-06T21:21:33.681Z"
   },
   {
    "duration": 42,
    "start_time": "2024-02-06T21:21:33.702Z"
   },
   {
    "duration": 3,
    "start_time": "2024-02-06T21:21:33.746Z"
   },
   {
    "duration": 35,
    "start_time": "2024-02-06T21:21:33.751Z"
   },
   {
    "duration": 9,
    "start_time": "2024-02-06T21:21:33.788Z"
   },
   {
    "duration": 10,
    "start_time": "2024-02-06T21:21:33.798Z"
   },
   {
    "duration": 4,
    "start_time": "2024-02-06T21:21:33.809Z"
   },
   {
    "duration": 39,
    "start_time": "2024-02-06T21:21:33.815Z"
   },
   {
    "duration": 47,
    "start_time": "2024-02-06T21:21:33.858Z"
   },
   {
    "duration": 4,
    "start_time": "2024-02-06T21:21:33.907Z"
   },
   {
    "duration": 13,
    "start_time": "2024-02-06T21:21:33.914Z"
   },
   {
    "duration": 20,
    "start_time": "2024-02-06T21:21:33.929Z"
   },
   {
    "duration": 36,
    "start_time": "2024-02-06T21:21:33.951Z"
   },
   {
    "duration": 4,
    "start_time": "2024-02-06T21:21:33.989Z"
   },
   {
    "duration": 12,
    "start_time": "2024-02-06T21:21:33.994Z"
   },
   {
    "duration": 6,
    "start_time": "2024-02-06T21:21:34.007Z"
   },
   {
    "duration": 4,
    "start_time": "2024-02-06T21:21:34.014Z"
   },
   {
    "duration": 10,
    "start_time": "2024-02-06T21:21:34.019Z"
   },
   {
    "duration": 399,
    "start_time": "2024-02-06T21:21:34.030Z"
   },
   {
    "duration": 228,
    "start_time": "2024-02-06T21:21:34.431Z"
   },
   {
    "duration": 855,
    "start_time": "2024-02-06T21:21:34.661Z"
   },
   {
    "duration": 280,
    "start_time": "2024-02-06T21:21:35.518Z"
   },
   {
    "duration": 1324,
    "start_time": "2024-02-06T21:24:43.481Z"
   },
   {
    "duration": 20,
    "start_time": "2024-02-06T21:24:44.807Z"
   },
   {
    "duration": 17,
    "start_time": "2024-02-06T21:24:44.828Z"
   },
   {
    "duration": 35,
    "start_time": "2024-02-06T21:24:44.847Z"
   },
   {
    "duration": 38,
    "start_time": "2024-02-06T21:24:44.884Z"
   },
   {
    "duration": 4,
    "start_time": "2024-02-06T21:24:44.923Z"
   },
   {
    "duration": 10,
    "start_time": "2024-02-06T21:24:44.928Z"
   },
   {
    "duration": 4,
    "start_time": "2024-02-06T21:24:44.939Z"
   },
   {
    "duration": 9,
    "start_time": "2024-02-06T21:24:44.945Z"
   },
   {
    "duration": 29,
    "start_time": "2024-02-06T21:24:44.956Z"
   },
   {
    "duration": 42,
    "start_time": "2024-02-06T21:24:44.986Z"
   },
   {
    "duration": 10,
    "start_time": "2024-02-06T21:24:45.030Z"
   },
   {
    "duration": 39,
    "start_time": "2024-02-06T21:24:45.041Z"
   },
   {
    "duration": 22,
    "start_time": "2024-02-06T21:24:45.082Z"
   },
   {
    "duration": 34,
    "start_time": "2024-02-06T21:24:45.105Z"
   },
   {
    "duration": 36,
    "start_time": "2024-02-06T21:24:45.140Z"
   },
   {
    "duration": 5,
    "start_time": "2024-02-06T21:24:45.177Z"
   },
   {
    "duration": 48,
    "start_time": "2024-02-06T21:24:45.184Z"
   },
   {
    "duration": 19,
    "start_time": "2024-02-06T21:24:45.234Z"
   },
   {
    "duration": 18,
    "start_time": "2024-02-06T21:24:45.255Z"
   },
   {
    "duration": 11,
    "start_time": "2024-02-06T21:24:45.275Z"
   },
   {
    "duration": 375,
    "start_time": "2024-02-06T21:24:45.287Z"
   },
   {
    "duration": 0,
    "start_time": "2024-02-06T21:24:45.664Z"
   },
   {
    "duration": 0,
    "start_time": "2024-02-06T21:24:45.664Z"
   },
   {
    "duration": 0,
    "start_time": "2024-02-06T21:24:45.666Z"
   },
   {
    "duration": 1308,
    "start_time": "2024-02-06T21:25:34.117Z"
   },
   {
    "duration": 25,
    "start_time": "2024-02-06T21:25:35.426Z"
   },
   {
    "duration": 30,
    "start_time": "2024-02-06T21:25:35.453Z"
   },
   {
    "duration": 17,
    "start_time": "2024-02-06T21:25:35.486Z"
   },
   {
    "duration": 64,
    "start_time": "2024-02-06T21:25:35.504Z"
   },
   {
    "duration": 4,
    "start_time": "2024-02-06T21:25:35.570Z"
   },
   {
    "duration": 28,
    "start_time": "2024-02-06T21:25:35.575Z"
   },
   {
    "duration": 30,
    "start_time": "2024-02-06T21:25:35.605Z"
   },
   {
    "duration": 17,
    "start_time": "2024-02-06T21:25:35.637Z"
   },
   {
    "duration": 28,
    "start_time": "2024-02-06T21:25:35.657Z"
   },
   {
    "duration": 66,
    "start_time": "2024-02-06T21:25:35.687Z"
   },
   {
    "duration": 11,
    "start_time": "2024-02-06T21:25:35.755Z"
   },
   {
    "duration": 35,
    "start_time": "2024-02-06T21:25:35.767Z"
   },
   {
    "duration": 43,
    "start_time": "2024-02-06T21:25:35.804Z"
   },
   {
    "duration": 32,
    "start_time": "2024-02-06T21:25:35.848Z"
   },
   {
    "duration": 21,
    "start_time": "2024-02-06T21:25:35.881Z"
   },
   {
    "duration": 15,
    "start_time": "2024-02-06T21:25:35.903Z"
   },
   {
    "duration": 45,
    "start_time": "2024-02-06T21:25:35.919Z"
   },
   {
    "duration": 57,
    "start_time": "2024-02-06T21:25:35.966Z"
   },
   {
    "duration": 21,
    "start_time": "2024-02-06T21:25:36.025Z"
   },
   {
    "duration": 27,
    "start_time": "2024-02-06T21:25:36.048Z"
   },
   {
    "duration": 433,
    "start_time": "2024-02-06T21:25:36.077Z"
   },
   {
    "duration": 0,
    "start_time": "2024-02-06T21:25:36.513Z"
   },
   {
    "duration": 0,
    "start_time": "2024-02-06T21:25:36.514Z"
   },
   {
    "duration": 0,
    "start_time": "2024-02-06T21:25:36.515Z"
   },
   {
    "duration": 1377,
    "start_time": "2024-02-06T21:26:22.168Z"
   },
   {
    "duration": 36,
    "start_time": "2024-02-06T21:26:23.547Z"
   },
   {
    "duration": 22,
    "start_time": "2024-02-06T21:26:23.584Z"
   },
   {
    "duration": 11,
    "start_time": "2024-02-06T21:26:23.608Z"
   },
   {
    "duration": 37,
    "start_time": "2024-02-06T21:26:23.620Z"
   },
   {
    "duration": 4,
    "start_time": "2024-02-06T21:26:23.682Z"
   },
   {
    "duration": 10,
    "start_time": "2024-02-06T21:26:23.687Z"
   },
   {
    "duration": 6,
    "start_time": "2024-02-06T21:26:23.699Z"
   },
   {
    "duration": 8,
    "start_time": "2024-02-06T21:26:23.706Z"
   },
   {
    "duration": 14,
    "start_time": "2024-02-06T21:26:23.716Z"
   },
   {
    "duration": 62,
    "start_time": "2024-02-06T21:26:23.732Z"
   },
   {
    "duration": 11,
    "start_time": "2024-02-06T21:26:23.795Z"
   },
   {
    "duration": 4,
    "start_time": "2024-02-06T21:26:23.808Z"
   },
   {
    "duration": 15,
    "start_time": "2024-02-06T21:26:23.813Z"
   },
   {
    "duration": 23,
    "start_time": "2024-02-06T21:26:23.830Z"
   },
   {
    "duration": 44,
    "start_time": "2024-02-06T21:26:23.855Z"
   },
   {
    "duration": 4,
    "start_time": "2024-02-06T21:26:23.901Z"
   },
   {
    "duration": 18,
    "start_time": "2024-02-06T21:26:23.907Z"
   },
   {
    "duration": 6,
    "start_time": "2024-02-06T21:26:23.927Z"
   },
   {
    "duration": 3,
    "start_time": "2024-02-06T21:26:23.935Z"
   },
   {
    "duration": 14,
    "start_time": "2024-02-06T21:26:23.939Z"
   },
   {
    "duration": 356,
    "start_time": "2024-02-06T21:26:23.955Z"
   },
   {
    "duration": 240,
    "start_time": "2024-02-06T21:26:24.313Z"
   },
   {
    "duration": 864,
    "start_time": "2024-02-06T21:26:24.554Z"
   },
   {
    "duration": 274,
    "start_time": "2024-02-06T21:26:25.419Z"
   },
   {
    "duration": 1265,
    "start_time": "2024-02-06T21:30:44.622Z"
   },
   {
    "duration": 26,
    "start_time": "2024-02-06T21:30:45.889Z"
   },
   {
    "duration": 15,
    "start_time": "2024-02-06T21:30:45.917Z"
   },
   {
    "duration": 21,
    "start_time": "2024-02-06T21:30:45.934Z"
   },
   {
    "duration": 54,
    "start_time": "2024-02-06T21:30:45.957Z"
   },
   {
    "duration": 3,
    "start_time": "2024-02-06T21:30:46.013Z"
   },
   {
    "duration": 11,
    "start_time": "2024-02-06T21:30:46.017Z"
   },
   {
    "duration": 4,
    "start_time": "2024-02-06T21:30:46.029Z"
   },
   {
    "duration": 10,
    "start_time": "2024-02-06T21:30:46.035Z"
   },
   {
    "duration": 4,
    "start_time": "2024-02-06T21:30:46.046Z"
   },
   {
    "duration": 65,
    "start_time": "2024-02-06T21:30:46.052Z"
   },
   {
    "duration": 13,
    "start_time": "2024-02-06T21:30:46.119Z"
   },
   {
    "duration": 4,
    "start_time": "2024-02-06T21:30:46.134Z"
   },
   {
    "duration": 21,
    "start_time": "2024-02-06T21:30:46.140Z"
   },
   {
    "duration": 39,
    "start_time": "2024-02-06T21:30:46.163Z"
   },
   {
    "duration": 19,
    "start_time": "2024-02-06T21:30:46.204Z"
   },
   {
    "duration": 3,
    "start_time": "2024-02-06T21:30:46.225Z"
   },
   {
    "duration": 16,
    "start_time": "2024-02-06T21:30:46.230Z"
   },
   {
    "duration": 7,
    "start_time": "2024-02-06T21:30:46.248Z"
   },
   {
    "duration": 28,
    "start_time": "2024-02-06T21:30:46.256Z"
   },
   {
    "duration": 11,
    "start_time": "2024-02-06T21:30:46.285Z"
   },
   {
    "duration": 329,
    "start_time": "2024-02-06T21:30:46.298Z"
   },
   {
    "duration": 239,
    "start_time": "2024-02-06T21:30:46.629Z"
   },
   {
    "duration": 931,
    "start_time": "2024-02-06T21:30:46.870Z"
   },
   {
    "duration": 381,
    "start_time": "2024-02-06T21:30:47.803Z"
   },
   {
    "duration": 1330,
    "start_time": "2024-02-06T21:32:24.593Z"
   },
   {
    "duration": 29,
    "start_time": "2024-02-06T21:32:25.925Z"
   },
   {
    "duration": 31,
    "start_time": "2024-02-06T21:32:25.955Z"
   },
   {
    "duration": 11,
    "start_time": "2024-02-06T21:32:25.988Z"
   },
   {
    "duration": 56,
    "start_time": "2024-02-06T21:32:26.000Z"
   },
   {
    "duration": 4,
    "start_time": "2024-02-06T21:32:26.058Z"
   },
   {
    "duration": 32,
    "start_time": "2024-02-06T21:32:26.064Z"
   },
   {
    "duration": 4,
    "start_time": "2024-02-06T21:32:26.098Z"
   },
   {
    "duration": 15,
    "start_time": "2024-02-06T21:32:26.104Z"
   },
   {
    "duration": 10,
    "start_time": "2024-02-06T21:32:26.121Z"
   },
   {
    "duration": 68,
    "start_time": "2024-02-06T21:32:26.132Z"
   },
   {
    "duration": 17,
    "start_time": "2024-02-06T21:32:26.202Z"
   },
   {
    "duration": 4,
    "start_time": "2024-02-06T21:32:26.220Z"
   },
   {
    "duration": 13,
    "start_time": "2024-02-06T21:32:26.225Z"
   },
   {
    "duration": 46,
    "start_time": "2024-02-06T21:32:26.240Z"
   },
   {
    "duration": 17,
    "start_time": "2024-02-06T21:32:26.288Z"
   },
   {
    "duration": 3,
    "start_time": "2024-02-06T21:32:26.307Z"
   },
   {
    "duration": 19,
    "start_time": "2024-02-06T21:32:26.312Z"
   },
   {
    "duration": 6,
    "start_time": "2024-02-06T21:32:26.333Z"
   },
   {
    "duration": 7,
    "start_time": "2024-02-06T21:32:26.340Z"
   },
   {
    "duration": 38,
    "start_time": "2024-02-06T21:32:26.349Z"
   },
   {
    "duration": 335,
    "start_time": "2024-02-06T21:32:26.388Z"
   },
   {
    "duration": 257,
    "start_time": "2024-02-06T21:32:26.725Z"
   },
   {
    "duration": 817,
    "start_time": "2024-02-06T21:32:26.984Z"
   },
   {
    "duration": 347,
    "start_time": "2024-02-06T21:32:27.803Z"
   },
   {
    "duration": 1341,
    "start_time": "2024-02-06T21:34:13.196Z"
   },
   {
    "duration": 21,
    "start_time": "2024-02-06T21:34:14.539Z"
   },
   {
    "duration": 42,
    "start_time": "2024-02-06T21:34:14.562Z"
   },
   {
    "duration": 17,
    "start_time": "2024-02-06T21:34:14.606Z"
   },
   {
    "duration": 79,
    "start_time": "2024-02-06T21:34:14.625Z"
   },
   {
    "duration": 3,
    "start_time": "2024-02-06T21:34:14.706Z"
   },
   {
    "duration": 13,
    "start_time": "2024-02-06T21:34:14.711Z"
   },
   {
    "duration": 5,
    "start_time": "2024-02-06T21:34:14.726Z"
   },
   {
    "duration": 15,
    "start_time": "2024-02-06T21:34:14.732Z"
   },
   {
    "duration": 33,
    "start_time": "2024-02-06T21:34:14.750Z"
   },
   {
    "duration": 41,
    "start_time": "2024-02-06T21:34:14.785Z"
   },
   {
    "duration": 11,
    "start_time": "2024-02-06T21:34:14.828Z"
   },
   {
    "duration": 4,
    "start_time": "2024-02-06T21:34:14.841Z"
   },
   {
    "duration": 42,
    "start_time": "2024-02-06T21:34:14.847Z"
   },
   {
    "duration": 22,
    "start_time": "2024-02-06T21:34:14.891Z"
   },
   {
    "duration": 19,
    "start_time": "2024-02-06T21:34:14.915Z"
   },
   {
    "duration": 4,
    "start_time": "2024-02-06T21:34:14.936Z"
   },
   {
    "duration": 21,
    "start_time": "2024-02-06T21:34:14.941Z"
   },
   {
    "duration": 9,
    "start_time": "2024-02-06T21:34:14.983Z"
   },
   {
    "duration": 4,
    "start_time": "2024-02-06T21:34:14.993Z"
   },
   {
    "duration": 84,
    "start_time": "2024-02-06T21:34:14.999Z"
   },
   {
    "duration": 352,
    "start_time": "2024-02-06T21:34:15.085Z"
   },
   {
    "duration": 244,
    "start_time": "2024-02-06T21:34:15.439Z"
   },
   {
    "duration": 1035,
    "start_time": "2024-02-06T21:34:15.684Z"
   },
   {
    "duration": 271,
    "start_time": "2024-02-06T21:34:16.720Z"
   },
   {
    "duration": 1564,
    "start_time": "2024-02-07T13:21:48.200Z"
   },
   {
    "duration": 20,
    "start_time": "2024-02-07T13:21:49.766Z"
   },
   {
    "duration": 16,
    "start_time": "2024-02-07T13:21:49.788Z"
   },
   {
    "duration": 10,
    "start_time": "2024-02-07T13:21:49.806Z"
   },
   {
    "duration": 58,
    "start_time": "2024-02-07T13:21:49.817Z"
   },
   {
    "duration": 4,
    "start_time": "2024-02-07T13:21:49.876Z"
   },
   {
    "duration": 9,
    "start_time": "2024-02-07T13:21:49.881Z"
   },
   {
    "duration": 14,
    "start_time": "2024-02-07T13:21:49.892Z"
   },
   {
    "duration": 7,
    "start_time": "2024-02-07T13:21:49.907Z"
   },
   {
    "duration": 9,
    "start_time": "2024-02-07T13:21:49.916Z"
   },
   {
    "duration": 46,
    "start_time": "2024-02-07T13:21:49.926Z"
   },
   {
    "duration": 10,
    "start_time": "2024-02-07T13:21:49.973Z"
   },
   {
    "duration": 6,
    "start_time": "2024-02-07T13:21:49.984Z"
   },
   {
    "duration": 16,
    "start_time": "2024-02-07T13:21:49.991Z"
   },
   {
    "duration": 36,
    "start_time": "2024-02-07T13:21:50.008Z"
   },
   {
    "duration": 23,
    "start_time": "2024-02-07T13:21:50.046Z"
   },
   {
    "duration": 4,
    "start_time": "2024-02-07T13:21:50.071Z"
   },
   {
    "duration": 35,
    "start_time": "2024-02-07T13:21:50.077Z"
   },
   {
    "duration": 26,
    "start_time": "2024-02-07T13:21:50.114Z"
   },
   {
    "duration": 27,
    "start_time": "2024-02-07T13:21:50.142Z"
   },
   {
    "duration": 28,
    "start_time": "2024-02-07T13:21:50.170Z"
   },
   {
    "duration": 335,
    "start_time": "2024-02-07T13:21:50.200Z"
   },
   {
    "duration": 208,
    "start_time": "2024-02-07T13:21:50.537Z"
   },
   {
    "duration": 794,
    "start_time": "2024-02-07T13:21:50.746Z"
   },
   {
    "duration": 261,
    "start_time": "2024-02-07T13:21:51.541Z"
   },
   {
    "duration": 1857,
    "start_time": "2024-02-07T14:32:14.725Z"
   },
   {
    "duration": 20,
    "start_time": "2024-02-07T14:32:16.585Z"
   },
   {
    "duration": 20,
    "start_time": "2024-02-07T14:32:16.607Z"
   },
   {
    "duration": 18,
    "start_time": "2024-02-07T14:32:16.631Z"
   },
   {
    "duration": 42,
    "start_time": "2024-02-07T14:32:16.651Z"
   },
   {
    "duration": 4,
    "start_time": "2024-02-07T14:32:16.694Z"
   },
   {
    "duration": 23,
    "start_time": "2024-02-07T14:32:16.699Z"
   },
   {
    "duration": 6,
    "start_time": "2024-02-07T14:32:16.724Z"
   },
   {
    "duration": 11,
    "start_time": "2024-02-07T14:32:16.732Z"
   },
   {
    "duration": 5,
    "start_time": "2024-02-07T14:32:16.746Z"
   },
   {
    "duration": 67,
    "start_time": "2024-02-07T14:32:16.753Z"
   },
   {
    "duration": 19,
    "start_time": "2024-02-07T14:32:16.822Z"
   },
   {
    "duration": 4,
    "start_time": "2024-02-07T14:32:16.842Z"
   },
   {
    "duration": 23,
    "start_time": "2024-02-07T14:32:16.847Z"
   },
   {
    "duration": 25,
    "start_time": "2024-02-07T14:32:16.872Z"
   },
   {
    "duration": 42,
    "start_time": "2024-02-07T14:32:16.899Z"
   },
   {
    "duration": 3,
    "start_time": "2024-02-07T14:32:16.943Z"
   },
   {
    "duration": 18,
    "start_time": "2024-02-07T14:32:16.948Z"
   },
   {
    "duration": 14,
    "start_time": "2024-02-07T14:32:16.968Z"
   },
   {
    "duration": 3,
    "start_time": "2024-02-07T14:32:16.984Z"
   },
   {
    "duration": 24,
    "start_time": "2024-02-07T14:32:16.988Z"
   },
   {
    "duration": 352,
    "start_time": "2024-02-07T14:32:17.014Z"
   },
   {
    "duration": 270,
    "start_time": "2024-02-07T14:32:17.368Z"
   },
   {
    "duration": 939,
    "start_time": "2024-02-07T14:32:17.640Z"
   },
   {
    "duration": 291,
    "start_time": "2024-02-07T14:32:18.581Z"
   },
   {
    "duration": 1381,
    "start_time": "2024-02-07T14:33:12.152Z"
   },
   {
    "duration": 21,
    "start_time": "2024-02-07T14:33:13.536Z"
   },
   {
    "duration": 18,
    "start_time": "2024-02-07T14:33:13.559Z"
   },
   {
    "duration": 11,
    "start_time": "2024-02-07T14:33:13.579Z"
   },
   {
    "duration": 63,
    "start_time": "2024-02-07T14:33:13.591Z"
   },
   {
    "duration": 3,
    "start_time": "2024-02-07T14:33:13.656Z"
   },
   {
    "duration": 19,
    "start_time": "2024-02-07T14:33:13.661Z"
   },
   {
    "duration": 8,
    "start_time": "2024-02-07T14:33:13.682Z"
   },
   {
    "duration": 9,
    "start_time": "2024-02-07T14:33:13.692Z"
   },
   {
    "duration": 4,
    "start_time": "2024-02-07T14:33:13.705Z"
   },
   {
    "duration": 46,
    "start_time": "2024-02-07T14:33:13.724Z"
   },
   {
    "duration": 10,
    "start_time": "2024-02-07T14:33:13.772Z"
   },
   {
    "duration": 13,
    "start_time": "2024-02-07T14:33:13.783Z"
   },
   {
    "duration": 25,
    "start_time": "2024-02-07T14:33:13.798Z"
   },
   {
    "duration": 29,
    "start_time": "2024-02-07T14:33:13.825Z"
   },
   {
    "duration": 19,
    "start_time": "2024-02-07T14:33:13.856Z"
   },
   {
    "duration": 4,
    "start_time": "2024-02-07T14:33:13.877Z"
   },
   {
    "duration": 20,
    "start_time": "2024-02-07T14:33:13.883Z"
   },
   {
    "duration": 9,
    "start_time": "2024-02-07T14:33:13.923Z"
   },
   {
    "duration": 18,
    "start_time": "2024-02-07T14:33:13.934Z"
   },
   {
    "duration": 17,
    "start_time": "2024-02-07T14:33:13.954Z"
   },
   {
    "duration": 359,
    "start_time": "2024-02-07T14:33:13.973Z"
   },
   {
    "duration": 246,
    "start_time": "2024-02-07T14:33:14.334Z"
   },
   {
    "duration": 1764,
    "start_time": "2024-02-07T14:33:14.582Z"
   },
   {
    "duration": 470,
    "start_time": "2024-02-07T14:33:16.347Z"
   },
   {
    "duration": 1594,
    "start_time": "2024-02-07T15:06:52.603Z"
   },
   {
    "duration": 24,
    "start_time": "2024-02-07T15:06:54.199Z"
   },
   {
    "duration": 29,
    "start_time": "2024-02-07T15:06:54.224Z"
   },
   {
    "duration": 28,
    "start_time": "2024-02-07T15:06:54.256Z"
   },
   {
    "duration": 44,
    "start_time": "2024-02-07T15:06:54.287Z"
   },
   {
    "duration": 4,
    "start_time": "2024-02-07T15:06:54.333Z"
   },
   {
    "duration": 12,
    "start_time": "2024-02-07T15:06:54.338Z"
   },
   {
    "duration": 5,
    "start_time": "2024-02-07T15:06:54.352Z"
   },
   {
    "duration": 33,
    "start_time": "2024-02-07T15:06:54.359Z"
   },
   {
    "duration": 19,
    "start_time": "2024-02-07T15:06:54.395Z"
   },
   {
    "duration": 72,
    "start_time": "2024-02-07T15:06:54.416Z"
   },
   {
    "duration": 12,
    "start_time": "2024-02-07T15:06:54.490Z"
   },
   {
    "duration": 14,
    "start_time": "2024-02-07T15:06:54.503Z"
   },
   {
    "duration": 14,
    "start_time": "2024-02-07T15:06:54.519Z"
   },
   {
    "duration": 22,
    "start_time": "2024-02-07T15:06:54.534Z"
   },
   {
    "duration": 33,
    "start_time": "2024-02-07T15:06:54.558Z"
   },
   {
    "duration": 4,
    "start_time": "2024-02-07T15:06:54.593Z"
   },
   {
    "duration": 29,
    "start_time": "2024-02-07T15:06:54.598Z"
   },
   {
    "duration": 14,
    "start_time": "2024-02-07T15:06:54.628Z"
   },
   {
    "duration": 7,
    "start_time": "2024-02-07T15:06:54.644Z"
   },
   {
    "duration": 14,
    "start_time": "2024-02-07T15:06:54.652Z"
   },
   {
    "duration": 331,
    "start_time": "2024-02-07T15:06:54.668Z"
   },
   {
    "duration": 241,
    "start_time": "2024-02-07T15:06:55.000Z"
   },
   {
    "duration": 905,
    "start_time": "2024-02-07T15:06:55.243Z"
   },
   {
    "duration": 290,
    "start_time": "2024-02-07T15:06:56.150Z"
   },
   {
    "duration": 1746,
    "start_time": "2024-02-07T16:21:08.933Z"
   },
   {
    "duration": 23,
    "start_time": "2024-02-07T16:21:10.682Z"
   },
   {
    "duration": 38,
    "start_time": "2024-02-07T16:21:10.707Z"
   },
   {
    "duration": 13,
    "start_time": "2024-02-07T16:21:10.747Z"
   },
   {
    "duration": 50,
    "start_time": "2024-02-07T16:21:10.762Z"
   },
   {
    "duration": 3,
    "start_time": "2024-02-07T16:21:10.814Z"
   },
   {
    "duration": 10,
    "start_time": "2024-02-07T16:21:10.819Z"
   },
   {
    "duration": 4,
    "start_time": "2024-02-07T16:21:10.831Z"
   },
   {
    "duration": 7,
    "start_time": "2024-02-07T16:21:10.836Z"
   },
   {
    "duration": 16,
    "start_time": "2024-02-07T16:21:10.846Z"
   },
   {
    "duration": 66,
    "start_time": "2024-02-07T16:21:10.864Z"
   },
   {
    "duration": 11,
    "start_time": "2024-02-07T16:21:10.932Z"
   },
   {
    "duration": 8,
    "start_time": "2024-02-07T16:21:10.945Z"
   },
   {
    "duration": 14,
    "start_time": "2024-02-07T16:21:10.955Z"
   },
   {
    "duration": 31,
    "start_time": "2024-02-07T16:21:10.971Z"
   },
   {
    "duration": 37,
    "start_time": "2024-02-07T16:21:11.003Z"
   },
   {
    "duration": 12,
    "start_time": "2024-02-07T16:21:11.042Z"
   },
   {
    "duration": 22,
    "start_time": "2024-02-07T16:21:11.055Z"
   },
   {
    "duration": 6,
    "start_time": "2024-02-07T16:21:11.079Z"
   },
   {
    "duration": 11,
    "start_time": "2024-02-07T16:21:11.087Z"
   },
   {
    "duration": 19,
    "start_time": "2024-02-07T16:21:11.100Z"
   },
   {
    "duration": 332,
    "start_time": "2024-02-07T16:21:11.121Z"
   },
   {
    "duration": 240,
    "start_time": "2024-02-07T16:21:11.454Z"
   },
   {
    "duration": 880,
    "start_time": "2024-02-07T16:21:11.695Z"
   },
   {
    "duration": 280,
    "start_time": "2024-02-07T16:21:12.577Z"
   },
   {
    "duration": 1471,
    "start_time": "2024-02-07T17:44:53.172Z"
   },
   {
    "duration": 16,
    "start_time": "2024-02-07T17:44:54.644Z"
   },
   {
    "duration": 33,
    "start_time": "2024-02-07T17:44:54.661Z"
   },
   {
    "duration": 9,
    "start_time": "2024-02-07T17:44:54.696Z"
   },
   {
    "duration": 38,
    "start_time": "2024-02-07T17:44:54.706Z"
   },
   {
    "duration": 4,
    "start_time": "2024-02-07T17:44:54.745Z"
   },
   {
    "duration": 33,
    "start_time": "2024-02-07T17:44:54.750Z"
   },
   {
    "duration": 9,
    "start_time": "2024-02-07T17:44:54.784Z"
   },
   {
    "duration": 13,
    "start_time": "2024-02-07T17:44:54.794Z"
   },
   {
    "duration": 12,
    "start_time": "2024-02-07T17:44:54.810Z"
   },
   {
    "duration": 37,
    "start_time": "2024-02-07T17:44:54.823Z"
   },
   {
    "duration": 8,
    "start_time": "2024-02-07T17:44:54.862Z"
   },
   {
    "duration": 18,
    "start_time": "2024-02-07T17:44:54.871Z"
   },
   {
    "duration": 22,
    "start_time": "2024-02-07T17:44:54.890Z"
   },
   {
    "duration": 20,
    "start_time": "2024-02-07T17:44:54.913Z"
   },
   {
    "duration": 25,
    "start_time": "2024-02-07T17:44:54.934Z"
   },
   {
    "duration": 3,
    "start_time": "2024-02-07T17:44:54.960Z"
   },
   {
    "duration": 34,
    "start_time": "2024-02-07T17:44:54.964Z"
   },
   {
    "duration": 5,
    "start_time": "2024-02-07T17:44:54.999Z"
   },
   {
    "duration": 10,
    "start_time": "2024-02-07T17:44:55.005Z"
   },
   {
    "duration": 30,
    "start_time": "2024-02-07T17:44:55.016Z"
   },
   {
    "duration": 260,
    "start_time": "2024-02-07T17:44:55.047Z"
   },
   {
    "duration": 158,
    "start_time": "2024-02-07T17:44:55.308Z"
   },
   {
    "duration": 651,
    "start_time": "2024-02-07T17:44:55.467Z"
   },
   {
    "duration": 206,
    "start_time": "2024-02-07T17:44:56.119Z"
   }
  ],
  "colab": {
   "name": "dpp_template_part2.ipynb",
   "provenance": []
  },
  "kernelspec": {
   "display_name": "Python 3 (ipykernel)",
   "language": "python",
   "name": "python3"
  },
  "language_info": {
   "codemirror_mode": {
    "name": "ipython",
    "version": 3
   },
   "file_extension": ".py",
   "mimetype": "text/x-python",
   "name": "python",
   "nbconvert_exporter": "python",
   "pygments_lexer": "ipython3",
   "version": "3.9.18"
  },
  "toc": {
   "base_numbering": 1,
   "nav_menu": {},
   "number_sections": true,
   "sideBar": true,
   "skip_h1_title": true,
   "title_cell": "Table of Contents",
   "title_sidebar": "Contents",
   "toc_cell": false,
   "toc_position": {
    "height": "calc(100% - 180px)",
    "left": "10px",
    "top": "150px",
    "width": "400px"
   },
   "toc_section_display": true,
   "toc_window_display": true
  },
  "varInspector": {
   "cols": {
    "lenName": 16,
    "lenType": 16,
    "lenVar": 40
   },
   "kernels_config": {
    "python": {
     "delete_cmd_postfix": "",
     "delete_cmd_prefix": "del ",
     "library": "var_list.py",
     "varRefreshCmd": "print(var_dic_list())"
    },
    "r": {
     "delete_cmd_postfix": ") ",
     "delete_cmd_prefix": "rm(",
     "library": "var_list.r",
     "varRefreshCmd": "cat(var_dic_list()) "
    }
   },
   "types_to_exclude": [
    "module",
    "function",
    "builtin_function_or_method",
    "instance",
    "_Feature"
   ],
   "window_display": false
  }
 },
 "nbformat": 4,
 "nbformat_minor": 5
}
