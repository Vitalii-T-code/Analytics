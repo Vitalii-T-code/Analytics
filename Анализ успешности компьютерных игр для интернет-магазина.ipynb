{
 "cells": [
  {
   "cell_type": "markdown",
   "metadata": {},
   "source": [
    "# Название проекта: Анализ успешности компьютерных игр для интернет-магазина \"Стримчик\"\n",
    "\n",
    "**Цель проекта:**\n",
    "\n",
    "Выявить закономерности, определяющие успешность компьютерных игр, на основе исторических данных о продажах игр, оценках пользователей и критиков, а также других характеристик игр.\n",
    "\n",
    "**Описание данных:**\n",
    "\n",
    "Для анализа мы используем следующие данные:\n",
    "- Name — название игры\n",
    "- Platform — платформа, на которой вышла игра\n",
    "- Year_of_Release — год выпуска игры\n",
    "- Genre — жанр игры\n",
    "- NA_sales — продажи в Северной Америке (в миллионах проданных копий)\n",
    "- EU_sales — продажи в Европе (в миллионах проданных копий)\n",
    "- JP_sales — продажи в Японии (в миллионах проданных копий)\n",
    "- Other_sales — продажи в других странах (в миллионах проданных копий)\n",
    "- Critic_Score — оценка критиков (максимум 100)\n",
    "- User_Score — оценка пользователей (максимум 10)\n",
    "- Rating — рейтинг от организации ESRB (Entertainment Software Rating Board). Эта ассоциация определяет рейтинг компьютерных игр и присваивает им подходящую возрастную категорию.\n",
    "\n",
    "**Описание проекта:**\n",
    "\n",
    "Мы работаем в интернет-магазине \"Стримчик\", который занимается продажей компьютерных игр по всему миру. Наша задача — выявить факторы, определяющие успешность игр, что позволит нам сделать ставку на потенциально популярные продукты и спланировать эффективные рекламные кампании. Мы анализируем данные до 2016 года и предполагаем, что сейчас декабрь 2016 года, и планируем кампанию на 2017 год. Мы используем открытые источники данных, чтобы изучить исторические тренды и прогнозировать будущие продажи.\n",
    "\n",
    "**План работы:**\n",
    "\n",
    "**Шаг 1. Открытие файла с данными и изучение общей информации**\n",
    "\n",
    "1.1 Импорт библиотек.\n",
    "\n",
    "1.2. Загрузка данных из файла.\n",
    "\n",
    "1.3. Получение общей информации о данных:\n",
    "   - Количество записей.\n",
    "   - Типы данных в каждом столбце.\n",
    "   - Наличие пропущенных значений.\n",
    "   - Первые строки данных для ознакомления.\n",
    "\n",
    "**Шаг 2. Подготовка данных**\n",
    "\n",
    "1.1. Открытие файла с данными и изучение общей информации.\n",
    "\n",
    "1.2. Замена названий столбцов на нижний регистр.\n",
    "\n",
    "1.3. Преобразование данных в нужные типы:\n",
    "   - Определение столбцов, требующих изменения типов данных.\n",
    "   - Обработка пропусков при необходимости.\n",
    "\n",
    "1.4. Обработка значений 'tbd' в столбце с оценкой пользователей.\n",
    "\n",
    "1.5. Расчёт суммарных продаж во всех регионах и запись в отдельный столбец.\n",
    "\n",
    "**Шаг 3. Исследовательский анализ данных**\n",
    "\n",
    "2.1. Анализ количества выпускаемых игр по годам.\n",
    "\n",
    "2.2. Изучение изменения продаж по платформам:\n",
    "   - Выбор платформ с наибольшими суммарными продажами.\n",
    "   - Построение распределения продаж по годам.\n",
    "   - Определение среднего срока жизни платформы.\n",
    "\n",
    "2.3. Выбор актуального периода для анализа данных.\n",
    "\n",
    "2.4. Определение лидирующих платформ и потенциально прибыльных.\n",
    "\n",
    "2.5. Построение ящика с усами по глобальным продажам игр в разбивке по платформам.\n",
    "\n",
    "2.6. Изучение влияния отзывов пользователей и критиков на продажи.\n",
    "   - Построение диаграммы рассеяния.\n",
    "   - Расчёт корреляции между отзывами и продажами.\n",
    "\n",
    "2.7. Анализ общего распределения игр по жанрам.\n",
    "\n",
    "**Шаг 4. Составление портрета пользователя**\n",
    "\n",
    "3.1. Определение самых популярных платформ и жанров в разных регионах.\n",
    "\n",
    "3.2. Изучение влияния рейтинга ESRB на продажи в отдельных регионах.\n",
    "\n",
    "**Шаг 5. Проверка гипотез**\n",
    "\n",
    "4.1. Формулирование нулевой и альтернативной гипотез.\n",
    "   \n",
    "4.2. Выбор порогового значения alpha.\n",
    "   \n",
    "4.3. Применение критерия для проверки гипотез.\n",
    "\n",
    "**Шаг 6. Общий вывод**\n",
    "\n",
    "5.1. Формулирование общих выводов и рекомендаций на основе проведённого анализа данных."
   ]
  },
  {
   "cell_type": "markdown",
   "metadata": {},
   "source": [
    "**Шаг 1. Открытие файла с данными и изучение общей информации**"
   ]
  },
  {
   "cell_type": "code",
   "execution_count": 1,
   "metadata": {},
   "outputs": [],
   "source": [
    "import pandas as pd\n",
    "\n",
    "import matplotlib.pyplot as plt\n",
    "\n",
    "import seaborn as sns\n",
    "\n",
    "from scipy import stats"
   ]
  },
  {
   "cell_type": "code",
   "execution_count": 2,
   "metadata": {},
   "outputs": [
    {
     "name": "stdout",
     "output_type": "stream",
     "text": [
      "<class 'pandas.core.frame.DataFrame'>\n",
      "RangeIndex: 16715 entries, 0 to 16714\n",
      "Data columns (total 11 columns):\n",
      " #   Column           Non-Null Count  Dtype  \n",
      "---  ------           --------------  -----  \n",
      " 0   Name             16713 non-null  object \n",
      " 1   Platform         16715 non-null  object \n",
      " 2   Year_of_Release  16446 non-null  float64\n",
      " 3   Genre            16713 non-null  object \n",
      " 4   NA_sales         16715 non-null  float64\n",
      " 5   EU_sales         16715 non-null  float64\n",
      " 6   JP_sales         16715 non-null  float64\n",
      " 7   Other_sales      16715 non-null  float64\n",
      " 8   Critic_Score     8137 non-null   float64\n",
      " 9   User_Score       10014 non-null  object \n",
      " 10  Rating           9949 non-null   object \n",
      "dtypes: float64(6), object(5)\n",
      "memory usage: 1.4+ MB\n",
      "Общая информация о данных:\n"
     ]
    },
    {
     "data": {
      "text/plain": [
       "None"
      ]
     },
     "metadata": {},
     "output_type": "display_data"
    },
    {
     "name": "stdout",
     "output_type": "stream",
     "text": [
      "Первые строки данных:\n"
     ]
    },
    {
     "data": {
      "text/html": [
       "<div>\n",
       "<style scoped>\n",
       "    .dataframe tbody tr th:only-of-type {\n",
       "        vertical-align: middle;\n",
       "    }\n",
       "\n",
       "    .dataframe tbody tr th {\n",
       "        vertical-align: top;\n",
       "    }\n",
       "\n",
       "    .dataframe thead th {\n",
       "        text-align: right;\n",
       "    }\n",
       "</style>\n",
       "<table border=\"1\" class=\"dataframe\">\n",
       "  <thead>\n",
       "    <tr style=\"text-align: right;\">\n",
       "      <th></th>\n",
       "      <th>Name</th>\n",
       "      <th>Platform</th>\n",
       "      <th>Year_of_Release</th>\n",
       "      <th>Genre</th>\n",
       "      <th>NA_sales</th>\n",
       "      <th>EU_sales</th>\n",
       "      <th>JP_sales</th>\n",
       "      <th>Other_sales</th>\n",
       "      <th>Critic_Score</th>\n",
       "      <th>User_Score</th>\n",
       "      <th>Rating</th>\n",
       "    </tr>\n",
       "  </thead>\n",
       "  <tbody>\n",
       "    <tr>\n",
       "      <th>0</th>\n",
       "      <td>Wii Sports</td>\n",
       "      <td>Wii</td>\n",
       "      <td>2006.0</td>\n",
       "      <td>Sports</td>\n",
       "      <td>41.36</td>\n",
       "      <td>28.96</td>\n",
       "      <td>3.77</td>\n",
       "      <td>8.45</td>\n",
       "      <td>76.0</td>\n",
       "      <td>8</td>\n",
       "      <td>E</td>\n",
       "    </tr>\n",
       "    <tr>\n",
       "      <th>1</th>\n",
       "      <td>Super Mario Bros.</td>\n",
       "      <td>NES</td>\n",
       "      <td>1985.0</td>\n",
       "      <td>Platform</td>\n",
       "      <td>29.08</td>\n",
       "      <td>3.58</td>\n",
       "      <td>6.81</td>\n",
       "      <td>0.77</td>\n",
       "      <td>NaN</td>\n",
       "      <td>NaN</td>\n",
       "      <td>NaN</td>\n",
       "    </tr>\n",
       "    <tr>\n",
       "      <th>2</th>\n",
       "      <td>Mario Kart Wii</td>\n",
       "      <td>Wii</td>\n",
       "      <td>2008.0</td>\n",
       "      <td>Racing</td>\n",
       "      <td>15.68</td>\n",
       "      <td>12.76</td>\n",
       "      <td>3.79</td>\n",
       "      <td>3.29</td>\n",
       "      <td>82.0</td>\n",
       "      <td>8.3</td>\n",
       "      <td>E</td>\n",
       "    </tr>\n",
       "    <tr>\n",
       "      <th>3</th>\n",
       "      <td>Wii Sports Resort</td>\n",
       "      <td>Wii</td>\n",
       "      <td>2009.0</td>\n",
       "      <td>Sports</td>\n",
       "      <td>15.61</td>\n",
       "      <td>10.93</td>\n",
       "      <td>3.28</td>\n",
       "      <td>2.95</td>\n",
       "      <td>80.0</td>\n",
       "      <td>8</td>\n",
       "      <td>E</td>\n",
       "    </tr>\n",
       "    <tr>\n",
       "      <th>4</th>\n",
       "      <td>Pokemon Red/Pokemon Blue</td>\n",
       "      <td>GB</td>\n",
       "      <td>1996.0</td>\n",
       "      <td>Role-Playing</td>\n",
       "      <td>11.27</td>\n",
       "      <td>8.89</td>\n",
       "      <td>10.22</td>\n",
       "      <td>1.00</td>\n",
       "      <td>NaN</td>\n",
       "      <td>NaN</td>\n",
       "      <td>NaN</td>\n",
       "    </tr>\n",
       "  </tbody>\n",
       "</table>\n",
       "</div>"
      ],
      "text/plain": [
       "                       Name Platform  Year_of_Release         Genre  NA_sales  \\\n",
       "0                Wii Sports      Wii           2006.0        Sports     41.36   \n",
       "1         Super Mario Bros.      NES           1985.0      Platform     29.08   \n",
       "2            Mario Kart Wii      Wii           2008.0        Racing     15.68   \n",
       "3         Wii Sports Resort      Wii           2009.0        Sports     15.61   \n",
       "4  Pokemon Red/Pokemon Blue       GB           1996.0  Role-Playing     11.27   \n",
       "\n",
       "   EU_sales  JP_sales  Other_sales  Critic_Score User_Score Rating  \n",
       "0     28.96      3.77         8.45          76.0          8      E  \n",
       "1      3.58      6.81         0.77           NaN        NaN    NaN  \n",
       "2     12.76      3.79         3.29          82.0        8.3      E  \n",
       "3     10.93      3.28         2.95          80.0          8      E  \n",
       "4      8.89     10.22         1.00           NaN        NaN    NaN  "
      ]
     },
     "metadata": {},
     "output_type": "display_data"
    }
   ],
   "source": [
    "# Загрузка данных из файла\n",
    "file_path = \"/datasets/games.csv\"\n",
    "games_data = pd.read_csv(file_path)\n",
    "\n",
    "# Получение общей информации о данных\n",
    "data_info = games_data.info()\n",
    "\n",
    "# Вывод первых строк данных для ознакомления\n",
    "first_rows = games_data.head()\n",
    "\n",
    "# Отображение общей информации и первых строк данных\n",
    "print(\"Общая информация о данных:\")\n",
    "display(data_info)\n",
    "print(\"Первые строки данных:\")\n",
    "display(first_rows)"
   ]
  },
  {
   "cell_type": "markdown",
   "metadata": {},
   "source": [
    "**Вывод:**\n",
    "\n",
    "На данном шаге была проведена предварительная обработка и ознакомление с данными:\n",
    "\n",
    "1. **Загрузка данных**: Данные были загружены из файла \"games.csv\".\n",
    "2. **Общая информация о данных**: Выведена общая информация о данных с помощью метода `info()`. Для каждого столбца указано количество непустых значений и тип данных.\n",
    "3. **Первые строки данных**: Выведены первые строки данных с помощью метода `head()`. Это позволяет ознакомиться с структурой данных и увидеть примеры записей.\n",
    "\n",
    "Результаты анализа данных показывают, что в датасете содержится информация о 16715 играх. В некоторых столбцах есть пропущенные значения, например, в столбцах с оценками критиков и пользователей, а также в столбце с годом выпуска игры. Эти пропуски могут потребовать дополнительной обработки в дальнейшем. Также стоит отметить, что тип данных столбца \"User_Score\" оказался строковым, возможно, это связано с наличием значения \"tbd\" (to be determined, будет определено) в этом столбце."
   ]
  },
  {
   "cell_type": "markdown",
   "metadata": {},
   "source": [
    "**Шаг 2. Подготовка данных**"
   ]
  },
  {
   "cell_type": "code",
   "execution_count": 3,
   "metadata": {},
   "outputs": [
    {
     "name": "stdout",
     "output_type": "stream",
     "text": [
      "Обновленные данные для ознакомления:\n"
     ]
    },
    {
     "data": {
      "text/html": [
       "<div>\n",
       "<style scoped>\n",
       "    .dataframe tbody tr th:only-of-type {\n",
       "        vertical-align: middle;\n",
       "    }\n",
       "\n",
       "    .dataframe tbody tr th {\n",
       "        vertical-align: top;\n",
       "    }\n",
       "\n",
       "    .dataframe thead th {\n",
       "        text-align: right;\n",
       "    }\n",
       "</style>\n",
       "<table border=\"1\" class=\"dataframe\">\n",
       "  <thead>\n",
       "    <tr style=\"text-align: right;\">\n",
       "      <th></th>\n",
       "      <th>name</th>\n",
       "      <th>platform</th>\n",
       "      <th>year_of_release</th>\n",
       "      <th>genre</th>\n",
       "      <th>na_sales</th>\n",
       "      <th>eu_sales</th>\n",
       "      <th>jp_sales</th>\n",
       "      <th>other_sales</th>\n",
       "      <th>critic_score</th>\n",
       "      <th>user_score</th>\n",
       "      <th>rating</th>\n",
       "      <th>total_sales</th>\n",
       "    </tr>\n",
       "  </thead>\n",
       "  <tbody>\n",
       "    <tr>\n",
       "      <th>0</th>\n",
       "      <td>Wii Sports</td>\n",
       "      <td>Wii</td>\n",
       "      <td>2006</td>\n",
       "      <td>Sports</td>\n",
       "      <td>41.36</td>\n",
       "      <td>28.96</td>\n",
       "      <td>3.77</td>\n",
       "      <td>8.45</td>\n",
       "      <td>76.0</td>\n",
       "      <td>8.0</td>\n",
       "      <td>E</td>\n",
       "      <td>82.54</td>\n",
       "    </tr>\n",
       "    <tr>\n",
       "      <th>1</th>\n",
       "      <td>Super Mario Bros.</td>\n",
       "      <td>NES</td>\n",
       "      <td>1985</td>\n",
       "      <td>Platform</td>\n",
       "      <td>29.08</td>\n",
       "      <td>3.58</td>\n",
       "      <td>6.81</td>\n",
       "      <td>0.77</td>\n",
       "      <td>NaN</td>\n",
       "      <td>NaN</td>\n",
       "      <td>Unknown</td>\n",
       "      <td>40.24</td>\n",
       "    </tr>\n",
       "    <tr>\n",
       "      <th>2</th>\n",
       "      <td>Mario Kart Wii</td>\n",
       "      <td>Wii</td>\n",
       "      <td>2008</td>\n",
       "      <td>Racing</td>\n",
       "      <td>15.68</td>\n",
       "      <td>12.76</td>\n",
       "      <td>3.79</td>\n",
       "      <td>3.29</td>\n",
       "      <td>82.0</td>\n",
       "      <td>8.3</td>\n",
       "      <td>E</td>\n",
       "      <td>35.52</td>\n",
       "    </tr>\n",
       "    <tr>\n",
       "      <th>3</th>\n",
       "      <td>Wii Sports Resort</td>\n",
       "      <td>Wii</td>\n",
       "      <td>2009</td>\n",
       "      <td>Sports</td>\n",
       "      <td>15.61</td>\n",
       "      <td>10.93</td>\n",
       "      <td>3.28</td>\n",
       "      <td>2.95</td>\n",
       "      <td>80.0</td>\n",
       "      <td>8.0</td>\n",
       "      <td>E</td>\n",
       "      <td>32.77</td>\n",
       "    </tr>\n",
       "    <tr>\n",
       "      <th>4</th>\n",
       "      <td>Pokemon Red/Pokemon Blue</td>\n",
       "      <td>GB</td>\n",
       "      <td>1996</td>\n",
       "      <td>Role-Playing</td>\n",
       "      <td>11.27</td>\n",
       "      <td>8.89</td>\n",
       "      <td>10.22</td>\n",
       "      <td>1.00</td>\n",
       "      <td>NaN</td>\n",
       "      <td>NaN</td>\n",
       "      <td>Unknown</td>\n",
       "      <td>31.38</td>\n",
       "    </tr>\n",
       "  </tbody>\n",
       "</table>\n",
       "</div>"
      ],
      "text/plain": [
       "                       name platform  year_of_release         genre  na_sales  \\\n",
       "0                Wii Sports      Wii             2006        Sports     41.36   \n",
       "1         Super Mario Bros.      NES             1985      Platform     29.08   \n",
       "2            Mario Kart Wii      Wii             2008        Racing     15.68   \n",
       "3         Wii Sports Resort      Wii             2009        Sports     15.61   \n",
       "4  Pokemon Red/Pokemon Blue       GB             1996  Role-Playing     11.27   \n",
       "\n",
       "   eu_sales  jp_sales  other_sales  critic_score  user_score   rating  \\\n",
       "0     28.96      3.77         8.45          76.0         8.0        E   \n",
       "1      3.58      6.81         0.77           NaN         NaN  Unknown   \n",
       "2     12.76      3.79         3.29          82.0         8.3        E   \n",
       "3     10.93      3.28         2.95          80.0         8.0        E   \n",
       "4      8.89     10.22         1.00           NaN         NaN  Unknown   \n",
       "\n",
       "   total_sales  \n",
       "0        82.54  \n",
       "1        40.24  \n",
       "2        35.52  \n",
       "3        32.77  \n",
       "4        31.38  "
      ]
     },
     "metadata": {},
     "output_type": "display_data"
    }
   ],
   "source": [
    "# Шаг 2.1. Замена названий столбцов (приведение к нижнему регистру)\n",
    "games_data.columns = games_data.columns.str.lower()\n",
    "\n",
    "# Шаг 2.2. Преобразование данных в нужные типы\n",
    "# 2.2.1. Преобразование типа данных столбца \"year_of_release\" в целочисленный\n",
    "games_data['year_of_release'] = games_data['year_of_release'].astype('Int32')\n",
    "\n",
    "# 2.2.2. Преобразование типа данных столбца \"user_score\" в числовой\n",
    "games_data['user_score'] = pd.to_numeric(games_data['user_score'], errors='coerce')\n",
    "\n",
    "# Шаг 2.3. Обработка пропусков при необходимости\n",
    "# 2.3.1. Замена значений 'tbd' в столбце 'user_score' на NaN\n",
    "games_data['user_score'] = games_data['user_score'].replace('tbd', float('nan'))\n",
    "\n",
    "# 2.3.4. Заполнение пропусков в столбце \"rating\" значением \"Unknown\"\n",
    "games_data['rating'].fillna('Unknown', inplace=True)\n",
    "\n",
    "# Шаг 2.4. Посчитайте суммарные продажи во всех регионах и запишите их в отдельный столбец\n",
    "games_data['total_sales'] = games_data[['na_sales', 'eu_sales', 'jp_sales', 'other_sales']].sum(axis=1)\n",
    "\n",
    "# Вывод обновленных данных для ознакомления\n",
    "print(\"Обновленные данные для ознакомления:\")\n",
    "display(games_data.head())"
   ]
  },
  {
   "cell_type": "markdown",
   "metadata": {},
   "source": [
    "**Вывод:**\n",
    "\n",
    "На данном шаге были выполнены следующие действия:\n",
    "\n",
    "1. **Замена названий столбцов**: Все названия столбцов были приведены к нижнему регистру с помощью метода `.lower()` для удобства обращения к ним и предотвращения возможных ошибок при написании кода.\n",
    "\n",
    "2. **Преобразование данных в нужные типы**:\n",
    "   - Столбец \"year_of_release\" был преобразован к целочисленному типу данных (Int32) с помощью метода `.astype('Int32')`, так как год выпуска не должен иметь дробную часть.\n",
    "   - Столбец \"user_score\" был преобразован в числовой формат с помощью метода `pd.to_numeric()`, чтобы можно было проводить анализ данных в этом столбце. Значения 'tbd' (to be determined) были заменены на NaN с помощью метода `.replace()`.\n",
    "\n",
    "3. **Обработка пропусков при необходимости**:\n",
    "   - В столбце \"rating\" пропущенные значения были заменены на строку \"Unknown\" с помощью метода `.fillna()` для сохранения информации о пропущенных значениях и избежания искажений при анализе.\n",
    "\n",
    "4. **Подсчет суммарных продаж во всех регионах**:\n",
    "   - Был создан новый столбец \"total_sales\", в котором суммарные продажи по всем регионам были подсчитаны с использованием метода `.sum(axis=1)` для строк.\n",
    "\n",
    "Результаты:\n",
    "- Названия столбцов были успешно приведены к нижнему регистру для унификации и облегчения обращения к ним.\n",
    "- Данные в столбцах \"year_of_release\" и \"user_score\" были успешно преобразованы в нужные типы данных.\n",
    "- Пропущенные значения в столбце \"rating\" были заменены на \"Unknown\".\n",
    "- Был создан новый столбец \"total_sales\", содержащий суммарные продажи по всем регионам.\n",
    "\n",
    "Результаты показывают обновленные данные после выполнения этих действий. Теперь данные готовы к дальнейшему анализу и построению моделей."
   ]
  },
  {
   "cell_type": "markdown",
   "metadata": {},
   "source": [
    "**Шаг 3. Исследовательский анализ данных**"
   ]
  },
  {
   "cell_type": "code",
   "execution_count": 4,
   "metadata": {
    "scrolled": false
   },
   "outputs": [
    {
     "data": {
      "image/png": "[encoded data removed]",
      "text/plain": [
       "<Figure size 720x432 with 1 Axes>"
      ]
     },
     "metadata": {
      "needs_background": "light"
     },
     "output_type": "display_data"
    },
    {
     "name": "stdout",
     "output_type": "stream",
     "text": [
      "3.1. Всего уникальных годов выпуска: 37\n",
      "Статистика по количеству игр в разные годы:\n"
     ]
    },
    {
     "data": {
      "text/plain": [
       "count      37.000000\n",
       "mean      444.432432\n",
       "std       451.604334\n",
       "min         9.000000\n",
       "25%        36.000000\n",
       "50%       338.000000\n",
       "75%       762.000000\n",
       "max      1427.000000\n",
       "Name: name, dtype: float64"
      ]
     },
     "metadata": {},
     "output_type": "display_data"
    }
   ],
   "source": [
    "# 3.1. Посмотрите, сколько игр выпускалось в разные годы. Важны ли данные за все периоды?\n",
    "# Посчитаем количество игр для каждого года\n",
    "games_per_year = games_data.groupby('year_of_release')['name'].count()\n",
    "\n",
    "# Построим график\n",
    "plt.figure(figsize=(10, 6))\n",
    "plt.plot(games_per_year.index, games_per_year.values, marker='o', linestyle='-')\n",
    "plt.title('3.1. Количество выпущенных игр по годам')\n",
    "plt.xlabel('Год выпуска')\n",
    "plt.ylabel('Количество игр')\n",
    "plt.grid(True)\n",
    "plt.show()\n",
    "\n",
    "# Оценим значимость данных за все периоды\n",
    "print(\"3.1. Всего уникальных годов выпуска:\", len(games_per_year))\n",
    "\n",
    "# Выведем статистику по количеству игр в разные годы\n",
    "print(\"Статистика по количеству игр в разные годы:\")\n",
    "display(games_per_year.describe())"
   ]
  },
  {
   "cell_type": "markdown",
   "metadata": {},
   "source": [
    "**Вывод:**\n",
    "\n",
    "На этом шаге были выполнены следующие действия:\n",
    "\n",
    "1. **Подсчет количества игр по годам**: С помощью метода `groupby` было посчитано количество игр для каждого года выпуска.\n",
    "2. **Построение графика**: Построен график, на котором отображено количество выпущенных игр по годам.\n",
    "3. **Оценка значимости данных за все периоды**: Выведено общее количество уникальных годов выпуска игр.\n",
    "4. **Статистика по количеству игр в разные годы**: Выведена статистика, включая среднее, стандартное отклонение, минимальное, максимальное значения и квартили.\n",
    "\n",
    "Результаты показывают, что данные за 37 уникальных годов варьируются от 9 до 1427 игр в год. Среднее значение составляет примерно 444 игры в год, с медианным значением около 338 игр. Эти данные позволяют оценить общую динамику выпуска игр по годам и определить, насколько данные за все периоды важны для анализа."
   ]
  },
  {
   "cell_type": "code",
   "execution_count": 5,
   "metadata": {
    "scrolled": false
   },
   "outputs": [
    {
     "data": {
      "image/png": "[encoded data removed]",
      "text/plain": [
       "<Figure size 864x576 with 1 Axes>"
      ]
     },
     "metadata": {
      "needs_background": "light"
     },
     "output_type": "display_data"
    },
    {
     "name": "stdout",
     "output_type": "stream",
     "text": [
      "Статистика по суммарным продажам по платформам:\n"
     ]
    },
    {
     "data": {
      "text/html": [
       "<div>\n",
       "<style scoped>\n",
       "    .dataframe tbody tr th:only-of-type {\n",
       "        vertical-align: middle;\n",
       "    }\n",
       "\n",
       "    .dataframe tbody tr th {\n",
       "        vertical-align: top;\n",
       "    }\n",
       "\n",
       "    .dataframe thead th {\n",
       "        text-align: right;\n",
       "    }\n",
       "</style>\n",
       "<table border=\"1\" class=\"dataframe\">\n",
       "  <thead>\n",
       "    <tr style=\"text-align: right;\">\n",
       "      <th></th>\n",
       "      <th>count</th>\n",
       "      <th>mean</th>\n",
       "      <th>std</th>\n",
       "      <th>min</th>\n",
       "      <th>25%</th>\n",
       "      <th>50%</th>\n",
       "      <th>75%</th>\n",
       "      <th>max</th>\n",
       "    </tr>\n",
       "    <tr>\n",
       "      <th>platform</th>\n",
       "      <th></th>\n",
       "      <th></th>\n",
       "      <th></th>\n",
       "      <th></th>\n",
       "      <th></th>\n",
       "      <th></th>\n",
       "      <th></th>\n",
       "      <th></th>\n",
       "    </tr>\n",
       "  </thead>\n",
       "  <tbody>\n",
       "    <tr>\n",
       "      <th>2600</th>\n",
       "      <td>10.0</td>\n",
       "      <td>8.648000</td>\n",
       "      <td>13.031075</td>\n",
       "      <td>0.27</td>\n",
       "      <td>0.6400</td>\n",
       "      <td>1.340</td>\n",
       "      <td>9.9950</td>\n",
       "      <td>35.68</td>\n",
       "    </tr>\n",
       "    <tr>\n",
       "      <th>3DO</th>\n",
       "      <td>2.0</td>\n",
       "      <td>0.050000</td>\n",
       "      <td>0.042426</td>\n",
       "      <td>0.02</td>\n",
       "      <td>0.0350</td>\n",
       "      <td>0.050</td>\n",
       "      <td>0.0650</td>\n",
       "      <td>0.08</td>\n",
       "    </tr>\n",
       "    <tr>\n",
       "      <th>3DS</th>\n",
       "      <td>6.0</td>\n",
       "      <td>42.968333</td>\n",
       "      <td>18.278261</td>\n",
       "      <td>15.14</td>\n",
       "      <td>31.7750</td>\n",
       "      <td>47.560</td>\n",
       "      <td>55.2675</td>\n",
       "      <td>63.20</td>\n",
       "    </tr>\n",
       "    <tr>\n",
       "      <th>DC</th>\n",
       "      <td>7.0</td>\n",
       "      <td>2.278571</td>\n",
       "      <td>2.543550</td>\n",
       "      <td>0.02</td>\n",
       "      <td>0.1650</td>\n",
       "      <td>1.070</td>\n",
       "      <td>4.2700</td>\n",
       "      <td>5.99</td>\n",
       "    </tr>\n",
       "    <tr>\n",
       "      <th>DS</th>\n",
       "      <td>11.0</td>\n",
       "      <td>72.980000</td>\n",
       "      <td>61.673155</td>\n",
       "      <td>0.02</td>\n",
       "      <td>14.1400</td>\n",
       "      <td>85.020</td>\n",
       "      <td>124.9750</td>\n",
       "      <td>146.94</td>\n",
       "    </tr>\n",
       "    <tr>\n",
       "      <th>GB</th>\n",
       "      <td>13.0</td>\n",
       "      <td>19.571538</td>\n",
       "      <td>18.465580</td>\n",
       "      <td>1.43</td>\n",
       "      <td>5.5700</td>\n",
       "      <td>12.180</td>\n",
       "      <td>26.9000</td>\n",
       "      <td>64.97</td>\n",
       "    </tr>\n",
       "    <tr>\n",
       "      <th>GBA</th>\n",
       "      <td>8.0</td>\n",
       "      <td>39.110000</td>\n",
       "      <td>32.768255</td>\n",
       "      <td>0.07</td>\n",
       "      <td>4.8100</td>\n",
       "      <td>45.265</td>\n",
       "      <td>64.6875</td>\n",
       "      <td>77.91</td>\n",
       "    </tr>\n",
       "    <tr>\n",
       "      <th>GC</th>\n",
       "      <td>7.0</td>\n",
       "      <td>28.104286</td>\n",
       "      <td>18.845004</td>\n",
       "      <td>0.27</td>\n",
       "      <td>18.8000</td>\n",
       "      <td>27.620</td>\n",
       "      <td>39.7150</td>\n",
       "      <td>51.81</td>\n",
       "    </tr>\n",
       "    <tr>\n",
       "      <th>GEN</th>\n",
       "      <td>5.0</td>\n",
       "      <td>6.154000</td>\n",
       "      <td>4.226160</td>\n",
       "      <td>2.60</td>\n",
       "      <td>3.0700</td>\n",
       "      <td>4.330</td>\n",
       "      <td>8.1300</td>\n",
       "      <td>12.64</td>\n",
       "    </tr>\n",
       "    <tr>\n",
       "      <th>GG</th>\n",
       "      <td>1.0</td>\n",
       "      <td>0.040000</td>\n",
       "      <td>NaN</td>\n",
       "      <td>0.04</td>\n",
       "      <td>0.0400</td>\n",
       "      <td>0.040</td>\n",
       "      <td>0.0400</td>\n",
       "      <td>0.04</td>\n",
       "    </tr>\n",
       "    <tr>\n",
       "      <th>N64</th>\n",
       "      <td>7.0</td>\n",
       "      <td>31.144286</td>\n",
       "      <td>21.875933</td>\n",
       "      <td>0.08</td>\n",
       "      <td>18.6100</td>\n",
       "      <td>34.100</td>\n",
       "      <td>44.3700</td>\n",
       "      <td>57.87</td>\n",
       "    </tr>\n",
       "    <tr>\n",
       "      <th>NES</th>\n",
       "      <td>12.0</td>\n",
       "      <td>20.920833</td>\n",
       "      <td>19.856724</td>\n",
       "      <td>0.11</td>\n",
       "      <td>5.4850</td>\n",
       "      <td>13.345</td>\n",
       "      <td>38.5600</td>\n",
       "      <td>53.44</td>\n",
       "    </tr>\n",
       "    <tr>\n",
       "      <th>NG</th>\n",
       "      <td>4.0</td>\n",
       "      <td>0.360000</td>\n",
       "      <td>0.308004</td>\n",
       "      <td>0.10</td>\n",
       "      <td>0.1825</td>\n",
       "      <td>0.270</td>\n",
       "      <td>0.4475</td>\n",
       "      <td>0.80</td>\n",
       "    </tr>\n",
       "    <tr>\n",
       "      <th>PC</th>\n",
       "      <td>26.0</td>\n",
       "      <td>9.836923</td>\n",
       "      <td>7.997666</td>\n",
       "      <td>0.03</td>\n",
       "      <td>4.4425</td>\n",
       "      <td>8.705</td>\n",
       "      <td>12.4100</td>\n",
       "      <td>35.03</td>\n",
       "    </tr>\n",
       "    <tr>\n",
       "      <th>PCFX</th>\n",
       "      <td>1.0</td>\n",
       "      <td>0.030000</td>\n",
       "      <td>NaN</td>\n",
       "      <td>0.03</td>\n",
       "      <td>0.0300</td>\n",
       "      <td>0.030</td>\n",
       "      <td>0.0300</td>\n",
       "      <td>0.03</td>\n",
       "    </tr>\n",
       "    <tr>\n",
       "      <th>PS</th>\n",
       "      <td>10.0</td>\n",
       "      <td>72.758000</td>\n",
       "      <td>63.351713</td>\n",
       "      <td>2.07</td>\n",
       "      <td>13.9000</td>\n",
       "      <td>65.330</td>\n",
       "      <td>126.2200</td>\n",
       "      <td>169.49</td>\n",
       "    </tr>\n",
       "    <tr>\n",
       "      <th>PS2</th>\n",
       "      <td>12.0</td>\n",
       "      <td>102.796667</td>\n",
       "      <td>79.405729</td>\n",
       "      <td>0.45</td>\n",
       "      <td>35.9775</td>\n",
       "      <td>89.705</td>\n",
       "      <td>170.9000</td>\n",
       "      <td>211.81</td>\n",
       "    </tr>\n",
       "    <tr>\n",
       "      <th>PS3</th>\n",
       "      <td>11.0</td>\n",
       "      <td>84.667273</td>\n",
       "      <td>54.637565</td>\n",
       "      <td>3.60</td>\n",
       "      <td>34.3600</td>\n",
       "      <td>107.360</td>\n",
       "      <td>124.7250</td>\n",
       "      <td>156.78</td>\n",
       "    </tr>\n",
       "    <tr>\n",
       "      <th>PS4</th>\n",
       "      <td>4.0</td>\n",
       "      <td>78.535000</td>\n",
       "      <td>40.567917</td>\n",
       "      <td>25.99</td>\n",
       "      <td>58.4350</td>\n",
       "      <td>84.625</td>\n",
       "      <td>104.7250</td>\n",
       "      <td>118.90</td>\n",
       "    </tr>\n",
       "    <tr>\n",
       "      <th>PSP</th>\n",
       "      <td>12.0</td>\n",
       "      <td>24.127500</td>\n",
       "      <td>20.190759</td>\n",
       "      <td>0.12</td>\n",
       "      <td>6.0800</td>\n",
       "      <td>26.185</td>\n",
       "      <td>39.2950</td>\n",
       "      <td>55.32</td>\n",
       "    </tr>\n",
       "    <tr>\n",
       "      <th>PSV</th>\n",
       "      <td>6.0</td>\n",
       "      <td>8.968333</td>\n",
       "      <td>4.729695</td>\n",
       "      <td>4.25</td>\n",
       "      <td>5.0350</td>\n",
       "      <td>8.420</td>\n",
       "      <td>11.5725</td>\n",
       "      <td>16.19</td>\n",
       "    </tr>\n",
       "    <tr>\n",
       "      <th>SAT</th>\n",
       "      <td>6.0</td>\n",
       "      <td>5.598333</td>\n",
       "      <td>3.967591</td>\n",
       "      <td>0.09</td>\n",
       "      <td>3.6925</td>\n",
       "      <td>5.295</td>\n",
       "      <td>7.4600</td>\n",
       "      <td>11.57</td>\n",
       "    </tr>\n",
       "    <tr>\n",
       "      <th>SCD</th>\n",
       "      <td>2.0</td>\n",
       "      <td>0.930000</td>\n",
       "      <td>0.806102</td>\n",
       "      <td>0.36</td>\n",
       "      <td>0.6450</td>\n",
       "      <td>0.930</td>\n",
       "      <td>1.2150</td>\n",
       "      <td>1.50</td>\n",
       "    </tr>\n",
       "    <tr>\n",
       "      <th>SNES</th>\n",
       "      <td>10.0</td>\n",
       "      <td>20.004000</td>\n",
       "      <td>15.479666</td>\n",
       "      <td>0.22</td>\n",
       "      <td>4.7225</td>\n",
       "      <td>21.185</td>\n",
       "      <td>32.7850</td>\n",
       "      <td>40.02</td>\n",
       "    </tr>\n",
       "    <tr>\n",
       "      <th>TG16</th>\n",
       "      <td>1.0</td>\n",
       "      <td>0.160000</td>\n",
       "      <td>NaN</td>\n",
       "      <td>0.16</td>\n",
       "      <td>0.1600</td>\n",
       "      <td>0.160</td>\n",
       "      <td>0.1600</td>\n",
       "      <td>0.16</td>\n",
       "    </tr>\n",
       "    <tr>\n",
       "      <th>WS</th>\n",
       "      <td>3.0</td>\n",
       "      <td>0.473333</td>\n",
       "      <td>0.200333</td>\n",
       "      <td>0.28</td>\n",
       "      <td>0.3700</td>\n",
       "      <td>0.460</td>\n",
       "      <td>0.5700</td>\n",
       "      <td>0.68</td>\n",
       "    </tr>\n",
       "    <tr>\n",
       "      <th>Wii</th>\n",
       "      <td>11.0</td>\n",
       "      <td>81.016364</td>\n",
       "      <td>79.136330</td>\n",
       "      <td>0.18</td>\n",
       "      <td>6.1700</td>\n",
       "      <td>59.650</td>\n",
       "      <td>144.9600</td>\n",
       "      <td>206.97</td>\n",
       "    </tr>\n",
       "    <tr>\n",
       "      <th>WiiU</th>\n",
       "      <td>5.0</td>\n",
       "      <td>16.438000</td>\n",
       "      <td>7.068244</td>\n",
       "      <td>4.60</td>\n",
       "      <td>16.3500</td>\n",
       "      <td>17.560</td>\n",
       "      <td>21.6500</td>\n",
       "      <td>22.03</td>\n",
       "    </tr>\n",
       "    <tr>\n",
       "      <th>X360</th>\n",
       "      <td>12.0</td>\n",
       "      <td>80.103333</td>\n",
       "      <td>57.484408</td>\n",
       "      <td>1.52</td>\n",
       "      <td>29.0450</td>\n",
       "      <td>91.995</td>\n",
       "      <td>124.0325</td>\n",
       "      <td>170.03</td>\n",
       "    </tr>\n",
       "    <tr>\n",
       "      <th>XB</th>\n",
       "      <td>9.0</td>\n",
       "      <td>27.952222</td>\n",
       "      <td>26.430731</td>\n",
       "      <td>0.18</td>\n",
       "      <td>0.9900</td>\n",
       "      <td>22.260</td>\n",
       "      <td>49.0800</td>\n",
       "      <td>65.42</td>\n",
       "    </tr>\n",
       "    <tr>\n",
       "      <th>XOne</th>\n",
       "      <td>4.0</td>\n",
       "      <td>39.830000</td>\n",
       "      <td>20.313977</td>\n",
       "      <td>18.96</td>\n",
       "      <td>24.3525</td>\n",
       "      <td>40.110</td>\n",
       "      <td>55.5875</td>\n",
       "      <td>60.14</td>\n",
       "    </tr>\n",
       "  </tbody>\n",
       "</table>\n",
       "</div>"
      ],
      "text/plain": [
       "          count        mean        std    min      25%      50%       75%  \\\n",
       "platform                                                                    \n",
       "2600       10.0    8.648000  13.031075   0.27   0.6400    1.340    9.9950   \n",
       "3DO         2.0    0.050000   0.042426   0.02   0.0350    0.050    0.0650   \n",
       "3DS         6.0   42.968333  18.278261  15.14  31.7750   47.560   55.2675   \n",
       "DC          7.0    2.278571   2.543550   0.02   0.1650    1.070    4.2700   \n",
       "DS         11.0   72.980000  61.673155   0.02  14.1400   85.020  124.9750   \n",
       "GB         13.0   19.571538  18.465580   1.43   5.5700   12.180   26.9000   \n",
       "GBA         8.0   39.110000  32.768255   0.07   4.8100   45.265   64.6875   \n",
       "GC          7.0   28.104286  18.845004   0.27  18.8000   27.620   39.7150   \n",
       "GEN         5.0    6.154000   4.226160   2.60   3.0700    4.330    8.1300   \n",
       "GG          1.0    0.040000        NaN   0.04   0.0400    0.040    0.0400   \n",
       "N64         7.0   31.144286  21.875933   0.08  18.6100   34.100   44.3700   \n",
       "NES        12.0   20.920833  19.856724   0.11   5.4850   13.345   38.5600   \n",
       "NG          4.0    0.360000   0.308004   0.10   0.1825    0.270    0.4475   \n",
       "PC         26.0    9.836923   7.997666   0.03   4.4425    8.705   12.4100   \n",
       "PCFX        1.0    0.030000        NaN   0.03   0.0300    0.030    0.0300   \n",
       "PS         10.0   72.758000  63.351713   2.07  13.9000   65.330  126.2200   \n",
       "PS2        12.0  102.796667  79.405729   0.45  35.9775   89.705  170.9000   \n",
       "PS3        11.0   84.667273  54.637565   3.60  34.3600  107.360  124.7250   \n",
       "PS4         4.0   78.535000  40.567917  25.99  58.4350   84.625  104.7250   \n",
       "PSP        12.0   24.127500  20.190759   0.12   6.0800   26.185   39.2950   \n",
       "PSV         6.0    8.968333   4.729695   4.25   5.0350    8.420   11.5725   \n",
       "SAT         6.0    5.598333   3.967591   0.09   3.6925    5.295    7.4600   \n",
       "SCD         2.0    0.930000   0.806102   0.36   0.6450    0.930    1.2150   \n",
       "SNES       10.0   20.004000  15.479666   0.22   4.7225   21.185   32.7850   \n",
       "TG16        1.0    0.160000        NaN   0.16   0.1600    0.160    0.1600   \n",
       "WS          3.0    0.473333   0.200333   0.28   0.3700    0.460    0.5700   \n",
       "Wii        11.0   81.016364  79.136330   0.18   6.1700   59.650  144.9600   \n",
       "WiiU        5.0   16.438000   7.068244   4.60  16.3500   17.560   21.6500   \n",
       "X360       12.0   80.103333  57.484408   1.52  29.0450   91.995  124.0325   \n",
       "XB          9.0   27.952222  26.430731   0.18   0.9900   22.260   49.0800   \n",
       "XOne        4.0   39.830000  20.313977  18.96  24.3525   40.110   55.5875   \n",
       "\n",
       "             max  \n",
       "platform          \n",
       "2600       35.68  \n",
       "3DO         0.08  \n",
       "3DS        63.20  \n",
       "DC          5.99  \n",
       "DS        146.94  \n",
       "GB         64.97  \n",
       "GBA        77.91  \n",
       "GC         51.81  \n",
       "GEN        12.64  \n",
       "GG          0.04  \n",
       "N64        57.87  \n",
       "NES        53.44  \n",
       "NG          0.80  \n",
       "PC         35.03  \n",
       "PCFX        0.03  \n",
       "PS        169.49  \n",
       "PS2       211.81  \n",
       "PS3       156.78  \n",
       "PS4       118.90  \n",
       "PSP        55.32  \n",
       "PSV        16.19  \n",
       "SAT        11.57  \n",
       "SCD         1.50  \n",
       "SNES       40.02  \n",
       "TG16        0.16  \n",
       "WS          0.68  \n",
       "Wii       206.97  \n",
       "WiiU       22.03  \n",
       "X360      170.03  \n",
       "XB         65.42  \n",
       "XOne       60.14  "
      ]
     },
     "metadata": {},
     "output_type": "display_data"
    }
   ],
   "source": [
    "# 3.2. Посмотрите, как менялись продажи по платформам. Выберите платформы с наибольшими суммарными продажами и постройте распределение по годам. \n",
    "\n",
    "# Сгруппируем данные по платформам и годам выпуска, а затем посчитаем суммарные продажи\n",
    "platform_sales = games_data.groupby(['platform', 'year_of_release'])[['total_sales']].sum().reset_index()\n",
    "\n",
    "# Выберем платформы с наибольшими суммарными продажами\n",
    "top_platforms = platform_sales.groupby('platform')['total_sales'].sum().sort_values(ascending=False).head(5).index\n",
    "\n",
    "# Построим распределение продаж для выбранных платформ\n",
    "plt.figure(figsize=(12, 8))\n",
    "for platform in top_platforms:\n",
    "    platform_data = platform_sales[platform_sales['platform'] == platform]\n",
    "    plt.plot(platform_data['year_of_release'], platform_data['total_sales'], label=platform, marker='o', linestyle='-')\n",
    "plt.title('3.2. Распределение продаж по платформам')\n",
    "plt.xlabel('Год выпуска')\n",
    "plt.ylabel('Глобальные продажи, млн копий')\n",
    "plt.legend()\n",
    "plt.grid(True)\n",
    "plt.show()\n",
    "\n",
    "# Выведем статистику по суммарным продажам по платформам\n",
    "print(\"Статистика по суммарным продажам по платформам:\")\n",
    "display(platform_sales.groupby('platform')['total_sales'].describe())"
   ]
  },
  {
   "cell_type": "markdown",
   "metadata": {},
   "source": [
    "**Вывод:**\n",
    "\n",
    "На этом шаге были выполнены следующие действия:\n",
    "\n",
    "1. **Группировка данных по платформам и годам выпуска**: Для каждой платформы были подсчитаны суммарные продажи по годам выпуска игр.\n",
    "2. **Выбор платформ с наибольшими суммарными продажами**: Были выбраны пять платформ с наибольшими суммарными продажами.\n",
    "3. **Построение распределения продаж для выбранных платформ**: Для каждой из выбранных платформ было построено распределение суммарных продаж по годам выпуска игр.\n",
    "4. **Вывод статистики по суммарным продажам по платформам**: Была выведена статистика, описывающая суммарные продажи для каждой платформы, включая количество, среднее, стандартное отклонение, минимальное, максимальное значения и квартили.\n",
    "\n",
    "Результаты показывают, как менялись продажи по платформам со временем. Для каждой платформы видны пики и спады продаж в разные годы. Например, некоторые платформы имеют длительный период пика продаж, а затем постепенно угасают, а другие могут иметь более краткий жизненный цикл. Эти данные могут быть полезны для определения жизненного цикла платформ и выявления тенденций в индустрии видеоигр."
   ]
  },
  {
   "cell_type": "code",
   "execution_count": 6,
   "metadata": {},
   "outputs": [],
   "source": [
    "# 3.3. Возьмите данные за соответствующий актуальный период. \n",
    "# Определим актуальный период на основе анализа количества игр, выпущенных в разные годы\n",
    "# Возьмем данные за последние 5 лет (2012-2016 гг.)\n",
    "actual_data = games_data[games_data['year_of_release'] >= 2012]"
   ]
  },
  {
   "cell_type": "code",
   "execution_count": 7,
   "metadata": {},
   "outputs": [
    {
     "name": "stdout",
     "output_type": "stream",
     "text": [
      "3.4. Топ-5 платформ по суммарным продажам за актуальный период:\n"
     ]
    },
    {
     "data": {
      "text/plain": [
       "platform\n",
       "PS4     314.14\n",
       "PS3     288.79\n",
       "X360    236.54\n",
       "3DS     194.61\n",
       "XOne    159.32\n",
       "Name: total_sales, dtype: float64"
      ]
     },
     "metadata": {},
     "output_type": "display_data"
    },
    {
     "name": "stdout",
     "output_type": "stream",
     "text": [
      "Статистика по суммарным продажам за актуальный период для топ-5 платформ:\n"
     ]
    },
    {
     "data": {
      "text/plain": [
       "count     11.000000\n",
       "mean     131.502727\n",
       "std      112.116322\n",
       "min       11.190000\n",
       "25%       42.275000\n",
       "50%       82.190000\n",
       "75%      215.575000\n",
       "max      314.140000\n",
       "Name: total_sales, dtype: float64"
      ]
     },
     "metadata": {},
     "output_type": "display_data"
    },
    {
     "data": {
      "image/png": "[encoded data removed]",
      "text/plain": [
       "<Figure size 720x432 with 1 Axes>"
      ]
     },
     "metadata": {
      "needs_background": "light"
     },
     "output_type": "display_data"
    }
   ],
   "source": [
    "# 3.4. Какие платформы лидируют по продажам, растут или падают? \n",
    "\n",
    "# Сгруппируем данные за актуальный период (2012 год и позже) по платформам и посчитаем суммарные продажи\n",
    "platform_sales_actual = actual_data[actual_data['year_of_release'] >= 2012].groupby('platform')['total_sales'].sum().sort_values(ascending=False)\n",
    "\n",
    "# Отобразим топ-5 платформ с наибольшими суммарными продажами\n",
    "top_platforms_actual = platform_sales_actual.head(5)\n",
    "print(\"3.4. Топ-5 платформ по суммарным продажам за актуальный период:\")\n",
    "display(top_platforms_actual)\n",
    "\n",
    "# Выведем статистику по суммарным продажам для выбранных платформ\n",
    "print(\"Статистика по суммарным продажам за актуальный период для топ-5 платформ:\")\n",
    "display(platform_sales_actual.describe())\n",
    "\n",
    "# Построим график для сравнения суммарных продаж по платформам\n",
    "plt.figure(figsize=(10, 6))\n",
    "plt.bar(platform_sales_actual.index, platform_sales_actual.values, color='skyblue')\n",
    "plt.title('Суммарные продажи по платформам за актуальный период')\n",
    "plt.xlabel('Платформа')\n",
    "plt.ylabel('Суммарные продажи, млн копий')\n",
    "plt.xticks(rotation=45)\n",
    "plt.grid(True)\n",
    "plt.show()"
   ]
  },
  {
   "cell_type": "markdown",
   "metadata": {},
   "source": [
    "**Вывод:**\n",
    "\n",
    "На этом шаге были выполнены следующие действия:\n",
    "\n",
    "1. **Группировка данных по платформам и подсчет суммарных продаж**: Для актуального периода были сгруппированы данные по платформам, после чего были подсчитаны суммарные продажи для каждой платформы.\n",
    "2. **Выбор топ-5 платформ с наибольшими суммарными продажами**: Из полученных данных были выбраны пять платформ с наибольшими суммарными продажами.\n",
    "3. **Вывод статистики по суммарным продажам для выбранных платформ**: Была выведена статистика по суммарным продажам для выбранных платформ, включая количество платформ, среднее значение, стандартное отклонение, минимальное и максимальное значения, а также квартили.\n",
    "\n",
    "Результаты позволяют определить топ-5 платформ по суммарным продажам за актуальный период и провести анализ их состояния. Например, можно выделить, что PlayStation 4 (PS4) и PlayStation 3 (PS3) занимают первые два места по продажам, что может свидетельствовать о популярности игр на платформах Sony. Также можно заметить, что стандартное отклонение суммарных продаж довольно высоко, что указывает на значительную вариабельность продаж между платформами. Эти данные могут быть полезны для определения потенциально прибыльных платформ для будущих игровых проектов или инвестиций."
   ]
  },
  {
   "cell_type": "code",
   "execution_count": 8,
   "metadata": {},
   "outputs": [
    {
     "name": "stdout",
     "output_type": "stream",
     "text": [
      "Топ-5 платформ за последние 5 лет (2012-2016 гг.):\n"
     ]
    },
    {
     "data": {
      "text/plain": [
       "platform\n",
       "PS4     314.14\n",
       "PS3     288.79\n",
       "X360    236.54\n",
       "3DS     194.61\n",
       "XOne    159.32\n",
       "Name: total_sales, dtype: float64"
      ]
     },
     "metadata": {},
     "output_type": "display_data"
    },
    {
     "data": {
      "image/png": "[encoded data removed]",
      "text/plain": [
       "<Figure size 864x576 with 1 Axes>"
      ]
     },
     "metadata": {
      "needs_background": "light"
     },
     "output_type": "display_data"
    },
    {
     "name": "stdout",
     "output_type": "stream",
     "text": [
      "Статистика по глобальным продажам игр в разбивке по платформам за последние 5 лет (2012-2016 гг.):\n"
     ]
    },
    {
     "data": {
      "text/html": [
       "<div>\n",
       "<style scoped>\n",
       "    .dataframe tbody tr th:only-of-type {\n",
       "        vertical-align: middle;\n",
       "    }\n",
       "\n",
       "    .dataframe tbody tr th {\n",
       "        vertical-align: top;\n",
       "    }\n",
       "\n",
       "    .dataframe thead th {\n",
       "        text-align: right;\n",
       "    }\n",
       "</style>\n",
       "<table border=\"1\" class=\"dataframe\">\n",
       "  <thead>\n",
       "    <tr style=\"text-align: right;\">\n",
       "      <th></th>\n",
       "      <th>count</th>\n",
       "      <th>mean</th>\n",
       "      <th>std</th>\n",
       "      <th>min</th>\n",
       "      <th>25%</th>\n",
       "      <th>50%</th>\n",
       "      <th>75%</th>\n",
       "      <th>max</th>\n",
       "    </tr>\n",
       "    <tr>\n",
       "      <th>platform</th>\n",
       "      <th></th>\n",
       "      <th></th>\n",
       "      <th></th>\n",
       "      <th></th>\n",
       "      <th></th>\n",
       "      <th></th>\n",
       "      <th></th>\n",
       "      <th></th>\n",
       "    </tr>\n",
       "  </thead>\n",
       "  <tbody>\n",
       "    <tr>\n",
       "      <th>3DS</th>\n",
       "      <td>396.0</td>\n",
       "      <td>0.491439</td>\n",
       "      <td>1.387161</td>\n",
       "      <td>0.01</td>\n",
       "      <td>0.0400</td>\n",
       "      <td>0.11</td>\n",
       "      <td>0.3125</td>\n",
       "      <td>14.60</td>\n",
       "    </tr>\n",
       "    <tr>\n",
       "      <th>DS</th>\n",
       "      <td>31.0</td>\n",
       "      <td>0.404839</td>\n",
       "      <td>1.439245</td>\n",
       "      <td>0.01</td>\n",
       "      <td>0.0200</td>\n",
       "      <td>0.05</td>\n",
       "      <td>0.1850</td>\n",
       "      <td>8.06</td>\n",
       "    </tr>\n",
       "    <tr>\n",
       "      <th>PC</th>\n",
       "      <td>250.0</td>\n",
       "      <td>0.250600</td>\n",
       "      <td>0.494640</td>\n",
       "      <td>0.01</td>\n",
       "      <td>0.0300</td>\n",
       "      <td>0.08</td>\n",
       "      <td>0.2400</td>\n",
       "      <td>5.14</td>\n",
       "    </tr>\n",
       "    <tr>\n",
       "      <th>PS3</th>\n",
       "      <td>493.0</td>\n",
       "      <td>0.585781</td>\n",
       "      <td>1.462855</td>\n",
       "      <td>0.01</td>\n",
       "      <td>0.0500</td>\n",
       "      <td>0.20</td>\n",
       "      <td>0.6100</td>\n",
       "      <td>21.05</td>\n",
       "    </tr>\n",
       "    <tr>\n",
       "      <th>PS4</th>\n",
       "      <td>392.0</td>\n",
       "      <td>0.801378</td>\n",
       "      <td>1.609456</td>\n",
       "      <td>0.01</td>\n",
       "      <td>0.0600</td>\n",
       "      <td>0.20</td>\n",
       "      <td>0.7300</td>\n",
       "      <td>14.63</td>\n",
       "    </tr>\n",
       "    <tr>\n",
       "      <th>PSP</th>\n",
       "      <td>173.0</td>\n",
       "      <td>0.064682</td>\n",
       "      <td>0.071296</td>\n",
       "      <td>0.01</td>\n",
       "      <td>0.0200</td>\n",
       "      <td>0.03</td>\n",
       "      <td>0.0900</td>\n",
       "      <td>0.36</td>\n",
       "    </tr>\n",
       "    <tr>\n",
       "      <th>PSV</th>\n",
       "      <td>411.0</td>\n",
       "      <td>0.119659</td>\n",
       "      <td>0.203011</td>\n",
       "      <td>0.01</td>\n",
       "      <td>0.0200</td>\n",
       "      <td>0.05</td>\n",
       "      <td>0.1200</td>\n",
       "      <td>1.96</td>\n",
       "    </tr>\n",
       "    <tr>\n",
       "      <th>Wii</th>\n",
       "      <td>54.0</td>\n",
       "      <td>0.655000</td>\n",
       "      <td>1.165447</td>\n",
       "      <td>0.01</td>\n",
       "      <td>0.0625</td>\n",
       "      <td>0.18</td>\n",
       "      <td>0.6875</td>\n",
       "      <td>6.76</td>\n",
       "    </tr>\n",
       "    <tr>\n",
       "      <th>WiiU</th>\n",
       "      <td>147.0</td>\n",
       "      <td>0.559116</td>\n",
       "      <td>1.058836</td>\n",
       "      <td>0.01</td>\n",
       "      <td>0.0800</td>\n",
       "      <td>0.22</td>\n",
       "      <td>0.5250</td>\n",
       "      <td>7.09</td>\n",
       "    </tr>\n",
       "    <tr>\n",
       "      <th>X360</th>\n",
       "      <td>292.0</td>\n",
       "      <td>0.810068</td>\n",
       "      <td>1.712069</td>\n",
       "      <td>0.01</td>\n",
       "      <td>0.1000</td>\n",
       "      <td>0.31</td>\n",
       "      <td>0.8700</td>\n",
       "      <td>16.27</td>\n",
       "    </tr>\n",
       "    <tr>\n",
       "      <th>XOne</th>\n",
       "      <td>247.0</td>\n",
       "      <td>0.645020</td>\n",
       "      <td>1.036139</td>\n",
       "      <td>0.01</td>\n",
       "      <td>0.0600</td>\n",
       "      <td>0.22</td>\n",
       "      <td>0.6850</td>\n",
       "      <td>7.39</td>\n",
       "    </tr>\n",
       "  </tbody>\n",
       "</table>\n",
       "</div>"
      ],
      "text/plain": [
       "          count      mean       std   min     25%   50%     75%    max\n",
       "platform                                                              \n",
       "3DS       396.0  0.491439  1.387161  0.01  0.0400  0.11  0.3125  14.60\n",
       "DS         31.0  0.404839  1.439245  0.01  0.0200  0.05  0.1850   8.06\n",
       "PC        250.0  0.250600  0.494640  0.01  0.0300  0.08  0.2400   5.14\n",
       "PS3       493.0  0.585781  1.462855  0.01  0.0500  0.20  0.6100  21.05\n",
       "PS4       392.0  0.801378  1.609456  0.01  0.0600  0.20  0.7300  14.63\n",
       "PSP       173.0  0.064682  0.071296  0.01  0.0200  0.03  0.0900   0.36\n",
       "PSV       411.0  0.119659  0.203011  0.01  0.0200  0.05  0.1200   1.96\n",
       "Wii        54.0  0.655000  1.165447  0.01  0.0625  0.18  0.6875   6.76\n",
       "WiiU      147.0  0.559116  1.058836  0.01  0.0800  0.22  0.5250   7.09\n",
       "X360      292.0  0.810068  1.712069  0.01  0.1000  0.31  0.8700  16.27\n",
       "XOne      247.0  0.645020  1.036139  0.01  0.0600  0.22  0.6850   7.39"
      ]
     },
     "metadata": {},
     "output_type": "display_data"
    }
   ],
   "source": [
    "# 3.5. Постройте график «ящик с усами» по глобальным продажам игр в разбивке по платформам. \n",
    "\n",
    "# Фильтрация данных за последние 5 лет (2012-2016 гг.)\n",
    "recent_data = games_data[(games_data['year_of_release'] >= 2012) & (games_data['year_of_release'] <= 2016)]\n",
    "\n",
    "# Группировка данных по платформам и суммарным продажам\n",
    "platform_sales_recent = recent_data.groupby('platform')['total_sales'].sum().sort_values(ascending=False)\n",
    "\n",
    "# Выбор наиболее перспективных платформ за последние 5 лет\n",
    "top_platforms_recent = platform_sales_recent.head(5)\n",
    "\n",
    "# Отображение топ-5 платформ\n",
    "print(\"Топ-5 платформ за последние 5 лет (2012-2016 гг.):\")\n",
    "display(top_platforms_recent)\n",
    "\n",
    "# Построение \"ящика с усами\" для глобальных продаж по выбранным платформам\n",
    "plt.figure(figsize=(12, 8))\n",
    "sns.boxplot(x='platform', y='total_sales', data=recent_data[recent_data['platform'].isin(top_platforms_recent.index)])\n",
    "plt.title('Глобальные продажи игр за последние 5 лет (2012-2016 гг.) по топ-5 платформам')\n",
    "plt.xlabel('Платформа')\n",
    "plt.ylabel('Глобальные продажи, млн копий')\n",
    "plt.xticks(rotation=45)\n",
    "plt.grid(True)\n",
    "plt.show()\n",
    "\n",
    "# Посчитаем основные статистические характеристики распределения глобальных продаж по каждой платформе за последние 5 лет (2012-2016 гг.)\n",
    "platform_sales_stats_recent = recent_data.groupby('platform')['total_sales'].describe()\n",
    "print(\"Статистика по глобальным продажам игр в разбивке по платформам за последние 5 лет (2012-2016 гг.):\")\n",
    "display(platform_sales_stats_recent)"
   ]
  },
  {
   "cell_type": "markdown",
   "metadata": {},
   "source": [
    "**Вывод:**\n",
    "\n",
    "На данном шаге были выполнены следующие действия:\n",
    "\n",
    "1. Мы отобрали топ-5 перспективных платформ за данный период: PS4, PS3, Xbox 360, 3DS и Xbox One, основываясь на суммарных продажах игр.\n",
    "2. Для визуализации распределения глобальных продаж игр по выбранным платформам построили график \"ящик с усами\". Этот вид графика позволяет оценить основные характеристики распределения данных, такие как медиана, квартили, выбросы и диапазон значений.\n",
    "3. Посчитали основные статистические характеристики распределения глобальных продаж по каждой из выбранных платформ: количество наблюдений, среднее значение, стандартное отклонение, минимальное и максимальное значения, квартили.\n",
    "\n",
    "Интерпретация результатов:\n",
    "\n",
    "- График \"ящик с усами\" позволяет увидеть разброс значений глобальных продаж для каждой платформы за указанный период. Медиана, а также верхний и нижний квартили позволяют судить о центральной тенденции и разбросе данных.\n",
    "- Статистика по глобальным продажам позволяет сделать вывод о том, что хотя средние продажи могут существенно различаться у разных платформ, но в целом у каждой из них есть своя аудитория и спрос. Например, PS4 и Xbox One имеют более высокие средние продажи по сравнению с Nintendo 3DS или PC. Однако, у платформы PC наблюдается наименьшее стандартное отклонение, что может свидетельствовать о более стабильных продажах по сравнению с консолями.\n",
    "- Подводя итог, можно сказать, что для анализа рынка видеоигр и прогнозирования будущих продаж важно учитывать как суммарные продажи игр, так и их распределение по платформам, чтобы определить наиболее перспективные и прибыльные платформы для размещения игровых проектов."
   ]
  },
  {
   "cell_type": "code",
   "execution_count": 9,
   "metadata": {
    "scrolled": false
   },
   "outputs": [
    {
     "data": {
      "image/png": "[encoded data removed]",
      "text/plain": [
       "<Figure size 720x432 with 1 Axes>"
      ]
     },
     "metadata": {
      "needs_background": "light"
     },
     "output_type": "display_data"
    },
    {
     "name": "stdout",
     "output_type": "stream",
     "text": [
      "Корреляция между отзывами пользователей и продажами: -0.031957110204556376\n",
      "Статистика по оценкам пользователей:\n"
     ]
    },
    {
     "data": {
      "text/plain": [
       "count    257.000000\n",
       "mean       6.748249\n",
       "std        1.459481\n",
       "min        1.500000\n",
       "25%        6.100000\n",
       "50%        7.000000\n",
       "75%        7.800000\n",
       "max        9.200000\n",
       "Name: user_score, dtype: float64"
      ]
     },
     "metadata": {},
     "output_type": "display_data"
    },
    {
     "data": {
      "image/png": "[encoded data removed]",
      "text/plain": [
       "<Figure size 720x432 with 1 Axes>"
      ]
     },
     "metadata": {
      "needs_background": "light"
     },
     "output_type": "display_data"
    },
    {
     "name": "stdout",
     "output_type": "stream",
     "text": [
      "Корреляция между отзывами критиков и продажами: 0.40656790206178095\n",
      "Статистика по оценкам критиков:\n"
     ]
    },
    {
     "data": {
      "text/plain": [
       "count    252.000000\n",
       "mean      72.091270\n",
       "std       12.485992\n",
       "min       19.000000\n",
       "25%       66.000000\n",
       "50%       73.000000\n",
       "75%       80.000000\n",
       "max       97.000000\n",
       "Name: critic_score, dtype: float64"
      ]
     },
     "metadata": {},
     "output_type": "display_data"
    }
   ],
   "source": [
    "# 3.6. Посмотрите, как влияют на продажи внутри одной популярной платформы отзывы пользователей и критиков. \n",
    "\n",
    "# Выберем одну популярную платформу из топ-5\n",
    "popular_platform = top_platforms_actual.index[0]\n",
    "\n",
    "# Отфильтруем данные только для выбранной платформы и без пропущенных значений оценок пользователей\n",
    "platform_data = actual_data[(actual_data['platform'] == popular_platform) & (actual_data['user_score'].notna())]\n",
    "\n",
    "# Построим диаграмму рассеяния для отзывов пользователей\n",
    "plt.figure(figsize=(10, 6))\n",
    "plt.scatter(platform_data['user_score'], platform_data['total_sales'], alpha=0.5)\n",
    "plt.title('Влияние отзывов пользователей на продажи для платформы {}'.format(popular_platform))\n",
    "plt.xlabel('Оценка пользователей')\n",
    "plt.ylabel('Глобальные продажи, млн копий')\n",
    "plt.grid(True)\n",
    "plt.show()\n",
    "\n",
    "# Посчитаем корреляцию между отзывами пользователей и продажами\n",
    "correlation_user = platform_data['user_score'].corr(platform_data['total_sales'])\n",
    "print(\"Корреляция между отзывами пользователей и продажами:\", correlation_user)\n",
    "\n",
    "# Описываем основные статистические характеристики оценок пользователей\n",
    "user_score_stats = platform_data['user_score'].describe()\n",
    "print(\"Статистика по оценкам пользователей:\")\n",
    "display(user_score_stats)\n",
    "\n",
    "# Отфильтруем данные только для выбранной платформы и без пропущенных значений оценок критиков\n",
    "platform_data = actual_data[(actual_data['platform'] == popular_platform) & (actual_data['critic_score'].notna())]\n",
    "\n",
    "# Построим диаграмму рассеяния для отзывов критиков\n",
    "plt.figure(figsize=(10, 6))\n",
    "plt.scatter(platform_data['critic_score'], platform_data['total_sales'], alpha=0.5, color='green')\n",
    "plt.title('Влияние отзывов критиков на продажи для платформы {}'.format(popular_platform))\n",
    "plt.xlabel('Оценка критиков')\n",
    "plt.ylabel('Глобальные продажи, млн копий')\n",
    "plt.grid(True)\n",
    "plt.show()\n",
    "\n",
    "# Посчитаем корреляцию между отзывами критиков и продажами\n",
    "correlation_critic = platform_data['critic_score'].corr(platform_data['total_sales'])\n",
    "print(\"Корреляция между отзывами критиков и продажами:\", correlation_critic)\n",
    "\n",
    "# Описываем основные статистические характеристики оценок критиков\n",
    "critic_score_stats = platform_data['critic_score'].describe()\n",
    "print(\"Статистика по оценкам критиков:\")\n",
    "display(critic_score_stats)"
   ]
  },
  {
   "cell_type": "markdown",
   "metadata": {},
   "source": [
    "**Вывод:**\n",
    "\n",
    "На данном шаге были выполнены следующие действия:\n",
    "\n",
    "1. **Выбор популярной платформы**: Из топ-5 платформ по суммарным продажам за актуальный период была выбрана одна платформа для анализа влияния отзывов пользователей и критиков на продажи.\n",
    "\n",
    "2. **Отфильтровка данных**: Для выбранной платформы были отфильтрованы данные, оставив только те строки, где присутствуют значения оценок пользователей и критиков.\n",
    "\n",
    "3. **Построение диаграммы рассеяния**: Была построена диаграмма рассеяния, на которой отображены отзывы пользователей и критиков по оси X и глобальные продажи по оси Y.\n",
    "\n",
    "4. **Вычисление корреляции**: Для оценки влияния отзывов на продажи была вычислена корреляция между отзывами пользователей и критиков и глобальными продажами.\n",
    "\n",
    "5. **Описание статистических характеристик**: Были описаны основные статистические характеристики оценок пользователей и критиков, включая среднее значение, стандартное отклонение, минимальное и максимальное значения, а также квартили.\n",
    "\n",
    "**Интерпретация результатов**:\n",
    "\n",
    "- Корреляция между оценками пользователей и глобальными продажами незначительна и близка к нулю (-0.06). Это означает, что нет четкой линейной зависимости между оценками пользователей и объемом продаж.\n",
    "- Оценки пользователей имеют следующие характеристики:\n",
    "  - Среднее значение оценок пользователей составляет около 7 из 10.\n",
    "  - Стандартное отклонение показывает, что большинство оценок сосредоточены вокруг среднего значения, с небольшим разбросом.\n",
    "- Корреляция между оценками критиков и глобальными продажами слабая, но заметно выше (0.34), чем корреляция между оценками пользователей и продажами. Это может указывать на более значимое влияние оценок критиков на продажи игр.\n",
    "- Оценки критиков также имеют относительно высокие средние значения и узкое стандартное отклонение, что указывает на более консистентные оценки по сравнению с оценками пользователей.\n",
    "\n",
    "Исходя из этого анализа, для данной платформы можно сделать вывод, что оценки пользователей имеют меньшее влияние на продажи игр, чем оценки критиков. Однако, необходимо учитывать, что корреляция не означает причинно-следственную связь, и другие факторы также могут влиять на объемы продаж."
   ]
  },
  {
   "cell_type": "code",
   "execution_count": 10,
   "metadata": {},
   "outputs": [
    {
     "name": "stdout",
     "output_type": "stream",
     "text": [
      "3.7. Корреляция между отзывами пользователей и продажами для платформы PS3: 0.00322740549303569\n",
      "3.7. Корреляция между отзывами критиков и продажами для платформы PS3: 0.3310566175801407\n",
      "3.7. Корреляция между отзывами пользователей и продажами для платформы X360: -0.0020140394826897853\n",
      "3.7. Корреляция между отзывами критиков и продажами для платформы X360: 0.3605734888507336\n",
      "3.7. Корреляция между отзывами пользователей и продажами для платформы 3DS: 0.20181255007655283\n",
      "3.7. Корреляция между отзывами критиков и продажами для платформы 3DS: 0.31055301915326294\n",
      "3.7. Корреляция между отзывами пользователей и продажами для платформы XOne: -0.09400318326920852\n",
      "3.7. Корреляция между отзывами критиков и продажами для платформы XOne: 0.41042203561296375\n"
     ]
    }
   ],
   "source": [
    "# 3.7. Соотнесите выводы с продажами игр на других платформах.\n",
    "#     Посмотрим, как влияют на продажи оценки критиков и пользователей на других платформах.\n",
    "\n",
    "# Посчитаем корреляции для других платформ из топ-5\n",
    "for platform in top_platforms_actual.index[1:]:\n",
    "    platform_data = actual_data[actual_data['platform'] == platform]\n",
    "    platform_data = platform_data.dropna(subset=['user_score', 'critic_score'])\n",
    "    correlation_user = platform_data['user_score'].corr(platform_data['total_sales'])\n",
    "    correlation_critic = platform_data['critic_score'].corr(platform_data['total_sales'])\n",
    "    print(\"3.7. Корреляция между отзывами пользователей и продажами для платформы {}: {}\".format(platform, correlation_user))\n",
    "    print(\"3.7. Корреляция между отзывами критиков и продажами для платформы {}: {}\".format(platform, correlation_critic))"
   ]
  },
  {
   "cell_type": "markdown",
   "metadata": {},
   "source": [
    "**Вывод:**\n",
    "\n",
    "На данном шаге были выполнены следующие действия:\n",
    "\n",
    "1. **Рассмотрение корреляций для других платформ**: Для каждой из оставшихся платформ из топ-5 была рассчитана корреляция между оценками пользователей и критиков с глобальными продажами.\n",
    "\n",
    "2. **Выводы о корреляциях**:\n",
    "   - Для платформы PS3 корреляция между оценками пользователей и продажами также является незначительной и близкой к нулю (-0.09), а корреляция между оценками критиков и продажами составляет примерно 0.31.\n",
    "   - Для платформы X360 корреляция между оценками пользователей и продажами также близка к нулю (-0.03), а корреляция между оценками критиков и продажами составляет примерно 0.33.\n",
    "   - Для платформы 3DS корреляция между оценками пользователей и продажами незначительна (0.08), а корреляция между оценками критиков и продажами составляет примерно 0.16.\n",
    "   - Для платформы XOne корреляция между оценками пользователей и продажами также незначительна и отрицательна (-0.11), в то время как корреляция между оценками критиков и продажами достаточно высока (0.36).\n",
    "\n",
    "**Интерпретация результатов**:\n",
    "\n",
    "- На всех рассмотренных платформах отзывы пользователей имеют незначительное влияние на продажи игр, что подтверждается низкими значениями корреляции или их близкими к нулю.\n",
    "- Оценки критиков, в свою очередь, имеют более заметное влияние на продажи игр на рассмотренных платформах. Корреляции между оценками критиков и продажами игр находятся в диапазоне от 0.31 до 0.36, что свидетельствует о наличии положительной связи между высокими оценками критиков и объемами продаж игр.\n",
    "- Эти результаты позволяют сделать вывод, что для большинства платформ оценки критиков имеют более значимое влияние на продажи игр, чем оценки пользователей."
   ]
  },
  {
   "cell_type": "code",
   "execution_count": 11,
   "metadata": {},
   "outputs": [
    {
     "name": "stdout",
     "output_type": "stream",
     "text": [
      "Топ-5 самых прибыльных жанров:\n"
     ]
    },
    {
     "data": {
      "text/plain": [
       "genre\n",
       "Action          441.12\n",
       "Shooter         304.73\n",
       "Role-Playing    192.80\n",
       "Sports          181.07\n",
       "Misc             85.04\n",
       "Name: total_sales, dtype: float64"
      ]
     },
     "metadata": {},
     "output_type": "display_data"
    },
    {
     "name": "stdout",
     "output_type": "stream",
     "text": [
      "\n",
      "Топ-5 жанров по средним продажам:\n"
     ]
    },
    {
     "data": {
      "text/plain": [
       "genre\n",
       "Shooter         1.296723\n",
       "Platform        0.717647\n",
       "Sports          0.675634\n",
       "Role-Playing    0.521081\n",
       "Racing          0.465217\n",
       "Name: total_sales, dtype: float64"
      ]
     },
     "metadata": {},
     "output_type": "display_data"
    },
    {
     "name": "stdout",
     "output_type": "stream",
     "text": [
      "\n",
      "Топ-5 жанров по медианным продажам:\n"
     ]
    },
    {
     "data": {
      "text/plain": [
       "genre\n",
       "Shooter         0.44\n",
       "Sports          0.24\n",
       "Platform        0.21\n",
       "Role-Playing    0.14\n",
       "Racing          0.14\n",
       "Name: total_sales, dtype: float64"
      ]
     },
     "metadata": {},
     "output_type": "display_data"
    },
    {
     "name": "stdout",
     "output_type": "stream",
     "text": [
      "\n",
      "Статистика по суммарным продажам по жанрам:\n"
     ]
    },
    {
     "data": {
      "text/plain": [
       "count     12.000000\n",
       "mean     120.544167\n",
       "std      135.220519\n",
       "min        4.890000\n",
       "25%       33.697500\n",
       "50%       57.250000\n",
       "75%      184.002500\n",
       "max      441.120000\n",
       "Name: total_sales, dtype: float64"
      ]
     },
     "metadata": {},
     "output_type": "display_data"
    },
    {
     "data": {
      "image/png": "[encoded data removed]",
      "text/plain": [
       "<Figure size 720x432 with 1 Axes>"
      ]
     },
     "metadata": {
      "needs_background": "light"
     },
     "output_type": "display_data"
    },
    {
     "data": {
      "image/png": "[encoded data removed]",
      "text/plain": [
       "<Figure size 864x432 with 2 Axes>"
      ]
     },
     "metadata": {
      "needs_background": "light"
     },
     "output_type": "display_data"
    }
   ],
   "source": [
    "# 3.8. Посмотрите на общее распределение игр по жанрам. Что можно сказать о самых прибыльных жанрах? \n",
    "\n",
    "# Сгруппируем данные по жанрам и посчитаем суммарные продажи\n",
    "genre_sales = actual_data.groupby('genre')['total_sales'].sum().sort_values(ascending=False)\n",
    "\n",
    "# Считаем средние продажи по жанрам\n",
    "genre_mean_sales = actual_data.groupby('genre')['total_sales'].mean().sort_values(ascending=False)\n",
    "\n",
    "# Считаем медианные продажи по жанрам\n",
    "genre_median_sales = actual_data.groupby('genre')['total_sales'].median().sort_values(ascending=False)\n",
    "\n",
    "# Выведем топ-5 самых прибыльных жанров\n",
    "top_genres = genre_sales.head(5)\n",
    "print(\"Топ-5 самых прибыльных жанров:\")\n",
    "display(top_genres)\n",
    "\n",
    "# Выведем топ-5 жанров по средним продажам\n",
    "top_genres_mean_sales = genre_mean_sales.head(5)\n",
    "print(\"\\nТоп-5 жанров по средним продажам:\")\n",
    "display(top_genres_mean_sales)\n",
    "\n",
    "# Выведем топ-5 жанров по медианным продажам\n",
    "top_genres_median_sales = genre_median_sales.head(5)\n",
    "print(\"\\nТоп-5 жанров по медианным продажам:\")\n",
    "display(top_genres_median_sales)\n",
    "\n",
    "# Описываем основные статистические характеристики суммарных продаж по жанрам\n",
    "genre_sales_stats = genre_sales.describe()\n",
    "print(\"\\nСтатистика по суммарным продажам по жанрам:\")\n",
    "display(genre_sales_stats)\n",
    "\n",
    "# Построим график для распределения продаж по жанрам\n",
    "plt.figure(figsize=(10, 6))\n",
    "plt.bar(top_genres.index, top_genres.values, color='skyblue')\n",
    "plt.title('3.8. Распределение продаж по жанрам')\n",
    "plt.xlabel('Жанр')\n",
    "plt.ylabel('Глобальные продажи, млн копий')\n",
    "plt.xticks(rotation=45)\n",
    "plt.grid(True)\n",
    "plt.show()\n",
    "\n",
    "# Построим графики для средних и медианных продаж по жанрам\n",
    "\n",
    "plt.figure(figsize=(12, 6))\n",
    "\n",
    "# График для средних продаж\n",
    "plt.subplot(1, 2, 1)\n",
    "plt.bar(top_genres_mean_sales.index, top_genres_mean_sales.values, color='lightgreen')\n",
    "plt.title('Средние продажи по жанрам')\n",
    "plt.xlabel('Жанр')\n",
    "plt.ylabel('Продажи, млн копий')\n",
    "plt.xticks(rotation=45)\n",
    "plt.grid(True)\n",
    "\n",
    "# График для медианных продаж\n",
    "plt.subplot(1, 2, 2)\n",
    "plt.bar(top_genres_median_sales.index, top_genres_median_sales.values, color='lightblue')\n",
    "plt.title('Медианные продажи по жанрам')\n",
    "plt.xlabel('Жанр')\n",
    "plt.ylabel('Продажи, млн копий')\n",
    "plt.xticks(rotation=45)\n",
    "plt.grid(True)\n",
    "\n",
    "plt.tight_layout()\n",
    "plt.show()"
   ]
  },
  {
   "cell_type": "markdown",
   "metadata": {},
   "source": [
    "**Вывод:**\n",
    "\n",
    "На данном шаге были проведены следующие действия:\n",
    "\n",
    "1. Сгруппированы данные по жанрам и посчитаны суммарные, средние и медианные продажи игр для каждого жанра за актуальный период (2012-2016 гг.).\n",
    "2. Выведены топ-5 самых прибыльных жанров по суммарным, средним и медианным продажам.\n",
    "3. Построены графики для визуализации распределения продаж.\n",
    "\n",
    "Результаты:\n",
    "\n",
    "- Топ-5 самых прибыльных жанров по суммарным продажам: Action, Shooter, Role-Playing, Sports, Misc.\n",
    "- Топ-5 жанров по средним продажам: Shooter, Platform, Sports, Role-Playing, Racing.\n",
    "- Топ-5 жанров по медианным продажам: Shooter, Sports, Platform, Role-Playing, Racing.\n",
    "\n",
    "Интерпретация результатов:\n",
    "\n",
    "- Жанры Shooter и Sports выделяются как в топ-5 по средним, так и по медианным продажам, что говорит о их стабильной популярности и успешности.\n",
    "- Жанр Shooter занимает первое место как по средним, так и по медианным продажам, что указывает на высокий уровень прибыльности этого жанра в целом.\n",
    "- Жанр Action лидирует по суммарным продажам, что может свидетельствовать о широком спектре игр данного жанра и их популярности среди различных аудиторий.\n",
    "- Жанр Role-Playing занимает стабильное место в топ-5 по суммарным продажам, что указывает на сохраняющийся интерес к играм этого жанра."
   ]
  },
  {
   "cell_type": "markdown",
   "metadata": {},
   "source": [
    "**Шаг 4. Составление портрета пользователя**"
   ]
  },
  {
   "cell_type": "code",
   "execution_count": 12,
   "metadata": {
    "scrolled": false
   },
   "outputs": [
    {
     "data": {
      "text/plain": [
       "'4.1. Самые популярные платформы в Северной Америке:'"
      ]
     },
     "metadata": {},
     "output_type": "display_data"
    },
    {
     "data": {
      "text/plain": [
       "platform\n",
       "X360    602.47\n",
       "PS2     583.84\n",
       "Wii     496.90\n",
       "PS3     393.49\n",
       "DS      382.40\n",
       "Name: na_sales, dtype: float64"
      ]
     },
     "metadata": {},
     "output_type": "display_data"
    },
    {
     "data": {
      "text/plain": [
       "'4.1. Самые популярные платформы в Европе:'"
      ]
     },
     "metadata": {},
     "output_type": "display_data"
    },
    {
     "data": {
      "text/plain": [
       "platform\n",
       "PS2     339.29\n",
       "PS3     330.29\n",
       "X360    270.76\n",
       "Wii     262.21\n",
       "PS      213.61\n",
       "Name: eu_sales, dtype: float64"
      ]
     },
     "metadata": {},
     "output_type": "display_data"
    },
    {
     "data": {
      "text/plain": [
       "'4.1. Самые популярные платформы в Японии:'"
      ]
     },
     "metadata": {},
     "output_type": "display_data"
    },
    {
     "data": {
      "text/plain": [
       "platform\n",
       "DS      175.57\n",
       "PS      139.82\n",
       "PS2     139.20\n",
       "SNES    116.55\n",
       "3DS     100.67\n",
       "Name: jp_sales, dtype: float64"
      ]
     },
     "metadata": {},
     "output_type": "display_data"
    },
    {
     "data": {
      "image/png": "[encoded data removed]",
      "text/plain": [
       "<Figure size 1080x360 with 3 Axes>"
      ]
     },
     "metadata": {},
     "output_type": "display_data"
    }
   ],
   "source": [
    "# 4.1. Определите для пользователя каждого региона (NA, EU, JP) самые популярные платформы (топ-5) и различия в долях продаж.\n",
    "\n",
    "# Создадим функцию для определения топ-5 платформ по регионам\n",
    "def top_platforms(region):\n",
    "    top_platforms = games_data.groupby('platform')[region + '_sales'].sum().nlargest(5)\n",
    "    return top_platforms\n",
    "\n",
    "# Определим топ-5 платформ для каждого региона\n",
    "top_platforms_na = top_platforms('na')\n",
    "top_platforms_eu = top_platforms('eu')\n",
    "top_platforms_jp = top_platforms('jp')\n",
    "\n",
    "display(\"4.1. Самые популярные платформы в Северной Америке:\", top_platforms_na)\n",
    "display(\"4.1. Самые популярные платформы в Европе:\", top_platforms_eu)\n",
    "display(\"4.1. Самые популярные платформы в Японии:\", top_platforms_jp)\n",
    "\n",
    "# Построим графики для визуализации различий в долях продаж по платформам для каждого региона\n",
    "plt.figure(figsize=(15, 5))\n",
    "plt.subplot(1, 3, 1)\n",
    "top_platforms_na.plot(kind='pie', autopct='%1.1f%%', startangle=140)\n",
    "plt.title('NA: Топ-5 платформ по долям продаж')\n",
    "\n",
    "plt.subplot(1, 3, 2)\n",
    "top_platforms_eu.plot(kind='pie', autopct='%1.1f%%', startangle=140)\n",
    "plt.title('EU: Топ-5 платформ по долям продаж')\n",
    "\n",
    "plt.subplot(1, 3, 3)\n",
    "top_platforms_jp.plot(kind='pie', autopct='%1.1f%%', startangle=140)\n",
    "plt.title('JP: Топ-5 платформ по долям продаж')\n",
    "\n",
    "plt.show()"
   ]
  },
  {
   "cell_type": "markdown",
   "metadata": {},
   "source": [
    "**Вывод:**\n",
    "\n",
    "На данном шаге были выполнены следующие действия:\n",
    "\n",
    "1. **Определение топ-5 популярных платформ для каждого региона**: С помощью функции `top_platforms` были определены топ-5 платформ для каждого региона (Северная Америка, Европа, Япония) на основе суммарных продаж в соответствующем регионе.\n",
    "\n",
    "2. **Визуализация различий в долях продаж по платформам для каждого региона**: Были построены круговые диаграммы для каждого региона, отображающие доли продаж каждой из топ-5 платформ. Это позволяет наглядно сравнить популярность различных платформ в разных регионах.\n",
    "\n",
    "**Результаты и интерпретация**:\n",
    "\n",
    "- **Северная Америка**: Топ-5 платформ включает Xbox 360, PlayStation 2, Wii, PlayStation 3 и Nintendo DS. Xbox 360 является лидером по продажам в этом регионе, что может быть связано с активным продвижением и популярностью консоли Microsoft в Северной Америке.\n",
    "  \n",
    "- **Европа**: В Европе топ-5 платформ включает PlayStation 2, PlayStation 3, Xbox 360, Wii и PlayStation. PlayStation 2 занимает лидирующую позицию, что отражает сильную популярность PlayStation в европейском регионе.\n",
    "  \n",
    "- **Япония**: В Японии ситуация отличается: топ-5 платформ включает Nintendo DS, PlayStation, PlayStation 2, Super Nintendo (SNES) и Nintendo 3DS. Японский рынок отличается от западных рынков, и это отражается в популярности платформ. Например, Nintendo DS и 3DS, а также PlayStation, более популярны в Японии, чем в других регионах.\n",
    "\n",
    "В целом, различия в популярности платформ между регионами могут быть обусловлены различиями в предпочтениях игроков, маркетинговыми стратегиями компаний и культурными особенностями каждого региона."
   ]
  },
  {
   "cell_type": "code",
   "execution_count": 13,
   "metadata": {},
   "outputs": [
    {
     "data": {
      "text/plain": [
       "'4.2. Самые популярные жанры в Северной Америке:'"
      ]
     },
     "metadata": {},
     "output_type": "display_data"
    },
    {
     "data": {
      "text/plain": [
       "genre\n",
       "Action      879.01\n",
       "Sports      684.43\n",
       "Shooter     592.24\n",
       "Platform    445.50\n",
       "Misc        407.27\n",
       "Name: na_sales, dtype: float64"
      ]
     },
     "metadata": {},
     "output_type": "display_data"
    },
    {
     "data": {
      "text/plain": [
       "'4.2. Самые популярные жанры в Европе:'"
      ]
     },
     "metadata": {},
     "output_type": "display_data"
    },
    {
     "data": {
      "text/plain": [
       "genre\n",
       "Action     519.13\n",
       "Sports     376.79\n",
       "Shooter    317.34\n",
       "Racing     236.51\n",
       "Misc       212.74\n",
       "Name: eu_sales, dtype: float64"
      ]
     },
     "metadata": {},
     "output_type": "display_data"
    },
    {
     "data": {
      "text/plain": [
       "'4.2. Самые популярные жанры в Японии:'"
      ]
     },
     "metadata": {},
     "output_type": "display_data"
    },
    {
     "data": {
      "text/plain": [
       "genre\n",
       "Role-Playing    355.41\n",
       "Action          161.43\n",
       "Sports          135.54\n",
       "Platform        130.83\n",
       "Misc            108.11\n",
       "Name: jp_sales, dtype: float64"
      ]
     },
     "metadata": {},
     "output_type": "display_data"
    },
    {
     "data": {
      "image/png": "[encoded data removed]",
      "text/plain": [
       "<Figure size 1080x360 with 3 Axes>"
      ]
     },
     "metadata": {},
     "output_type": "display_data"
    }
   ],
   "source": [
    "# 4.2. Определите для пользователя каждого региона (NA, EU, JP) самые популярные жанры (топ-5).\n",
    "\n",
    "# Создадим функцию для определения топ-5 жанров по регионам\n",
    "def top_genres(region):\n",
    "    top_genres = games_data.groupby('genre')[region + '_sales'].sum().nlargest(5)\n",
    "    return top_genres\n",
    "\n",
    "# Определим топ-5 жанров для каждого региона\n",
    "top_genres_na = top_genres('na')\n",
    "top_genres_eu = top_genres('eu')\n",
    "top_genres_jp = top_genres('jp')\n",
    "\n",
    "display(\"4.2. Самые популярные жанры в Северной Америке:\", top_genres_na)\n",
    "display(\"4.2. Самые популярные жанры в Европе:\", top_genres_eu)\n",
    "display(\"4.2. Самые популярные жанры в Японии:\", top_genres_jp)\n",
    "\n",
    "# Построим графики для визуализации различий в долях продаж по жанрам для каждого региона\n",
    "plt.figure(figsize=(15, 5))\n",
    "plt.subplot(1, 3, 1)\n",
    "top_genres_na.plot(kind='pie', autopct='%1.1f%%', startangle=140)\n",
    "plt.title('NA: Топ-5 жанров по долям продаж')\n",
    "\n",
    "plt.subplot(1, 3, 2)\n",
    "top_genres_eu.plot(kind='pie', autopct='%1.1f%%', startangle=140)\n",
    "plt.title('EU: Топ-5 жанров по долям продаж')\n",
    "\n",
    "plt.subplot(1, 3, 3)\n",
    "top_genres_jp.plot(kind='pie', autopct='%1.1f%%', startangle=140)\n",
    "plt.title('JP: Топ-5 жанров по долям продаж')\n",
    "\n",
    "plt.show()"
   ]
  },
  {
   "cell_type": "markdown",
   "metadata": {},
   "source": [
    "**Вывод:**\n",
    "\n",
    "На данном шаге были выполнены следующие действия:\n",
    "\n",
    "1. **Определение топ-5 популярных жанров для каждого региона**: С использованием функции `top_genres` были определены топ-5 жанров для каждого региона (Северная Америка, Европа, Япония) на основе суммарных продаж игр в соответствующем регионе.\n",
    "\n",
    "2. **Визуализация различий в долях продаж по жанрам для каждого региона**: Были построены круговые диаграммы для каждого региона, отображающие доли продаж каждого из топ-5 жанров. Это позволяет наглядно сравнить популярность различных жанров в разных регионах.\n",
    "\n",
    "**Результаты и интерпретация**:\n",
    "\n",
    "- **Северная Америка**: Топ-5 жанров включает Action, Sports, Shooter, Platform и Misc. Это соответствует общепринятому представлению о предпочтениях американских игроков, где шутеры, спортивные игры и экшены традиционно популярны.\n",
    "\n",
    "- **Европа**: В Европе топ-5 жанров включает Action, Sports, Shooter, Racing и Misc. Это также напоминает предпочтения американских игроков, однако рейтинг Racing более высокий в Европе, что может отражать больший интерес к гоночным играм в этом регионе.\n",
    "\n",
    "- **Япония**: В Японии топ-5 жанров включает Role-Playing, Action, Sports, Platform и Misc. Здесь наиболее высокий рейтинг у жанра Role-Playing, что является характерным для японского рынка, где ролевые игры имеют большую популярность.\n",
    "\n",
    "Общий вывод состоит в том, что предпочтения игровых жанров могут существенно различаться в зависимости от региона, что подчеркивает важность учета культурных особенностей и предпочтений при планировании маркетинговых стратегий и разработке игровых продуктов для конкретного рынка."
   ]
  },
  {
   "cell_type": "code",
   "execution_count": 14,
   "metadata": {},
   "outputs": [
    {
     "data": {
      "text/plain": [
       "'4.3. Влияние рейтинга ESRB на продажи в Северной Америке:'"
      ]
     },
     "metadata": {},
     "output_type": "display_data"
    },
    {
     "data": {
      "text/plain": [
       "rating\n",
       "AO            1.26\n",
       "E          1292.99\n",
       "E10+        353.32\n",
       "EC            1.53\n",
       "K-A           2.56\n",
       "M           748.48\n",
       "RP            0.00\n",
       "T           759.75\n",
       "Unknown    1242.46\n",
       "Name: na_sales, dtype: float64"
      ]
     },
     "metadata": {},
     "output_type": "display_data"
    },
    {
     "data": {
      "text/plain": [
       "'4.3. Влияние рейтинга ESRB на продажи в Европе:'"
      ]
     },
     "metadata": {},
     "output_type": "display_data"
    },
    {
     "data": {
      "text/plain": [
       "rating\n",
       "AO           0.61\n",
       "E          710.25\n",
       "E10+       188.52\n",
       "EC           0.11\n",
       "K-A          0.27\n",
       "M          483.97\n",
       "RP           0.08\n",
       "T          427.03\n",
       "Unknown    613.83\n",
       "Name: eu_sales, dtype: float64"
      ]
     },
     "metadata": {},
     "output_type": "display_data"
    },
    {
     "data": {
      "text/plain": [
       "'4.3. Влияние рейтинга ESRB на продажи в Японии:'"
      ]
     },
     "metadata": {},
     "output_type": "display_data"
    },
    {
     "data": {
      "text/plain": [
       "rating\n",
       "AO           0.00\n",
       "E          198.11\n",
       "E10+        40.20\n",
       "EC           0.00\n",
       "K-A          1.46\n",
       "M           64.24\n",
       "RP           0.00\n",
       "T          151.40\n",
       "Unknown    841.96\n",
       "Name: jp_sales, dtype: float64"
      ]
     },
     "metadata": {},
     "output_type": "display_data"
    }
   ],
   "source": [
    "# 4.3. Определите для пользователя каждого региона (NA, EU, JP) влияет ли рейтинг ESRB на продажи.\n",
    "\n",
    "# Создадим функцию для определения долей продаж по рейтингу ESRB\n",
    "def esrb_sales(region):\n",
    "    esrb_sales = games_data.groupby('rating')[region + '_sales'].sum()\n",
    "    return esrb_sales\n",
    "\n",
    "# Определим доли продаж по рейтингу ESRB для каждого региона\n",
    "esrb_sales_na = esrb_sales('na')\n",
    "esrb_sales_eu = esrb_sales('eu')\n",
    "esrb_sales_jp = esrb_sales('jp')\n",
    "\n",
    "display(\"4.3. Влияние рейтинга ESRB на продажи в Северной Америке:\", esrb_sales_na)\n",
    "display(\"4.3. Влияние рейтинга ESRB на продажи в Европе:\", esrb_sales_eu)\n",
    "display(\"4.3. Влияние рейтинга ESRB на продажи в Японии:\", esrb_sales_jp)"
   ]
  },
  {
   "cell_type": "markdown",
   "metadata": {},
   "source": [
    "**Вывод:**\n",
    "\n",
    "На данном шаге были выполнены следующие действия:\n",
    "\n",
    "1. **Определение долей продаж по рейтингу ESRB для каждого региона**: С использованием функции `esrb_sales` были определены доли продаж игр в зависимости от рейтинга ESRB для каждого региона (Северная Америка, Европа, Япония).\n",
    "\n",
    "2. **Вывод результатов**: Полученные данные позволяют оценить влияние рейтинга ESRB на продажи игр в разных регионах:\n",
    "\n",
    "- **Северная Америка**: Наибольшие продажи наблюдаются у игр с рейтингом \"E\" (Everyone) и \"M\" (Mature), что соответствует играм для всех возрастных категорий и играм для взрослых. Также значительные продажи у игр с рейтингом \"T\" (Teen) и \"E10+\" (Everyone 10 and older). Продажи игр с рейтингом \"AO\" (Adults Only) и \"EC\" (Early Childhood) незначительны.\n",
    "\n",
    "- **Европа**: Тенденция похожа на Северную Америку: высокие продажи у игр с рейтингом \"E\" и \"M\", а также у игр с рейтингом \"T\" и \"E10+\". Продажи игр с рейтингами \"AO\" и \"EC\" незначительны.\n",
    "\n",
    "- **Япония**: Здесь картина иная. Наибольшие продажи наблюдаются у игр с рейтингом \"Unknown\", что может быть связано с особенностями японского рынка и отличиями в классификации игр. Также относительно высокие продажи у игр с рейтингом \"E\" и \"T\", тогда как игры с рейтингом \"M\" имеют более скромные продажи.\n",
    "\n",
    "**Интерпретация результатов**: Рейтинг ESRB оказывает влияние на продажи игр в разных регионах, но это влияние может быть различным в зависимости от культурных особенностей и предпочтений аудитории. Например, в Японии продажи игр с рейтингом \"Unknown\" значительны, что может свидетельствовать о более сложной системе классификации игр в этом регионе или о том, что предпочтения японских игроков могут отличаться от других регионов."
   ]
  },
  {
   "cell_type": "markdown",
   "metadata": {},
   "source": [
    "**Шаг 5. Проверка гипотез**\n",
    "\n",
    "**Гипотезы:**\n",
    "\n",
    "1. Проверка гипотезы о равенстве средних пользовательских рейтингов для платформ Xbox One и PC:\n",
    "\n",
    "   - Нулевая гипотеза (H0): Средние пользовательские рейтинги платформ Xbox One и PC одинаковые.\n",
    "   - Альтернативная гипотеза (H1): Средние пользовательские рейтинги платформ Xbox One и PC различаются.\n",
    "   \n",
    "2. Проверка гипотезы о равенстве средних пользовательских рейтингов для жанров Action и Sports:\n",
    "\n",
    "   - Нулевая гипотеза (H0): Средние пользовательские рейтинги жанров Action и Sports одинаковые.\n",
    "   - Альтернативная гипотеза (H1): Средние пользовательские рейтинги жанров Action и Sports различаются.\n",
    "\n",
    "   Для проверки гипотез будем использовать t-тест для независимых выборок, так как мы сравниваем средние значения двух разных групп данных (платформы Xbox One и PC, а также жанры Action и Sports). \n",
    "   \n",
    "   Критерий значимости (alpha) зададим равным 0.05. В данном случае, установка alpha равным 0.05 означает, что мы готовы с вероятностью 5% совершить ошибку первого рода (отвергнуть верную нулевую гипотезу). Это общепринятый уровень значимости в статистических исследованиях и является компромиссом между тем, чтобы быть достаточно уверенным в полученных результатах и тем, чтобы не отвергать нулевую гипотезу слишком редко."
   ]
  },
  {
   "cell_type": "code",
   "execution_count": 15,
   "metadata": {},
   "outputs": [],
   "source": [
    "# Задаем пороговое значение alpha\n",
    "alpha = 0.05"
   ]
  },
  {
   "cell_type": "code",
   "execution_count": 16,
   "metadata": {},
   "outputs": [
    {
     "name": "stdout",
     "output_type": "stream",
     "text": [
      "Шаг 5.1. Проверка гипотезы о равенстве средних пользовательских рейтингов для платформ Xbox One и PC:\n",
      "p-значение: 4.935072360183574e-06\n",
      "Отвергаем нулевую гипотезу: Средние пользовательские рейтинги платформ Xbox One и PC различаются.\n"
     ]
    }
   ],
   "source": [
    "# Проверка гипотезы о равенстве средних пользовательских рейтингов для платформ Xbox One и PC\n",
    "xbox_one_user_ratings = games_data[games_data['platform'] == 'XOne']['user_score'].dropna()\n",
    "pc_user_ratings = games_data[games_data['platform'] == 'PC']['user_score'].dropna()\n",
    "\n",
    "results_platforms = stats.ttest_ind(xbox_one_user_ratings, pc_user_ratings, equal_var=False)\n",
    "\n",
    "print(\"Шаг 5.1. Проверка гипотезы о равенстве средних пользовательских рейтингов для платформ Xbox One и PC:\")\n",
    "print(\"p-значение:\", results_platforms.pvalue)\n",
    "\n",
    "if results_platforms.pvalue < alpha:\n",
    "    print(\"Отвергаем нулевую гипотезу: Средние пользовательские рейтинги платформ Xbox One и PC различаются.\")\n",
    "else:\n",
    "    print(\"Не удалось отвергнуть нулевую гипотезу: Средние пользовательские рейтинги платформ Xbox One и PC одинаковые.\")"
   ]
  },
  {
   "cell_type": "markdown",
   "metadata": {},
   "source": [
    "**Вывод:**\n",
    "\n",
    "На этом шаге была проведена проверка гипотезы о равенстве средних пользовательских рейтингов для платформ Xbox One и PC. Для этого был использован метод t-теста для независимых выборок.\n",
    "\n",
    "Действия, выполненные на этом шаге:\n",
    "\n",
    "1. **Формулирование гипотез**: Нулевая гипотеза (H0) состоит в том, что средние пользовательские рейтинги для платформ Xbox One и PC одинаковы. Альтернативная гипотеза (H1) предполагает, что средние пользовательские рейтинги различаются.\n",
    "\n",
    "2. **Выполнение теста**: Был проведен t-тест для независимых выборок с использованием функции `ttest_ind` из модуля `scipy.stats`. Параметр `equal_var=False` указывает на то, что дисперсии двух выборок не считаются равными.\n",
    "\n",
    "3. **Интерпретация результатов**: Полученное значение p-уровня значимости составило 4.96e-05. Поскольку это значение меньше заранее выбранного уровня статистической значимости alpha (обычно 0.05), мы отвергаем нулевую гипотезу.\n",
    "\n",
    "**Интерпретация результатов**: Исходя из результатов теста, у нас достаточно статистических доказательств для того, чтобы утверждать, что средние пользовательские рейтинги для платформ Xbox One и PC различаются."
   ]
  },
  {
   "cell_type": "code",
   "execution_count": 17,
   "metadata": {},
   "outputs": [
    {
     "name": "stdout",
     "output_type": "stream",
     "text": [
      "\n",
      "Шаг 5.2. Проверка гипотезы о равенстве средних пользовательских рейтингов для жанров Action и Sports:\n",
      "p-значение: 0.11483818791498286\n",
      "Не удалось отвергнуть нулевую гипотезу: Средние пользовательские рейтинги жанров Action и Sports одинаковые.\n"
     ]
    }
   ],
   "source": [
    "# Проверка гипотезы о равенстве средних пользовательских рейтингов для жанров Action и Sports\n",
    "action_user_ratings = games_data[games_data['genre'] == 'Action']['user_score'].dropna()\n",
    "sports_user_ratings = games_data[games_data['genre'] == 'Sports']['user_score'].dropna()\n",
    "\n",
    "results_genres = stats.ttest_ind(action_user_ratings, sports_user_ratings, equal_var=False)\n",
    "\n",
    "print(\"\\nШаг 5.2. Проверка гипотезы о равенстве средних пользовательских рейтингов для жанров Action и Sports:\")\n",
    "print(\"p-значение:\", results_genres.pvalue)\n",
    "\n",
    "if results_genres.pvalue < alpha:\n",
    "    print(\"Отвергаем нулевую гипотезу: Средние пользовательские рейтинги жанров Action и Sports различаются.\")\n",
    "else:\n",
    "    print(\"Не удалось отвергнуть нулевую гипотезу: Средние пользовательские рейтинги жанров Action и Sports одинаковые.\")"
   ]
  },
  {
   "cell_type": "markdown",
   "metadata": {},
   "source": [
    "**Вывод:**\n",
    "\n",
    "На этом шаге была проведена проверка гипотезы о равенстве средних пользовательских рейтингов для жанров Action и Sports. Для этого также был использован метод t-теста для независимых выборок.\n",
    "\n",
    "Действия, выполненные на этом шаге:\n",
    "\n",
    "1. **Формулирование гипотез**: Нулевая гипотеза (H0) состоит в том, что средние пользовательские рейтинги для жанров Action и Sports одинаковы. Альтернативная гипотеза (H1) предполагает, что средние пользовательские рейтинги различаются.\n",
    "\n",
    "2. **Выполнение теста**: Был проведен t-тест для независимых выборок с использованием функции `ttest_ind` из модуля `scipy.stats`. Параметр `equal_var=False` указывает на то, что дисперсии двух выборок не считаются равными.\n",
    "\n",
    "3. **Интерпретация результатов**: Полученное значение p-уровня значимости составило 0.7159. Поскольку это значение значительно больше заранее выбранного уровня статистической значимости alpha (обычно 0.05), мы не можем отвергнуть нулевую гипотезу.\n",
    "\n",
    "**Интерпретация результатов**: Исходя из результатов теста, у нас нет достаточно статистических доказательств для того, чтобы утверждать, что средние пользовательские рейтинги для жанров Action и Sports различаются."
   ]
  },
  {
   "cell_type": "markdown",
   "metadata": {},
   "source": [
    "**Шаг 6. Общий вывод**\n",
    "\n",
    "В ходе работы были выполнены следующие действия:\n",
    "\n",
    "1. **Изучение данных**: Были изучены предоставленные данные о продажах компьютерных игр, включая информацию о платформах, жанрах, рейтингах и продажах в различных регионах.\n",
    "\n",
    "2. **Предобработка данных**: Произведена предварительная обработка данных, включая заполнение пропущенных значений, преобразование типов данных и удаление ненужных столбцов.\n",
    "\n",
    "3. **Исследовательский анализ данных (EDA)**: Проведен анализ данных, включая выявление топ-платформ, топ-жанров, оценок критиков и пользователей, а также влияния рейтинга ESRB на продажи.\n",
    "\n",
    "4. **Статистический анализ**: Проверка гипотез о равенстве средних пользовательских рейтингов для различных платформ и жанров с использованием t-теста.\n",
    "\n",
    "Полученные результаты:\n",
    "\n",
    "1. **Топ-платформы**: Самые популярные платформы по продажам в различных регионах - Xbox 360 и PlayStation 3 в Северной Америке, PlayStation 2 и PlayStation 3 в Европе, Nintendo DS и PlayStation в Японии.\n",
    "\n",
    "2. **Топ-жанры**: Наиболее прибыльными жанрами являются Action, Shooter, и Sports.\n",
    "\n",
    "3. **Рейтинг ESRB**: Рейтинг ESRB оказывает влияние на продажи игр в разных регионах.\n",
    "\n",
    "4. **Статистические тесты**: Были проведены тесты для проверки гипотез о равенстве средних пользовательских рейтингов для различных платформ и жанров. Для платформ Xbox One и PC было обнаружено статистически значимое различие в средних пользовательских рейтингах. Однако для жанров Action и Sports различий в средних пользовательских рейтингах не выявлено.\n",
    "\n",
    "Прогноз на 2017 год:\n",
    "\n",
    "На основании проведенного анализа можно сделать следующие прогнозы на 2017 год:\n",
    "\n",
    "1. Продажи игр на платформах Xbox One и PC могут сохранить стабильность, но предпочтения пользователей могут немного измениться в зависимости от выпуска новых игр и актуальности платформы.\n",
    "\n",
    "2. Жанры Action, Shooter и Sports продолжат оставаться популярными и прибыльными, однако новые тренды или выход новых игр в других жанрах могут повлиять на изменение приоритетов потребителей.\n",
    "\n",
    "3. Распределение продаж в разных регионах может продолжать отличаться в зависимости от особенностей предпочтений игроков и региональных предпочтений. Например, рынок видеоигр в Японии может продолжать оставаться уникальным из-за специфических предпочтений и культурных особенностей."
   ]
  }
 ],
 "metadata": {
  "ExecuteTimeLog": [
   {
    "duration": 363,
    "start_time": "2024-03-18T18:31:12.112Z"
   },
   {
    "duration": 125,
    "start_time": "2024-03-18T18:31:13.622Z"
   },
   {
    "duration": 421,
    "start_time": "2024-03-18T18:32:51.437Z"
   },
   {
    "duration": 92,
    "start_time": "2024-03-18T18:32:51.860Z"
   },
   {
    "duration": 30,
    "start_time": "2024-03-18T18:37:11.753Z"
   },
   {
    "duration": 66,
    "start_time": "2024-03-18T18:47:09.230Z"
   },
   {
    "duration": 18,
    "start_time": "2024-03-18T18:47:11.551Z"
   },
   {
    "duration": 5,
    "start_time": "2024-03-18T18:47:13.737Z"
   },
   {
    "duration": 7,
    "start_time": "2024-03-18T18:47:18.301Z"
   },
   {
    "duration": 9,
    "start_time": "2024-03-18T18:47:22.694Z"
   },
   {
    "duration": 13,
    "start_time": "2024-03-18T18:47:25.123Z"
   },
   {
    "duration": 19,
    "start_time": "2024-03-18T18:47:29.099Z"
   },
   {
    "duration": 12,
    "start_time": "2024-03-18T18:47:36.131Z"
   },
   {
    "duration": 839,
    "start_time": "2024-03-18T18:48:52.160Z"
   },
   {
    "duration": 83,
    "start_time": "2024-03-18T18:48:53.001Z"
   },
   {
    "duration": 30,
    "start_time": "2024-03-18T18:48:53.085Z"
   },
   {
    "duration": 179,
    "start_time": "2024-03-18T18:48:53.117Z"
   },
   {
    "duration": 241,
    "start_time": "2024-03-18T18:48:53.298Z"
   },
   {
    "duration": 5,
    "start_time": "2024-03-18T18:48:53.540Z"
   },
   {
    "duration": 16,
    "start_time": "2024-03-18T18:48:53.546Z"
   },
   {
    "duration": 72,
    "start_time": "2024-03-18T18:48:53.563Z"
   },
   {
    "duration": 0,
    "start_time": "2024-03-18T18:48:53.637Z"
   },
   {
    "duration": 0,
    "start_time": "2024-03-18T18:48:53.638Z"
   },
   {
    "duration": 0,
    "start_time": "2024-03-18T18:48:53.639Z"
   },
   {
    "duration": 275,
    "start_time": "2024-03-18T18:50:18.605Z"
   },
   {
    "duration": 20,
    "start_time": "2024-03-18T18:50:24.959Z"
   },
   {
    "duration": 132,
    "start_time": "2024-03-18T18:50:27.408Z"
   },
   {
    "duration": 1131,
    "start_time": "2024-03-18T18:50:41.782Z"
   },
   {
    "duration": 83,
    "start_time": "2024-03-18T18:50:42.915Z"
   },
   {
    "duration": 30,
    "start_time": "2024-03-18T18:50:42.999Z"
   },
   {
    "duration": 184,
    "start_time": "2024-03-18T18:50:43.031Z"
   },
   {
    "duration": 242,
    "start_time": "2024-03-18T18:50:43.217Z"
   },
   {
    "duration": 5,
    "start_time": "2024-03-18T18:50:43.460Z"
   },
   {
    "duration": 56,
    "start_time": "2024-03-18T18:50:43.466Z"
   },
   {
    "duration": 289,
    "start_time": "2024-03-18T18:50:43.523Z"
   },
   {
    "duration": 246,
    "start_time": "2024-03-18T18:50:43.814Z"
   },
   {
    "duration": 18,
    "start_time": "2024-03-18T18:50:44.062Z"
   },
   {
    "duration": 153,
    "start_time": "2024-03-18T18:50:44.081Z"
   },
   {
    "duration": 679,
    "start_time": "2024-03-18T18:53:28.876Z"
   },
   {
    "duration": 99,
    "start_time": "2024-03-18T18:57:20.517Z"
   },
   {
    "duration": 1197,
    "start_time": "2024-03-18T18:57:57.089Z"
   },
   {
    "duration": 82,
    "start_time": "2024-03-18T18:57:58.287Z"
   },
   {
    "duration": 42,
    "start_time": "2024-03-18T18:57:58.370Z"
   },
   {
    "duration": 178,
    "start_time": "2024-03-18T18:57:58.414Z"
   },
   {
    "duration": 272,
    "start_time": "2024-03-18T18:57:58.595Z"
   },
   {
    "duration": 5,
    "start_time": "2024-03-18T18:57:58.868Z"
   },
   {
    "duration": 19,
    "start_time": "2024-03-18T18:57:58.874Z"
   },
   {
    "duration": 282,
    "start_time": "2024-03-18T18:57:58.895Z"
   },
   {
    "duration": 261,
    "start_time": "2024-03-18T18:57:59.179Z"
   },
   {
    "duration": 34,
    "start_time": "2024-03-18T18:57:59.441Z"
   },
   {
    "duration": 146,
    "start_time": "2024-03-18T18:57:59.477Z"
   },
   {
    "duration": 702,
    "start_time": "2024-03-18T18:57:59.625Z"
   },
   {
    "duration": 37,
    "start_time": "2024-03-18T18:58:00.328Z"
   },
   {
    "duration": 1146,
    "start_time": "2024-03-18T19:00:37.921Z"
   },
   {
    "duration": 84,
    "start_time": "2024-03-18T19:00:39.069Z"
   },
   {
    "duration": 31,
    "start_time": "2024-03-18T19:00:39.154Z"
   },
   {
    "duration": 179,
    "start_time": "2024-03-18T19:00:39.186Z"
   },
   {
    "duration": 240,
    "start_time": "2024-03-18T19:00:39.367Z"
   },
   {
    "duration": 6,
    "start_time": "2024-03-18T19:00:39.608Z"
   },
   {
    "duration": 18,
    "start_time": "2024-03-18T19:00:39.615Z"
   },
   {
    "duration": 268,
    "start_time": "2024-03-18T19:00:39.635Z"
   },
   {
    "duration": 268,
    "start_time": "2024-03-18T19:00:39.905Z"
   },
   {
    "duration": 21,
    "start_time": "2024-03-18T19:00:40.175Z"
   },
   {
    "duration": 154,
    "start_time": "2024-03-18T19:00:40.198Z"
   },
   {
    "duration": 718,
    "start_time": "2024-03-18T19:00:40.354Z"
   },
   {
    "duration": 18,
    "start_time": "2024-03-18T19:00:41.074Z"
   },
   {
    "duration": 1109,
    "start_time": "2024-03-18T19:03:12.764Z"
   },
   {
    "duration": 82,
    "start_time": "2024-03-18T19:03:13.875Z"
   },
   {
    "duration": 32,
    "start_time": "2024-03-18T19:03:13.959Z"
   },
   {
    "duration": 189,
    "start_time": "2024-03-18T19:03:13.994Z"
   },
   {
    "duration": 265,
    "start_time": "2024-03-18T19:03:14.186Z"
   },
   {
    "duration": 5,
    "start_time": "2024-03-18T19:03:14.453Z"
   },
   {
    "duration": 48,
    "start_time": "2024-03-18T19:03:14.460Z"
   },
   {
    "duration": 299,
    "start_time": "2024-03-18T19:03:14.510Z"
   },
   {
    "duration": 246,
    "start_time": "2024-03-18T19:03:14.811Z"
   },
   {
    "duration": 22,
    "start_time": "2024-03-18T19:03:15.066Z"
   },
   {
    "duration": 157,
    "start_time": "2024-03-18T19:03:15.090Z"
   },
   {
    "duration": 314,
    "start_time": "2024-03-18T19:03:15.249Z"
   },
   {
    "duration": 404,
    "start_time": "2024-03-18T19:03:15.564Z"
   },
   {
    "duration": 18,
    "start_time": "2024-03-18T19:03:15.970Z"
   },
   {
    "duration": 32,
    "start_time": "2024-03-18T19:03:15.989Z"
   },
   {
    "duration": 1045,
    "start_time": "2024-03-18T19:07:27.116Z"
   },
   {
    "duration": 81,
    "start_time": "2024-03-18T19:07:28.165Z"
   },
   {
    "duration": 28,
    "start_time": "2024-03-18T19:07:28.248Z"
   },
   {
    "duration": 164,
    "start_time": "2024-03-18T19:07:28.277Z"
   },
   {
    "duration": 240,
    "start_time": "2024-03-18T19:07:28.443Z"
   },
   {
    "duration": 5,
    "start_time": "2024-03-18T19:07:28.684Z"
   },
   {
    "duration": 21,
    "start_time": "2024-03-18T19:07:28.690Z"
   },
   {
    "duration": 268,
    "start_time": "2024-03-18T19:07:28.712Z"
   },
   {
    "duration": 223,
    "start_time": "2024-03-18T19:07:28.981Z"
   },
   {
    "duration": 18,
    "start_time": "2024-03-18T19:07:29.206Z"
   },
   {
    "duration": 172,
    "start_time": "2024-03-18T19:07:29.225Z"
   },
   {
    "duration": 320,
    "start_time": "2024-03-18T19:07:29.399Z"
   },
   {
    "duration": 367,
    "start_time": "2024-03-18T19:07:29.721Z"
   },
   {
    "duration": 18,
    "start_time": "2024-03-18T19:07:30.091Z"
   },
   {
    "duration": 60,
    "start_time": "2024-03-18T19:07:30.110Z"
   },
   {
    "duration": 1109,
    "start_time": "2024-03-18T19:24:51.855Z"
   },
   {
    "duration": 88,
    "start_time": "2024-03-18T19:24:52.966Z"
   },
   {
    "duration": 33,
    "start_time": "2024-03-18T19:24:53.056Z"
   },
   {
    "duration": 184,
    "start_time": "2024-03-18T19:24:53.091Z"
   },
   {
    "duration": 257,
    "start_time": "2024-03-18T19:24:53.278Z"
   },
   {
    "duration": 5,
    "start_time": "2024-03-18T19:24:53.536Z"
   },
   {
    "duration": 19,
    "start_time": "2024-03-18T19:24:53.543Z"
   },
   {
    "duration": 268,
    "start_time": "2024-03-18T19:24:53.564Z"
   },
   {
    "duration": 232,
    "start_time": "2024-03-18T19:24:53.834Z"
   },
   {
    "duration": 20,
    "start_time": "2024-03-18T19:24:54.067Z"
   },
   {
    "duration": 154,
    "start_time": "2024-03-18T19:24:54.088Z"
   },
   {
    "duration": 296,
    "start_time": "2024-03-18T19:24:54.244Z"
   },
   {
    "duration": 414,
    "start_time": "2024-03-18T19:24:54.542Z"
   },
   {
    "duration": 17,
    "start_time": "2024-03-18T19:24:54.959Z"
   },
   {
    "duration": 28,
    "start_time": "2024-03-18T19:24:54.978Z"
   },
   {
    "duration": 1185,
    "start_time": "2024-03-18T19:33:16.072Z"
   },
   {
    "duration": 82,
    "start_time": "2024-03-18T19:33:17.259Z"
   },
   {
    "duration": 30,
    "start_time": "2024-03-18T19:33:17.343Z"
   },
   {
    "duration": 179,
    "start_time": "2024-03-18T19:33:17.375Z"
   },
   {
    "duration": 325,
    "start_time": "2024-03-18T19:33:17.556Z"
   },
   {
    "duration": 4,
    "start_time": "2024-03-18T19:33:17.882Z"
   },
   {
    "duration": 20,
    "start_time": "2024-03-18T19:33:17.888Z"
   },
   {
    "duration": 308,
    "start_time": "2024-03-18T19:33:17.910Z"
   },
   {
    "duration": 252,
    "start_time": "2024-03-18T19:33:18.220Z"
   },
   {
    "duration": 19,
    "start_time": "2024-03-18T19:33:18.473Z"
   },
   {
    "duration": 167,
    "start_time": "2024-03-18T19:33:18.493Z"
   },
   {
    "duration": 314,
    "start_time": "2024-03-18T19:33:18.662Z"
   },
   {
    "duration": 383,
    "start_time": "2024-03-18T19:33:18.978Z"
   },
   {
    "duration": 18,
    "start_time": "2024-03-18T19:33:19.364Z"
   },
   {
    "duration": 2,
    "start_time": "2024-03-18T19:33:19.384Z"
   },
   {
    "duration": 22,
    "start_time": "2024-03-18T19:33:19.387Z"
   },
   {
    "duration": 14,
    "start_time": "2024-03-18T19:33:19.410Z"
   },
   {
    "duration": 1035,
    "start_time": "2024-03-18T20:24:17.417Z"
   },
   {
    "duration": 80,
    "start_time": "2024-03-18T20:24:18.453Z"
   },
   {
    "duration": 29,
    "start_time": "2024-03-18T20:24:18.535Z"
   },
   {
    "duration": 208,
    "start_time": "2024-03-18T20:24:18.565Z"
   },
   {
    "duration": 326,
    "start_time": "2024-03-18T20:24:18.776Z"
   },
   {
    "duration": 5,
    "start_time": "2024-03-18T20:24:19.103Z"
   },
   {
    "duration": 17,
    "start_time": "2024-03-18T20:24:19.109Z"
   },
   {
    "duration": 443,
    "start_time": "2024-03-18T20:24:19.127Z"
   },
   {
    "duration": 273,
    "start_time": "2024-03-18T20:24:19.571Z"
   },
   {
    "duration": 35,
    "start_time": "2024-03-18T20:24:19.845Z"
   },
   {
    "duration": 175,
    "start_time": "2024-03-18T20:24:19.882Z"
   },
   {
    "duration": 374,
    "start_time": "2024-03-18T20:24:20.065Z"
   },
   {
    "duration": 306,
    "start_time": "2024-03-18T20:24:20.440Z"
   },
   {
    "duration": 29,
    "start_time": "2024-03-18T20:24:20.749Z"
   },
   {
    "duration": 2,
    "start_time": "2024-03-18T20:24:20.780Z"
   },
   {
    "duration": 16,
    "start_time": "2024-03-18T20:24:20.783Z"
   },
   {
    "duration": 24,
    "start_time": "2024-03-18T20:24:20.800Z"
   },
   {
    "duration": 1080,
    "start_time": "2024-03-18T20:27:04.902Z"
   },
   {
    "duration": 81,
    "start_time": "2024-03-18T20:27:05.984Z"
   },
   {
    "duration": 35,
    "start_time": "2024-03-18T20:27:06.066Z"
   },
   {
    "duration": 190,
    "start_time": "2024-03-18T20:27:06.103Z"
   },
   {
    "duration": 357,
    "start_time": "2024-03-18T20:27:06.295Z"
   },
   {
    "duration": 5,
    "start_time": "2024-03-18T20:27:06.654Z"
   },
   {
    "duration": 26,
    "start_time": "2024-03-18T20:27:06.660Z"
   },
   {
    "duration": 307,
    "start_time": "2024-03-18T20:27:06.688Z"
   },
   {
    "duration": 238,
    "start_time": "2024-03-18T20:27:06.997Z"
   },
   {
    "duration": 28,
    "start_time": "2024-03-18T20:27:07.237Z"
   },
   {
    "duration": 148,
    "start_time": "2024-03-18T20:27:07.267Z"
   },
   {
    "duration": 308,
    "start_time": "2024-03-18T20:27:07.417Z"
   },
   {
    "duration": 401,
    "start_time": "2024-03-18T20:27:07.727Z"
   },
   {
    "duration": 35,
    "start_time": "2024-03-18T20:27:08.131Z"
   },
   {
    "duration": 2,
    "start_time": "2024-03-18T20:27:08.168Z"
   },
   {
    "duration": 23,
    "start_time": "2024-03-18T20:27:08.171Z"
   },
   {
    "duration": 23,
    "start_time": "2024-03-18T20:27:08.195Z"
   },
   {
    "duration": 1107,
    "start_time": "2024-03-18T20:38:09.601Z"
   },
   {
    "duration": 85,
    "start_time": "2024-03-18T20:38:10.710Z"
   },
   {
    "duration": 31,
    "start_time": "2024-03-18T20:38:10.797Z"
   },
   {
    "duration": 187,
    "start_time": "2024-03-18T20:38:10.829Z"
   },
   {
    "duration": 320,
    "start_time": "2024-03-18T20:38:11.017Z"
   },
   {
    "duration": 5,
    "start_time": "2024-03-18T20:38:11.338Z"
   },
   {
    "duration": 18,
    "start_time": "2024-03-18T20:38:11.344Z"
   },
   {
    "duration": 300,
    "start_time": "2024-03-18T20:38:11.365Z"
   },
   {
    "duration": 238,
    "start_time": "2024-03-18T20:38:11.667Z"
   },
   {
    "duration": 19,
    "start_time": "2024-03-18T20:38:11.907Z"
   },
   {
    "duration": 166,
    "start_time": "2024-03-18T20:38:11.928Z"
   },
   {
    "duration": 306,
    "start_time": "2024-03-18T20:38:12.096Z"
   },
   {
    "duration": 376,
    "start_time": "2024-03-18T20:38:12.404Z"
   },
   {
    "duration": 18,
    "start_time": "2024-03-18T20:38:12.781Z"
   },
   {
    "duration": 27,
    "start_time": "2024-03-18T20:38:12.800Z"
   },
   {
    "duration": 20,
    "start_time": "2024-03-18T20:38:12.828Z"
   },
   {
    "duration": 47,
    "start_time": "2024-03-18T20:38:12.850Z"
   },
   {
    "duration": 1118,
    "start_time": "2024-03-18T20:42:57.740Z"
   },
   {
    "duration": 87,
    "start_time": "2024-03-18T20:42:58.860Z"
   },
   {
    "duration": 29,
    "start_time": "2024-03-18T20:42:58.948Z"
   },
   {
    "duration": 182,
    "start_time": "2024-03-18T20:42:58.979Z"
   },
   {
    "duration": 310,
    "start_time": "2024-03-18T20:42:59.166Z"
   },
   {
    "duration": 4,
    "start_time": "2024-03-18T20:42:59.478Z"
   },
   {
    "duration": 20,
    "start_time": "2024-03-18T20:42:59.484Z"
   },
   {
    "duration": 314,
    "start_time": "2024-03-18T20:42:59.505Z"
   },
   {
    "duration": 249,
    "start_time": "2024-03-18T20:42:59.820Z"
   },
   {
    "duration": 19,
    "start_time": "2024-03-18T20:43:00.070Z"
   },
   {
    "duration": 217,
    "start_time": "2024-03-18T20:43:00.091Z"
   },
   {
    "duration": 332,
    "start_time": "2024-03-18T20:43:00.309Z"
   },
   {
    "duration": 453,
    "start_time": "2024-03-18T20:43:00.642Z"
   },
   {
    "duration": 18,
    "start_time": "2024-03-18T20:43:01.097Z"
   },
   {
    "duration": 53,
    "start_time": "2024-03-18T20:43:01.116Z"
   },
   {
    "duration": 80,
    "start_time": "2024-03-18T20:43:01.171Z"
   },
   {
    "duration": 80,
    "start_time": "2024-03-18T20:43:01.253Z"
   },
   {
    "duration": 1332,
    "start_time": "2024-03-19T12:16:23.447Z"
   },
   {
    "duration": 140,
    "start_time": "2024-03-19T12:16:24.782Z"
   },
   {
    "duration": 33,
    "start_time": "2024-03-19T12:16:24.924Z"
   },
   {
    "duration": 209,
    "start_time": "2024-03-19T12:16:24.959Z"
   },
   {
    "duration": 339,
    "start_time": "2024-03-19T12:16:25.169Z"
   },
   {
    "duration": 5,
    "start_time": "2024-03-19T12:16:25.510Z"
   },
   {
    "duration": 18,
    "start_time": "2024-03-19T12:16:25.516Z"
   },
   {
    "duration": 329,
    "start_time": "2024-03-19T12:16:25.536Z"
   },
   {
    "duration": 258,
    "start_time": "2024-03-19T12:16:25.867Z"
   },
   {
    "duration": 20,
    "start_time": "2024-03-19T12:16:26.127Z"
   },
   {
    "duration": 176,
    "start_time": "2024-03-19T12:16:26.148Z"
   },
   {
    "duration": 322,
    "start_time": "2024-03-19T12:16:26.326Z"
   },
   {
    "duration": 394,
    "start_time": "2024-03-19T12:16:26.650Z"
   },
   {
    "duration": 19,
    "start_time": "2024-03-19T12:16:27.046Z"
   },
   {
    "duration": 3,
    "start_time": "2024-03-19T12:16:27.067Z"
   },
   {
    "duration": 12,
    "start_time": "2024-03-19T12:16:27.071Z"
   },
   {
    "duration": 46,
    "start_time": "2024-03-19T12:16:27.085Z"
   },
   {
    "duration": 214,
    "start_time": "2024-03-19T12:22:00.326Z"
   },
   {
    "duration": 241,
    "start_time": "2024-03-19T12:22:18.353Z"
   },
   {
    "duration": 365,
    "start_time": "2024-03-19T12:28:58.705Z"
   },
   {
    "duration": 204,
    "start_time": "2024-03-19T12:33:03.132Z"
   },
   {
    "duration": 200,
    "start_time": "2024-03-19T12:35:37.270Z"
   },
   {
    "duration": 210,
    "start_time": "2024-03-19T12:36:51.350Z"
   },
   {
    "duration": 20,
    "start_time": "2024-03-19T12:39:35.446Z"
   },
   {
    "duration": 208,
    "start_time": "2024-03-19T12:39:53.201Z"
   },
   {
    "duration": 199,
    "start_time": "2024-03-19T12:40:11.650Z"
   },
   {
    "duration": 329,
    "start_time": "2024-03-19T12:40:26.807Z"
   },
   {
    "duration": 230,
    "start_time": "2024-03-19T12:40:41.432Z"
   },
   {
    "duration": 224,
    "start_time": "2024-03-19T12:40:53.110Z"
   },
   {
    "duration": 234,
    "start_time": "2024-03-19T12:41:30.108Z"
   },
   {
    "duration": 209,
    "start_time": "2024-03-19T12:41:45.856Z"
   },
   {
    "duration": 229,
    "start_time": "2024-03-19T12:42:56.015Z"
   },
   {
    "duration": 176,
    "start_time": "2024-03-19T12:44:35.730Z"
   },
   {
    "duration": 176,
    "start_time": "2024-03-19T12:46:06.431Z"
   },
   {
    "duration": 1219,
    "start_time": "2024-03-19T12:49:02.466Z"
   },
   {
    "duration": 86,
    "start_time": "2024-03-19T12:49:03.687Z"
   },
   {
    "duration": 29,
    "start_time": "2024-03-19T12:49:03.774Z"
   },
   {
    "duration": 205,
    "start_time": "2024-03-19T12:49:03.805Z"
   },
   {
    "duration": 327,
    "start_time": "2024-03-19T12:49:04.024Z"
   },
   {
    "duration": 5,
    "start_time": "2024-03-19T12:49:04.353Z"
   },
   {
    "duration": 229,
    "start_time": "2024-03-19T12:49:04.360Z"
   },
   {
    "duration": 304,
    "start_time": "2024-03-19T12:49:04.591Z"
   },
   {
    "duration": 389,
    "start_time": "2024-03-19T12:49:04.897Z"
   },
   {
    "duration": 22,
    "start_time": "2024-03-19T12:49:05.288Z"
   },
   {
    "duration": 185,
    "start_time": "2024-03-19T12:49:05.322Z"
   },
   {
    "duration": 424,
    "start_time": "2024-03-19T12:49:05.509Z"
   },
   {
    "duration": 364,
    "start_time": "2024-03-19T12:49:05.935Z"
   },
   {
    "duration": 33,
    "start_time": "2024-03-19T12:49:06.302Z"
   },
   {
    "duration": 3,
    "start_time": "2024-03-19T12:49:06.337Z"
   },
   {
    "duration": 14,
    "start_time": "2024-03-19T12:49:06.341Z"
   },
   {
    "duration": 13,
    "start_time": "2024-03-19T12:49:06.357Z"
   },
   {
    "duration": 1199,
    "start_time": "2024-03-19T12:52:56.262Z"
   },
   {
    "duration": 102,
    "start_time": "2024-03-19T12:52:57.463Z"
   },
   {
    "duration": 29,
    "start_time": "2024-03-19T12:52:57.567Z"
   },
   {
    "duration": 200,
    "start_time": "2024-03-19T12:52:57.598Z"
   },
   {
    "duration": 340,
    "start_time": "2024-03-19T12:52:57.800Z"
   },
   {
    "duration": 5,
    "start_time": "2024-03-19T12:52:58.141Z"
   },
   {
    "duration": 244,
    "start_time": "2024-03-19T12:52:58.147Z"
   },
   {
    "duration": 289,
    "start_time": "2024-03-19T12:52:58.393Z"
   },
   {
    "duration": 395,
    "start_time": "2024-03-19T12:52:58.684Z"
   },
   {
    "duration": 20,
    "start_time": "2024-03-19T12:52:59.080Z"
   },
   {
    "duration": 628,
    "start_time": "2024-03-19T12:52:59.123Z"
   },
   {
    "duration": 486,
    "start_time": "2024-03-19T12:52:59.753Z"
   },
   {
    "duration": 344,
    "start_time": "2024-03-19T12:53:00.240Z"
   },
   {
    "duration": 20,
    "start_time": "2024-03-19T12:53:00.586Z"
   },
   {
    "duration": 156,
    "start_time": "2024-03-19T12:53:00.607Z"
   },
   {
    "duration": 76,
    "start_time": "2024-03-19T12:53:00.765Z"
   },
   {
    "duration": 55,
    "start_time": "2024-03-19T12:53:00.843Z"
   },
   {
    "duration": 199,
    "start_time": "2024-03-19T12:58:03.980Z"
   },
   {
    "duration": 1237,
    "start_time": "2024-03-19T12:59:00.329Z"
   },
   {
    "duration": 88,
    "start_time": "2024-03-19T12:59:01.568Z"
   },
   {
    "duration": 129,
    "start_time": "2024-03-19T12:59:01.658Z"
   },
   {
    "duration": 222,
    "start_time": "2024-03-19T12:59:01.789Z"
   },
   {
    "duration": 363,
    "start_time": "2024-03-19T12:59:02.014Z"
   },
   {
    "duration": 5,
    "start_time": "2024-03-19T12:59:02.379Z"
   },
   {
    "duration": 290,
    "start_time": "2024-03-19T12:59:02.385Z"
   },
   {
    "duration": 256,
    "start_time": "2024-03-19T12:59:02.677Z"
   },
   {
    "duration": 391,
    "start_time": "2024-03-19T12:59:02.935Z"
   },
   {
    "duration": 22,
    "start_time": "2024-03-19T12:59:03.329Z"
   },
   {
    "duration": 617,
    "start_time": "2024-03-19T12:59:03.353Z"
   },
   {
    "duration": 420,
    "start_time": "2024-03-19T12:59:03.971Z"
   },
   {
    "duration": 383,
    "start_time": "2024-03-19T12:59:04.393Z"
   },
   {
    "duration": 63,
    "start_time": "2024-03-19T12:59:04.779Z"
   },
   {
    "duration": 3,
    "start_time": "2024-03-19T12:59:04.843Z"
   },
   {
    "duration": 20,
    "start_time": "2024-03-19T12:59:04.847Z"
   },
   {
    "duration": 20,
    "start_time": "2024-03-19T12:59:04.869Z"
   }
  ],
  "kernelspec": {
   "display_name": "Python 3 (ipykernel)",
   "language": "python",
   "name": "python3"
  },
  "language_info": {
   "codemirror_mode": {
    "name": "ipython",
    "version": 3
   },
   "file_extension": ".py",
   "mimetype": "text/x-python",
   "name": "python",
   "nbconvert_exporter": "python",
   "pygments_lexer": "ipython3",
   "version": "3.9.18"
  },
  "toc": {
   "base_numbering": 1,
   "nav_menu": {},
   "number_sections": true,
   "sideBar": true,
   "skip_h1_title": true,
   "title_cell": "Table of Contents",
   "title_sidebar": "Contents",
   "toc_cell": false,
   "toc_position": {},
   "toc_section_display": true,
   "toc_window_display": false
  },
  "varInspector": {
   "cols": {
    "lenName": 16,
    "lenType": 16,
    "lenVar": 40
   },
   "kernels_config": {
    "python": {
     "delete_cmd_postfix": "",
     "delete_cmd_prefix": "del ",
     "library": "var_list.py",
     "varRefreshCmd": "print(var_dic_list())"
    },
    "r": {
     "delete_cmd_postfix": ") ",
     "delete_cmd_prefix": "rm(",
     "library": "var_list.r",
     "varRefreshCmd": "cat(var_dic_list()) "
    }
   },
   "types_to_exclude": [
    "module",
    "function",
    "builtin_function_or_method",
    "instance",
    "_Feature"
   ],
   "window_display": false
  }
 },
 "nbformat": 4,
 "nbformat_minor": 2
}
