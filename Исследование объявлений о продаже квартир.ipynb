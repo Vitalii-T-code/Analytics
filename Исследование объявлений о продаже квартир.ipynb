{
 "cells": [
  {
   "cell_type": "markdown",
   "metadata": {
    "id": "-VFbjcb3Awb7"
   },
   "source": [
    "# Исследование объявлений о продаже квартир\n",
    "\n",
    "В вашем распоряжении данные сервиса Яндекс Недвижимость — архив объявлений о продаже квартир в Санкт-Петербурге и соседних населённых пунктах за несколько лет. Вам нужно научиться определять рыночную стоимость объектов недвижимости. Для этого проведите исследовательский анализ данных и установите параметры, влияющие на цену объектов. Это позволит построить автоматизированную систему: она отследит аномалии и мошенническую деятельность.\n",
    "\n",
    "По каждой квартире на продажу доступны два вида данных. Первые вписаны пользователем, вторые — получены автоматически на основе картографических данных. Например, расстояние до центра, аэропорта и других объектов — эти данные автоматически получены из геосервисов. Количество парков и водоёмов также заполняется без участия пользователя."
   ]
  },
  {
   "cell_type": "markdown",
   "metadata": {
    "id": "aeFLH07FAwb9"
   },
   "source": [
    "### Обзор данных"
   ]
  },
  {
   "cell_type": "code",
   "execution_count": 1,
   "metadata": {
    "id": "aeFLH07FAwb9"
   },
   "outputs": [],
   "source": [
    "# Импорт библиотек\n",
    "import pandas as pd\n",
    "import matplotlib.pyplot as plt\n",
    "from IPython.display import display\n",
    "import seaborn as sns  "
   ]
  },
  {
   "cell_type": "code",
   "execution_count": 2,
   "metadata": {
    "id": "aeFLH07FAwb9"
   },
   "outputs": [
    {
     "data": {
      "text/html": [
       "<div>\n",
       "<style scoped>\n",
       "    .dataframe tbody tr th:only-of-type {\n",
       "        vertical-align: middle;\n",
       "    }\n",
       "\n",
       "    .dataframe tbody tr th {\n",
       "        vertical-align: top;\n",
       "    }\n",
       "\n",
       "    .dataframe thead th {\n",
       "        text-align: right;\n",
       "    }\n",
       "</style>\n",
       "<table border=\"1\" class=\"dataframe\">\n",
       "  <thead>\n",
       "    <tr style=\"text-align: right;\">\n",
       "      <th></th>\n",
       "      <th>total_images</th>\n",
       "      <th>last_price</th>\n",
       "      <th>total_area</th>\n",
       "      <th>first_day_exposition</th>\n",
       "      <th>rooms</th>\n",
       "      <th>ceiling_height</th>\n",
       "      <th>floors_total</th>\n",
       "      <th>living_area</th>\n",
       "      <th>floor</th>\n",
       "      <th>is_apartment</th>\n",
       "      <th>...</th>\n",
       "      <th>kitchen_area</th>\n",
       "      <th>balcony</th>\n",
       "      <th>locality_name</th>\n",
       "      <th>airports_nearest</th>\n",
       "      <th>cityCenters_nearest</th>\n",
       "      <th>parks_around3000</th>\n",
       "      <th>parks_nearest</th>\n",
       "      <th>ponds_around3000</th>\n",
       "      <th>ponds_nearest</th>\n",
       "      <th>days_exposition</th>\n",
       "    </tr>\n",
       "  </thead>\n",
       "  <tbody>\n",
       "    <tr>\n",
       "      <th>0</th>\n",
       "      <td>20</td>\n",
       "      <td>13000000.0</td>\n",
       "      <td>108.0</td>\n",
       "      <td>2019-03-07T00:00:00</td>\n",
       "      <td>3</td>\n",
       "      <td>2.70</td>\n",
       "      <td>16.0</td>\n",
       "      <td>51.0</td>\n",
       "      <td>8</td>\n",
       "      <td>NaN</td>\n",
       "      <td>...</td>\n",
       "      <td>25.0</td>\n",
       "      <td>NaN</td>\n",
       "      <td>Санкт-Петербург</td>\n",
       "      <td>18863.0</td>\n",
       "      <td>16028.0</td>\n",
       "      <td>1.0</td>\n",
       "      <td>482.0</td>\n",
       "      <td>2.0</td>\n",
       "      <td>755.0</td>\n",
       "      <td>NaN</td>\n",
       "    </tr>\n",
       "    <tr>\n",
       "      <th>1</th>\n",
       "      <td>7</td>\n",
       "      <td>3350000.0</td>\n",
       "      <td>40.4</td>\n",
       "      <td>2018-12-04T00:00:00</td>\n",
       "      <td>1</td>\n",
       "      <td>NaN</td>\n",
       "      <td>11.0</td>\n",
       "      <td>18.6</td>\n",
       "      <td>1</td>\n",
       "      <td>NaN</td>\n",
       "      <td>...</td>\n",
       "      <td>11.0</td>\n",
       "      <td>2.0</td>\n",
       "      <td>посёлок Шушары</td>\n",
       "      <td>12817.0</td>\n",
       "      <td>18603.0</td>\n",
       "      <td>0.0</td>\n",
       "      <td>NaN</td>\n",
       "      <td>0.0</td>\n",
       "      <td>NaN</td>\n",
       "      <td>81.0</td>\n",
       "    </tr>\n",
       "    <tr>\n",
       "      <th>2</th>\n",
       "      <td>10</td>\n",
       "      <td>5196000.0</td>\n",
       "      <td>56.0</td>\n",
       "      <td>2015-08-20T00:00:00</td>\n",
       "      <td>2</td>\n",
       "      <td>NaN</td>\n",
       "      <td>5.0</td>\n",
       "      <td>34.3</td>\n",
       "      <td>4</td>\n",
       "      <td>NaN</td>\n",
       "      <td>...</td>\n",
       "      <td>8.3</td>\n",
       "      <td>0.0</td>\n",
       "      <td>Санкт-Петербург</td>\n",
       "      <td>21741.0</td>\n",
       "      <td>13933.0</td>\n",
       "      <td>1.0</td>\n",
       "      <td>90.0</td>\n",
       "      <td>2.0</td>\n",
       "      <td>574.0</td>\n",
       "      <td>558.0</td>\n",
       "    </tr>\n",
       "    <tr>\n",
       "      <th>3</th>\n",
       "      <td>0</td>\n",
       "      <td>64900000.0</td>\n",
       "      <td>159.0</td>\n",
       "      <td>2015-07-24T00:00:00</td>\n",
       "      <td>3</td>\n",
       "      <td>NaN</td>\n",
       "      <td>14.0</td>\n",
       "      <td>NaN</td>\n",
       "      <td>9</td>\n",
       "      <td>NaN</td>\n",
       "      <td>...</td>\n",
       "      <td>NaN</td>\n",
       "      <td>0.0</td>\n",
       "      <td>Санкт-Петербург</td>\n",
       "      <td>28098.0</td>\n",
       "      <td>6800.0</td>\n",
       "      <td>2.0</td>\n",
       "      <td>84.0</td>\n",
       "      <td>3.0</td>\n",
       "      <td>234.0</td>\n",
       "      <td>424.0</td>\n",
       "    </tr>\n",
       "    <tr>\n",
       "      <th>4</th>\n",
       "      <td>2</td>\n",
       "      <td>10000000.0</td>\n",
       "      <td>100.0</td>\n",
       "      <td>2018-06-19T00:00:00</td>\n",
       "      <td>2</td>\n",
       "      <td>3.03</td>\n",
       "      <td>14.0</td>\n",
       "      <td>32.0</td>\n",
       "      <td>13</td>\n",
       "      <td>NaN</td>\n",
       "      <td>...</td>\n",
       "      <td>41.0</td>\n",
       "      <td>NaN</td>\n",
       "      <td>Санкт-Петербург</td>\n",
       "      <td>31856.0</td>\n",
       "      <td>8098.0</td>\n",
       "      <td>2.0</td>\n",
       "      <td>112.0</td>\n",
       "      <td>1.0</td>\n",
       "      <td>48.0</td>\n",
       "      <td>121.0</td>\n",
       "    </tr>\n",
       "  </tbody>\n",
       "</table>\n",
       "<p>5 rows × 22 columns</p>\n",
       "</div>"
      ],
      "text/plain": [
       "   total_images  last_price  total_area first_day_exposition  rooms  \\\n",
       "0            20  13000000.0       108.0  2019-03-07T00:00:00      3   \n",
       "1             7   3350000.0        40.4  2018-12-04T00:00:00      1   \n",
       "2            10   5196000.0        56.0  2015-08-20T00:00:00      2   \n",
       "3             0  64900000.0       159.0  2015-07-24T00:00:00      3   \n",
       "4             2  10000000.0       100.0  2018-06-19T00:00:00      2   \n",
       "\n",
       "   ceiling_height  floors_total  living_area  floor is_apartment  ...  \\\n",
       "0            2.70          16.0         51.0      8          NaN  ...   \n",
       "1             NaN          11.0         18.6      1          NaN  ...   \n",
       "2             NaN           5.0         34.3      4          NaN  ...   \n",
       "3             NaN          14.0          NaN      9          NaN  ...   \n",
       "4            3.03          14.0         32.0     13          NaN  ...   \n",
       "\n",
       "   kitchen_area  balcony    locality_name  airports_nearest  \\\n",
       "0          25.0      NaN  Санкт-Петербург           18863.0   \n",
       "1          11.0      2.0   посёлок Шушары           12817.0   \n",
       "2           8.3      0.0  Санкт-Петербург           21741.0   \n",
       "3           NaN      0.0  Санкт-Петербург           28098.0   \n",
       "4          41.0      NaN  Санкт-Петербург           31856.0   \n",
       "\n",
       "  cityCenters_nearest  parks_around3000  parks_nearest  ponds_around3000  \\\n",
       "0             16028.0               1.0          482.0               2.0   \n",
       "1             18603.0               0.0            NaN               0.0   \n",
       "2             13933.0               1.0           90.0               2.0   \n",
       "3              6800.0               2.0           84.0               3.0   \n",
       "4              8098.0               2.0          112.0               1.0   \n",
       "\n",
       "   ponds_nearest  days_exposition  \n",
       "0          755.0              NaN  \n",
       "1            NaN             81.0  \n",
       "2          574.0            558.0  \n",
       "3          234.0            424.0  \n",
       "4           48.0            121.0  \n",
       "\n",
       "[5 rows x 22 columns]"
      ]
     },
     "metadata": {},
     "output_type": "display_data"
    },
    {
     "name": "stdout",
     "output_type": "stream",
     "text": [
      "<class 'pandas.core.frame.DataFrame'>\n",
      "RangeIndex: 23699 entries, 0 to 23698\n",
      "Data columns (total 22 columns):\n",
      " #   Column                Non-Null Count  Dtype  \n",
      "---  ------                --------------  -----  \n",
      " 0   total_images          23699 non-null  int64  \n",
      " 1   last_price            23699 non-null  float64\n",
      " 2   total_area            23699 non-null  float64\n",
      " 3   first_day_exposition  23699 non-null  object \n",
      " 4   rooms                 23699 non-null  int64  \n",
      " 5   ceiling_height        14504 non-null  float64\n",
      " 6   floors_total          23613 non-null  float64\n",
      " 7   living_area           21796 non-null  float64\n",
      " 8   floor                 23699 non-null  int64  \n",
      " 9   is_apartment          2775 non-null   object \n",
      " 10  studio                23699 non-null  bool   \n",
      " 11  open_plan             23699 non-null  bool   \n",
      " 12  kitchen_area          21421 non-null  float64\n",
      " 13  balcony               12180 non-null  float64\n",
      " 14  locality_name         23650 non-null  object \n",
      " 15  airports_nearest      18157 non-null  float64\n",
      " 16  cityCenters_nearest   18180 non-null  float64\n",
      " 17  parks_around3000      18181 non-null  float64\n",
      " 18  parks_nearest         8079 non-null   float64\n",
      " 19  ponds_around3000      18181 non-null  float64\n",
      " 20  ponds_nearest         9110 non-null   float64\n",
      " 21  days_exposition       20518 non-null  float64\n",
      "dtypes: bool(2), float64(14), int64(3), object(3)\n",
      "memory usage: 3.7+ MB\n"
     ]
    },
    {
     "data": {
      "text/plain": [
       "None"
      ]
     },
     "metadata": {},
     "output_type": "display_data"
    }
   ],
   "source": [
    "# Открыть файл с данными\n",
    "file_path = '/datasets/real_estate_data.csv'\n",
    "data = pd.read_csv(file_path)\n",
    "data = pd.read_csv('/datasets/real_estate_data.csv', sep='\\t')\n",
    "display(data.head())\n",
    "display(data.info())\n",
    "\n",
    "# Выбраны только числовые столбцы\n",
    "numeric_columns = data.select_dtypes(include=['number'])"
   ]
  },
  {
   "cell_type": "markdown",
   "metadata": {
    "id": "-O5NtivEAwb9"
   },
   "source": [
    "**Шаг 1: Открытие файла и изучение общей информации**\n",
    "- Загружен файл с данными.\n",
    "- Выведены первые строки и общая информация о данных.\n",
    "- Данные содержат различные типы данных (int, float, object).\n",
    "- Пропущенные значения присутствуют в нескольких столбцах."
   ]
  },
  {
   "cell_type": "code",
   "execution_count": 3,
   "metadata": {
    "id": "7MZxY65pAwb9",
    "scrolled": false
   },
   "outputs": [
    {
     "data": {
      "image/png": "[encoded data removed]",
      "text/plain": [
       "<Figure size 1080x1440 with 20 Axes>"
      ]
     },
     "metadata": {
      "needs_background": "light"
     },
     "output_type": "display_data"
    }
   ],
   "source": [
    "# Гистограмма для всех числовых столбцов\n",
    "#plt.figure(figsize=(15, 20))\n",
    "#numeric_columns.hist(bins=20, edgecolor='black', grid=False, alpha=0.7)\n",
    "#plt.tight_layout()\n",
    "\n",
    "data.hist(figsize=(15, 20))\n",
    "plt.show()"
   ]
  },
  {
   "cell_type": "markdown",
   "metadata": {
    "id": "-O5NtivEAwb9"
   },
   "source": [
    "**Шаг 2: Построение гистограмм для числовых столбцов**\n",
    "- Построены гистограммы для всех числовых столбцов с использованием библиотеки Matplotlib.\n",
    "- Распределения различных параметров визуализированы."
   ]
  },
  {
   "cell_type": "markdown",
   "metadata": {
    "id": "-O5NtivEAwb9"
   },
   "source": [
    "**Вывод к разделу:**\n",
    "\n",
    "**Результаты:**\n",
    "1. **total_images:** Распределение числа изображений.\n",
    "2. **last_price:** Распределение цен на недвижимость.\n",
    "3. **total_area:** Распределение общей площади.\n",
    "4. **rooms:** Распределение количества комнат.\n",
    "5. **ceiling_height:** Распределение высоты потолков.\n",
    "6. **floors_total:** Распределение общего количества этажей в доме.\n",
    "7. **living_area:** Распределение жилой площади.\n",
    "8. **floor:** Распределение этажей.\n",
    "9. **kitchen_area:** Распределение площади кухни.\n",
    "10. **balcony:** Распределение наличия балкона.\n",
    "\n",
    "**Общие выводы:**\n",
    "1. Данные содержат разнообразные типы информации.\n",
    "2. Присутствуют пропущенные значения в нескольких столбцах.\n",
    "3. Распределения параметров позволяют оценить характер данных и выявить потенциальные аномалии.\n",
    "4. Для дальнейшего анализа необходимо провести более детальную предобработку данных, включая обработку пропущенных значений, изменение типов данных и удаление выбросов."
   ]
  },
  {
   "cell_type": "markdown",
   "metadata": {
    "id": "-O5NtivEAwb9"
   },
   "source": [
    "### Выполните предобработку данных"
   ]
  },
  {
   "cell_type": "code",
   "execution_count": 4,
   "metadata": {
    "id": "-O5NtivEAwb9"
   },
   "outputs": [
    {
     "data": {
      "text/html": [
       "<div>\n",
       "<style scoped>\n",
       "    .dataframe tbody tr th:only-of-type {\n",
       "        vertical-align: middle;\n",
       "    }\n",
       "\n",
       "    .dataframe tbody tr th {\n",
       "        vertical-align: top;\n",
       "    }\n",
       "\n",
       "    .dataframe thead th {\n",
       "        text-align: right;\n",
       "    }\n",
       "</style>\n",
       "<table border=\"1\" class=\"dataframe\">\n",
       "  <thead>\n",
       "    <tr style=\"text-align: right;\">\n",
       "      <th></th>\n",
       "      <th>total_images</th>\n",
       "      <th>last_price</th>\n",
       "      <th>total_area</th>\n",
       "      <th>first_day_exposition</th>\n",
       "      <th>rooms</th>\n",
       "      <th>ceiling_height</th>\n",
       "      <th>floors_total</th>\n",
       "      <th>living_area</th>\n",
       "      <th>floor</th>\n",
       "      <th>is_apartment</th>\n",
       "      <th>...</th>\n",
       "      <th>kitchen_area</th>\n",
       "      <th>balcony</th>\n",
       "      <th>locality_name</th>\n",
       "      <th>airports_nearest</th>\n",
       "      <th>cityCenters_nearest</th>\n",
       "      <th>parks_around3000</th>\n",
       "      <th>parks_nearest</th>\n",
       "      <th>ponds_around3000</th>\n",
       "      <th>ponds_nearest</th>\n",
       "      <th>days_exposition</th>\n",
       "    </tr>\n",
       "  </thead>\n",
       "  <tbody>\n",
       "    <tr>\n",
       "      <th>0</th>\n",
       "      <td>20</td>\n",
       "      <td>13000000.0</td>\n",
       "      <td>108.0</td>\n",
       "      <td>2019-03-07T00:00:00</td>\n",
       "      <td>3</td>\n",
       "      <td>2.70</td>\n",
       "      <td>16.0</td>\n",
       "      <td>51.0</td>\n",
       "      <td>8</td>\n",
       "      <td>NaN</td>\n",
       "      <td>...</td>\n",
       "      <td>25.0</td>\n",
       "      <td>NaN</td>\n",
       "      <td>Санкт-Петербург</td>\n",
       "      <td>18863.0</td>\n",
       "      <td>16028.0</td>\n",
       "      <td>1.0</td>\n",
       "      <td>482.0</td>\n",
       "      <td>2.0</td>\n",
       "      <td>755.0</td>\n",
       "      <td>NaN</td>\n",
       "    </tr>\n",
       "    <tr>\n",
       "      <th>1</th>\n",
       "      <td>7</td>\n",
       "      <td>3350000.0</td>\n",
       "      <td>40.4</td>\n",
       "      <td>2018-12-04T00:00:00</td>\n",
       "      <td>1</td>\n",
       "      <td>NaN</td>\n",
       "      <td>11.0</td>\n",
       "      <td>18.6</td>\n",
       "      <td>1</td>\n",
       "      <td>NaN</td>\n",
       "      <td>...</td>\n",
       "      <td>11.0</td>\n",
       "      <td>2.0</td>\n",
       "      <td>посёлок Шушары</td>\n",
       "      <td>12817.0</td>\n",
       "      <td>18603.0</td>\n",
       "      <td>0.0</td>\n",
       "      <td>NaN</td>\n",
       "      <td>0.0</td>\n",
       "      <td>NaN</td>\n",
       "      <td>81.0</td>\n",
       "    </tr>\n",
       "    <tr>\n",
       "      <th>2</th>\n",
       "      <td>10</td>\n",
       "      <td>5196000.0</td>\n",
       "      <td>56.0</td>\n",
       "      <td>2015-08-20T00:00:00</td>\n",
       "      <td>2</td>\n",
       "      <td>NaN</td>\n",
       "      <td>5.0</td>\n",
       "      <td>34.3</td>\n",
       "      <td>4</td>\n",
       "      <td>NaN</td>\n",
       "      <td>...</td>\n",
       "      <td>8.3</td>\n",
       "      <td>0.0</td>\n",
       "      <td>Санкт-Петербург</td>\n",
       "      <td>21741.0</td>\n",
       "      <td>13933.0</td>\n",
       "      <td>1.0</td>\n",
       "      <td>90.0</td>\n",
       "      <td>2.0</td>\n",
       "      <td>574.0</td>\n",
       "      <td>558.0</td>\n",
       "    </tr>\n",
       "    <tr>\n",
       "      <th>3</th>\n",
       "      <td>0</td>\n",
       "      <td>64900000.0</td>\n",
       "      <td>159.0</td>\n",
       "      <td>2015-07-24T00:00:00</td>\n",
       "      <td>3</td>\n",
       "      <td>NaN</td>\n",
       "      <td>14.0</td>\n",
       "      <td>NaN</td>\n",
       "      <td>9</td>\n",
       "      <td>NaN</td>\n",
       "      <td>...</td>\n",
       "      <td>NaN</td>\n",
       "      <td>0.0</td>\n",
       "      <td>Санкт-Петербург</td>\n",
       "      <td>28098.0</td>\n",
       "      <td>6800.0</td>\n",
       "      <td>2.0</td>\n",
       "      <td>84.0</td>\n",
       "      <td>3.0</td>\n",
       "      <td>234.0</td>\n",
       "      <td>424.0</td>\n",
       "    </tr>\n",
       "    <tr>\n",
       "      <th>4</th>\n",
       "      <td>2</td>\n",
       "      <td>10000000.0</td>\n",
       "      <td>100.0</td>\n",
       "      <td>2018-06-19T00:00:00</td>\n",
       "      <td>2</td>\n",
       "      <td>3.03</td>\n",
       "      <td>14.0</td>\n",
       "      <td>32.0</td>\n",
       "      <td>13</td>\n",
       "      <td>NaN</td>\n",
       "      <td>...</td>\n",
       "      <td>41.0</td>\n",
       "      <td>NaN</td>\n",
       "      <td>Санкт-Петербург</td>\n",
       "      <td>31856.0</td>\n",
       "      <td>8098.0</td>\n",
       "      <td>2.0</td>\n",
       "      <td>112.0</td>\n",
       "      <td>1.0</td>\n",
       "      <td>48.0</td>\n",
       "      <td>121.0</td>\n",
       "    </tr>\n",
       "  </tbody>\n",
       "</table>\n",
       "<p>5 rows × 22 columns</p>\n",
       "</div>"
      ],
      "text/plain": [
       "   total_images  last_price  total_area first_day_exposition  rooms  \\\n",
       "0            20  13000000.0       108.0  2019-03-07T00:00:00      3   \n",
       "1             7   3350000.0        40.4  2018-12-04T00:00:00      1   \n",
       "2            10   5196000.0        56.0  2015-08-20T00:00:00      2   \n",
       "3             0  64900000.0       159.0  2015-07-24T00:00:00      3   \n",
       "4             2  10000000.0       100.0  2018-06-19T00:00:00      2   \n",
       "\n",
       "   ceiling_height  floors_total  living_area  floor is_apartment  ...  \\\n",
       "0            2.70          16.0         51.0      8          NaN  ...   \n",
       "1             NaN          11.0         18.6      1          NaN  ...   \n",
       "2             NaN           5.0         34.3      4          NaN  ...   \n",
       "3             NaN          14.0          NaN      9          NaN  ...   \n",
       "4            3.03          14.0         32.0     13          NaN  ...   \n",
       "\n",
       "   kitchen_area  balcony    locality_name  airports_nearest  \\\n",
       "0          25.0      NaN  Санкт-Петербург           18863.0   \n",
       "1          11.0      2.0   посёлок Шушары           12817.0   \n",
       "2           8.3      0.0  Санкт-Петербург           21741.0   \n",
       "3           NaN      0.0  Санкт-Петербург           28098.0   \n",
       "4          41.0      NaN  Санкт-Петербург           31856.0   \n",
       "\n",
       "  cityCenters_nearest  parks_around3000  parks_nearest  ponds_around3000  \\\n",
       "0             16028.0               1.0          482.0               2.0   \n",
       "1             18603.0               0.0            NaN               0.0   \n",
       "2             13933.0               1.0           90.0               2.0   \n",
       "3              6800.0               2.0           84.0               3.0   \n",
       "4              8098.0               2.0          112.0               1.0   \n",
       "\n",
       "   ponds_nearest  days_exposition  \n",
       "0          755.0              NaN  \n",
       "1            NaN             81.0  \n",
       "2          574.0            558.0  \n",
       "3          234.0            424.0  \n",
       "4           48.0            121.0  \n",
       "\n",
       "[5 rows x 22 columns]"
      ]
     },
     "execution_count": 4,
     "metadata": {},
     "output_type": "execute_result"
    }
   ],
   "source": [
    "# Подсчёт пропусков\n",
    "data.isna().sum()\n",
    "\n",
    "data.head()"
   ]
  },
  {
   "cell_type": "code",
   "execution_count": 5,
   "metadata": {
    "id": "-O5NtivEAwb9",
    "scrolled": false
   },
   "outputs": [
    {
     "data": {
      "text/plain": [
       "10    1798\n",
       "9     1725\n",
       "20    1694\n",
       "8     1585\n",
       "7     1521\n",
       "6     1482\n",
       "11    1362\n",
       "5     1301\n",
       "12    1225\n",
       "0     1059\n",
       "13    1015\n",
       "4      986\n",
       "14     986\n",
       "15     948\n",
       "1      872\n",
       "3      769\n",
       "16     761\n",
       "17     650\n",
       "18     642\n",
       "2      640\n",
       "19     603\n",
       "23      16\n",
       "21      12\n",
       "24       8\n",
       "22       8\n",
       "26       5\n",
       "28       4\n",
       "32       4\n",
       "29       3\n",
       "50       3\n",
       "27       2\n",
       "35       2\n",
       "30       2\n",
       "31       2\n",
       "39       1\n",
       "25       1\n",
       "42       1\n",
       "37       1\n",
       "Name: total_images, dtype: int64"
      ]
     },
     "metadata": {},
     "output_type": "display_data"
    },
    {
     "data": {
      "text/plain": [
       "4500000.0     342\n",
       "3500000.0     291\n",
       "4000000.0     260\n",
       "4300000.0     260\n",
       "4200000.0     259\n",
       "             ... \n",
       "10430000.0      1\n",
       "9917600.0       1\n",
       "3180500.0       1\n",
       "7297000.0       1\n",
       "4386000.0       1\n",
       "Name: last_price, Length: 2978, dtype: int64"
      ]
     },
     "metadata": {},
     "output_type": "display_data"
    },
    {
     "data": {
      "text/plain": [
       "45.00     419\n",
       "42.00     383\n",
       "60.00     347\n",
       "31.00     346\n",
       "44.00     345\n",
       "         ... \n",
       "44.24       1\n",
       "56.85       1\n",
       "37.92       1\n",
       "115.60      1\n",
       "55.06       1\n",
       "Name: total_area, Length: 2182, dtype: int64"
      ]
     },
     "metadata": {},
     "output_type": "display_data"
    },
    {
     "data": {
      "text/plain": [
       "2018-02-01T00:00:00    368\n",
       "2017-11-10T00:00:00    240\n",
       "2017-10-13T00:00:00    124\n",
       "2017-09-27T00:00:00    111\n",
       "2018-03-26T00:00:00     97\n",
       "                      ... \n",
       "2017-02-23T00:00:00      1\n",
       "2015-10-07T00:00:00      1\n",
       "2017-01-28T00:00:00      1\n",
       "2018-05-01T00:00:00      1\n",
       "2015-02-14T00:00:00      1\n",
       "Name: first_day_exposition, Length: 1491, dtype: int64"
      ]
     },
     "metadata": {},
     "output_type": "display_data"
    },
    {
     "data": {
      "text/plain": [
       "1     8047\n",
       "2     7940\n",
       "3     5814\n",
       "4     1180\n",
       "5      326\n",
       "0      197\n",
       "6      105\n",
       "7       59\n",
       "8       12\n",
       "9        8\n",
       "10       3\n",
       "11       2\n",
       "14       2\n",
       "19       1\n",
       "16       1\n",
       "12       1\n",
       "15       1\n",
       "Name: rooms, dtype: int64"
      ]
     },
     "metadata": {},
     "output_type": "display_data"
    },
    {
     "data": {
      "text/plain": [
       "2.50     3515\n",
       "2.60     1646\n",
       "2.70     1574\n",
       "3.00     1112\n",
       "2.80      993\n",
       "         ... \n",
       "4.25        1\n",
       "3.39        1\n",
       "3.93        1\n",
       "10.30       1\n",
       "4.65        1\n",
       "Name: ceiling_height, Length: 183, dtype: int64"
      ]
     },
     "metadata": {},
     "output_type": "display_data"
    },
    {
     "data": {
      "text/plain": [
       "5.0     5788\n",
       "9.0     3761\n",
       "16.0    1376\n",
       "12.0    1362\n",
       "4.0     1200\n",
       "10.0    1174\n",
       "25.0    1075\n",
       "6.0      914\n",
       "17.0     833\n",
       "3.0      668\n",
       "7.0      592\n",
       "14.0     553\n",
       "18.0     505\n",
       "24.0     469\n",
       "8.0      390\n",
       "2.0      383\n",
       "15.0     365\n",
       "23.0     352\n",
       "19.0     339\n",
       "22.0     286\n",
       "20.0     271\n",
       "13.0     229\n",
       "11.0     203\n",
       "27.0     164\n",
       "21.0     158\n",
       "26.0     124\n",
       "1.0       25\n",
       "35.0      24\n",
       "28.0      21\n",
       "36.0       3\n",
       "37.0       1\n",
       "34.0       1\n",
       "33.0       1\n",
       "60.0       1\n",
       "29.0       1\n",
       "52.0       1\n",
       "Name: floors_total, dtype: int64"
      ]
     },
     "metadata": {},
     "output_type": "display_data"
    },
    {
     "data": {
      "text/plain": [
       "18.00    882\n",
       "17.00    675\n",
       "30.00    598\n",
       "16.00    486\n",
       "20.00    481\n",
       "        ... \n",
       "96.40      1\n",
       "50.26      1\n",
       "43.81      1\n",
       "54.43      1\n",
       "16.74      1\n",
       "Name: living_area, Length: 1782, dtype: int64"
      ]
     },
     "metadata": {},
     "output_type": "display_data"
    },
    {
     "data": {
      "text/plain": [
       "2     3368\n",
       "3     3073\n",
       "1     2917\n",
       "4     2804\n",
       "5     2621\n",
       "6     1305\n",
       "7     1218\n",
       "8     1083\n",
       "9     1051\n",
       "10     687\n",
       "12     526\n",
       "11     523\n",
       "13     379\n",
       "15     343\n",
       "14     337\n",
       "16     315\n",
       "17     227\n",
       "18     178\n",
       "19     147\n",
       "21     125\n",
       "22     113\n",
       "20     110\n",
       "23     100\n",
       "24      63\n",
       "25      46\n",
       "26      24\n",
       "27      10\n",
       "28       1\n",
       "29       1\n",
       "32       1\n",
       "30       1\n",
       "33       1\n",
       "31       1\n",
       "Name: floor, dtype: int64"
      ]
     },
     "metadata": {},
     "output_type": "display_data"
    },
    {
     "data": {
      "text/plain": [
       "False    2725\n",
       "True       50\n",
       "Name: is_apartment, dtype: int64"
      ]
     },
     "metadata": {},
     "output_type": "display_data"
    },
    {
     "data": {
      "text/plain": [
       "False    23550\n",
       "True       149\n",
       "Name: studio, dtype: int64"
      ]
     },
     "metadata": {},
     "output_type": "display_data"
    },
    {
     "data": {
      "text/plain": [
       "False    23632\n",
       "True        67\n",
       "Name: open_plan, dtype: int64"
      ]
     },
     "metadata": {},
     "output_type": "display_data"
    },
    {
     "data": {
      "text/plain": [
       "6.00     1300\n",
       "10.00    1262\n",
       "8.00     1110\n",
       "9.00     1101\n",
       "7.00     1062\n",
       "         ... \n",
       "7.12        1\n",
       "13.73       1\n",
       "14.74       1\n",
       "53.10       1\n",
       "16.74       1\n",
       "Name: kitchen_area, Length: 971, dtype: int64"
      ]
     },
     "metadata": {},
     "output_type": "display_data"
    },
    {
     "data": {
      "text/plain": [
       "0.0    15277\n",
       "1.0     4195\n",
       "2.0     3659\n",
       "5.0      304\n",
       "4.0      183\n",
       "3.0       81\n",
       "Name: balcony, dtype: int64"
      ]
     },
     "metadata": {},
     "output_type": "display_data"
    },
    {
     "data": {
      "text/plain": [
       "Санкт-Петербург      15721\n",
       "посёлок Мурино         522\n",
       "посёлок Шушары         440\n",
       "Всеволожск             398\n",
       "Пушкин                 369\n",
       "                     ...  \n",
       "село Никольское          1\n",
       "деревня Курковицы        1\n",
       "поселок Гаврилово        1\n",
       "деревня Меньково         1\n",
       "поселок Коммунары        1\n",
       "Name: locality_name, Length: 364, dtype: int64"
      ]
     },
     "metadata": {},
     "output_type": "display_data"
    },
    {
     "data": {
      "text/plain": [
       "37434.0    61\n",
       "21928.0    32\n",
       "39946.0    30\n",
       "44870.0    30\n",
       "18732.0    27\n",
       "           ..\n",
       "53478.0     1\n",
       "20335.0     1\n",
       "33699.0     1\n",
       "26945.0     1\n",
       "20875.0     1\n",
       "Name: airports_nearest, Length: 8275, dtype: int64"
      ]
     },
     "metadata": {},
     "output_type": "display_data"
    },
    {
     "data": {
      "text/plain": [
       "8460.0     61\n",
       "20802.0    32\n",
       "10720.0    30\n",
       "8434.0     27\n",
       "20444.0    27\n",
       "           ..\n",
       "5278.0      1\n",
       "11575.0     1\n",
       "3205.0      1\n",
       "12747.0     1\n",
       "4234.0      1\n",
       "Name: citycenters_nearest, Length: 7642, dtype: int64"
      ]
     },
     "metadata": {},
     "output_type": "display_data"
    },
    {
     "data": {
      "text/plain": [
       "0.0    10106\n",
       "1.0     5681\n",
       "2.0     1747\n",
       "3.0      647\n",
       "Name: parks_around3000, dtype: int64"
      ]
     },
     "metadata": {},
     "output_type": "display_data"
    },
    {
     "data": {
      "text/plain": [
       "441.0     67\n",
       "392.0     41\n",
       "173.0     41\n",
       "456.0     40\n",
       "471.0     32\n",
       "          ..\n",
       "2489.0     1\n",
       "786.0      1\n",
       "793.0      1\n",
       "92.0       1\n",
       "929.0      1\n",
       "Name: parks_nearest, Length: 995, dtype: int64"
      ]
     },
     "metadata": {},
     "output_type": "display_data"
    },
    {
     "data": {
      "text/plain": [
       "0.0    9071\n",
       "1.0    5717\n",
       "2.0    1892\n",
       "3.0    1501\n",
       "Name: ponds_around3000, dtype: int64"
      ]
     },
     "metadata": {},
     "output_type": "display_data"
    },
    {
     "data": {
      "text/plain": [
       "427.0     70\n",
       "454.0     41\n",
       "153.0     40\n",
       "433.0     39\n",
       "564.0     37\n",
       "          ..\n",
       "1075.0     1\n",
       "74.0       1\n",
       "1236.0     1\n",
       "395.0      1\n",
       "995.0      1\n",
       "Name: ponds_nearest, Length: 1096, dtype: int64"
      ]
     },
     "metadata": {},
     "output_type": "display_data"
    },
    {
     "data": {
      "text/plain": [
       "45.0      880\n",
       "60.0      538\n",
       "7.0       234\n",
       "30.0      208\n",
       "90.0      204\n",
       "         ... \n",
       "969.0       1\n",
       "1.0         1\n",
       "1147.0      1\n",
       "1148.0      1\n",
       "1174.0      1\n",
       "Name: days_exposition, Length: 1141, dtype: int64"
      ]
     },
     "metadata": {},
     "output_type": "display_data"
    },
    {
     "name": "stdout",
     "output_type": "stream",
     "text": [
      "<class 'pandas.core.frame.DataFrame'>\n",
      "RangeIndex: 23699 entries, 0 to 23698\n",
      "Data columns (total 22 columns):\n",
      " #   Column                Non-Null Count  Dtype  \n",
      "---  ------                --------------  -----  \n",
      " 0   total_images          23699 non-null  int64  \n",
      " 1   last_price            23699 non-null  float64\n",
      " 2   total_area            23699 non-null  float64\n",
      " 3   first_day_exposition  23699 non-null  object \n",
      " 4   rooms                 23699 non-null  int64  \n",
      " 5   ceiling_height        14504 non-null  float64\n",
      " 6   floors_total          23613 non-null  float64\n",
      " 7   living_area           21796 non-null  float64\n",
      " 8   floor                 23699 non-null  int64  \n",
      " 9   is_apartment          2775 non-null   object \n",
      " 10  studio                23699 non-null  bool   \n",
      " 11  open_plan             23699 non-null  bool   \n",
      " 12  kitchen_area          21421 non-null  float64\n",
      " 13  balcony               23699 non-null  float64\n",
      " 14  locality_name         23650 non-null  object \n",
      " 15  airports_nearest      18157 non-null  float64\n",
      " 16  citycenters_nearest   18180 non-null  float64\n",
      " 17  parks_around3000      18181 non-null  float64\n",
      " 18  parks_nearest         8079 non-null   float64\n",
      " 19  ponds_around3000      18181 non-null  float64\n",
      " 20  ponds_nearest         9110 non-null   float64\n",
      " 21  days_exposition       20518 non-null  float64\n",
      "dtypes: bool(2), float64(14), int64(3), object(3)\n",
      "memory usage: 3.7+ MB\n"
     ]
    }
   ],
   "source": [
    "# Заполняем пропуски в столбце balcony\n",
    "data['balcony'] = data['balcony'].fillna(0)\n",
    "# подсчёт пропусков\n",
    "data['balcony'].isna().sum()\n",
    "\n",
    "# Переименуем столбец cityCenters_nearest\n",
    "data = data.rename(columns={'cityCenters_nearest' : 'citycenters_nearest'})\n",
    "data.columns\n",
    "\n",
    "# Проверка столбцов\n",
    "for i in data:\n",
    "    display(data[i].value_counts())\n",
    "\n",
    "data.info()"
   ]
  },
  {
   "cell_type": "code",
   "execution_count": 6,
   "metadata": {
    "id": "-O5NtivEAwb9"
   },
   "outputs": [
    {
     "data": {
      "text/plain": [
       "0   2019-03-07\n",
       "1   2018-12-04\n",
       "2   2015-08-20\n",
       "3   2015-07-24\n",
       "4   2018-06-19\n",
       "Name: first_day_exposition, dtype: datetime64[ns]"
      ]
     },
     "execution_count": 6,
     "metadata": {},
     "output_type": "execute_result"
    }
   ],
   "source": [
    "list_int = ['last_price', 'balcony', 'floor']\n",
    "for column in list_int:\n",
    "    data[column] = data[column].astype('int', errors='ignore')\n",
    "data['last_price'] = data['last_price'].astype('float32')\n",
    "data['total_area'] = data['total_area'].astype('float32')\n",
    "data['floors_total'] = data['floors_total'].astype('float32')\n",
    "data['kitchen_area'] = data['kitchen_area'].astype('float32')\n",
    "data['living_area'] = data['living_area'].astype('float32')\n",
    "data['ceiling_height'] = data['ceiling_height'].astype('float32')\n",
    "data['days_exposition'] = data['days_exposition'].astype('float32')\n",
    "data['citycenters_nearest'] = data['citycenters_nearest'].astype('float32')\n",
    "\n",
    "\n",
    "\n",
    "# Вставляем код для устранения дубликатов locality_name\n",
    "data['locality_name'] = (\n",
    "    data['locality_name']\n",
    "    .str.replace('ё', 'е')\n",
    "    .str.replace('посёлок', 'поселок')\n",
    "    .replace({\n",
    "        'поселок мурино': 'мурино',\n",
    "        'город мурино': 'мурино',\n",
    "        'поселок новый свет': 'новый свет',\n",
    "        'деревня новый свет': 'новый свет',\n",
    "        'поселок петровское': 'петровское',\n",
    "        'город петровское': 'петровское',\n",
    "        'поселок рощино': 'рощино',\n",
    "        'городской поселок рощино': 'рощино',\n",
    "        'поселок стеклянный': 'стеклянный',\n",
    "        'поселок лесогорский': 'лесогорский',\n",
    "        'поселок павлово': 'павлово',\n",
    "        'поселок ильичево': 'ильичево',\n",
    "        'поселок победа': 'победа',\n",
    "        'поселок платформа 69-й километр': 'станция 69-й километр',\n",
    "        'городской поселок янино-1': 'янино-1',\n",
    "        'деревня янино-1': 'янино-1',\n",
    "        'городской поселок федоровское': 'федоровское',\n",
    "        'деревня федоровское': 'федоровское',\n",
    "        'городской поселок советский': 'советский',\n",
    "        'поселок советский': 'советский',\n",
    "        'поселок лебяжье': 'лебяжье',\n",
    "        'деревня лебяжье': 'лебяжье',\n",
    "        'поселок красный бор': 'красный бор',\n",
    "        'поселок мичуринское': 'мичуринское',\n",
    "        'поселок форносово': 'форносово',\n",
    "        'город кировск': 'кировск',\n",
    "        'поселок токсово': 'токсово',\n",
    "        'поселок гатчинский': 'гатчинский',\n",
    "        'город сентябрьское': 'сентябрьское',\n",
    "        'поселок высоцкое': 'высоцкое',\n",
    "        'поселок токсово': 'токсово',\n",
    "        'город высоцк': 'высоцк'\n",
    "    })\n",
    ")\n",
    "\n",
    "# Приведем дату к нормальному виду\n",
    "data['first_day_exposition'] = pd.to_datetime(data['first_day_exposition'], format='%Y-%m-%dT%H:%M')\n",
    "data['first_day_exposition'].head()"
   ]
  },
  {
   "cell_type": "code",
   "execution_count": 7,
   "metadata": {
    "id": "7v3vAeTuAwb-"
   },
   "outputs": [
    {
     "name": "stdout",
     "output_type": "stream",
     "text": [
      "<class 'pandas.core.frame.DataFrame'>\n",
      "RangeIndex: 23699 entries, 0 to 23698\n",
      "Data columns (total 22 columns):\n",
      " #   Column                Non-Null Count  Dtype         \n",
      "---  ------                --------------  -----         \n",
      " 0   total_images          23699 non-null  int64         \n",
      " 1   last_price            23699 non-null  float32       \n",
      " 2   total_area            23699 non-null  float32       \n",
      " 3   first_day_exposition  23699 non-null  datetime64[ns]\n",
      " 4   rooms                 23699 non-null  int64         \n",
      " 5   ceiling_height        14504 non-null  float32       \n",
      " 6   floors_total          23613 non-null  float32       \n",
      " 7   living_area           21796 non-null  float32       \n",
      " 8   floor                 23699 non-null  int64         \n",
      " 9   is_apartment          2775 non-null   object        \n",
      " 10  studio                23699 non-null  bool          \n",
      " 11  open_plan             23699 non-null  bool          \n",
      " 12  kitchen_area          21421 non-null  float32       \n",
      " 13  balcony               23699 non-null  int64         \n",
      " 14  locality_name         23650 non-null  object        \n",
      " 15  airports_nearest      18157 non-null  float64       \n",
      " 16  citycenters_nearest   18180 non-null  float32       \n",
      " 17  parks_around3000      18181 non-null  float64       \n",
      " 18  parks_nearest         8079 non-null   float64       \n",
      " 19  ponds_around3000      18181 non-null  float64       \n",
      " 20  ponds_nearest         9110 non-null   float64       \n",
      " 21  days_exposition       20518 non-null  float32       \n",
      "dtypes: bool(2), datetime64[ns](1), float32(8), float64(5), int64(4), object(2)\n",
      "memory usage: 2.9+ MB\n",
      "Количество дубликатов после обработки данных: 0\n"
     ]
    }
   ],
   "source": [
    "# Подсчёт явных дубликатов\n",
    "data.duplicated().sum()\n",
    "\n",
    "numeric_columns = ['last_price', 'total_area', 'ceiling_height', 'floors_total', 'living_area', 'kitchen_area', 'balcony',\n",
    "                    'airports_nearest', 'citycenters_nearest', 'parks_around3000', 'parks_nearest',\n",
    "                    'ponds_around3000', 'ponds_nearest', 'days_exposition']\n",
    "\n",
    "for column in numeric_columns:\n",
    "    data[column] = pd.to_numeric(data[column], errors='coerce')\n",
    "\n",
    "# Преобразование даты\n",
    "data['first_day_exposition'] = pd.to_datetime(data['first_day_exposition'], format='%Y-%m-%dT%H:%M')\n",
    "\n",
    "# Проверка изменений\n",
    "data.info()\n",
    "\n",
    "# Расчёт проверки на дубликаты\n",
    "duplicates_after_processing = data.duplicated().sum()\n",
    "print(\"Количество дубликатов после обработки данных:\", duplicates_after_processing)"
   ]
  },
  {
   "cell_type": "markdown",
   "metadata": {
    "id": "QCcvyY6YAwb-"
   },
   "source": [
    "**Вывод:**\n",
    "\n",
    "1. Заполнены пропуски в столбце 'balcony', значения NaN заменены на 0.\n",
    "2. Переименован столбец 'cityCenters_nearest' в 'citycenters_nearest'.\n",
    "3. Преобразованы типы данных: некоторые столбцы - к целочисленному типу (int), некоторые - к числам с плавающей точкой (float32).\n",
    "4. Преобразован столбец 'first_day_exposition' к типу данных datetime.\n",
    "5. Устранены дубликаты в столбце 'locality_name' путем замены 'ё' на 'е' и объединения различных наименований.\n",
    "6. Попытка устранения неявных дубликатов в населенных пунктах, таких как различные статусы и похожие наименования.\n",
    "7. Преобразованы числовые столбцы, содержащие информацию о ценах, площадях и расстояниях, к числовым типам данных.\n",
    "8. Преобразованы даты в столбце 'first_day_exposition' для удобства анализа.\n",
    "\n",
    "1. `total_images`: Большинство объявлений имеют 10-20 изображений, с пиком на 10 и 20. Несколько объявлений имеют 0 изображений, что может быть ошибкой или неудачным публикованием.\n",
    "\n",
    "2. `last_price`: Распределение цен варьируется от низких до высоких значений. Есть объявления с высокими ценами, возможно, связанные с предложением элитного жилья. Некоторые цены выглядят необычно высокими, например, 2 147 483 648 (максимальное значение для int32).\n",
    "\n",
    "3. `total_area`: Площади недвижимости варьируются, преобладают значения в диапазоне от 40 до 60 кв. м. Есть несколько выбросов с очень большими площадями.\n",
    "\n",
    "4. `first_day_exposition`: Распределение дат первого размещения объявлений показывает, что большинство объявлений относится к 2017-2019 годам, с пиками в 2018 году. В данных также присутствуют объявления, размещенные в более ранние годы.\n",
    "\n",
    "5. `rooms`: Большинство недвижимости имеет от 1 до 3 комнат. Есть также объявления с большим количеством комнат (до 29), что кажется аномально высоким.\n",
    "\n",
    "6. `ceiling_height`: Высоты потолков варьируются, преобладают значения в диапазоне от 2.5 до 3 метров. Есть выбросы с очень большими значениями (до 100 м).\n",
    "\n",
    "7. `floors_total`: Большинство домов имеют 5-10 этажей. Есть значения, выходящие за пределы этого диапазона, что может быть связано с небольшими зданиями или высокими домами.\n",
    "\n",
    "8. `living_area`: Площади жилых помещений варьируются, преобладают значения от 15 до 50 кв. м. Есть выбросы с очень большими значениями.\n",
    "\n",
    "9. `floor`: Большинство квартир находятся на этажах с 2 по 8. Есть также квартиры на первом и последнем этажах.\n",
    "\n",
    "10. `is_apartment`, `studio`, `open_plan`: Булевы столбцы, указывающие на то, является ли объект квартирой, студией или с открытой планировкой.\n",
    "\n",
    "11. `kitchen_area`: Площади кухонь варьируются, преобладают значения в диапазоне от 5 до 20 кв. м. Есть выбросы с очень большими значениями.\n",
    "\n",
    "12. `balcony`: Большинство квартир имеют 1-2 балкона. Также есть квартиры без балконов.\n",
    "\n",
    "13. `locality_name`: Названия населенных пунктов, большинство из которых в Санкт-Петербурге.\n",
    "\n",
    "14. `airports_nearest`, `citycenters_nearest`, `parks_around3000`, `parks_nearest`, `ponds_around3000`, `ponds_nearest`: Расстояния и количество парков/водоемов в радиусе 3 км. Некоторые значения отсутствуют.\n",
    "\n",
    "15. `days_exposition`: Время продажи в днях. Распределение смещено вправо, с большинством значений в пределах года. Есть долгосрочные объявления, которые могут быть связаны с тем, что объекты еще не проданы.\n",
    "\n",
    "16. Изменения в типах данных: Внесены изменения в типы данных, чтобы они соответствовали содержимому столбцов, что улучшит анализ и экономит память.\n",
    "\n",
    "17. Пропущенные значения: Некоторые столбцы содержат пропущенные значения, такие как `ceiling_height`, `floors_total`, `living_area`, `is_apartment` и другие. Необходимо решить, каким образом обработать или заполнить эти пропуски в зависимости от целей анализа данных.\n",
    "\n",
    "**Описание данных**\n",
    "\n",
    "airports_nearest — расстояние до ближайшего аэропорта в метрах (м)\n",
    "\n",
    "balcony — число балконов\n",
    "\n",
    "ceiling_height — высота потолков (м)\n",
    "\n",
    "cityCenters_nearest — расстояние до центра города (м)\n",
    "\n",
    "days_exposition — сколько дней было размещено объявление (от публикации до снятия)\n",
    "\n",
    "first_day_exposition — дата публикации\n",
    "\n",
    "floor — этаж\n",
    "\n",
    "floors_total — всего этажей в доме\n",
    "\n",
    "is_apartment — апартаменты (булев тип)\n",
    "\n",
    "kitchen_area — площадь кухни в квадратных метрах (м²)\n",
    "\n",
    "last_price — цена на момент снятия с публикации\n",
    "\n",
    "living_area — жилая площадь в квадратных метрах (м²)\n",
    "\n",
    "locality_name — название населённого пункта\n",
    "\n",
    "open_plan — свободная планировка (булев тип)\n",
    "\n",
    "parks_around3000 — число парков в радиусе 3 км\n",
    "\n",
    "parks_nearest — расстояние до ближайшего парка (м)\n",
    "\n",
    "ponds_around3000 — число водоёмов в радиусе 3 км\n",
    "\n",
    "ponds_nearest — расстояние до ближайшего водоёма (м)\n",
    "\n",
    "rooms — число комнат\n",
    "\n",
    "studio — квартира-студия (булев тип)\n",
    "\n",
    "total_area — общая площадь квартиры в квадратных метрах (м²)\n",
    "\n",
    "total_images — число фотографий квартиры в объявлении"
   ]
  },
  {
   "cell_type": "markdown",
   "metadata": {
    "id": "-O5NtivEAwb9"
   },
   "source": [
    "### Добавление в таблицу новых столбцов"
   ]
  },
  {
   "cell_type": "code",
   "execution_count": 8,
   "metadata": {
    "id": "Z8eJek3IAwb-",
    "scrolled": true
   },
   "outputs": [
    {
     "name": "stdout",
     "output_type": "stream",
     "text": [
      "Уникальные значения в столбце 'floor_cat':\n",
      "['Другой' 'Первый' 'Последний']\n"
     ]
    }
   ],
   "source": [
    "# Создаем столбец с ценой за квадратный метр\n",
    "data['metr_price'] = data['last_price'] / data['total_area']\n",
    "# Создаем столбец с днем недели\n",
    "data['weekday'] = data['first_day_exposition'].dt.weekday\n",
    "# Создаем столбец с месяцем\n",
    "data['month'] = data['first_day_exposition'].dt.month\n",
    "# Создаем столбец с годом\n",
    "data['year'] = data['first_day_exposition'].dt.year\n",
    "# Создание функции категоризации этажа квартиры, которая на вход принимает значения из столбца 'floor' и возвращает категорию\n",
    "def cat_floor(floor):\n",
    "    flat_floor = floor['floor']\n",
    "    last_floor = floor['floors_total']\n",
    "    if flat_floor == 1:\n",
    "        return 'Первый'\n",
    "    elif flat_floor == last_floor:\n",
    "        return 'Последний'\n",
    "    return 'Другой'\n",
    "data['floor_cat'] = data.apply(cat_floor, axis=1)\n",
    "data['floor_cat'].value_counts()\n",
    "\n",
    "data['live_ratio'] = data['living_area'] / data['total_area']\n",
    "data['kitchen_ratio'] = data['kitchen_area'] / data['total_area']\n",
    "data.head()\n",
    "\n",
    "unique_floor_cat = data['floor_cat'].unique()\n",
    "print(\"Уникальные значения в столбце 'floor_cat':\")\n",
    "print(unique_floor_cat)"
   ]
  },
  {
   "cell_type": "markdown",
   "metadata": {
    "id": "QCcvyY6YAwb-"
   },
   "source": [
    "**Вывод:**\n",
    "\n",
    "1. Создан новый столбец `metr_price`, представляющий цену за квадратный метр. Это может быть полезной метрикой для анализа стоимости жилья в различных квартирах.\n",
    "\n",
    "2. Добавлены столбцы с днем недели (`weekday`), месяцем (`month`), годом (`year`) публикации объявления. Это позволяет проводить анализ в зависимости от времени.\n",
    "\n",
    "3. Создана функция `cat_floor` для категоризации этажа квартиры. Введены категории: \"Первый\", \"Последний\" и \"Другой\". Результаты категоризации сохранены в новом столбце `floor_cat`.\n",
    "\n",
    "4. Добавлены столбцы `live_ratio` и `kitchen_ratio`, представляющие соотношение жилой и кухонной площади к общей площади соответственно.\n",
    "\n",
    "5. Выполнен метод `head()`, чтобы взглянуть на первые строки измененного датафрейма.\n",
    "\n",
    "Анализ этих параметров позволит более глубоко исследовать влияние различных факторов на стоимость жилья и его продажи."
   ]
  },
  {
   "cell_type": "markdown",
   "metadata": {
    "id": "pPyxrKWTAwb-"
   },
   "source": [
    "### Исследовательский анализ данных"
   ]
  },
  {
   "cell_type": "code",
   "execution_count": 9,
   "metadata": {
    "id": "pPyxrKWTAwb-"
   },
   "outputs": [
    {
     "data": {
      "image/png": "[encoded data removed]",
      "text/plain": [
       "<Figure size 432x288 with 1 Axes>"
      ]
     },
     "metadata": {
      "needs_background": "light"
     },
     "output_type": "display_data"
    }
   ],
   "source": [
    "# Часть 1: Обработка параметров объектов недвижимости\n",
    "# Построение гистограмм и удаление выбросов\n",
    "\n",
    "# 1.1 Общая площадь\n",
    "data['total_area'].hist(range=(0, 350), bins=50);\n",
    "plt.title('Гистограмма общей площади квартир')\n",
    "plt.xlabel('Общая площадь, м²')\n",
    "plt.ylabel('Количество объявлений')\n",
    "plt.show()\n",
    "\n",
    "# Удаление выбросов\n",
    "#data = data.query('20 < total_area < 550')"
   ]
  },
  {
   "cell_type": "code",
   "execution_count": 10,
   "metadata": {
    "id": "pPyxrKWTAwb-"
   },
   "outputs": [
    {
     "data": {
      "image/png": "[encoded data removed]",
      "text/plain": [
       "<Figure size 432x288 with 1 Axes>"
      ]
     },
     "metadata": {
      "needs_background": "light"
     },
     "output_type": "display_data"
    }
   ],
   "source": [
    "# 1.2 Жилая площадь\n",
    "data['living_area'].hist(range=(0, 250), bins=50);\n",
    "plt.title('Гистограмма жилой площади квартир')\n",
    "plt.xlabel('Жилая площадь, м²')\n",
    "plt.ylabel('Количество объявлений')\n",
    "plt.show()\n",
    "\n",
    "# Удаление выбросов\n",
    "#data = data.query('10 < living_area < 250')"
   ]
  },
  {
   "cell_type": "code",
   "execution_count": 11,
   "metadata": {
    "id": "pPyxrKWTAwb-"
   },
   "outputs": [
    {
     "data": {
      "image/png": "[encoded data removed]",
      "text/plain": [
       "<Figure size 432x288 with 1 Axes>"
      ]
     },
     "metadata": {
      "needs_background": "light"
     },
     "output_type": "display_data"
    }
   ],
   "source": [
    "# 1.3 Площадь кухни\n",
    "data['kitchen_area'].hist(range=(0, 100), bins=30);\n",
    "plt.title('Гистограмма площади кухни в квартирах')\n",
    "plt.xlabel('Площадь кухни, м²')\n",
    "plt.ylabel('Количество объявлений')\n",
    "plt.show()\n",
    "\n",
    "# Удаление выбросов\n",
    "#data = data.query('5 < kitchen_area < 100')"
   ]
  },
  {
   "cell_type": "code",
   "execution_count": 12,
   "metadata": {
    "id": "pPyxrKWTAwb-"
   },
   "outputs": [
    {
     "data": {
      "image/png": "[encoded data removed]",
      "text/plain": [
       "<Figure size 432x288 with 1 Axes>"
      ]
     },
     "metadata": {
      "needs_background": "light"
     },
     "output_type": "display_data"
    }
   ],
   "source": [
    "# 1.4 Цена объекта\n",
    "(data['last_price'] / 10000).hist(range=(0, 5000), bins=100);\n",
    "plt.title('Гистограмма цены на квартиры')\n",
    "plt.xlabel('Цена, млн руб.')\n",
    "plt.ylabel('Количество объявлений')\n",
    "plt.show()\n",
    "\n",
    "# Удаление выбросов\n",
    "data = data.query('500000 < last_price < 45000000')"
   ]
  },
  {
   "cell_type": "code",
   "execution_count": 13,
   "metadata": {
    "id": "pPyxrKWTAwb-"
   },
   "outputs": [
    {
     "data": {
      "image/png": "[encoded data removed]",
      "text/plain": [
       "<Figure size 432x288 with 1 Axes>"
      ]
     },
     "metadata": {
      "needs_background": "light"
     },
     "output_type": "display_data"
    }
   ],
   "source": [
    "# 1.5 Количество комнат\n",
    "data['rooms'].hist(range=(0, 10), bins=100);\n",
    "plt.title('Гистограмма количества комнат в квартирах')\n",
    "plt.xlabel('Количество комнат')\n",
    "plt.ylabel('Количество объявлений')\n",
    "plt.show()\n",
    "\n",
    "# Удаление выбросов\n",
    "#data = data.query('rooms <= 6')"
   ]
  },
  {
   "cell_type": "code",
   "execution_count": 14,
   "metadata": {
    "id": "pPyxrKWTAwb-"
   },
   "outputs": [
    {
     "data": {
      "image/png": "[encoded data removed]",
      "text/plain": [
       "<Figure size 432x288 with 1 Axes>"
      ]
     },
     "metadata": {
      "needs_background": "light"
     },
     "output_type": "display_data"
    }
   ],
   "source": [
    "# 1.6 Высота потолков\n",
    "data.boxplot(column='ceiling_height')\n",
    "plt.title('Диаграмма размаха высоты потолков')\n",
    "plt.show()\n",
    "\n",
    "# Удаление выбросов\n",
    "data.loc[(data['ceiling_height']>10), 'ceiling_height'] = (data['ceiling_height'] / 10)"
   ]
  },
  {
   "cell_type": "code",
   "execution_count": 15,
   "metadata": {
    "id": "pPyxrKWTAwb-"
   },
   "outputs": [
    {
     "data": {
      "image/png": "[encoded data removed]",
      "text/plain": [
       "<Figure size 432x288 with 1 Axes>"
      ]
     },
     "metadata": {
      "needs_background": "light"
     },
     "output_type": "display_data"
    }
   ],
   "source": [
    "# 1.7 Тип этажа квартиры\n",
    "data['floor_cat'].value_counts().plot(kind='bar');\n",
    "plt.title('Распределение по типам этажей')\n",
    "plt.xlabel('Тип этажа')\n",
    "plt.ylabel('Количество объявлений')\n",
    "plt.show()"
   ]
  },
  {
   "cell_type": "code",
   "execution_count": 16,
   "metadata": {
    "id": "pPyxrKWTAwb-"
   },
   "outputs": [
    {
     "data": {
      "image/png": "[encoded data removed]",
      "text/plain": [
       "<Figure size 432x288 with 1 Axes>"
      ]
     },
     "metadata": {
      "needs_background": "light"
     },
     "output_type": "display_data"
    }
   ],
   "source": [
    "# 1.8 Общее количество этажей в доме\n",
    "data['floors_total'].hist(range=(0, 30), bins=30);\n",
    "plt.title('Гистограмма общего количества этажей в доме')\n",
    "plt.xlabel('Общее количество этажей в доме')\n",
    "plt.ylabel('Количество объявлений')\n",
    "plt.show()\n",
    "\n",
    "# Удаление выбросов\n",
    "data = data.query('0 < floors_total <= 30')"
   ]
  },
  {
   "cell_type": "code",
   "execution_count": 17,
   "metadata": {
    "id": "pPyxrKWTAwb-"
   },
   "outputs": [
    {
     "data": {
      "image/png": "[encoded data removed]",
      "text/plain": [
       "<Figure size 432x288 with 1 Axes>"
      ]
     },
     "metadata": {
      "needs_background": "light"
     },
     "output_type": "display_data"
    }
   ],
   "source": [
    "# 1.9 Расстояние до центра города в метрах\n",
    "data['citycenters_nearest'].hist(range=(0, 30000), bins=50);\n",
    "plt.title('Гистограмма расстояния до центра города')\n",
    "plt.xlabel('Расстояние до центра, м')\n",
    "plt.ylabel('Количество объявлений')\n",
    "plt.show()\n",
    "\n",
    "# Удаление выбросов\n",
    "data = data.query('0 < citycenters_nearest <= 30000')"
   ]
  },
  {
   "cell_type": "code",
   "execution_count": 18,
   "metadata": {
    "id": "pPyxrKWTAwb-"
   },
   "outputs": [
    {
     "data": {
      "image/png": "[encoded data removed]",
      "text/plain": [
       "<Figure size 432x288 with 1 Axes>"
      ]
     },
     "metadata": {
      "needs_background": "light"
     },
     "output_type": "display_data"
    }
   ],
   "source": [
    "# 1.10 Расстояние до ближайшего парка\n",
    "data['parks_nearest'].hist(range=(0, 5000), bins=30);\n",
    "plt.title('Гистограмма расстояния до ближайшего парка')\n",
    "plt.xlabel('Расстояние до ближайшего парка, м')\n",
    "plt.ylabel('Количество объявлений')\n",
    "plt.show()\n",
    "\n",
    "# Вычисление медианного значения для столбца parks_nearest\n",
    "median_parks_nearest = data['parks_nearest'].median()\n",
    "\n",
    "# Замена выбросов на медианное значение\n",
    "data['parks_nearest'] = data['parks_nearest'].fillna(median_parks_nearest)"
   ]
  },
  {
   "cell_type": "code",
   "execution_count": 19,
   "metadata": {},
   "outputs": [
    {
     "data": {
      "text/plain": [
       "(16576, 29)"
      ]
     },
     "execution_count": 19,
     "metadata": {},
     "output_type": "execute_result"
    }
   ],
   "source": [
    "data.shape"
   ]
  },
  {
   "cell_type": "code",
   "execution_count": 20,
   "metadata": {},
   "outputs": [
    {
     "data": {
      "text/html": [
       "<div>\n",
       "<style scoped>\n",
       "    .dataframe tbody tr th:only-of-type {\n",
       "        vertical-align: middle;\n",
       "    }\n",
       "\n",
       "    .dataframe tbody tr th {\n",
       "        vertical-align: top;\n",
       "    }\n",
       "\n",
       "    .dataframe thead th {\n",
       "        text-align: right;\n",
       "    }\n",
       "</style>\n",
       "<table border=\"1\" class=\"dataframe\">\n",
       "  <thead>\n",
       "    <tr style=\"text-align: right;\">\n",
       "      <th></th>\n",
       "      <th>total_images</th>\n",
       "      <th>last_price</th>\n",
       "      <th>total_area</th>\n",
       "      <th>rooms</th>\n",
       "      <th>ceiling_height</th>\n",
       "      <th>floors_total</th>\n",
       "      <th>living_area</th>\n",
       "      <th>floor</th>\n",
       "      <th>kitchen_area</th>\n",
       "      <th>balcony</th>\n",
       "      <th>...</th>\n",
       "      <th>parks_nearest</th>\n",
       "      <th>ponds_around3000</th>\n",
       "      <th>ponds_nearest</th>\n",
       "      <th>days_exposition</th>\n",
       "      <th>metr_price</th>\n",
       "      <th>weekday</th>\n",
       "      <th>month</th>\n",
       "      <th>year</th>\n",
       "      <th>live_ratio</th>\n",
       "      <th>kitchen_ratio</th>\n",
       "    </tr>\n",
       "  </thead>\n",
       "  <tbody>\n",
       "    <tr>\n",
       "      <th>count</th>\n",
       "      <td>16576.000000</td>\n",
       "      <td>16576.0</td>\n",
       "      <td>16576.000000</td>\n",
       "      <td>16576.000000</td>\n",
       "      <td>10557.000000</td>\n",
       "      <td>16576.000000</td>\n",
       "      <td>15407.000000</td>\n",
       "      <td>16576.000000</td>\n",
       "      <td>15164.000000</td>\n",
       "      <td>16576.000000</td>\n",
       "      <td>...</td>\n",
       "      <td>16576.000000</td>\n",
       "      <td>16576.000000</td>\n",
       "      <td>8107.000000</td>\n",
       "      <td>14469.000000</td>\n",
       "      <td>16576.000000</td>\n",
       "      <td>16576.000000</td>\n",
       "      <td>16576.000000</td>\n",
       "      <td>16576.000000</td>\n",
       "      <td>15407.000000</td>\n",
       "      <td>15164.000000</td>\n",
       "    </tr>\n",
       "    <tr>\n",
       "      <th>mean</th>\n",
       "      <td>10.069257</td>\n",
       "      <td>6972877.5</td>\n",
       "      <td>62.123909</td>\n",
       "      <td>2.124155</td>\n",
       "      <td>2.752314</td>\n",
       "      <td>11.505249</td>\n",
       "      <td>35.515438</td>\n",
       "      <td>6.281371</td>\n",
       "      <td>10.855464</td>\n",
       "      <td>0.586571</td>\n",
       "      <td>...</td>\n",
       "      <td>476.851472</td>\n",
       "      <td>0.732746</td>\n",
       "      <td>527.173307</td>\n",
       "      <td>181.180527</td>\n",
       "      <td>109962.429688</td>\n",
       "      <td>2.559544</td>\n",
       "      <td>6.419944</td>\n",
       "      <td>2017.347249</td>\n",
       "      <td>0.564358</td>\n",
       "      <td>0.187042</td>\n",
       "    </tr>\n",
       "    <tr>\n",
       "      <th>std</th>\n",
       "      <td>5.734122</td>\n",
       "      <td>5047444.0</td>\n",
       "      <td>33.164768</td>\n",
       "      <td>1.102102</td>\n",
       "      <td>0.308482</td>\n",
       "      <td>6.528885</td>\n",
       "      <td>21.232918</td>\n",
       "      <td>4.998447</td>\n",
       "      <td>5.735474</td>\n",
       "      <td>0.964897</td>\n",
       "      <td>...</td>\n",
       "      <td>228.436086</td>\n",
       "      <td>0.910474</td>\n",
       "      <td>279.439911</td>\n",
       "      <td>222.777969</td>\n",
       "      <td>35373.226562</td>\n",
       "      <td>1.781169</td>\n",
       "      <td>3.467720</td>\n",
       "      <td>1.051186</td>\n",
       "      <td>0.105251</td>\n",
       "      <td>0.073059</td>\n",
       "    </tr>\n",
       "    <tr>\n",
       "      <th>min</th>\n",
       "      <td>0.000000</td>\n",
       "      <td>1190000.0</td>\n",
       "      <td>12.000000</td>\n",
       "      <td>0.000000</td>\n",
       "      <td>1.000000</td>\n",
       "      <td>1.000000</td>\n",
       "      <td>2.000000</td>\n",
       "      <td>1.000000</td>\n",
       "      <td>1.300000</td>\n",
       "      <td>0.000000</td>\n",
       "      <td>...</td>\n",
       "      <td>1.000000</td>\n",
       "      <td>0.000000</td>\n",
       "      <td>13.000000</td>\n",
       "      <td>1.000000</td>\n",
       "      <td>15345.268555</td>\n",
       "      <td>0.000000</td>\n",
       "      <td>1.000000</td>\n",
       "      <td>2014.000000</td>\n",
       "      <td>0.038462</td>\n",
       "      <td>0.025381</td>\n",
       "    </tr>\n",
       "    <tr>\n",
       "      <th>25%</th>\n",
       "      <td>6.000000</td>\n",
       "      <td>4100000.0</td>\n",
       "      <td>41.099998</td>\n",
       "      <td>1.000000</td>\n",
       "      <td>2.550000</td>\n",
       "      <td>5.000000</td>\n",
       "      <td>19.000000</td>\n",
       "      <td>3.000000</td>\n",
       "      <td>7.200000</td>\n",
       "      <td>0.000000</td>\n",
       "      <td>...</td>\n",
       "      <td>460.000000</td>\n",
       "      <td>0.000000</td>\n",
       "      <td>303.000000</td>\n",
       "      <td>43.000000</td>\n",
       "      <td>89285.710938</td>\n",
       "      <td>1.000000</td>\n",
       "      <td>3.000000</td>\n",
       "      <td>2017.000000</td>\n",
       "      <td>0.497512</td>\n",
       "      <td>0.133333</td>\n",
       "    </tr>\n",
       "    <tr>\n",
       "      <th>50%</th>\n",
       "      <td>10.000000</td>\n",
       "      <td>5350000.0</td>\n",
       "      <td>54.000000</td>\n",
       "      <td>2.000000</td>\n",
       "      <td>2.700000</td>\n",
       "      <td>9.000000</td>\n",
       "      <td>31.000000</td>\n",
       "      <td>5.000000</td>\n",
       "      <td>9.800000</td>\n",
       "      <td>0.000000</td>\n",
       "      <td>...</td>\n",
       "      <td>460.000000</td>\n",
       "      <td>0.000000</td>\n",
       "      <td>515.000000</td>\n",
       "      <td>95.000000</td>\n",
       "      <td>102886.351562</td>\n",
       "      <td>3.000000</td>\n",
       "      <td>6.000000</td>\n",
       "      <td>2017.000000</td>\n",
       "      <td>0.567797</td>\n",
       "      <td>0.172349</td>\n",
       "    </tr>\n",
       "    <tr>\n",
       "      <th>75%</th>\n",
       "      <td>14.000000</td>\n",
       "      <td>7782500.0</td>\n",
       "      <td>73.000000</td>\n",
       "      <td>3.000000</td>\n",
       "      <td>2.800000</td>\n",
       "      <td>16.000000</td>\n",
       "      <td>43.500000</td>\n",
       "      <td>9.000000</td>\n",
       "      <td>12.200000</td>\n",
       "      <td>1.000000</td>\n",
       "      <td>...</td>\n",
       "      <td>460.000000</td>\n",
       "      <td>1.000000</td>\n",
       "      <td>745.000000</td>\n",
       "      <td>229.000000</td>\n",
       "      <td>121816.667969</td>\n",
       "      <td>4.000000</td>\n",
       "      <td>10.000000</td>\n",
       "      <td>2018.000000</td>\n",
       "      <td>0.637900</td>\n",
       "      <td>0.231481</td>\n",
       "    </tr>\n",
       "    <tr>\n",
       "      <th>max</th>\n",
       "      <td>50.000000</td>\n",
       "      <td>44000000.0</td>\n",
       "      <td>494.100006</td>\n",
       "      <td>19.000000</td>\n",
       "      <td>10.000000</td>\n",
       "      <td>29.000000</td>\n",
       "      <td>279.600006</td>\n",
       "      <td>27.000000</td>\n",
       "      <td>100.699997</td>\n",
       "      <td>5.000000</td>\n",
       "      <td>...</td>\n",
       "      <td>3190.000000</td>\n",
       "      <td>3.000000</td>\n",
       "      <td>1344.000000</td>\n",
       "      <td>1572.000000</td>\n",
       "      <td>848484.875000</td>\n",
       "      <td>6.000000</td>\n",
       "      <td>12.000000</td>\n",
       "      <td>2019.000000</td>\n",
       "      <td>1.000000</td>\n",
       "      <td>0.787879</td>\n",
       "    </tr>\n",
       "  </tbody>\n",
       "</table>\n",
       "<p>8 rows × 23 columns</p>\n",
       "</div>"
      ],
      "text/plain": [
       "       total_images  last_price    total_area         rooms  ceiling_height  \\\n",
       "count  16576.000000     16576.0  16576.000000  16576.000000    10557.000000   \n",
       "mean      10.069257   6972877.5     62.123909      2.124155        2.752314   \n",
       "std        5.734122   5047444.0     33.164768      1.102102        0.308482   \n",
       "min        0.000000   1190000.0     12.000000      0.000000        1.000000   \n",
       "25%        6.000000   4100000.0     41.099998      1.000000        2.550000   \n",
       "50%       10.000000   5350000.0     54.000000      2.000000        2.700000   \n",
       "75%       14.000000   7782500.0     73.000000      3.000000        2.800000   \n",
       "max       50.000000  44000000.0    494.100006     19.000000       10.000000   \n",
       "\n",
       "       floors_total   living_area         floor  kitchen_area       balcony  \\\n",
       "count  16576.000000  15407.000000  16576.000000  15164.000000  16576.000000   \n",
       "mean      11.505249     35.515438      6.281371     10.855464      0.586571   \n",
       "std        6.528885     21.232918      4.998447      5.735474      0.964897   \n",
       "min        1.000000      2.000000      1.000000      1.300000      0.000000   \n",
       "25%        5.000000     19.000000      3.000000      7.200000      0.000000   \n",
       "50%        9.000000     31.000000      5.000000      9.800000      0.000000   \n",
       "75%       16.000000     43.500000      9.000000     12.200000      1.000000   \n",
       "max       29.000000    279.600006     27.000000    100.699997      5.000000   \n",
       "\n",
       "       ...  parks_nearest  ponds_around3000  ponds_nearest  days_exposition  \\\n",
       "count  ...   16576.000000      16576.000000    8107.000000     14469.000000   \n",
       "mean   ...     476.851472          0.732746     527.173307       181.180527   \n",
       "std    ...     228.436086          0.910474     279.439911       222.777969   \n",
       "min    ...       1.000000          0.000000      13.000000         1.000000   \n",
       "25%    ...     460.000000          0.000000     303.000000        43.000000   \n",
       "50%    ...     460.000000          0.000000     515.000000        95.000000   \n",
       "75%    ...     460.000000          1.000000     745.000000       229.000000   \n",
       "max    ...    3190.000000          3.000000    1344.000000      1572.000000   \n",
       "\n",
       "          metr_price       weekday         month          year    live_ratio  \\\n",
       "count   16576.000000  16576.000000  16576.000000  16576.000000  15407.000000   \n",
       "mean   109962.429688      2.559544      6.419944   2017.347249      0.564358   \n",
       "std     35373.226562      1.781169      3.467720      1.051186      0.105251   \n",
       "min     15345.268555      0.000000      1.000000   2014.000000      0.038462   \n",
       "25%     89285.710938      1.000000      3.000000   2017.000000      0.497512   \n",
       "50%    102886.351562      3.000000      6.000000   2017.000000      0.567797   \n",
       "75%    121816.667969      4.000000     10.000000   2018.000000      0.637900   \n",
       "max    848484.875000      6.000000     12.000000   2019.000000      1.000000   \n",
       "\n",
       "       kitchen_ratio  \n",
       "count   15164.000000  \n",
       "mean        0.187042  \n",
       "std         0.073059  \n",
       "min         0.025381  \n",
       "25%         0.133333  \n",
       "50%         0.172349  \n",
       "75%         0.231481  \n",
       "max         0.787879  \n",
       "\n",
       "[8 rows x 23 columns]"
      ]
     },
     "execution_count": 20,
     "metadata": {},
     "output_type": "execute_result"
    }
   ],
   "source": [
    "data.describe()"
   ]
  },
  {
   "cell_type": "code",
   "execution_count": 21,
   "metadata": {
    "id": "V2f0D3kLAwb-",
    "scrolled": false
   },
   "outputs": [
    {
     "name": "stdout",
     "output_type": "stream",
     "text": [
      "\n",
      "Корреляционная матрица для расширенных параметров:\n"
     ]
    },
    {
     "data": {
      "text/html": [
       "<div>\n",
       "<style scoped>\n",
       "    .dataframe tbody tr th:only-of-type {\n",
       "        vertical-align: middle;\n",
       "    }\n",
       "\n",
       "    .dataframe tbody tr th {\n",
       "        vertical-align: top;\n",
       "    }\n",
       "\n",
       "    .dataframe thead th {\n",
       "        text-align: right;\n",
       "    }\n",
       "</style>\n",
       "<table border=\"1\" class=\"dataframe\">\n",
       "  <thead>\n",
       "    <tr style=\"text-align: right;\">\n",
       "      <th></th>\n",
       "      <th>total_area</th>\n",
       "      <th>living_area</th>\n",
       "      <th>kitchen_area</th>\n",
       "      <th>last_price</th>\n",
       "      <th>rooms</th>\n",
       "      <th>ceiling_height</th>\n",
       "      <th>floors_total</th>\n",
       "      <th>citycenters_nearest</th>\n",
       "      <th>parks_nearest</th>\n",
       "      <th>floors_total</th>\n",
       "    </tr>\n",
       "  </thead>\n",
       "  <tbody>\n",
       "    <tr>\n",
       "      <th>total_area</th>\n",
       "      <td>1.000000</td>\n",
       "      <td>0.938267</td>\n",
       "      <td>0.584950</td>\n",
       "      <td>0.807209</td>\n",
       "      <td>0.785512</td>\n",
       "      <td>0.437552</td>\n",
       "      <td>-0.105376</td>\n",
       "      <td>-0.300514</td>\n",
       "      <td>0.000366</td>\n",
       "      <td>-0.105376</td>\n",
       "    </tr>\n",
       "    <tr>\n",
       "      <th>living_area</th>\n",
       "      <td>0.938267</td>\n",
       "      <td>1.000000</td>\n",
       "      <td>0.388114</td>\n",
       "      <td>0.717656</td>\n",
       "      <td>0.867372</td>\n",
       "      <td>0.413275</td>\n",
       "      <td>-0.208505</td>\n",
       "      <td>-0.309104</td>\n",
       "      <td>-0.026343</td>\n",
       "      <td>-0.208505</td>\n",
       "    </tr>\n",
       "    <tr>\n",
       "      <th>kitchen_area</th>\n",
       "      <td>0.584950</td>\n",
       "      <td>0.388114</td>\n",
       "      <td>1.000000</td>\n",
       "      <td>0.613005</td>\n",
       "      <td>0.249410</td>\n",
       "      <td>0.363584</td>\n",
       "      <td>0.144580</td>\n",
       "      <td>-0.196326</td>\n",
       "      <td>0.029316</td>\n",
       "      <td>0.144580</td>\n",
       "    </tr>\n",
       "    <tr>\n",
       "      <th>last_price</th>\n",
       "      <td>0.807209</td>\n",
       "      <td>0.717656</td>\n",
       "      <td>0.613005</td>\n",
       "      <td>1.000000</td>\n",
       "      <td>0.547603</td>\n",
       "      <td>0.469549</td>\n",
       "      <td>-0.064398</td>\n",
       "      <td>-0.394848</td>\n",
       "      <td>0.019495</td>\n",
       "      <td>-0.064398</td>\n",
       "    </tr>\n",
       "    <tr>\n",
       "      <th>rooms</th>\n",
       "      <td>0.785512</td>\n",
       "      <td>0.867372</td>\n",
       "      <td>0.249410</td>\n",
       "      <td>0.547603</td>\n",
       "      <td>1.000000</td>\n",
       "      <td>0.275721</td>\n",
       "      <td>-0.257080</td>\n",
       "      <td>-0.256614</td>\n",
       "      <td>-0.031502</td>\n",
       "      <td>-0.257080</td>\n",
       "    </tr>\n",
       "    <tr>\n",
       "      <th>ceiling_height</th>\n",
       "      <td>0.437552</td>\n",
       "      <td>0.413275</td>\n",
       "      <td>0.363584</td>\n",
       "      <td>0.469549</td>\n",
       "      <td>0.275721</td>\n",
       "      <td>1.000000</td>\n",
       "      <td>-0.167257</td>\n",
       "      <td>-0.451660</td>\n",
       "      <td>-0.029625</td>\n",
       "      <td>-0.167257</td>\n",
       "    </tr>\n",
       "    <tr>\n",
       "      <th>floors_total</th>\n",
       "      <td>-0.105376</td>\n",
       "      <td>-0.208505</td>\n",
       "      <td>0.144580</td>\n",
       "      <td>-0.064398</td>\n",
       "      <td>-0.257080</td>\n",
       "      <td>-0.167257</td>\n",
       "      <td>1.000000</td>\n",
       "      <td>0.246813</td>\n",
       "      <td>0.031425</td>\n",
       "      <td>1.000000</td>\n",
       "    </tr>\n",
       "    <tr>\n",
       "      <th>citycenters_nearest</th>\n",
       "      <td>-0.300514</td>\n",
       "      <td>-0.309104</td>\n",
       "      <td>-0.196326</td>\n",
       "      <td>-0.394848</td>\n",
       "      <td>-0.256614</td>\n",
       "      <td>-0.451660</td>\n",
       "      <td>0.246813</td>\n",
       "      <td>1.000000</td>\n",
       "      <td>-0.017139</td>\n",
       "      <td>0.246813</td>\n",
       "    </tr>\n",
       "    <tr>\n",
       "      <th>parks_nearest</th>\n",
       "      <td>0.000366</td>\n",
       "      <td>-0.026343</td>\n",
       "      <td>0.029316</td>\n",
       "      <td>0.019495</td>\n",
       "      <td>-0.031502</td>\n",
       "      <td>-0.029625</td>\n",
       "      <td>0.031425</td>\n",
       "      <td>-0.017139</td>\n",
       "      <td>1.000000</td>\n",
       "      <td>0.031425</td>\n",
       "    </tr>\n",
       "    <tr>\n",
       "      <th>floors_total</th>\n",
       "      <td>-0.105376</td>\n",
       "      <td>-0.208505</td>\n",
       "      <td>0.144580</td>\n",
       "      <td>-0.064398</td>\n",
       "      <td>-0.257080</td>\n",
       "      <td>-0.167257</td>\n",
       "      <td>1.000000</td>\n",
       "      <td>0.246813</td>\n",
       "      <td>0.031425</td>\n",
       "      <td>1.000000</td>\n",
       "    </tr>\n",
       "  </tbody>\n",
       "</table>\n",
       "</div>"
      ],
      "text/plain": [
       "                     total_area  living_area  kitchen_area  last_price  \\\n",
       "total_area             1.000000     0.938267      0.584950    0.807209   \n",
       "living_area            0.938267     1.000000      0.388114    0.717656   \n",
       "kitchen_area           0.584950     0.388114      1.000000    0.613005   \n",
       "last_price             0.807209     0.717656      0.613005    1.000000   \n",
       "rooms                  0.785512     0.867372      0.249410    0.547603   \n",
       "ceiling_height         0.437552     0.413275      0.363584    0.469549   \n",
       "floors_total          -0.105376    -0.208505      0.144580   -0.064398   \n",
       "citycenters_nearest   -0.300514    -0.309104     -0.196326   -0.394848   \n",
       "parks_nearest          0.000366    -0.026343      0.029316    0.019495   \n",
       "floors_total          -0.105376    -0.208505      0.144580   -0.064398   \n",
       "\n",
       "                        rooms  ceiling_height  floors_total  \\\n",
       "total_area           0.785512        0.437552     -0.105376   \n",
       "living_area          0.867372        0.413275     -0.208505   \n",
       "kitchen_area         0.249410        0.363584      0.144580   \n",
       "last_price           0.547603        0.469549     -0.064398   \n",
       "rooms                1.000000        0.275721     -0.257080   \n",
       "ceiling_height       0.275721        1.000000     -0.167257   \n",
       "floors_total        -0.257080       -0.167257      1.000000   \n",
       "citycenters_nearest -0.256614       -0.451660      0.246813   \n",
       "parks_nearest       -0.031502       -0.029625      0.031425   \n",
       "floors_total        -0.257080       -0.167257      1.000000   \n",
       "\n",
       "                     citycenters_nearest  parks_nearest  floors_total  \n",
       "total_area                     -0.300514       0.000366     -0.105376  \n",
       "living_area                    -0.309104      -0.026343     -0.208505  \n",
       "kitchen_area                   -0.196326       0.029316      0.144580  \n",
       "last_price                     -0.394848       0.019495     -0.064398  \n",
       "rooms                          -0.256614      -0.031502     -0.257080  \n",
       "ceiling_height                 -0.451660      -0.029625     -0.167257  \n",
       "floors_total                    0.246813       0.031425      1.000000  \n",
       "citycenters_nearest             1.000000      -0.017139      0.246813  \n",
       "parks_nearest                  -0.017139       1.000000      0.031425  \n",
       "floors_total                    0.246813       0.031425      1.000000  "
      ]
     },
     "metadata": {},
     "output_type": "display_data"
    }
   ],
   "source": [
    "# Корреляция\n",
    "correlation_params_extended = data[['total_area', 'living_area', 'kitchen_area', 'last_price', 'rooms', 'ceiling_height', 'floors_total', 'citycenters_nearest', 'parks_nearest', 'floor_cat', 'floors_total']].corr()\n",
    "print('\\nКорреляционная матрица для расширенных параметров:')\n",
    "display(correlation_params_extended)"
   ]
  },
  {
   "cell_type": "markdown",
   "metadata": {
    "id": "QCcvyY6YAwb-"
   },
   "source": [
    "**Вывод:**\n",
    "\n",
    "**Обработка параметров объектов недвижимости:**\n",
    "1. **Общая площадь:** Удалены выбросы, значения ограничены от 20 до 550 м².\n",
    "2. **Жилая площадь:** Удалены выбросы, значения ограничены от 10 до 250 м².\n",
    "3. **Площадь кухни:** Удалены выбросы, значения ограничены от 5 до 100 м².\n",
    "4. **Цена объекта:** Удалены выбросы, значения ограничены от 500 тыс. до 45 млн. руб.\n",
    "5. **Количество комнат:** Удалены значения больше 6.\n",
    "6. **Высота потолков:** Удалены выбросы, значения ограничены от 2 до 4.5 м.\n",
    "7. **Тип этажа квартиры:** Распределение по типам этажей показано на гистограмме.\n",
    "8. **Общее количество этажей в доме:** Удалены значения меньше или равные 0, а также больше 30.\n",
    "9. **Расстояние до центра города:** Удалены значения меньше или равные 0, а также больше 30 тыс. м.\n",
    "10. **Расстояние до ближайшего парка:** Удалены значения меньше или равные 0, а также больше 5 тыс. м.\n",
    "\n",
    "**Корреляционная матрица:**\n",
    "1. Построена корреляционная матрица.\n",
    "2. Матрица позволяет оценить степень линейной связи между парами параметров.\n",
    "\n",
    "**Результаты:**\n",
    "\n",
    "Общая площадь (total_area) тесно связана с жилой площадью, площадью кухни, ценой и количеством комнат.\n",
    "\n",
    "Жилая площадь (living_area) сильно связана с общей площадью, площадью кухни, ценой и количеством комнат.\n",
    "\n",
    "Площадь кухни (kitchen_area) имеет умеренную связь с общей площадью, ценой и количеством комнат.\n",
    "\n",
    "Цена (last_price) тесно связана с общей и жилой площадью, площадью кухни и количеством комнат.\n",
    "\n",
    "Количество комнат (rooms) связано с общей и жилой площадью, площадью кухни и ценой.\n",
    "\n",
    "Высота потолков (ceiling_height) имеет слабую связь с общей площадью и отрицательную связь с расстоянием до центра города.\n",
    "\n",
    "Общее количество этажей в доме (floors_total) умеренно связано с расстоянием до центра города.\n",
    "\n",
    "Расстояние до центра города (citycenters_nearest) имеет отрицательную связь с общей и жилой площадью, а также ценой.\n",
    "\n",
    "Расстояние до ближайшего парка (parks_nearest) показывает слабую связь с расстоянием до центра города."
   ]
  },
  {
   "cell_type": "code",
   "execution_count": 22,
   "metadata": {
    "id": "V2f0D3kLAwb-",
    "scrolled": false
   },
   "outputs": [
    {
     "data": {
      "image/png": "[encoded data removed]",
      "text/plain": [
       "<Figure size 432x288 with 1 Axes>"
      ]
     },
     "metadata": {
      "needs_background": "light"
     },
     "output_type": "display_data"
    },
    {
     "name": "stdout",
     "output_type": "stream",
     "text": [
      "Среднее время продажи квартиры: 181.18053\n",
      "Медианное время продажи квартиры: 95.0\n"
     ]
    },
    {
     "data": {
      "image/png": "[encoded data removed]",
      "text/plain": [
       "<Figure size 576x432 with 1 Axes>"
      ]
     },
     "metadata": {
      "needs_background": "light"
     },
     "output_type": "display_data"
    },
    {
     "name": "stdout",
     "output_type": "stream",
     "text": [
      "Статистика времени продажи квартир:\n",
      "count    14469.000000\n",
      "mean       181.180527\n",
      "std        222.777969\n",
      "min          1.000000\n",
      "25%         43.000000\n",
      "50%         95.000000\n",
      "75%        229.000000\n",
      "max       1572.000000\n",
      "Name: days_exposition, dtype: float64\n"
     ]
    }
   ],
   "source": [
    "# Часть 2: Изучение времени продажи квартир\n",
    "data['days_exposition'].hist(range=(0, 1400), bins=100);\n",
    "plt.title('Гистограмма времени продажи квартир')\n",
    "plt.xlabel('Время продажи, дни')\n",
    "plt.ylabel('Количество объявлений')\n",
    "plt.show()\n",
    "\n",
    "# Вывод среднего и медианы\n",
    "print('Среднее время продажи квартиры:', data['days_exposition'].mean())\n",
    "print('Медианное время продажи квартиры:', data['days_exposition'].median())\n",
    "\n",
    "# Визуализация распределения времени продажи квартир с помощью boxplot\n",
    "plt.figure(figsize=(8, 6))\n",
    "plt.boxplot(data['days_exposition'].dropna())\n",
    "plt.title('Boxplot времени продажи квартир')\n",
    "plt.ylabel('Время продажи, дни')\n",
    "plt.show()\n",
    "\n",
    "# Вывод основных статистических характеристик времени продажи квартир\n",
    "print('Статистика времени продажи квартир:')\n",
    "print(data['days_exposition'].describe())"
   ]
  },
  {
   "cell_type": "markdown",
   "metadata": {
    "id": "QCcvyY6YAwb-"
   },
   "source": [
    "**Вывод:**\n",
    "\n",
    "1. **Среднее время продажи:**\n",
    "   - Среднее значение времени продажи квартиры составляет примерно 201.72 дня. Однако, это значение чувствительно к выбросам и может быть искажено аномальными значениями.\n",
    "\n",
    "2. **Медианное время продажи:**\n",
    "   - Медианное значение, которое равно 112 дням, предоставляет более устойчивую оценку центральной точки распределения времени продажи. Около половины квартир продается за этот период.\n",
    "\n",
    "3. **Гистограмма времени продажи:**\n",
    "   - Большинство квартир продается в первые несколько месяцев, что подтверждается высокими пиками на гистограмме. Этот факт позволяет считать быстрыми продажи, которые приходятся на начальные месяцы размещения объявления.\n",
    "\n",
    "4. **Определение быстрых и долгих продаж:**\n",
    "   - Быстрыми продажами можно считать те, которые завершились в течение первых 3 месяцев (поскольку 25% квартир проданы менее чем за 42 дня, что примерно соответствует 3 месяцам). Продажи, занимающие более 6 месяцев, можно считать необычно долгими (поскольку 75% квартир проданы в течение 242 дней, что примерно соответствует 8 месяцам).\n",
    "\n",
    "Итак, большинство квартир в выборке продаются относительно быстро, а продажи, занимающие более полугода, можно считать отклоняющимися от среднего времени продажи. При анализе этой динамики важно учитывать факторы, влияющие на рынок недвижимости, а также особенности конкретных объектов."
   ]
  },
  {
   "cell_type": "code",
   "execution_count": 23,
   "metadata": {
    "id": "pPyxrKWTAwb-"
   },
   "outputs": [
    {
     "data": {
      "image/png": "[encoded data removed]",
      "text/plain": [
       "<Figure size 432x288 with 1 Axes>"
      ]
     },
     "metadata": {
      "needs_background": "light"
     },
     "output_type": "display_data"
    }
   ],
   "source": [
    "# Часть 3: Зависимость стоимости от различных параметров\n",
    "\n",
    "# 3.1 Зависимость от общей площади\n",
    "data.plot(x='total_area', y='last_price', kind='scatter', alpha=0.3)\n",
    "plt.title('Зависимость цены от общей площади квартиры')\n",
    "plt.xlabel('Общая площадь, м²')\n",
    "plt.ylabel('Цена, млн руб.')\n",
    "plt.show()"
   ]
  },
  {
   "cell_type": "code",
   "execution_count": 24,
   "metadata": {
    "id": "pPyxrKWTAwb-"
   },
   "outputs": [
    {
     "data": {
      "image/png": "[encoded data removed]",
      "text/plain": [
       "<Figure size 432x288 with 1 Axes>"
      ]
     },
     "metadata": {
      "needs_background": "light"
     },
     "output_type": "display_data"
    }
   ],
   "source": [
    "# 3.2 Зависимость от жилой площади\n",
    "# Группировка данных по жилой площади и вычисление средней цены для каждой группы\n",
    "avg_price_by_living_area = data.groupby('living_area')['last_price'].mean()\n",
    "\n",
    "# Построение линейной диаграммы\n",
    "avg_price_by_living_area.plot(kind='line', color='lightcoral', alpha=0.7)\n",
    "plt.title('Средняя цена в зависимости от жилой площади квартиры')\n",
    "plt.xlabel('Жилая площадь, м²')\n",
    "plt.ylabel('Средняя цена, млн руб.')\n",
    "plt.xticks(rotation=45)  # Поворот подписей по оси X для лучшей читаемости\n",
    "plt.show()"
   ]
  },
  {
   "cell_type": "code",
   "execution_count": 25,
   "metadata": {
    "id": "pPyxrKWTAwb-"
   },
   "outputs": [
    {
     "data": {
      "image/png": "[encoded data removed]",
      "text/plain": [
       "<Figure size 432x288 with 1 Axes>"
      ]
     },
     "metadata": {
      "needs_background": "light"
     },
     "output_type": "display_data"
    }
   ],
   "source": [
    "# 3.3 Зависимость от площади кухни\n",
    "# Группировка данных по площади кухни и вычисление средней цены для каждой группы\n",
    "avg_price_by_kitchen_area = data.groupby('kitchen_area')['last_price'].mean()\n",
    "\n",
    "# Построение линейной диаграммы\n",
    "avg_price_by_kitchen_area.plot(kind='line', color='lightgreen', alpha=0.7)\n",
    "plt.title('Средняя цена в зависимости от площади кухни')\n",
    "plt.xlabel('Площадь кухни, м²')\n",
    "plt.ylabel('Средняя цена, млн руб.')\n",
    "plt.xticks(rotation=45)  # Поворот подписей по оси X для лучшей читаемости\n",
    "plt.show()"
   ]
  },
  {
   "cell_type": "code",
   "execution_count": 26,
   "metadata": {
    "id": "pPyxrKWTAwb-"
   },
   "outputs": [
    {
     "data": {
      "image/png": "[encoded data removed]",
      "text/plain": [
       "<Figure size 432x288 with 1 Axes>"
      ]
     },
     "metadata": {
      "needs_background": "light"
     },
     "output_type": "display_data"
    }
   ],
   "source": [
    "# 3.4 Зависимость от количества комнат\n",
    "# Группировка данных по количеству комнат и вычисление средней цены для каждой группы\n",
    "avg_price_by_rooms = data.groupby('rooms')['last_price'].mean()\n",
    "\n",
    "# Построение столбчатой диаграммы\n",
    "avg_price_by_rooms.plot(kind='bar', color='skyblue', alpha=0.7)\n",
    "plt.title('Средняя цена в зависимости от количества комнат')\n",
    "plt.xlabel('Количество комнат')\n",
    "plt.ylabel('Средняя цена, млн руб.')\n",
    "plt.xticks(rotation=0)  # Поворот подписей по оси X для лучшей читаемости\n",
    "plt.show()"
   ]
  },
  {
   "cell_type": "code",
   "execution_count": 27,
   "metadata": {
    "id": "pPyxrKWTAwb-"
   },
   "outputs": [
    {
     "data": {
      "image/png": "[encoded data removed]",
      "text/plain": [
       "<Figure size 432x288 with 1 Axes>"
      ]
     },
     "metadata": {
      "needs_background": "light"
     },
     "output_type": "display_data"
    }
   ],
   "source": [
    "# 3.5 Зависимость от типа этажа\n",
    "data.pivot_table(index='floor_cat', values='last_price', aggfunc='mean').plot(kind='bar')\n",
    "plt.title('Средняя цена по категории этажа')\n",
    "plt.xlabel('Категория этажа')\n",
    "plt.ylabel('Средняя цена')\n",
    "plt.show()"
   ]
  },
  {
   "cell_type": "markdown",
   "metadata": {},
   "source": []
  },
  {
   "cell_type": "code",
   "execution_count": 28,
   "metadata": {
    "id": "pPyxrKWTAwb-"
   },
   "outputs": [
    {
     "data": {
      "image/png": "[encoded data removed]",
      "text/plain": [
       "<Figure size 432x288 with 1 Axes>"
      ]
     },
     "metadata": {
      "needs_background": "light"
     },
     "output_type": "display_data"
    }
   ],
   "source": [
    "# 3.6 Зависимость от дня недели\n",
    "data.pivot_table(index='weekday', values='last_price', aggfunc='mean').plot(kind='bar')\n",
    "plt.title('Средняя цена по дням недели')\n",
    "plt.xlabel('День недели')\n",
    "plt.ylabel('Средняя цена')\n",
    "plt.show()"
   ]
  },
  {
   "cell_type": "code",
   "execution_count": 29,
   "metadata": {
    "id": "pPyxrKWTAwb-"
   },
   "outputs": [
    {
     "data": {
      "image/png": "[encoded data removed]",
      "text/plain": [
       "<Figure size 432x288 with 1 Axes>"
      ]
     },
     "metadata": {
      "needs_background": "light"
     },
     "output_type": "display_data"
    }
   ],
   "source": [
    "# 3.7 Зависимость от месяца\n",
    "data.pivot_table(index='month', values='last_price', aggfunc='mean').plot(kind='bar')\n",
    "plt.title('Средняя цена по месяцам')\n",
    "plt.xlabel('Месяц')\n",
    "plt.ylabel('Средняя цена')\n",
    "plt.show()"
   ]
  },
  {
   "cell_type": "code",
   "execution_count": 30,
   "metadata": {
    "id": "pPyxrKWTAwb-"
   },
   "outputs": [
    {
     "data": {
      "image/png": "[encoded data removed]",
      "text/plain": [
       "<Figure size 432x288 with 1 Axes>"
      ]
     },
     "metadata": {
      "needs_background": "light"
     },
     "output_type": "display_data"
    }
   ],
   "source": [
    "# 3.8 Зависимость от года\n",
    "data.pivot_table(index='year', values='last_price', aggfunc='mean').plot(kind='bar')\n",
    "plt.title('Средняя цена по годам')\n",
    "plt.xlabel('Год')\n",
    "plt.ylabel('Средняя цена')\n",
    "plt.show()"
   ]
  },
  {
   "cell_type": "code",
   "execution_count": 31,
   "metadata": {
    "id": "V2f0D3kLAwb-",
    "scrolled": false
   },
   "outputs": [
    {
     "name": "stdout",
     "output_type": "stream",
     "text": [
      "\n",
      "Корреляционная матрица для всех параметров:\n"
     ]
    },
    {
     "data": {
      "text/html": [
       "<div>\n",
       "<style scoped>\n",
       "    .dataframe tbody tr th:only-of-type {\n",
       "        vertical-align: middle;\n",
       "    }\n",
       "\n",
       "    .dataframe tbody tr th {\n",
       "        vertical-align: top;\n",
       "    }\n",
       "\n",
       "    .dataframe thead th {\n",
       "        text-align: right;\n",
       "    }\n",
       "</style>\n",
       "<table border=\"1\" class=\"dataframe\">\n",
       "  <thead>\n",
       "    <tr style=\"text-align: right;\">\n",
       "      <th></th>\n",
       "      <th>total_area</th>\n",
       "      <th>living_area</th>\n",
       "      <th>kitchen_area</th>\n",
       "      <th>last_price</th>\n",
       "      <th>rooms</th>\n",
       "      <th>ceiling_height</th>\n",
       "      <th>floors_total</th>\n",
       "      <th>citycenters_nearest</th>\n",
       "      <th>parks_nearest</th>\n",
       "    </tr>\n",
       "  </thead>\n",
       "  <tbody>\n",
       "    <tr>\n",
       "      <th>total_area</th>\n",
       "      <td>1.000000</td>\n",
       "      <td>0.938267</td>\n",
       "      <td>0.584950</td>\n",
       "      <td>0.807209</td>\n",
       "      <td>0.785512</td>\n",
       "      <td>0.437552</td>\n",
       "      <td>-0.105376</td>\n",
       "      <td>-0.300514</td>\n",
       "      <td>0.000366</td>\n",
       "    </tr>\n",
       "    <tr>\n",
       "      <th>living_area</th>\n",
       "      <td>0.938267</td>\n",
       "      <td>1.000000</td>\n",
       "      <td>0.388114</td>\n",
       "      <td>0.717656</td>\n",
       "      <td>0.867372</td>\n",
       "      <td>0.413275</td>\n",
       "      <td>-0.208505</td>\n",
       "      <td>-0.309104</td>\n",
       "      <td>-0.026343</td>\n",
       "    </tr>\n",
       "    <tr>\n",
       "      <th>kitchen_area</th>\n",
       "      <td>0.584950</td>\n",
       "      <td>0.388114</td>\n",
       "      <td>1.000000</td>\n",
       "      <td>0.613005</td>\n",
       "      <td>0.249410</td>\n",
       "      <td>0.363584</td>\n",
       "      <td>0.144580</td>\n",
       "      <td>-0.196326</td>\n",
       "      <td>0.029316</td>\n",
       "    </tr>\n",
       "    <tr>\n",
       "      <th>last_price</th>\n",
       "      <td>0.807209</td>\n",
       "      <td>0.717656</td>\n",
       "      <td>0.613005</td>\n",
       "      <td>1.000000</td>\n",
       "      <td>0.547603</td>\n",
       "      <td>0.469549</td>\n",
       "      <td>-0.064398</td>\n",
       "      <td>-0.394848</td>\n",
       "      <td>0.019495</td>\n",
       "    </tr>\n",
       "    <tr>\n",
       "      <th>rooms</th>\n",
       "      <td>0.785512</td>\n",
       "      <td>0.867372</td>\n",
       "      <td>0.249410</td>\n",
       "      <td>0.547603</td>\n",
       "      <td>1.000000</td>\n",
       "      <td>0.275721</td>\n",
       "      <td>-0.257080</td>\n",
       "      <td>-0.256614</td>\n",
       "      <td>-0.031502</td>\n",
       "    </tr>\n",
       "    <tr>\n",
       "      <th>ceiling_height</th>\n",
       "      <td>0.437552</td>\n",
       "      <td>0.413275</td>\n",
       "      <td>0.363584</td>\n",
       "      <td>0.469549</td>\n",
       "      <td>0.275721</td>\n",
       "      <td>1.000000</td>\n",
       "      <td>-0.167257</td>\n",
       "      <td>-0.451660</td>\n",
       "      <td>-0.029625</td>\n",
       "    </tr>\n",
       "    <tr>\n",
       "      <th>floors_total</th>\n",
       "      <td>-0.105376</td>\n",
       "      <td>-0.208505</td>\n",
       "      <td>0.144580</td>\n",
       "      <td>-0.064398</td>\n",
       "      <td>-0.257080</td>\n",
       "      <td>-0.167257</td>\n",
       "      <td>1.000000</td>\n",
       "      <td>0.246813</td>\n",
       "      <td>0.031425</td>\n",
       "    </tr>\n",
       "    <tr>\n",
       "      <th>citycenters_nearest</th>\n",
       "      <td>-0.300514</td>\n",
       "      <td>-0.309104</td>\n",
       "      <td>-0.196326</td>\n",
       "      <td>-0.394848</td>\n",
       "      <td>-0.256614</td>\n",
       "      <td>-0.451660</td>\n",
       "      <td>0.246813</td>\n",
       "      <td>1.000000</td>\n",
       "      <td>-0.017139</td>\n",
       "    </tr>\n",
       "    <tr>\n",
       "      <th>parks_nearest</th>\n",
       "      <td>0.000366</td>\n",
       "      <td>-0.026343</td>\n",
       "      <td>0.029316</td>\n",
       "      <td>0.019495</td>\n",
       "      <td>-0.031502</td>\n",
       "      <td>-0.029625</td>\n",
       "      <td>0.031425</td>\n",
       "      <td>-0.017139</td>\n",
       "      <td>1.000000</td>\n",
       "    </tr>\n",
       "  </tbody>\n",
       "</table>\n",
       "</div>"
      ],
      "text/plain": [
       "                     total_area  living_area  kitchen_area  last_price  \\\n",
       "total_area             1.000000     0.938267      0.584950    0.807209   \n",
       "living_area            0.938267     1.000000      0.388114    0.717656   \n",
       "kitchen_area           0.584950     0.388114      1.000000    0.613005   \n",
       "last_price             0.807209     0.717656      0.613005    1.000000   \n",
       "rooms                  0.785512     0.867372      0.249410    0.547603   \n",
       "ceiling_height         0.437552     0.413275      0.363584    0.469549   \n",
       "floors_total          -0.105376    -0.208505      0.144580   -0.064398   \n",
       "citycenters_nearest   -0.300514    -0.309104     -0.196326   -0.394848   \n",
       "parks_nearest          0.000366    -0.026343      0.029316    0.019495   \n",
       "\n",
       "                        rooms  ceiling_height  floors_total  \\\n",
       "total_area           0.785512        0.437552     -0.105376   \n",
       "living_area          0.867372        0.413275     -0.208505   \n",
       "kitchen_area         0.249410        0.363584      0.144580   \n",
       "last_price           0.547603        0.469549     -0.064398   \n",
       "rooms                1.000000        0.275721     -0.257080   \n",
       "ceiling_height       0.275721        1.000000     -0.167257   \n",
       "floors_total        -0.257080       -0.167257      1.000000   \n",
       "citycenters_nearest -0.256614       -0.451660      0.246813   \n",
       "parks_nearest       -0.031502       -0.029625      0.031425   \n",
       "\n",
       "                     citycenters_nearest  parks_nearest  \n",
       "total_area                     -0.300514       0.000366  \n",
       "living_area                    -0.309104      -0.026343  \n",
       "kitchen_area                   -0.196326       0.029316  \n",
       "last_price                     -0.394848       0.019495  \n",
       "rooms                          -0.256614      -0.031502  \n",
       "ceiling_height                 -0.451660      -0.029625  \n",
       "floors_total                    0.246813       0.031425  \n",
       "citycenters_nearest             1.000000      -0.017139  \n",
       "parks_nearest                  -0.017139       1.000000  "
      ]
     },
     "metadata": {},
     "output_type": "display_data"
    }
   ],
   "source": [
    "# Корреляционная матрица для всех параметров\n",
    "correlation_all_params = data[['total_area', 'living_area', 'kitchen_area', 'last_price', 'rooms', 'ceiling_height', 'floors_total', 'citycenters_nearest', 'parks_nearest']].corr()\n",
    "print('\\nКорреляционная матрица для всех параметров:')\n",
    "display(correlation_all_params)"
   ]
  },
  {
   "cell_type": "markdown",
   "metadata": {
    "id": "QCcvyY6YAwb-"
   },
   "source": [
    "**Вывод:**\n",
    "\n",
    "1. **Общая площадь (total_area):**\n",
    "   - Заметна положительная корреляция между общей площадью и ценой квартиры. График рассеяния подтверждает, что с увеличением общей площади растет и цена квартиры.\n",
    "\n",
    "2. **Жилая площадь (living_area):**\n",
    "   - Аналогично общей площади, жилая площадь также положительно связана с ценой квартиры. Чем больше жилая площадь, тем выше цена.\n",
    "\n",
    "3. **Площадь кухни (kitchen_area):**\n",
    "   - Наблюдается положительная корреляция между площадью кухни и ценой квартиры. Однако, взаимосвязь не такая сильная, как с общей и жилой площадью.\n",
    "\n",
    "4. **Количество комнат (rooms):**\n",
    "   - Имеется положительная корреляция между количеством комнат и ценой квартиры. Более крупные квартиры с большим количеством комнат, как правило, стоят дороже.\n",
    "\n",
    "5. **Тип этажа (floor_cat):**\n",
    "   - График показывает средние цены для разных типов этажей. Квартиры на последнем этаже обычно дороже, чем на первом или других этажах.\n",
    "\n",
    "6. **День недели (weekday):**\n",
    "   - Средняя цена квартир в зависимости от дня недели не имеет значительных различий. \n",
    "\n",
    "7. **Месяц (month):**\n",
    "   - Средняя цена квартир в разные месяцы показывает некоторую вариацию, но различия не являются существенными.\n",
    "\n",
    "8. **Год (year):**\n",
    "   - Средняя цена квартир в разные годы также может изменяться, но общие тренды следует рассматривать с осторожностью из-за влияния инфляции и рыночных факторов.\n",
    "\n",
    "В целом, проведенный анализ подтверждает логичные зависимости между стоимостью квартир и их характеристиками, такими как площадь, количество комнат и тип этажа."
   ]
  },
  {
   "cell_type": "code",
   "execution_count": 32,
   "metadata": {
    "id": "V2f0D3kLAwb-",
    "scrolled": true
   },
   "outputs": [
    {
     "data": {
      "text/html": [
       "<div>\n",
       "<style scoped>\n",
       "    .dataframe tbody tr th:only-of-type {\n",
       "        vertical-align: middle;\n",
       "    }\n",
       "\n",
       "    .dataframe tbody tr th {\n",
       "        vertical-align: top;\n",
       "    }\n",
       "\n",
       "    .dataframe thead th {\n",
       "        text-align: right;\n",
       "    }\n",
       "</style>\n",
       "<table border=\"1\" class=\"dataframe\">\n",
       "  <thead>\n",
       "    <tr style=\"text-align: right;\">\n",
       "      <th></th>\n",
       "      <th>metr_price</th>\n",
       "      <th>total_images</th>\n",
       "    </tr>\n",
       "    <tr>\n",
       "      <th>locality_name</th>\n",
       "      <th></th>\n",
       "      <th></th>\n",
       "    </tr>\n",
       "  </thead>\n",
       "  <tbody>\n",
       "    <tr>\n",
       "      <th>Колпино</th>\n",
       "      <td>73590.796875</td>\n",
       "      <td>21</td>\n",
       "    </tr>\n",
       "    <tr>\n",
       "      <th>Красное Село</th>\n",
       "      <td>73287.351562</td>\n",
       "      <td>107</td>\n",
       "    </tr>\n",
       "    <tr>\n",
       "      <th>Петергоф</th>\n",
       "      <td>97007.656250</td>\n",
       "      <td>4</td>\n",
       "    </tr>\n",
       "    <tr>\n",
       "      <th>Пушкин</th>\n",
       "      <td>105141.476562</td>\n",
       "      <td>224</td>\n",
       "    </tr>\n",
       "    <tr>\n",
       "      <th>Санкт-Петербург</th>\n",
       "      <td>111694.601562</td>\n",
       "      <td>15397</td>\n",
       "    </tr>\n",
       "    <tr>\n",
       "      <th>поселок Металлострой</th>\n",
       "      <td>73752.343750</td>\n",
       "      <td>66</td>\n",
       "    </tr>\n",
       "    <tr>\n",
       "      <th>поселок Парголово</th>\n",
       "      <td>90175.914062</td>\n",
       "      <td>327</td>\n",
       "    </tr>\n",
       "    <tr>\n",
       "      <th>поселок Песочный</th>\n",
       "      <td>79726.843750</td>\n",
       "      <td>4</td>\n",
       "    </tr>\n",
       "    <tr>\n",
       "      <th>поселок Стрельна</th>\n",
       "      <td>88267.453125</td>\n",
       "      <td>43</td>\n",
       "    </tr>\n",
       "    <tr>\n",
       "      <th>поселок Шушары</th>\n",
       "      <td>79057.257812</td>\n",
       "      <td>336</td>\n",
       "    </tr>\n",
       "  </tbody>\n",
       "</table>\n",
       "</div>"
      ],
      "text/plain": [
       "                         metr_price  total_images\n",
       "locality_name                                    \n",
       "Колпино                73590.796875            21\n",
       "Красное Село           73287.351562           107\n",
       "Петергоф               97007.656250             4\n",
       "Пушкин                105141.476562           224\n",
       "Санкт-Петербург       111694.601562         15397\n",
       "поселок Металлострой   73752.343750            66\n",
       "поселок Парголово      90175.914062           327\n",
       "поселок Песочный       79726.843750             4\n",
       "поселок Стрельна       88267.453125            43\n",
       "поселок Шушары         79057.257812           336"
      ]
     },
     "metadata": {},
     "output_type": "display_data"
    }
   ],
   "source": [
    "# Часть 4: Средняя цена за квадратный метр в 10 населённых пунктах\n",
    "# 4.1 Выбор 10 населённых пунктов с наибольшим числом объявлений\n",
    "top_localities = data['locality_name'].value_counts().head(10)\n",
    "\n",
    "# 4.2 Список и срез 10 населённых пунктов с наибольшим числом объявлений\n",
    "top_localities_list = top_localities.index\n",
    "top_localities_data = data.query('locality_name in @top_localities_list')\n",
    "\n",
    "# 4.3 Построение сводной таблицы\n",
    "pivot_table_localities = top_localities_data.pivot_table(index='locality_name', values=['metr_price', 'total_images'],\n",
    "                                                         aggfunc={'metr_price': 'mean', 'total_images': 'count'})\n",
    "\n",
    "# 4.4 Вывод таблицы\n",
    "display(pivot_table_localities)"
   ]
  },
  {
   "cell_type": "markdown",
   "metadata": {
    "id": "QCcvyY6YAwb-"
   },
   "source": [
    "**Вывод:**\n",
    "\n",
    "1. **Санкт-Петербург**:\n",
    "   - Средняя цена за квадратный метр: 111854.90 рублей\n",
    "   - Количество объявлений: 9003\n",
    "   \n",
    "2. **Пушкин**:\n",
    "   - Средняя цена за квадратный метр: 108978.96 рублей\n",
    "   - Количество объявлений: 122\n",
    "   \n",
    "3. **Поселок Стрельна**:\n",
    "   - Средняя цена за квадратный метр: 92032.21 рублей\n",
    "   - Количество объявлений: 23\n",
    "   \n",
    "4. **Поселок Парголово**:\n",
    "   - Средняя цена за квадратный метр: 91177.10 рублей\n",
    "   - Количество объявлений: 130\n",
    "   \n",
    "5. **Поселок Металлострой**:\n",
    "   - Средняя цена за квадратный метр: 72630.30 рублей\n",
    "   - Количество объявлений: 46\n",
    "   \n",
    "6. **Поселок Шушары**:\n",
    "   - Средняя цена за квадратный метр: 81037.61 рублей\n",
    "   - Количество объявлений: 134\n",
    "   \n",
    "7. **Поселок Лисий Нос**:\n",
    "   - Средняя цена за квадратный метр: 66637.88 рублей\n",
    "   - Количество объявлений: 2\n",
    "   \n",
    "8. **Красное Село**:\n",
    "   - Средняя цена за квадратный метр: 73623.03 рублей\n",
    "   - Количество объявлений: 62\n",
    "   \n",
    "9. **Петергоф**:\n",
    "   - Средняя цена за квадратный метр: 100142.65 рублей\n",
    "   - Количество объявлений: 2\n",
    "   \n",
    "10. **Колпино**:\n",
    "    - Средняя цена за квадратный метр: 70821.98 рублей\n",
    "    - Количество объявлений: 7\n",
    "\n",
    "   \n",
    "   **Самая высокая цена: Санкт-Петербург**\n",
    "   \n",
    "   **Самая низкая цена: Колпино**"
   ]
  },
  {
   "cell_type": "code",
   "execution_count": 34,
   "metadata": {
    "id": "V2f0D3kLAwb-",
    "scrolled": false
   },
   "outputs": [
    {
     "name": "stdout",
     "output_type": "stream",
     "text": [
      "Средняя цена на каждый километр удаленности от центра\n"
     ]
    },
    {
     "data": {
      "text/html": [
       "<div>\n",
       "<style scoped>\n",
       "    .dataframe tbody tr th:only-of-type {\n",
       "        vertical-align: middle;\n",
       "    }\n",
       "\n",
       "    .dataframe tbody tr th {\n",
       "        vertical-align: top;\n",
       "    }\n",
       "\n",
       "    .dataframe thead th {\n",
       "        text-align: right;\n",
       "    }\n",
       "</style>\n",
       "<table border=\"1\" class=\"dataframe\">\n",
       "  <thead>\n",
       "    <tr style=\"text-align: right;\">\n",
       "      <th></th>\n",
       "      <th>last_price</th>\n",
       "    </tr>\n",
       "    <tr>\n",
       "      <th>centr_ratio</th>\n",
       "      <th></th>\n",
       "    </tr>\n",
       "  </thead>\n",
       "  <tbody>\n",
       "    <tr>\n",
       "      <th>0.0</th>\n",
       "      <td>16592878.0</td>\n",
       "    </tr>\n",
       "    <tr>\n",
       "      <th>1.0</th>\n",
       "      <td>12687568.0</td>\n",
       "    </tr>\n",
       "    <tr>\n",
       "      <th>2.0</th>\n",
       "      <td>12098512.0</td>\n",
       "    </tr>\n",
       "    <tr>\n",
       "      <th>3.0</th>\n",
       "      <td>10221030.0</td>\n",
       "    </tr>\n",
       "    <tr>\n",
       "      <th>4.0</th>\n",
       "      <td>11028411.0</td>\n",
       "    </tr>\n",
       "    <tr>\n",
       "      <th>5.0</th>\n",
       "      <td>11597489.0</td>\n",
       "    </tr>\n",
       "    <tr>\n",
       "      <th>6.0</th>\n",
       "      <td>11303295.0</td>\n",
       "    </tr>\n",
       "    <tr>\n",
       "      <th>7.0</th>\n",
       "      <td>10905047.0</td>\n",
       "    </tr>\n",
       "    <tr>\n",
       "      <th>8.0</th>\n",
       "      <td>9031817.0</td>\n",
       "    </tr>\n",
       "    <tr>\n",
       "      <th>9.0</th>\n",
       "      <td>6968353.0</td>\n",
       "    </tr>\n",
       "    <tr>\n",
       "      <th>10.0</th>\n",
       "      <td>6500434.0</td>\n",
       "    </tr>\n",
       "    <tr>\n",
       "      <th>11.0</th>\n",
       "      <td>6114628.5</td>\n",
       "    </tr>\n",
       "    <tr>\n",
       "      <th>12.0</th>\n",
       "      <td>5834618.5</td>\n",
       "    </tr>\n",
       "    <tr>\n",
       "      <th>13.0</th>\n",
       "      <td>6079090.5</td>\n",
       "    </tr>\n",
       "    <tr>\n",
       "      <th>14.0</th>\n",
       "      <td>5625173.0</td>\n",
       "    </tr>\n",
       "    <tr>\n",
       "      <th>15.0</th>\n",
       "      <td>5876323.0</td>\n",
       "    </tr>\n",
       "    <tr>\n",
       "      <th>16.0</th>\n",
       "      <td>5373130.5</td>\n",
       "    </tr>\n",
       "    <tr>\n",
       "      <th>17.0</th>\n",
       "      <td>5248033.5</td>\n",
       "    </tr>\n",
       "    <tr>\n",
       "      <th>18.0</th>\n",
       "      <td>5091331.5</td>\n",
       "    </tr>\n",
       "    <tr>\n",
       "      <th>19.0</th>\n",
       "      <td>5051410.0</td>\n",
       "    </tr>\n",
       "    <tr>\n",
       "      <th>20.0</th>\n",
       "      <td>4611579.0</td>\n",
       "    </tr>\n",
       "    <tr>\n",
       "      <th>21.0</th>\n",
       "      <td>5493469.5</td>\n",
       "    </tr>\n",
       "    <tr>\n",
       "      <th>22.0</th>\n",
       "      <td>5415524.5</td>\n",
       "    </tr>\n",
       "    <tr>\n",
       "      <th>23.0</th>\n",
       "      <td>4985376.5</td>\n",
       "    </tr>\n",
       "    <tr>\n",
       "      <th>24.0</th>\n",
       "      <td>3854429.5</td>\n",
       "    </tr>\n",
       "    <tr>\n",
       "      <th>25.0</th>\n",
       "      <td>4052840.0</td>\n",
       "    </tr>\n",
       "    <tr>\n",
       "      <th>26.0</th>\n",
       "      <td>4014287.0</td>\n",
       "    </tr>\n",
       "    <tr>\n",
       "      <th>27.0</th>\n",
       "      <td>8300000.0</td>\n",
       "    </tr>\n",
       "    <tr>\n",
       "      <th>28.0</th>\n",
       "      <td>5026428.5</td>\n",
       "    </tr>\n",
       "    <tr>\n",
       "      <th>29.0</th>\n",
       "      <td>4236666.5</td>\n",
       "    </tr>\n",
       "  </tbody>\n",
       "</table>\n",
       "</div>"
      ],
      "text/plain": [
       "             last_price\n",
       "centr_ratio            \n",
       "0.0          16592878.0\n",
       "1.0          12687568.0\n",
       "2.0          12098512.0\n",
       "3.0          10221030.0\n",
       "4.0          11028411.0\n",
       "5.0          11597489.0\n",
       "6.0          11303295.0\n",
       "7.0          10905047.0\n",
       "8.0           9031817.0\n",
       "9.0           6968353.0\n",
       "10.0          6500434.0\n",
       "11.0          6114628.5\n",
       "12.0          5834618.5\n",
       "13.0          6079090.5\n",
       "14.0          5625173.0\n",
       "15.0          5876323.0\n",
       "16.0          5373130.5\n",
       "17.0          5248033.5\n",
       "18.0          5091331.5\n",
       "19.0          5051410.0\n",
       "20.0          4611579.0\n",
       "21.0          5493469.5\n",
       "22.0          5415524.5\n",
       "23.0          4985376.5\n",
       "24.0          3854429.5\n",
       "25.0          4052840.0\n",
       "26.0          4014287.0\n",
       "27.0          8300000.0\n",
       "28.0          5026428.5\n",
       "29.0          4236666.5"
      ]
     },
     "metadata": {},
     "output_type": "display_data"
    },
    {
     "data": {
      "image/png": "[encoded data removed]",
      "text/plain": [
       "<Figure size 432x288 with 1 Axes>"
      ]
     },
     "metadata": {
      "needs_background": "light"
     },
     "output_type": "display_data"
    },
    {
     "name": "stdout",
     "output_type": "stream",
     "text": [
      "\n",
      "Корреляционная матрица для расстояния до центра и цены:\n"
     ]
    },
    {
     "data": {
      "text/html": [
       "<div>\n",
       "<style scoped>\n",
       "    .dataframe tbody tr th:only-of-type {\n",
       "        vertical-align: middle;\n",
       "    }\n",
       "\n",
       "    .dataframe tbody tr th {\n",
       "        vertical-align: top;\n",
       "    }\n",
       "\n",
       "    .dataframe thead th {\n",
       "        text-align: right;\n",
       "    }\n",
       "</style>\n",
       "<table border=\"1\" class=\"dataframe\">\n",
       "  <thead>\n",
       "    <tr style=\"text-align: right;\">\n",
       "      <th></th>\n",
       "      <th>centr_ratio</th>\n",
       "      <th>last_price</th>\n",
       "    </tr>\n",
       "  </thead>\n",
       "  <tbody>\n",
       "    <tr>\n",
       "      <th>centr_ratio</th>\n",
       "      <td>1.00000</td>\n",
       "      <td>-0.40913</td>\n",
       "    </tr>\n",
       "    <tr>\n",
       "      <th>last_price</th>\n",
       "      <td>-0.40913</td>\n",
       "      <td>1.00000</td>\n",
       "    </tr>\n",
       "  </tbody>\n",
       "</table>\n",
       "</div>"
      ],
      "text/plain": [
       "             centr_ratio  last_price\n",
       "centr_ratio      1.00000    -0.40913\n",
       "last_price      -0.40913     1.00000"
      ]
     },
     "metadata": {},
     "output_type": "display_data"
    }
   ],
   "source": [
    "# Часть 5: Зависимость стоимости от расстояния до центра города в Санкт-Петербурге\n",
    "# 5.1 Выделение квартир в Санкт-Петербурге\n",
    "apartments_st_petersburg = data[data['locality_name'] == 'Санкт-Петербург'].copy()\n",
    "\n",
    "# 5.2 Расстояние до центра в километрах\n",
    "apartments_st_petersburg['centr_ratio'] = round(apartments_st_petersburg['citycenters_nearest'] / 1000)\n",
    "\n",
    "# 5.3 Группировка данных по расстоянию и вычисление средней цены для каждого километра\n",
    "pivot_table_distance = apartments_st_petersburg.groupby('centr_ratio')['last_price'].mean()\n",
    "\n",
    "# 5.4 Создание сводной таблицы\n",
    "pivot_table_avg_price_by_distance = apartments_st_petersburg.pivot_table(index='centr_ratio', values='last_price', aggfunc='mean')\n",
    "\n",
    "print(\"Средняя цена на каждый километр удаленности от центра\")\n",
    "display(pivot_table_avg_price_by_distance)\n",
    "\n",
    "# 5.5 Построение графика\n",
    "pivot_table_avg_price_by_distance.plot(kind='line', color='lightblue', alpha=0.7, legend=None)\n",
    "plt.title('Средняя цена в зависимости от расстояния до центра Санкт-Петербурга')\n",
    "plt.xlabel('Расстояние до центра, км')\n",
    "plt.ylabel('Средняя цена')\n",
    "plt.xticks(rotation=45)\n",
    "plt.grid(axis='y')\n",
    "plt.show()\n",
    "\n",
    "# 5.6 Корреляция\n",
    "correlation_centr_ratio = apartments_st_petersburg[['centr_ratio', 'last_price']].corr()\n",
    "print('\\nКорреляционная матрица для расстояния до центра и цены:')\n",
    "display(correlation_centr_ratio)"
   ]
  },
  {
   "cell_type": "markdown",
   "metadata": {
    "id": "QCcvyY6YAwb-"
   },
   "source": [
    "**Вывод:**\n",
    "\n",
    "1. **График зависимости:**\n",
    "   - На графике видно, что средняя цена квартир имеет ярко выраженную негативную зависимость от расстояния до центра Санкт-Петербурга.\n",
    "\n",
    "2. **Корреляция:**\n",
    "   - Корреляционная матрица подтверждает негативную зависимость между расстоянием до центра и ценой квартиры в Санкт-Петербурге. Коэффициент корреляции составляет -0.415, что указывает на умеренную обратную связь.\n",
    "\n",
    "3. **Вывод:**\n",
    "   - Логично предположить, что близость к центру города является значимым фактором влияния на стоимость жилья. Объекты недвижимости в центре города обычно ценятся выше из-за удобства расположения, близости к инфраструктуре, культурным и развлекательным местам."
   ]
  },
  {
   "cell_type": "markdown",
   "metadata": {
    "id": "h7VpzkIDAwb-"
   },
   "source": [
    "### Общий вывод"
   ]
  },
  {
   "cell_type": "markdown",
   "metadata": {
    "id": "3H4lnp_KAwb-"
   },
   "source": [
    "**Этапы исследования:**\n",
    "\n",
    "1. Проверены основные возможные проблемы в данных.\n",
    "\n",
    "2. Устранены аномалии в данных.\n",
    "\n",
    "3. Проведена обработка параметров объектов недвижимости.\n",
    "\n",
    "4. Исследовано время продажи квартир.\n",
    "\n",
    "5. Исследована зависимость стоимости квартир от различных параметров.\n",
    "\n",
    "6. Определена средняя цена за квадратный метр в 10 населённых пунктах.\n",
    "\n",
    "7. Исследована зависимость стоимости от расстояния до центра города в Санкт-Петербурге.\n",
    "\n",
    "8. Сформулированы общие результаты исследования.\n",
    "\n",
    "\n",
    "\n",
    "**Общие результаты исследования:**\n",
    "\n",
    "1. **Характеристики недвижимости:**\n",
    "   - В работе проведен анализ основных характеристик недвижимости, таких как общая площадь, жилая площадь, площадь кухни, цена, количество комнат, высота потолков, этажность здания и расстояние до центра города или парка.\n",
    "\n",
    "2. **Корреляционный анализ:**\n",
    "   - Построена корреляционная матрица для оценки взаимосвязей между параметрами. Выявлены сильные положительные корреляции между общей площадью, жилой площадью и ценой недвижимости. Также отмечена обратная корреляция между расстоянием до центра города и ценой.\n",
    "\n",
    "3. **Обработка данных и удаление выбросов:**\n",
    "   - Проведена обработка данных с использованием гистограмм и диаграмм размаха. Удалены выбросы по параметрам общей площади, жилой площади, площади кухни, цены, количества комнат и высоты потолков.\n",
    "\n",
    "4. **Анализ времени продажи:**\n",
    "   - Проанализировано время продажи квартир. Установлено, что большинство квартир продается в течение первых 3-х месяцев. Среднее время продажи составляет около 201.72 дня, а медианное - 112 дней. Быстрыми продажами можно считать те, которые завершились в течение первых 3 месяцев (поскольку 25% квартир проданы менее чем за 42 дня, что примерно соответствует 3 месяцам). Продажи, занимающие более 6 месяцев, можно считать необычно долгими (поскольку 75% квартир проданы в течение 242 дней, что примерно соответствует 8 месяцам).\n",
    "\n",
    "5. **Зависимость стоимости от различных параметров:**\n",
    "   - Исследована зависимость стоимости недвижимости от таких параметров, как общая площадь, жилая площадь, площадь кухни, количество комнат, тип этажа, день недели, месяц и год размещения объявления. Построены соответствующие графики и проведен корреляционный анализ.\n",
    "\n",
    "6. **Средняя цена за квадратный метр в 10 населённых пунктах:**\n",
    "   - Изучена средняя цена за квадратный метр в 10 населённых пунктах с наибольшим числом объявлений.\n",
    "   \n",
    "   **Самая высокая цена: Санкт-Петербург**\n",
    "   \n",
    "   **Самая низкая цена: Колпино**\n",
    "\n",
    "\n",
    "7. **Зависимость стоимости от расстояния до центра в Санкт-Петербурге:**\n",
    "   - Проведен анализ зависимости стоимости недвижимости в Санкт-Петербурге от расстояния до центра. Установлена ярко выраженная негативная зависимость: чем ближе к центру, тем выше стоимость.\n",
    "\n",
    "**Итог:**\n",
    "   - В ходе исследования получены полезные выводы о рынке недвижимости в рассматриваемом регионе. Рекомендуется учитывать выявленные закономерности при принятии решений о покупке или продаже недвижимости."
   ]
  }
 ],
 "metadata": {
  "ExecuteTimeLog": [
   {
    "duration": 1559,
    "start_time": "2024-02-09T08:03:02.776Z"
   },
   {
    "duration": 0,
    "start_time": "2024-02-09T08:03:04.336Z"
   },
   {
    "duration": 0,
    "start_time": "2024-02-09T08:03:04.337Z"
   },
   {
    "duration": 0,
    "start_time": "2024-02-09T08:03:04.338Z"
   },
   {
    "duration": 103,
    "start_time": "2024-02-09T08:06:34.098Z"
   },
   {
    "duration": 694,
    "start_time": "2024-02-09T08:09:15.155Z"
   },
   {
    "duration": 658,
    "start_time": "2024-02-09T08:09:45.625Z"
   },
   {
    "duration": 1540,
    "start_time": "2024-02-09T08:09:51.645Z"
   },
   {
    "duration": 1416,
    "start_time": "2024-02-09T08:10:04.179Z"
   },
   {
    "duration": 1510,
    "start_time": "2024-02-09T08:10:13.735Z"
   },
   {
    "duration": 1859,
    "start_time": "2024-02-09T08:11:19.492Z"
   },
   {
    "duration": 1465,
    "start_time": "2024-02-09T08:11:21.353Z"
   },
   {
    "duration": 0,
    "start_time": "2024-02-09T08:11:22.820Z"
   },
   {
    "duration": 0,
    "start_time": "2024-02-09T08:11:22.821Z"
   },
   {
    "duration": 97,
    "start_time": "2024-02-09T08:18:25.770Z"
   },
   {
    "duration": 2783,
    "start_time": "2024-02-09T08:18:52.538Z"
   },
   {
    "duration": 24,
    "start_time": "2024-02-09T08:20:33.889Z"
   },
   {
    "duration": 20,
    "start_time": "2024-02-09T08:21:41.266Z"
   },
   {
    "duration": 451,
    "start_time": "2024-02-09T08:22:32.412Z"
   },
   {
    "duration": 362,
    "start_time": "2024-02-09T08:26:53.964Z"
   },
   {
    "duration": 411,
    "start_time": "2024-02-09T08:27:01.332Z"
   },
   {
    "duration": 355,
    "start_time": "2024-02-09T08:27:35.486Z"
   },
   {
    "duration": 1620,
    "start_time": "2024-02-09T08:27:42.129Z"
   },
   {
    "duration": 1890,
    "start_time": "2024-02-09T08:28:08.804Z"
   },
   {
    "duration": 99,
    "start_time": "2024-02-09T08:28:10.696Z"
   },
   {
    "duration": 124,
    "start_time": "2024-02-09T08:28:10.797Z"
   },
   {
    "duration": 0,
    "start_time": "2024-02-09T08:28:10.923Z"
   },
   {
    "duration": 26,
    "start_time": "2024-02-09T08:30:26.749Z"
   },
   {
    "duration": 343,
    "start_time": "2024-02-09T08:31:57.589Z"
   },
   {
    "duration": 1340,
    "start_time": "2024-02-09T08:32:35.922Z"
   },
   {
    "duration": 2019,
    "start_time": "2024-02-09T08:35:15.465Z"
   },
   {
    "duration": 1830,
    "start_time": "2024-02-09T08:38:48.047Z"
   },
   {
    "duration": 89,
    "start_time": "2024-02-09T08:38:49.887Z"
   },
   {
    "duration": 436,
    "start_time": "2024-02-09T08:38:49.978Z"
   },
   {
    "duration": 0,
    "start_time": "2024-02-09T08:38:50.416Z"
   },
   {
    "duration": 104,
    "start_time": "2024-02-09T08:39:16.953Z"
   },
   {
    "duration": 343,
    "start_time": "2024-02-09T08:39:30.037Z"
   },
   {
    "duration": 1446,
    "start_time": "2024-02-09T09:17:00.876Z"
   },
   {
    "duration": 1464,
    "start_time": "2024-02-09T09:17:36.398Z"
   },
   {
    "duration": 108,
    "start_time": "2024-02-09T09:19:59.128Z"
   },
   {
    "duration": 174,
    "start_time": "2024-02-09T09:20:30.448Z"
   },
   {
    "duration": 1880,
    "start_time": "2024-02-09T09:22:54.050Z"
   },
   {
    "duration": 95,
    "start_time": "2024-02-09T09:22:55.932Z"
   },
   {
    "duration": 446,
    "start_time": "2024-02-09T09:22:56.028Z"
   },
   {
    "duration": 0,
    "start_time": "2024-02-09T09:22:56.476Z"
   },
   {
    "duration": 1611,
    "start_time": "2024-02-09T09:27:29.548Z"
   },
   {
    "duration": 19,
    "start_time": "2024-02-09T09:28:46.946Z"
   },
   {
    "duration": 21,
    "start_time": "2024-02-09T09:33:47.008Z"
   },
   {
    "duration": 98,
    "start_time": "2024-02-09T09:34:11.751Z"
   },
   {
    "duration": 21,
    "start_time": "2024-02-09T09:38:30.984Z"
   },
   {
    "duration": 668,
    "start_time": "2024-02-09T09:40:02.147Z"
   },
   {
    "duration": 1515,
    "start_time": "2024-02-09T09:40:25.061Z"
   },
   {
    "duration": 1405,
    "start_time": "2024-02-09T09:41:45.704Z"
   },
   {
    "duration": 1310,
    "start_time": "2024-02-09T09:42:23.392Z"
   },
   {
    "duration": 90,
    "start_time": "2024-02-09T09:44:11.015Z"
   },
   {
    "duration": 19,
    "start_time": "2024-02-09T09:46:58.719Z"
   },
   {
    "duration": 408,
    "start_time": "2024-02-09T09:49:05.240Z"
   },
   {
    "duration": 360,
    "start_time": "2024-02-09T09:50:54.085Z"
   },
   {
    "duration": 95,
    "start_time": "2024-02-09T09:51:09.365Z"
   },
   {
    "duration": 1906,
    "start_time": "2024-02-09T09:55:12.601Z"
   },
   {
    "duration": 95,
    "start_time": "2024-02-09T09:55:14.509Z"
   },
   {
    "duration": 387,
    "start_time": "2024-02-09T09:55:14.605Z"
   },
   {
    "duration": 118,
    "start_time": "2024-02-09T09:55:14.994Z"
   },
   {
    "duration": 1701,
    "start_time": "2024-02-09T09:58:33.242Z"
   },
   {
    "duration": 103,
    "start_time": "2024-02-09T09:58:34.945Z"
   },
   {
    "duration": 386,
    "start_time": "2024-02-09T09:58:35.050Z"
   },
   {
    "duration": 57796,
    "start_time": "2024-02-09T09:58:35.438Z"
   },
   {
    "duration": 176,
    "start_time": "2024-02-09T10:05:51.663Z"
   },
   {
    "duration": 174,
    "start_time": "2024-02-09T10:09:04.986Z"
   },
   {
    "duration": 1963,
    "start_time": "2024-02-09T10:12:59.577Z"
   },
   {
    "duration": 150,
    "start_time": "2024-02-09T10:13:01.543Z"
   },
   {
    "duration": 351,
    "start_time": "2024-02-09T10:13:01.695Z"
   },
   {
    "duration": 280,
    "start_time": "2024-02-09T10:13:02.048Z"
   },
   {
    "duration": 1934,
    "start_time": "2024-02-09T10:20:21.221Z"
   },
   {
    "duration": 288,
    "start_time": "2024-02-09T10:23:21.114Z"
   },
   {
    "duration": 2388,
    "start_time": "2024-02-09T10:24:37.997Z"
   },
   {
    "duration": 1722,
    "start_time": "2024-02-09T10:27:26.166Z"
   },
   {
    "duration": 2898,
    "start_time": "2024-02-09T10:28:58.847Z"
   },
   {
    "duration": 2334,
    "start_time": "2024-02-09T10:30:04.023Z"
   },
   {
    "duration": 2578,
    "start_time": "2024-02-09T10:32:11.691Z"
   },
   {
    "duration": 121,
    "start_time": "2024-02-09T10:40:03.319Z"
   },
   {
    "duration": 118,
    "start_time": "2024-02-09T10:41:10.872Z"
   },
   {
    "duration": 659,
    "start_time": "2024-02-09T10:42:47.816Z"
   },
   {
    "duration": 1356,
    "start_time": "2024-02-09T10:43:31.115Z"
   },
   {
    "duration": 139,
    "start_time": "2024-02-09T10:43:32.474Z"
   },
   {
    "duration": 405,
    "start_time": "2024-02-09T10:43:32.615Z"
   },
   {
    "duration": 3186,
    "start_time": "2024-02-09T10:43:33.022Z"
   },
   {
    "duration": 1397,
    "start_time": "2024-02-09T12:05:03.384Z"
   },
   {
    "duration": 292,
    "start_time": "2024-02-09T12:05:04.783Z"
   },
   {
    "duration": 393,
    "start_time": "2024-02-09T12:05:05.077Z"
   },
   {
    "duration": 3110,
    "start_time": "2024-02-09T12:05:05.472Z"
   },
   {
    "duration": 6220,
    "start_time": "2024-02-09T12:20:18.807Z"
   },
   {
    "duration": 6425,
    "start_time": "2024-02-09T12:20:49.623Z"
   },
   {
    "duration": 6484,
    "start_time": "2024-02-09T12:27:16.305Z"
   },
   {
    "duration": 3411,
    "start_time": "2024-02-09T12:30:21.063Z"
   },
   {
    "duration": 27,
    "start_time": "2024-02-09T12:34:33.498Z"
   },
   {
    "duration": 1225,
    "start_time": "2024-02-09T12:34:40.900Z"
   },
   {
    "duration": 1353,
    "start_time": "2024-02-09T12:35:21.371Z"
   },
   {
    "duration": 282,
    "start_time": "2024-02-09T12:35:22.726Z"
   },
   {
    "duration": 371,
    "start_time": "2024-02-09T12:35:23.009Z"
   },
   {
    "duration": 1512,
    "start_time": "2024-02-09T12:35:23.381Z"
   },
   {
    "duration": 1383,
    "start_time": "2024-02-09T12:36:42.669Z"
   },
   {
    "duration": 301,
    "start_time": "2024-02-09T12:36:44.055Z"
   },
   {
    "duration": 424,
    "start_time": "2024-02-09T12:36:44.358Z"
   },
   {
    "duration": 1979,
    "start_time": "2024-02-09T12:36:44.784Z"
   },
   {
    "duration": 1884,
    "start_time": "2024-02-09T12:37:41.525Z"
   },
   {
    "duration": 289,
    "start_time": "2024-02-09T12:37:43.411Z"
   },
   {
    "duration": 346,
    "start_time": "2024-02-09T12:37:43.701Z"
   },
   {
    "duration": 2173,
    "start_time": "2024-02-09T12:37:44.049Z"
   },
   {
    "duration": 1910,
    "start_time": "2024-02-09T12:39:59.739Z"
   },
   {
    "duration": 294,
    "start_time": "2024-02-09T12:40:01.651Z"
   },
   {
    "duration": 324,
    "start_time": "2024-02-09T12:40:01.947Z"
   },
   {
    "duration": 8480,
    "start_time": "2024-02-09T12:40:02.273Z"
   },
   {
    "duration": 1816,
    "start_time": "2024-02-09T12:43:46.248Z"
   },
   {
    "duration": 290,
    "start_time": "2024-02-09T12:43:48.067Z"
   },
   {
    "duration": 318,
    "start_time": "2024-02-09T12:43:48.359Z"
   },
   {
    "duration": 8413,
    "start_time": "2024-02-09T12:43:48.679Z"
   },
   {
    "duration": 2014,
    "start_time": "2024-02-09T12:46:28.693Z"
   },
   {
    "duration": 382,
    "start_time": "2024-02-09T12:46:30.709Z"
   },
   {
    "duration": 355,
    "start_time": "2024-02-09T12:46:31.092Z"
   },
   {
    "duration": 8736,
    "start_time": "2024-02-09T12:46:31.448Z"
   },
   {
    "duration": 1924,
    "start_time": "2024-02-09T12:48:07.759Z"
   },
   {
    "duration": 359,
    "start_time": "2024-02-09T12:48:09.688Z"
   },
   {
    "duration": 348,
    "start_time": "2024-02-09T12:48:10.049Z"
   },
   {
    "duration": 8562,
    "start_time": "2024-02-09T12:48:10.399Z"
   },
   {
    "duration": 1760,
    "start_time": "2024-02-09T12:57:49.420Z"
   },
   {
    "duration": 336,
    "start_time": "2024-02-09T12:57:51.186Z"
   },
   {
    "duration": 349,
    "start_time": "2024-02-09T12:57:51.524Z"
   },
   {
    "duration": 6844,
    "start_time": "2024-02-09T12:57:51.875Z"
   },
   {
    "duration": 2019,
    "start_time": "2024-02-09T13:00:50.669Z"
   },
   {
    "duration": 340,
    "start_time": "2024-02-09T13:00:52.690Z"
   },
   {
    "duration": 337,
    "start_time": "2024-02-09T13:00:53.031Z"
   },
   {
    "duration": 7001,
    "start_time": "2024-02-09T13:00:53.370Z"
   },
   {
    "duration": 1820,
    "start_time": "2024-02-09T13:03:26.790Z"
   },
   {
    "duration": 330,
    "start_time": "2024-02-09T13:03:28.612Z"
   },
   {
    "duration": 338,
    "start_time": "2024-02-09T13:03:28.944Z"
   },
   {
    "duration": 6825,
    "start_time": "2024-02-09T13:03:29.284Z"
   },
   {
    "duration": 2264,
    "start_time": "2024-02-12T08:32:38.211Z"
   },
   {
    "duration": 330,
    "start_time": "2024-02-12T08:32:40.477Z"
   },
   {
    "duration": 307,
    "start_time": "2024-02-12T08:32:40.808Z"
   },
   {
    "duration": 6536,
    "start_time": "2024-02-12T08:32:41.117Z"
   },
   {
    "duration": 1805,
    "start_time": "2024-02-12T08:46:35.896Z"
   },
   {
    "duration": 322,
    "start_time": "2024-02-12T08:46:37.703Z"
   },
   {
    "duration": 318,
    "start_time": "2024-02-12T08:46:38.027Z"
   },
   {
    "duration": 1890,
    "start_time": "2024-02-12T08:50:52.230Z"
   },
   {
    "duration": 316,
    "start_time": "2024-02-12T08:50:54.122Z"
   },
   {
    "duration": 310,
    "start_time": "2024-02-12T08:50:54.439Z"
   },
   {
    "duration": 4064,
    "start_time": "2024-02-12T08:50:54.751Z"
   },
   {
    "duration": 259,
    "start_time": "2024-02-12T08:50:58.816Z"
   },
   {
    "duration": 4155,
    "start_time": "2024-02-12T08:50:59.077Z"
   },
   {
    "duration": 21,
    "start_time": "2024-02-12T08:51:03.233Z"
   },
   {
    "duration": 184,
    "start_time": "2024-02-12T08:51:03.256Z"
   },
   {
    "duration": 1854,
    "start_time": "2024-02-12T08:52:02.242Z"
   },
   {
    "duration": 328,
    "start_time": "2024-02-12T08:52:04.100Z"
   },
   {
    "duration": 312,
    "start_time": "2024-02-12T08:52:04.430Z"
   },
   {
    "duration": 4260,
    "start_time": "2024-02-12T08:52:04.743Z"
   },
   {
    "duration": 256,
    "start_time": "2024-02-12T08:52:09.005Z"
   },
   {
    "duration": 4265,
    "start_time": "2024-02-12T08:52:09.263Z"
   },
   {
    "duration": 20,
    "start_time": "2024-02-12T08:52:13.530Z"
   },
   {
    "duration": 194,
    "start_time": "2024-02-12T08:52:13.552Z"
   },
   {
    "duration": 1921,
    "start_time": "2024-02-12T09:00:34.908Z"
   },
   {
    "duration": 325,
    "start_time": "2024-02-12T09:00:36.831Z"
   },
   {
    "duration": 315,
    "start_time": "2024-02-12T09:00:37.157Z"
   },
   {
    "duration": 1929,
    "start_time": "2024-02-12T09:00:37.473Z"
   },
   {
    "duration": 372,
    "start_time": "2024-02-12T09:00:39.403Z"
   },
   {
    "duration": 3778,
    "start_time": "2024-02-12T09:00:39.777Z"
   },
   {
    "duration": 17,
    "start_time": "2024-02-12T09:00:43.556Z"
   },
   {
    "duration": 154,
    "start_time": "2024-02-12T09:00:43.574Z"
   },
   {
    "duration": 1241,
    "start_time": "2024-02-12T09:12:10.277Z"
   },
   {
    "duration": 1831,
    "start_time": "2024-02-12T09:17:46.887Z"
   },
   {
    "duration": 326,
    "start_time": "2024-02-12T09:17:48.719Z"
   },
   {
    "duration": 305,
    "start_time": "2024-02-12T09:17:49.046Z"
   },
   {
    "duration": 1838,
    "start_time": "2024-02-12T09:17:49.353Z"
   },
   {
    "duration": 350,
    "start_time": "2024-02-12T09:17:51.192Z"
   },
   {
    "duration": 1124,
    "start_time": "2024-02-12T09:17:51.544Z"
   },
   {
    "duration": 21,
    "start_time": "2024-02-12T09:17:52.670Z"
   },
   {
    "duration": 154,
    "start_time": "2024-02-12T09:17:52.692Z"
   },
   {
    "duration": 1725,
    "start_time": "2024-02-12T09:26:05.653Z"
   },
   {
    "duration": 334,
    "start_time": "2024-02-12T09:26:07.379Z"
   },
   {
    "duration": 301,
    "start_time": "2024-02-12T09:26:07.714Z"
   },
   {
    "duration": 1821,
    "start_time": "2024-02-12T09:26:08.017Z"
   },
   {
    "duration": 326,
    "start_time": "2024-02-12T09:26:09.839Z"
   },
   {
    "duration": 1147,
    "start_time": "2024-02-12T09:26:10.166Z"
   },
   {
    "duration": 18,
    "start_time": "2024-02-12T09:26:11.314Z"
   },
   {
    "duration": 150,
    "start_time": "2024-02-12T09:26:11.333Z"
   },
   {
    "duration": 1851,
    "start_time": "2024-02-12T09:26:51.717Z"
   },
   {
    "duration": 326,
    "start_time": "2024-02-12T09:26:53.570Z"
   },
   {
    "duration": 301,
    "start_time": "2024-02-12T09:26:53.898Z"
   },
   {
    "duration": 1779,
    "start_time": "2024-02-12T09:26:54.201Z"
   },
   {
    "duration": 351,
    "start_time": "2024-02-12T09:26:55.982Z"
   },
   {
    "duration": 1132,
    "start_time": "2024-02-12T09:26:56.335Z"
   },
   {
    "duration": 19,
    "start_time": "2024-02-12T09:26:57.468Z"
   },
   {
    "duration": 158,
    "start_time": "2024-02-12T09:26:57.488Z"
   },
   {
    "duration": 1905,
    "start_time": "2024-02-12T09:27:46.711Z"
   },
   {
    "duration": 324,
    "start_time": "2024-02-12T09:27:48.618Z"
   },
   {
    "duration": 330,
    "start_time": "2024-02-12T09:27:48.943Z"
   },
   {
    "duration": 1750,
    "start_time": "2024-02-12T09:27:49.276Z"
   },
   {
    "duration": 81,
    "start_time": "2024-02-12T09:27:51.027Z"
   },
   {
    "duration": 0,
    "start_time": "2024-02-12T09:27:51.110Z"
   },
   {
    "duration": 0,
    "start_time": "2024-02-12T09:27:51.111Z"
   },
   {
    "duration": 0,
    "start_time": "2024-02-12T09:27:51.112Z"
   },
   {
    "duration": 1767,
    "start_time": "2024-02-12T09:28:54.529Z"
   },
   {
    "duration": 320,
    "start_time": "2024-02-12T09:28:56.298Z"
   },
   {
    "duration": 299,
    "start_time": "2024-02-12T09:28:56.620Z"
   },
   {
    "duration": 1787,
    "start_time": "2024-02-12T09:28:56.920Z"
   },
   {
    "duration": 342,
    "start_time": "2024-02-12T09:28:58.709Z"
   },
   {
    "duration": 1132,
    "start_time": "2024-02-12T09:28:59.052Z"
   },
   {
    "duration": 19,
    "start_time": "2024-02-12T09:29:00.185Z"
   },
   {
    "duration": 158,
    "start_time": "2024-02-12T09:29:00.206Z"
   },
   {
    "duration": 1876,
    "start_time": "2024-02-12T09:32:30.116Z"
   },
   {
    "duration": 312,
    "start_time": "2024-02-12T09:32:31.994Z"
   },
   {
    "duration": 320,
    "start_time": "2024-02-12T09:32:32.307Z"
   },
   {
    "duration": 1782,
    "start_time": "2024-02-12T09:32:32.628Z"
   },
   {
    "duration": 327,
    "start_time": "2024-02-12T09:32:34.417Z"
   },
   {
    "duration": 1138,
    "start_time": "2024-02-12T09:32:34.745Z"
   },
   {
    "duration": 20,
    "start_time": "2024-02-12T09:32:35.885Z"
   },
   {
    "duration": 159,
    "start_time": "2024-02-12T09:32:35.906Z"
   },
   {
    "duration": 1804,
    "start_time": "2024-02-12T09:35:10.419Z"
   },
   {
    "duration": 326,
    "start_time": "2024-02-12T09:35:12.225Z"
   },
   {
    "duration": 325,
    "start_time": "2024-02-12T09:35:12.553Z"
   },
   {
    "duration": 1832,
    "start_time": "2024-02-12T09:35:12.880Z"
   },
   {
    "duration": 333,
    "start_time": "2024-02-12T09:35:14.713Z"
   },
   {
    "duration": 1160,
    "start_time": "2024-02-12T09:35:15.047Z"
   },
   {
    "duration": 26,
    "start_time": "2024-02-12T09:35:16.208Z"
   },
   {
    "duration": 146,
    "start_time": "2024-02-12T09:35:16.236Z"
   },
   {
    "duration": 1783,
    "start_time": "2024-02-12T09:36:41.038Z"
   },
   {
    "duration": 315,
    "start_time": "2024-02-12T09:36:42.823Z"
   },
   {
    "duration": 328,
    "start_time": "2024-02-12T09:36:43.139Z"
   },
   {
    "duration": 1806,
    "start_time": "2024-02-12T09:36:43.468Z"
   },
   {
    "duration": 323,
    "start_time": "2024-02-12T09:36:45.276Z"
   },
   {
    "duration": 1116,
    "start_time": "2024-02-12T09:36:45.601Z"
   },
   {
    "duration": 19,
    "start_time": "2024-02-12T09:36:46.719Z"
   },
   {
    "duration": 493,
    "start_time": "2024-02-12T09:36:46.739Z"
   },
   {
    "duration": 1866,
    "start_time": "2024-02-12T09:37:47.905Z"
   },
   {
    "duration": 326,
    "start_time": "2024-02-12T09:37:49.774Z"
   },
   {
    "duration": 311,
    "start_time": "2024-02-12T09:37:50.101Z"
   },
   {
    "duration": 1804,
    "start_time": "2024-02-12T09:37:50.414Z"
   },
   {
    "duration": 312,
    "start_time": "2024-02-12T09:37:52.220Z"
   },
   {
    "duration": 1116,
    "start_time": "2024-02-12T09:37:52.534Z"
   },
   {
    "duration": 20,
    "start_time": "2024-02-12T09:37:53.651Z"
   },
   {
    "duration": 165,
    "start_time": "2024-02-12T09:37:53.672Z"
   },
   {
    "duration": 1811,
    "start_time": "2024-02-12T09:55:21.191Z"
   },
   {
    "duration": 308,
    "start_time": "2024-02-12T09:55:23.004Z"
   },
   {
    "duration": 302,
    "start_time": "2024-02-12T09:55:23.313Z"
   },
   {
    "duration": 1769,
    "start_time": "2024-02-12T09:55:23.616Z"
   },
   {
    "duration": 344,
    "start_time": "2024-02-12T09:55:25.387Z"
   },
   {
    "duration": 1153,
    "start_time": "2024-02-12T09:55:25.733Z"
   },
   {
    "duration": 30,
    "start_time": "2024-02-12T09:55:26.888Z"
   },
   {
    "duration": 731,
    "start_time": "2024-02-12T09:55:26.920Z"
   },
   {
    "duration": 1828,
    "start_time": "2024-02-12T09:58:16.752Z"
   },
   {
    "duration": 4654,
    "start_time": "2024-02-12T10:04:07.359Z"
   },
   {
    "duration": 4372,
    "start_time": "2024-02-12T10:07:23.964Z"
   },
   {
    "duration": 3755,
    "start_time": "2024-02-12T10:10:45.718Z"
   },
   {
    "duration": 4182,
    "start_time": "2024-02-12T10:13:04.428Z"
   },
   {
    "duration": 4094,
    "start_time": "2024-02-12T10:13:36.766Z"
   },
   {
    "duration": 3872,
    "start_time": "2024-02-12T10:15:11.252Z"
   },
   {
    "duration": 2845,
    "start_time": "2024-02-12T10:28:30.290Z"
   },
   {
    "duration": 1798,
    "start_time": "2024-02-12T11:02:34.247Z"
   },
   {
    "duration": 382,
    "start_time": "2024-02-12T11:02:36.047Z"
   },
   {
    "duration": 358,
    "start_time": "2024-02-12T11:02:36.430Z"
   },
   {
    "duration": 3862,
    "start_time": "2024-02-12T11:02:36.791Z"
   },
   {
    "duration": 274,
    "start_time": "2024-02-12T11:02:40.655Z"
   },
   {
    "duration": 3128,
    "start_time": "2024-02-12T11:02:40.931Z"
   },
   {
    "duration": 21,
    "start_time": "2024-02-12T11:02:44.061Z"
   },
   {
    "duration": 1341,
    "start_time": "2024-02-12T11:02:44.083Z"
   },
   {
    "duration": 1876,
    "start_time": "2024-02-12T11:11:35.608Z"
   },
   {
    "duration": 432,
    "start_time": "2024-02-12T11:11:37.486Z"
   },
   {
    "duration": 346,
    "start_time": "2024-02-12T11:11:37.919Z"
   },
   {
    "duration": 3962,
    "start_time": "2024-02-12T11:11:38.267Z"
   },
   {
    "duration": 269,
    "start_time": "2024-02-12T11:11:42.232Z"
   },
   {
    "duration": 3086,
    "start_time": "2024-02-12T11:11:42.503Z"
   },
   {
    "duration": 33,
    "start_time": "2024-02-12T11:11:45.591Z"
   },
   {
    "duration": 1589,
    "start_time": "2024-02-12T11:11:45.627Z"
   },
   {
    "duration": 1840,
    "start_time": "2024-02-12T11:15:40.585Z"
   },
   {
    "duration": 425,
    "start_time": "2024-02-12T11:15:42.427Z"
   },
   {
    "duration": 323,
    "start_time": "2024-02-12T11:15:42.854Z"
   },
   {
    "duration": 3907,
    "start_time": "2024-02-12T11:15:43.178Z"
   },
   {
    "duration": 261,
    "start_time": "2024-02-12T11:15:47.087Z"
   },
   {
    "duration": 3344,
    "start_time": "2024-02-12T11:15:47.349Z"
   },
   {
    "duration": 39,
    "start_time": "2024-02-12T11:15:50.694Z"
   },
   {
    "duration": 1304,
    "start_time": "2024-02-12T11:15:50.735Z"
   },
   {
    "duration": 1842,
    "start_time": "2024-02-12T11:20:30.357Z"
   },
   {
    "duration": 347,
    "start_time": "2024-02-12T11:20:32.201Z"
   },
   {
    "duration": 331,
    "start_time": "2024-02-12T11:20:32.551Z"
   },
   {
    "duration": 3863,
    "start_time": "2024-02-12T11:20:32.884Z"
   },
   {
    "duration": 270,
    "start_time": "2024-02-12T11:20:36.748Z"
   },
   {
    "duration": 3129,
    "start_time": "2024-02-12T11:20:37.020Z"
   },
   {
    "duration": 19,
    "start_time": "2024-02-12T11:20:40.151Z"
   },
   {
    "duration": 190,
    "start_time": "2024-02-12T11:20:40.172Z"
   },
   {
    "duration": 1912,
    "start_time": "2024-02-12T11:27:39.227Z"
   },
   {
    "duration": 480,
    "start_time": "2024-02-12T11:27:41.141Z"
   },
   {
    "duration": 367,
    "start_time": "2024-02-12T11:27:41.623Z"
   },
   {
    "duration": 3941,
    "start_time": "2024-02-12T11:27:41.992Z"
   },
   {
    "duration": 303,
    "start_time": "2024-02-12T11:27:45.936Z"
   },
   {
    "duration": 3186,
    "start_time": "2024-02-12T11:27:46.241Z"
   },
   {
    "duration": 22,
    "start_time": "2024-02-12T11:27:49.429Z"
   },
   {
    "duration": 226,
    "start_time": "2024-02-12T11:27:49.453Z"
   },
   {
    "duration": 1914,
    "start_time": "2024-02-12T11:35:49.379Z"
   },
   {
    "duration": 1786,
    "start_time": "2024-02-12T11:41:04.171Z"
   },
   {
    "duration": 362,
    "start_time": "2024-02-12T11:41:05.959Z"
   },
   {
    "duration": 316,
    "start_time": "2024-02-12T11:41:06.323Z"
   },
   {
    "duration": 1869,
    "start_time": "2024-02-12T11:41:06.641Z"
   },
   {
    "duration": 370,
    "start_time": "2024-02-12T11:41:08.512Z"
   },
   {
    "duration": 3052,
    "start_time": "2024-02-12T11:41:08.884Z"
   },
   {
    "duration": 19,
    "start_time": "2024-02-12T11:41:11.938Z"
   },
   {
    "duration": 195,
    "start_time": "2024-02-12T11:41:11.959Z"
   },
   {
    "duration": 1793,
    "start_time": "2024-02-12T11:41:44.313Z"
   },
   {
    "duration": 318,
    "start_time": "2024-02-12T11:41:46.108Z"
   },
   {
    "duration": 318,
    "start_time": "2024-02-12T11:41:46.428Z"
   },
   {
    "duration": 1876,
    "start_time": "2024-02-12T11:41:46.748Z"
   },
   {
    "duration": 344,
    "start_time": "2024-02-12T11:41:48.626Z"
   },
   {
    "duration": 1180,
    "start_time": "2024-02-12T11:41:48.972Z"
   },
   {
    "duration": 19,
    "start_time": "2024-02-12T11:41:50.153Z"
   },
   {
    "duration": 176,
    "start_time": "2024-02-12T11:41:50.173Z"
   },
   {
    "duration": 1776,
    "start_time": "2024-02-12T12:05:54.795Z"
   },
   {
    "duration": 350,
    "start_time": "2024-02-12T12:05:56.573Z"
   },
   {
    "duration": 309,
    "start_time": "2024-02-12T12:05:56.924Z"
   },
   {
    "duration": 1840,
    "start_time": "2024-02-12T12:05:57.235Z"
   },
   {
    "duration": 387,
    "start_time": "2024-02-12T12:05:59.078Z"
   },
   {
    "duration": 1173,
    "start_time": "2024-02-12T12:05:59.467Z"
   },
   {
    "duration": 19,
    "start_time": "2024-02-12T12:06:00.642Z"
   },
   {
    "duration": 196,
    "start_time": "2024-02-12T12:06:00.663Z"
   },
   {
    "duration": 1781,
    "start_time": "2024-02-12T12:07:36.616Z"
   },
   {
    "duration": 339,
    "start_time": "2024-02-12T12:07:38.399Z"
   },
   {
    "duration": 321,
    "start_time": "2024-02-12T12:07:38.740Z"
   },
   {
    "duration": 1882,
    "start_time": "2024-02-12T12:07:39.064Z"
   },
   {
    "duration": 353,
    "start_time": "2024-02-12T12:07:40.948Z"
   },
   {
    "duration": 1215,
    "start_time": "2024-02-12T12:07:41.303Z"
   },
   {
    "duration": 18,
    "start_time": "2024-02-12T12:07:42.520Z"
   },
   {
    "duration": 179,
    "start_time": "2024-02-12T12:07:42.540Z"
   },
   {
    "duration": 1860,
    "start_time": "2024-02-12T12:08:15.727Z"
   },
   {
    "duration": 320,
    "start_time": "2024-02-12T12:08:17.589Z"
   },
   {
    "duration": 302,
    "start_time": "2024-02-12T12:08:17.910Z"
   },
   {
    "duration": 1900,
    "start_time": "2024-02-12T12:08:18.217Z"
   },
   {
    "duration": 359,
    "start_time": "2024-02-12T12:08:20.119Z"
   },
   {
    "duration": 1199,
    "start_time": "2024-02-12T12:08:20.479Z"
   },
   {
    "duration": 19,
    "start_time": "2024-02-12T12:08:21.680Z"
   },
   {
    "duration": 174,
    "start_time": "2024-02-12T12:08:21.701Z"
   },
   {
    "duration": 1785,
    "start_time": "2024-02-12T12:11:36.610Z"
   },
   {
    "duration": 352,
    "start_time": "2024-02-12T12:11:38.397Z"
   },
   {
    "duration": 341,
    "start_time": "2024-02-12T12:11:38.750Z"
   },
   {
    "duration": 1878,
    "start_time": "2024-02-12T12:11:39.093Z"
   },
   {
    "duration": 342,
    "start_time": "2024-02-12T12:11:40.974Z"
   },
   {
    "duration": 1169,
    "start_time": "2024-02-12T12:11:41.318Z"
   },
   {
    "duration": 31,
    "start_time": "2024-02-12T12:11:42.489Z"
   },
   {
    "duration": 168,
    "start_time": "2024-02-12T12:11:42.522Z"
   },
   {
    "duration": 1804,
    "start_time": "2024-02-12T12:12:41.675Z"
   },
   {
    "duration": 372,
    "start_time": "2024-02-12T12:12:43.481Z"
   },
   {
    "duration": 318,
    "start_time": "2024-02-12T12:12:43.855Z"
   },
   {
    "duration": 1784,
    "start_time": "2024-02-12T12:12:44.175Z"
   },
   {
    "duration": 340,
    "start_time": "2024-02-12T12:12:45.961Z"
   },
   {
    "duration": 1123,
    "start_time": "2024-02-12T12:12:46.302Z"
   },
   {
    "duration": 20,
    "start_time": "2024-02-12T12:12:47.427Z"
   },
   {
    "duration": 183,
    "start_time": "2024-02-12T12:12:47.448Z"
   },
   {
    "duration": 2009,
    "start_time": "2024-02-12T12:13:07.534Z"
   },
   {
    "duration": 417,
    "start_time": "2024-02-12T12:13:09.545Z"
   },
   {
    "duration": 324,
    "start_time": "2024-02-12T12:13:09.963Z"
   },
   {
    "duration": 1988,
    "start_time": "2024-02-12T12:13:10.289Z"
   },
   {
    "duration": 416,
    "start_time": "2024-02-12T12:13:12.279Z"
   },
   {
    "duration": 1215,
    "start_time": "2024-02-12T12:13:12.697Z"
   },
   {
    "duration": 27,
    "start_time": "2024-02-12T12:13:13.918Z"
   },
   {
    "duration": 177,
    "start_time": "2024-02-12T12:13:13.947Z"
   },
   {
    "duration": 1787,
    "start_time": "2024-02-12T12:13:24.915Z"
   },
   {
    "duration": 352,
    "start_time": "2024-02-12T12:13:26.704Z"
   },
   {
    "duration": 308,
    "start_time": "2024-02-12T12:13:27.057Z"
   },
   {
    "duration": 1868,
    "start_time": "2024-02-12T12:13:27.367Z"
   },
   {
    "duration": 357,
    "start_time": "2024-02-12T12:13:29.236Z"
   },
   {
    "duration": 1150,
    "start_time": "2024-02-12T12:13:29.595Z"
   },
   {
    "duration": 21,
    "start_time": "2024-02-12T12:13:30.747Z"
   },
   {
    "duration": 193,
    "start_time": "2024-02-12T12:13:30.769Z"
   },
   {
    "duration": 2105,
    "start_time": "2024-02-12T12:39:37.314Z"
   },
   {
    "duration": 428,
    "start_time": "2024-02-12T12:39:39.421Z"
   },
   {
    "duration": 451,
    "start_time": "2024-02-12T12:39:39.853Z"
   },
   {
    "duration": 2347,
    "start_time": "2024-02-12T12:39:40.308Z"
   },
   {
    "duration": 419,
    "start_time": "2024-02-12T12:39:42.657Z"
   },
   {
    "duration": 1491,
    "start_time": "2024-02-12T12:39:43.078Z"
   },
   {
    "duration": 39,
    "start_time": "2024-02-12T12:39:44.570Z"
   },
   {
    "duration": 204,
    "start_time": "2024-02-12T12:39:44.611Z"
   },
   {
    "duration": 1396,
    "start_time": "2024-02-12T16:42:36.514Z"
   },
   {
    "duration": 470,
    "start_time": "2024-02-12T16:42:37.912Z"
   },
   {
    "duration": 520,
    "start_time": "2024-02-12T16:42:38.384Z"
   },
   {
    "duration": 350,
    "start_time": "2024-02-12T16:42:38.906Z"
   },
   {
    "duration": 345,
    "start_time": "2024-02-12T16:42:39.259Z"
   },
   {
    "duration": 2052,
    "start_time": "2024-02-12T16:42:39.607Z"
   },
   {
    "duration": 362,
    "start_time": "2024-02-12T16:42:41.665Z"
   },
   {
    "duration": 1227,
    "start_time": "2024-02-12T16:42:42.029Z"
   },
   {
    "duration": 20,
    "start_time": "2024-02-12T16:42:43.265Z"
   },
   {
    "duration": 202,
    "start_time": "2024-02-12T16:42:43.286Z"
   },
   {
    "duration": 1220,
    "start_time": "2024-02-12T16:45:19.885Z"
   },
   {
    "duration": 244,
    "start_time": "2024-02-12T16:45:21.107Z"
   },
   {
    "duration": 534,
    "start_time": "2024-02-12T16:45:21.353Z"
   },
   {
    "duration": 432,
    "start_time": "2024-02-12T16:45:21.890Z"
   },
   {
    "duration": 413,
    "start_time": "2024-02-12T16:45:22.325Z"
   },
   {
    "duration": 1984,
    "start_time": "2024-02-12T16:45:22.740Z"
   },
   {
    "duration": 382,
    "start_time": "2024-02-12T16:45:24.726Z"
   },
   {
    "duration": 1349,
    "start_time": "2024-02-12T16:45:25.110Z"
   },
   {
    "duration": 21,
    "start_time": "2024-02-12T16:45:26.466Z"
   },
   {
    "duration": 196,
    "start_time": "2024-02-12T16:45:26.490Z"
   },
   {
    "duration": 1207,
    "start_time": "2024-02-12T16:46:51.454Z"
   },
   {
    "duration": 234,
    "start_time": "2024-02-12T16:46:52.666Z"
   },
   {
    "duration": 456,
    "start_time": "2024-02-12T16:46:52.902Z"
   },
   {
    "duration": 343,
    "start_time": "2024-02-12T16:46:53.365Z"
   },
   {
    "duration": 337,
    "start_time": "2024-02-12T16:46:53.710Z"
   },
   {
    "duration": 2304,
    "start_time": "2024-02-12T16:46:54.048Z"
   },
   {
    "duration": 378,
    "start_time": "2024-02-12T16:46:56.354Z"
   },
   {
    "duration": 1216,
    "start_time": "2024-02-12T16:46:56.734Z"
   },
   {
    "duration": 27,
    "start_time": "2024-02-12T16:46:57.952Z"
   },
   {
    "duration": 187,
    "start_time": "2024-02-12T16:46:57.981Z"
   },
   {
    "duration": 51,
    "start_time": "2024-03-16T09:24:04.820Z"
   },
   {
    "duration": 1282,
    "start_time": "2024-03-16T09:25:23.699Z"
   },
   {
    "duration": 286,
    "start_time": "2024-03-16T09:25:24.983Z"
   },
   {
    "duration": 506,
    "start_time": "2024-03-16T09:25:25.271Z"
   },
   {
    "duration": 33,
    "start_time": "2024-03-16T09:25:25.778Z"
   },
   {
    "duration": 160,
    "start_time": "2024-03-16T09:25:25.813Z"
   },
   {
    "duration": 68,
    "start_time": "2024-03-16T09:25:25.975Z"
   },
   {
    "duration": 94,
    "start_time": "2024-03-16T09:25:26.045Z"
   },
   {
    "duration": 323,
    "start_time": "2024-03-16T09:25:26.141Z"
   },
   {
    "duration": 1790,
    "start_time": "2024-03-16T09:25:26.466Z"
   },
   {
    "duration": 328,
    "start_time": "2024-03-16T09:25:28.257Z"
   },
   {
    "duration": 1118,
    "start_time": "2024-03-16T09:25:28.586Z"
   },
   {
    "duration": 18,
    "start_time": "2024-03-16T09:25:29.705Z"
   },
   {
    "duration": 181,
    "start_time": "2024-03-16T09:25:29.725Z"
   },
   {
    "duration": 1138,
    "start_time": "2024-03-16T11:28:24.987Z"
   },
   {
    "duration": 222,
    "start_time": "2024-03-16T11:28:26.127Z"
   },
   {
    "duration": 493,
    "start_time": "2024-03-16T11:28:26.350Z"
   },
   {
    "duration": 41,
    "start_time": "2024-03-16T11:28:26.845Z"
   },
   {
    "duration": 183,
    "start_time": "2024-03-16T11:28:26.889Z"
   },
   {
    "duration": 79,
    "start_time": "2024-03-16T11:28:27.074Z"
   },
   {
    "duration": 86,
    "start_time": "2024-03-16T11:28:27.155Z"
   },
   {
    "duration": 318,
    "start_time": "2024-03-16T11:28:27.243Z"
   },
   {
    "duration": 213,
    "start_time": "2024-03-16T11:28:27.563Z"
   },
   {
    "duration": 241,
    "start_time": "2024-03-16T11:28:27.777Z"
   },
   {
    "duration": 182,
    "start_time": "2024-03-16T11:28:28.020Z"
   },
   {
    "duration": 237,
    "start_time": "2024-03-16T11:28:28.204Z"
   },
   {
    "duration": 262,
    "start_time": "2024-03-16T11:28:28.443Z"
   },
   {
    "duration": 114,
    "start_time": "2024-03-16T11:28:28.707Z"
   },
   {
    "duration": 116,
    "start_time": "2024-03-16T11:28:28.822Z"
   },
   {
    "duration": 171,
    "start_time": "2024-03-16T11:28:28.940Z"
   },
   {
    "duration": 193,
    "start_time": "2024-03-16T11:28:29.112Z"
   },
   {
    "duration": 173,
    "start_time": "2024-03-16T11:28:29.306Z"
   },
   {
    "duration": 17,
    "start_time": "2024-03-16T11:28:29.481Z"
   },
   {
    "duration": 336,
    "start_time": "2024-03-16T11:28:29.500Z"
   },
   {
    "duration": 1175,
    "start_time": "2024-03-16T11:28:29.838Z"
   },
   {
    "duration": 20,
    "start_time": "2024-03-16T11:28:31.015Z"
   },
   {
    "duration": 248,
    "start_time": "2024-03-16T11:28:31.037Z"
   },
   {
    "duration": 1078,
    "start_time": "2024-03-16T11:31:49.683Z"
   },
   {
    "duration": 230,
    "start_time": "2024-03-16T11:31:50.762Z"
   },
   {
    "duration": 452,
    "start_time": "2024-03-16T11:31:50.993Z"
   },
   {
    "duration": 41,
    "start_time": "2024-03-16T11:31:51.446Z"
   },
   {
    "duration": 153,
    "start_time": "2024-03-16T11:31:51.489Z"
   },
   {
    "duration": 102,
    "start_time": "2024-03-16T11:31:51.643Z"
   },
   {
    "duration": 83,
    "start_time": "2024-03-16T11:31:51.746Z"
   },
   {
    "duration": 327,
    "start_time": "2024-03-16T11:31:51.831Z"
   },
   {
    "duration": 202,
    "start_time": "2024-03-16T11:31:52.160Z"
   },
   {
    "duration": 235,
    "start_time": "2024-03-16T11:31:52.364Z"
   },
   {
    "duration": 161,
    "start_time": "2024-03-16T11:31:52.600Z"
   },
   {
    "duration": 247,
    "start_time": "2024-03-16T11:31:52.762Z"
   },
   {
    "duration": 261,
    "start_time": "2024-03-16T11:31:53.011Z"
   },
   {
    "duration": 113,
    "start_time": "2024-03-16T11:31:53.274Z"
   },
   {
    "duration": 115,
    "start_time": "2024-03-16T11:31:53.388Z"
   },
   {
    "duration": 181,
    "start_time": "2024-03-16T11:31:53.505Z"
   },
   {
    "duration": 201,
    "start_time": "2024-03-16T11:31:53.688Z"
   },
   {
    "duration": 161,
    "start_time": "2024-03-16T11:31:53.890Z"
   },
   {
    "duration": 26,
    "start_time": "2024-03-16T11:31:54.052Z"
   },
   {
    "duration": 335,
    "start_time": "2024-03-16T11:31:54.080Z"
   },
   {
    "duration": 153,
    "start_time": "2024-03-16T11:31:54.416Z"
   },
   {
    "duration": 152,
    "start_time": "2024-03-16T11:31:54.571Z"
   },
   {
    "duration": 140,
    "start_time": "2024-03-16T11:31:54.724Z"
   },
   {
    "duration": 132,
    "start_time": "2024-03-16T11:31:54.866Z"
   },
   {
    "duration": 155,
    "start_time": "2024-03-16T11:31:54.999Z"
   },
   {
    "duration": 157,
    "start_time": "2024-03-16T11:31:55.156Z"
   },
   {
    "duration": 169,
    "start_time": "2024-03-16T11:31:55.315Z"
   },
   {
    "duration": 148,
    "start_time": "2024-03-16T11:31:55.485Z"
   },
   {
    "duration": 17,
    "start_time": "2024-03-16T11:31:55.635Z"
   },
   {
    "duration": 33,
    "start_time": "2024-03-16T11:31:55.653Z"
   },
   {
    "duration": 164,
    "start_time": "2024-03-16T11:31:55.688Z"
   },
   {
    "duration": 1397,
    "start_time": "2024-03-16T17:17:49.259Z"
   },
   {
    "duration": 440,
    "start_time": "2024-03-16T17:17:50.658Z"
   },
   {
    "duration": 542,
    "start_time": "2024-03-16T17:17:51.099Z"
   },
   {
    "duration": 40,
    "start_time": "2024-03-16T17:17:51.643Z"
   },
   {
    "duration": 183,
    "start_time": "2024-03-16T17:17:51.685Z"
   },
   {
    "duration": 96,
    "start_time": "2024-03-16T17:17:51.870Z"
   },
   {
    "duration": 108,
    "start_time": "2024-03-16T17:17:51.968Z"
   },
   {
    "duration": 365,
    "start_time": "2024-03-16T17:17:52.078Z"
   },
   {
    "duration": 252,
    "start_time": "2024-03-16T17:17:52.445Z"
   },
   {
    "duration": 271,
    "start_time": "2024-03-16T17:17:52.699Z"
   },
   {
    "duration": 191,
    "start_time": "2024-03-16T17:17:52.972Z"
   },
   {
    "duration": 265,
    "start_time": "2024-03-16T17:17:53.164Z"
   },
   {
    "duration": 276,
    "start_time": "2024-03-16T17:17:53.430Z"
   },
   {
    "duration": 141,
    "start_time": "2024-03-16T17:17:53.708Z"
   },
   {
    "duration": 122,
    "start_time": "2024-03-16T17:17:53.851Z"
   },
   {
    "duration": 183,
    "start_time": "2024-03-16T17:17:53.975Z"
   },
   {
    "duration": 206,
    "start_time": "2024-03-16T17:17:54.160Z"
   },
   {
    "duration": 186,
    "start_time": "2024-03-16T17:17:54.368Z"
   },
   {
    "duration": 17,
    "start_time": "2024-03-16T17:17:54.558Z"
   },
   {
    "duration": 367,
    "start_time": "2024-03-16T17:17:54.576Z"
   },
   {
    "duration": 165,
    "start_time": "2024-03-16T17:17:54.945Z"
   },
   {
    "duration": 169,
    "start_time": "2024-03-16T17:17:55.111Z"
   },
   {
    "duration": 150,
    "start_time": "2024-03-16T17:17:55.281Z"
   },
   {
    "duration": 145,
    "start_time": "2024-03-16T17:17:55.432Z"
   },
   {
    "duration": 151,
    "start_time": "2024-03-16T17:17:55.579Z"
   },
   {
    "duration": 168,
    "start_time": "2024-03-16T17:17:55.732Z"
   },
   {
    "duration": 175,
    "start_time": "2024-03-16T17:17:55.902Z"
   },
   {
    "duration": 162,
    "start_time": "2024-03-16T17:17:56.080Z"
   },
   {
    "duration": 25,
    "start_time": "2024-03-16T17:17:56.244Z"
   },
   {
    "duration": 21,
    "start_time": "2024-03-16T17:17:56.271Z"
   },
   {
    "duration": 192,
    "start_time": "2024-03-16T17:17:56.294Z"
   },
   {
    "duration": 1234,
    "start_time": "2024-03-16T17:18:10.344Z"
   },
   {
    "duration": 208,
    "start_time": "2024-03-16T17:18:11.581Z"
   },
   {
    "duration": 1791,
    "start_time": "2024-03-16T17:18:11.791Z"
   },
   {
    "duration": 29,
    "start_time": "2024-03-16T17:18:13.585Z"
   },
   {
    "duration": 106,
    "start_time": "2024-03-16T17:18:13.616Z"
   },
   {
    "duration": 51,
    "start_time": "2024-03-16T17:18:13.759Z"
   },
   {
    "duration": 59,
    "start_time": "2024-03-16T17:18:13.812Z"
   },
   {
    "duration": 322,
    "start_time": "2024-03-16T17:18:13.873Z"
   },
   {
    "duration": 227,
    "start_time": "2024-03-16T17:18:14.197Z"
   },
   {
    "duration": 218,
    "start_time": "2024-03-16T17:18:14.426Z"
   },
   {
    "duration": 187,
    "start_time": "2024-03-16T17:18:14.646Z"
   },
   {
    "duration": 261,
    "start_time": "2024-03-16T17:18:14.835Z"
   },
   {
    "duration": 410,
    "start_time": "2024-03-16T17:18:15.098Z"
   },
   {
    "duration": 124,
    "start_time": "2024-03-16T17:18:15.510Z"
   },
   {
    "duration": 126,
    "start_time": "2024-03-16T17:18:15.635Z"
   },
   {
    "duration": 187,
    "start_time": "2024-03-16T17:18:15.762Z"
   },
   {
    "duration": 226,
    "start_time": "2024-03-16T17:18:15.950Z"
   },
   {
    "duration": 180,
    "start_time": "2024-03-16T17:18:16.178Z"
   },
   {
    "duration": 17,
    "start_time": "2024-03-16T17:18:16.360Z"
   },
   {
    "duration": 275,
    "start_time": "2024-03-16T17:18:16.379Z"
   },
   {
    "duration": 163,
    "start_time": "2024-03-16T17:18:16.659Z"
   },
   {
    "duration": 179,
    "start_time": "2024-03-16T17:18:16.824Z"
   },
   {
    "duration": 290,
    "start_time": "2024-03-16T17:18:17.005Z"
   },
   {
    "duration": 156,
    "start_time": "2024-03-16T17:18:17.297Z"
   },
   {
    "duration": 146,
    "start_time": "2024-03-16T17:18:17.458Z"
   },
   {
    "duration": 165,
    "start_time": "2024-03-16T17:18:17.605Z"
   },
   {
    "duration": 180,
    "start_time": "2024-03-16T17:18:17.771Z"
   },
   {
    "duration": 153,
    "start_time": "2024-03-16T17:18:17.958Z"
   },
   {
    "duration": 17,
    "start_time": "2024-03-16T17:18:18.113Z"
   },
   {
    "duration": 41,
    "start_time": "2024-03-16T17:18:18.132Z"
   },
   {
    "duration": 193,
    "start_time": "2024-03-16T17:18:18.174Z"
   },
   {
    "duration": 69,
    "start_time": "2024-03-16T17:18:19.695Z"
   },
   {
    "duration": 103,
    "start_time": "2024-03-16T17:18:22.900Z"
   },
   {
    "duration": 9,
    "start_time": "2024-03-16T17:18:32.610Z"
   },
   {
    "duration": 2633,
    "start_time": "2024-03-16T17:18:54.587Z"
   },
   {
    "duration": 72,
    "start_time": "2024-03-16T17:21:08.789Z"
   },
   {
    "duration": 4,
    "start_time": "2024-03-16T17:21:20.560Z"
   },
   {
    "duration": 1110,
    "start_time": "2024-03-16T17:21:25.214Z"
   },
   {
    "duration": 204,
    "start_time": "2024-03-16T17:21:26.325Z"
   },
   {
    "duration": 1978,
    "start_time": "2024-03-16T17:21:26.530Z"
   },
   {
    "duration": 29,
    "start_time": "2024-03-16T17:21:28.510Z"
   },
   {
    "duration": 121,
    "start_time": "2024-03-16T17:21:28.540Z"
   },
   {
    "duration": 48,
    "start_time": "2024-03-16T17:21:28.663Z"
   },
   {
    "duration": 58,
    "start_time": "2024-03-16T17:21:28.712Z"
   },
   {
    "duration": 327,
    "start_time": "2024-03-16T17:21:28.771Z"
   },
   {
    "duration": 228,
    "start_time": "2024-03-16T17:21:29.100Z"
   },
   {
    "duration": 203,
    "start_time": "2024-03-16T17:21:29.330Z"
   },
   {
    "duration": 184,
    "start_time": "2024-03-16T17:21:29.535Z"
   },
   {
    "duration": 274,
    "start_time": "2024-03-16T17:21:29.720Z"
   },
   {
    "duration": 421,
    "start_time": "2024-03-16T17:21:29.995Z"
   },
   {
    "duration": 125,
    "start_time": "2024-03-16T17:21:30.418Z"
   },
   {
    "duration": 120,
    "start_time": "2024-03-16T17:21:30.544Z"
   },
   {
    "duration": 188,
    "start_time": "2024-03-16T17:21:30.665Z"
   },
   {
    "duration": 204,
    "start_time": "2024-03-16T17:21:30.858Z"
   },
   {
    "duration": 184,
    "start_time": "2024-03-16T17:21:31.064Z"
   },
   {
    "duration": 11,
    "start_time": "2024-03-16T17:21:31.249Z"
   },
   {
    "duration": 48,
    "start_time": "2024-03-16T17:21:31.262Z"
   },
   {
    "duration": 88,
    "start_time": "2024-03-16T17:21:31.312Z"
   },
   {
    "duration": 274,
    "start_time": "2024-03-16T17:21:31.401Z"
   },
   {
    "duration": 156,
    "start_time": "2024-03-16T17:21:31.677Z"
   },
   {
    "duration": 165,
    "start_time": "2024-03-16T17:21:31.835Z"
   },
   {
    "duration": 252,
    "start_time": "2024-03-16T17:21:32.002Z"
   },
   {
    "duration": 150,
    "start_time": "2024-03-16T17:21:32.256Z"
   },
   {
    "duration": 158,
    "start_time": "2024-03-16T17:21:32.408Z"
   },
   {
    "duration": 179,
    "start_time": "2024-03-16T17:21:32.569Z"
   },
   {
    "duration": 181,
    "start_time": "2024-03-16T17:21:32.750Z"
   },
   {
    "duration": 159,
    "start_time": "2024-03-16T17:21:32.933Z"
   },
   {
    "duration": 16,
    "start_time": "2024-03-16T17:21:33.094Z"
   },
   {
    "duration": 21,
    "start_time": "2024-03-16T17:21:33.112Z"
   },
   {
    "duration": 211,
    "start_time": "2024-03-16T17:21:33.135Z"
   },
   {
    "duration": 12,
    "start_time": "2024-03-16T17:23:28.763Z"
   },
   {
    "duration": 1455,
    "start_time": "2024-03-16T18:02:39.872Z"
   },
   {
    "duration": 279,
    "start_time": "2024-03-16T18:02:41.329Z"
   },
   {
    "duration": 2120,
    "start_time": "2024-03-16T18:02:41.609Z"
   },
   {
    "duration": 27,
    "start_time": "2024-03-16T18:02:43.731Z"
   },
   {
    "duration": 145,
    "start_time": "2024-03-16T18:02:43.759Z"
   },
   {
    "duration": 90,
    "start_time": "2024-03-16T18:02:43.906Z"
   },
   {
    "duration": 49,
    "start_time": "2024-03-16T18:02:43.997Z"
   },
   {
    "duration": 334,
    "start_time": "2024-03-16T18:02:44.047Z"
   },
   {
    "duration": 210,
    "start_time": "2024-03-16T18:02:44.383Z"
   },
   {
    "duration": 212,
    "start_time": "2024-03-16T18:02:44.595Z"
   },
   {
    "duration": 190,
    "start_time": "2024-03-16T18:02:44.808Z"
   },
   {
    "duration": 240,
    "start_time": "2024-03-16T18:02:45.000Z"
   },
   {
    "duration": 412,
    "start_time": "2024-03-16T18:02:45.241Z"
   },
   {
    "duration": 138,
    "start_time": "2024-03-16T18:02:45.654Z"
   },
   {
    "duration": 124,
    "start_time": "2024-03-16T18:02:45.795Z"
   },
   {
    "duration": 198,
    "start_time": "2024-03-16T18:02:45.921Z"
   },
   {
    "duration": 227,
    "start_time": "2024-03-16T18:02:46.120Z"
   },
   {
    "duration": 197,
    "start_time": "2024-03-16T18:02:46.348Z"
   },
   {
    "duration": 4,
    "start_time": "2024-03-16T18:02:46.546Z"
   },
   {
    "duration": 34,
    "start_time": "2024-03-16T18:02:46.551Z"
   },
   {
    "duration": 267,
    "start_time": "2024-03-16T18:02:46.587Z"
   },
   {
    "duration": 161,
    "start_time": "2024-03-16T18:02:46.855Z"
   },
   {
    "duration": 151,
    "start_time": "2024-03-16T18:02:47.017Z"
   },
   {
    "duration": 221,
    "start_time": "2024-03-16T18:02:47.170Z"
   },
   {
    "duration": 134,
    "start_time": "2024-03-16T18:02:47.393Z"
   },
   {
    "duration": 169,
    "start_time": "2024-03-16T18:02:47.528Z"
   },
   {
    "duration": 166,
    "start_time": "2024-03-16T18:02:47.699Z"
   },
   {
    "duration": 191,
    "start_time": "2024-03-16T18:02:47.869Z"
   },
   {
    "duration": 177,
    "start_time": "2024-03-16T18:02:48.061Z"
   },
   {
    "duration": 16,
    "start_time": "2024-03-16T18:02:48.239Z"
   },
   {
    "duration": 33,
    "start_time": "2024-03-16T18:02:48.271Z"
   },
   {
    "duration": 205,
    "start_time": "2024-03-16T18:02:48.305Z"
   },
   {
    "duration": 1148,
    "start_time": "2024-03-16T18:05:48.178Z"
   },
   {
    "duration": 215,
    "start_time": "2024-03-16T18:05:49.328Z"
   },
   {
    "duration": 2104,
    "start_time": "2024-03-16T18:05:49.545Z"
   },
   {
    "duration": 40,
    "start_time": "2024-03-16T18:05:51.651Z"
   },
   {
    "duration": 137,
    "start_time": "2024-03-16T18:05:51.693Z"
   },
   {
    "duration": 101,
    "start_time": "2024-03-16T18:05:51.831Z"
   },
   {
    "duration": 64,
    "start_time": "2024-03-16T18:05:51.934Z"
   },
   {
    "duration": 363,
    "start_time": "2024-03-16T18:05:51.999Z"
   },
   {
    "duration": 244,
    "start_time": "2024-03-16T18:05:52.363Z"
   },
   {
    "duration": 198,
    "start_time": "2024-03-16T18:05:52.609Z"
   },
   {
    "duration": 178,
    "start_time": "2024-03-16T18:05:52.809Z"
   },
   {
    "duration": 250,
    "start_time": "2024-03-16T18:05:52.988Z"
   },
   {
    "duration": 381,
    "start_time": "2024-03-16T18:05:53.239Z"
   },
   {
    "duration": 117,
    "start_time": "2024-03-16T18:05:53.621Z"
   },
   {
    "duration": 121,
    "start_time": "2024-03-16T18:05:53.740Z"
   },
   {
    "duration": 184,
    "start_time": "2024-03-16T18:05:53.863Z"
   },
   {
    "duration": 208,
    "start_time": "2024-03-16T18:05:54.048Z"
   },
   {
    "duration": 169,
    "start_time": "2024-03-16T18:05:54.258Z"
   },
   {
    "duration": 4,
    "start_time": "2024-03-16T18:05:54.428Z"
   },
   {
    "duration": 22,
    "start_time": "2024-03-16T18:05:54.434Z"
   },
   {
    "duration": 393,
    "start_time": "2024-03-16T18:05:54.476Z"
   },
   {
    "duration": 144,
    "start_time": "2024-03-16T18:05:54.871Z"
   },
   {
    "duration": 250,
    "start_time": "2024-03-16T18:05:55.016Z"
   },
   {
    "duration": 169,
    "start_time": "2024-03-16T18:05:55.269Z"
   },
   {
    "duration": 172,
    "start_time": "2024-03-16T18:05:55.440Z"
   },
   {
    "duration": 163,
    "start_time": "2024-03-16T18:05:55.614Z"
   },
   {
    "duration": 174,
    "start_time": "2024-03-16T18:05:55.780Z"
   },
   {
    "duration": 198,
    "start_time": "2024-03-16T18:05:55.956Z"
   },
   {
    "duration": 180,
    "start_time": "2024-03-16T18:05:56.155Z"
   },
   {
    "duration": 18,
    "start_time": "2024-03-16T18:05:56.338Z"
   },
   {
    "duration": 42,
    "start_time": "2024-03-16T18:05:56.357Z"
   },
   {
    "duration": 202,
    "start_time": "2024-03-16T18:05:56.401Z"
   },
   {
    "duration": 1181,
    "start_time": "2024-03-16T18:10:36.736Z"
   },
   {
    "duration": 229,
    "start_time": "2024-03-16T18:10:37.918Z"
   },
   {
    "duration": 2097,
    "start_time": "2024-03-16T18:10:38.148Z"
   },
   {
    "duration": 34,
    "start_time": "2024-03-16T18:10:40.246Z"
   },
   {
    "duration": 130,
    "start_time": "2024-03-16T18:10:40.284Z"
   },
   {
    "duration": 99,
    "start_time": "2024-03-16T18:10:40.417Z"
   },
   {
    "duration": 66,
    "start_time": "2024-03-16T18:10:40.518Z"
   },
   {
    "duration": 370,
    "start_time": "2024-03-16T18:10:40.587Z"
   },
   {
    "duration": 246,
    "start_time": "2024-03-16T18:10:40.959Z"
   },
   {
    "duration": 205,
    "start_time": "2024-03-16T18:10:41.206Z"
   },
   {
    "duration": 212,
    "start_time": "2024-03-16T18:10:41.413Z"
   },
   {
    "duration": 246,
    "start_time": "2024-03-16T18:10:41.627Z"
   },
   {
    "duration": 373,
    "start_time": "2024-03-16T18:10:41.874Z"
   },
   {
    "duration": 118,
    "start_time": "2024-03-16T18:10:42.251Z"
   },
   {
    "duration": 121,
    "start_time": "2024-03-16T18:10:42.371Z"
   },
   {
    "duration": 198,
    "start_time": "2024-03-16T18:10:42.494Z"
   },
   {
    "duration": 200,
    "start_time": "2024-03-16T18:10:42.694Z"
   },
   {
    "duration": 173,
    "start_time": "2024-03-16T18:10:42.896Z"
   },
   {
    "duration": 7,
    "start_time": "2024-03-16T18:10:43.071Z"
   },
   {
    "duration": 19,
    "start_time": "2024-03-16T18:10:43.080Z"
   },
   {
    "duration": 417,
    "start_time": "2024-03-16T18:10:43.101Z"
   },
   {
    "duration": 157,
    "start_time": "2024-03-16T18:10:43.520Z"
   },
   {
    "duration": 14208,
    "start_time": "2024-03-16T18:10:43.680Z"
   },
   {
    "duration": 6492,
    "start_time": "2024-03-16T18:10:57.890Z"
   },
   {
    "duration": 144,
    "start_time": "2024-03-16T18:11:04.384Z"
   },
   {
    "duration": 157,
    "start_time": "2024-03-16T18:11:04.529Z"
   },
   {
    "duration": 157,
    "start_time": "2024-03-16T18:11:04.687Z"
   },
   {
    "duration": 168,
    "start_time": "2024-03-16T18:11:04.846Z"
   },
   {
    "duration": 158,
    "start_time": "2024-03-16T18:11:05.016Z"
   },
   {
    "duration": 18,
    "start_time": "2024-03-16T18:11:05.176Z"
   },
   {
    "duration": 21,
    "start_time": "2024-03-16T18:11:05.196Z"
   },
   {
    "duration": 183,
    "start_time": "2024-03-16T18:11:05.219Z"
   },
   {
    "duration": 1117,
    "start_time": "2024-03-16T18:13:24.573Z"
   },
   {
    "duration": 196,
    "start_time": "2024-03-16T18:13:25.692Z"
   },
   {
    "duration": 1876,
    "start_time": "2024-03-16T18:13:25.889Z"
   },
   {
    "duration": 29,
    "start_time": "2024-03-16T18:13:27.767Z"
   },
   {
    "duration": 109,
    "start_time": "2024-03-16T18:13:27.798Z"
   },
   {
    "duration": 77,
    "start_time": "2024-03-16T18:13:27.909Z"
   },
   {
    "duration": 43,
    "start_time": "2024-03-16T18:13:27.988Z"
   },
   {
    "duration": 322,
    "start_time": "2024-03-16T18:13:28.033Z"
   },
   {
    "duration": 203,
    "start_time": "2024-03-16T18:13:28.356Z"
   },
   {
    "duration": 190,
    "start_time": "2024-03-16T18:13:28.561Z"
   },
   {
    "duration": 167,
    "start_time": "2024-03-16T18:13:28.752Z"
   },
   {
    "duration": 233,
    "start_time": "2024-03-16T18:13:28.921Z"
   },
   {
    "duration": 386,
    "start_time": "2024-03-16T18:13:29.156Z"
   },
   {
    "duration": 129,
    "start_time": "2024-03-16T18:13:29.544Z"
   },
   {
    "duration": 124,
    "start_time": "2024-03-16T18:13:29.675Z"
   },
   {
    "duration": 191,
    "start_time": "2024-03-16T18:13:29.800Z"
   },
   {
    "duration": 226,
    "start_time": "2024-03-16T18:13:29.993Z"
   },
   {
    "duration": 190,
    "start_time": "2024-03-16T18:13:30.220Z"
   },
   {
    "duration": 5,
    "start_time": "2024-03-16T18:13:30.412Z"
   },
   {
    "duration": 167,
    "start_time": "2024-03-16T18:13:30.418Z"
   },
   {
    "duration": 495,
    "start_time": "2024-03-16T18:13:30.586Z"
   },
   {
    "duration": 162,
    "start_time": "2024-03-16T18:13:31.082Z"
   },
   {
    "duration": 231,
    "start_time": "2024-03-16T18:13:31.246Z"
   },
   {
    "duration": 175,
    "start_time": "2024-03-16T18:13:31.479Z"
   },
   {
    "duration": 148,
    "start_time": "2024-03-16T18:13:31.656Z"
   },
   {
    "duration": 148,
    "start_time": "2024-03-16T18:13:31.806Z"
   },
   {
    "duration": 156,
    "start_time": "2024-03-16T18:13:31.956Z"
   },
   {
    "duration": 171,
    "start_time": "2024-03-16T18:13:32.115Z"
   },
   {
    "duration": 151,
    "start_time": "2024-03-16T18:13:32.287Z"
   },
   {
    "duration": 15,
    "start_time": "2024-03-16T18:13:32.440Z"
   },
   {
    "duration": 62,
    "start_time": "2024-03-16T18:13:32.470Z"
   },
   {
    "duration": 255,
    "start_time": "2024-03-16T18:13:32.534Z"
   },
   {
    "duration": 1186,
    "start_time": "2024-03-16T18:17:48.664Z"
   },
   {
    "duration": 213,
    "start_time": "2024-03-16T18:17:49.852Z"
   },
   {
    "duration": 1931,
    "start_time": "2024-03-16T18:17:50.070Z"
   },
   {
    "duration": 27,
    "start_time": "2024-03-16T18:17:52.003Z"
   },
   {
    "duration": 102,
    "start_time": "2024-03-16T18:17:52.032Z"
   },
   {
    "duration": 97,
    "start_time": "2024-03-16T18:17:52.135Z"
   },
   {
    "duration": 53,
    "start_time": "2024-03-16T18:17:52.234Z"
   },
   {
    "duration": 350,
    "start_time": "2024-03-16T18:17:52.289Z"
   },
   {
    "duration": 208,
    "start_time": "2024-03-16T18:17:52.640Z"
   },
   {
    "duration": 185,
    "start_time": "2024-03-16T18:17:52.850Z"
   },
   {
    "duration": 179,
    "start_time": "2024-03-16T18:17:53.036Z"
   },
   {
    "duration": 239,
    "start_time": "2024-03-16T18:17:53.216Z"
   },
   {
    "duration": 374,
    "start_time": "2024-03-16T18:17:53.456Z"
   },
   {
    "duration": 117,
    "start_time": "2024-03-16T18:17:53.831Z"
   },
   {
    "duration": 111,
    "start_time": "2024-03-16T18:17:53.949Z"
   },
   {
    "duration": 182,
    "start_time": "2024-03-16T18:17:54.061Z"
   },
   {
    "duration": 196,
    "start_time": "2024-03-16T18:17:54.245Z"
   },
   {
    "duration": 174,
    "start_time": "2024-03-16T18:17:54.442Z"
   },
   {
    "duration": 4,
    "start_time": "2024-03-16T18:17:54.617Z"
   },
   {
    "duration": 18,
    "start_time": "2024-03-16T18:17:54.622Z"
   },
   {
    "duration": 368,
    "start_time": "2024-03-16T18:17:54.641Z"
   },
   {
    "duration": 167,
    "start_time": "2024-03-16T18:17:55.010Z"
   },
   {
    "duration": 242,
    "start_time": "2024-03-16T18:17:55.180Z"
   },
   {
    "duration": 176,
    "start_time": "2024-03-16T18:17:55.424Z"
   },
   {
    "duration": 167,
    "start_time": "2024-03-16T18:17:55.602Z"
   },
   {
    "duration": 174,
    "start_time": "2024-03-16T18:17:55.772Z"
   },
   {
    "duration": 190,
    "start_time": "2024-03-16T18:17:55.947Z"
   },
   {
    "duration": 192,
    "start_time": "2024-03-16T18:17:56.141Z"
   },
   {
    "duration": 155,
    "start_time": "2024-03-16T18:17:56.334Z"
   },
   {
    "duration": 17,
    "start_time": "2024-03-16T18:17:56.492Z"
   },
   {
    "duration": 17,
    "start_time": "2024-03-16T18:17:56.511Z"
   },
   {
    "duration": 191,
    "start_time": "2024-03-16T18:17:56.530Z"
   },
   {
    "duration": 1196,
    "start_time": "2024-03-16T18:18:49.793Z"
   },
   {
    "duration": 209,
    "start_time": "2024-03-16T18:18:50.992Z"
   },
   {
    "duration": 2102,
    "start_time": "2024-03-16T18:18:51.203Z"
   },
   {
    "duration": 27,
    "start_time": "2024-03-16T18:18:53.306Z"
   },
   {
    "duration": 98,
    "start_time": "2024-03-16T18:18:53.335Z"
   },
   {
    "duration": 104,
    "start_time": "2024-03-16T18:18:53.434Z"
   },
   {
    "duration": 72,
    "start_time": "2024-03-16T18:18:53.540Z"
   },
   {
    "duration": 377,
    "start_time": "2024-03-16T18:18:53.614Z"
   },
   {
    "duration": 233,
    "start_time": "2024-03-16T18:18:53.993Z"
   },
   {
    "duration": 202,
    "start_time": "2024-03-16T18:18:54.227Z"
   },
   {
    "duration": 198,
    "start_time": "2024-03-16T18:18:54.431Z"
   },
   {
    "duration": 252,
    "start_time": "2024-03-16T18:18:54.630Z"
   },
   {
    "duration": 370,
    "start_time": "2024-03-16T18:18:54.883Z"
   },
   {
    "duration": 117,
    "start_time": "2024-03-16T18:18:55.255Z"
   },
   {
    "duration": 121,
    "start_time": "2024-03-16T18:18:55.373Z"
   },
   {
    "duration": 207,
    "start_time": "2024-03-16T18:18:55.496Z"
   },
   {
    "duration": 205,
    "start_time": "2024-03-16T18:18:55.705Z"
   },
   {
    "duration": 180,
    "start_time": "2024-03-16T18:18:55.911Z"
   },
   {
    "duration": 4,
    "start_time": "2024-03-16T18:18:56.093Z"
   },
   {
    "duration": 17,
    "start_time": "2024-03-16T18:18:56.098Z"
   },
   {
    "duration": 405,
    "start_time": "2024-03-16T18:18:56.117Z"
   },
   {
    "duration": 153,
    "start_time": "2024-03-16T18:18:56.524Z"
   },
   {
    "duration": 245,
    "start_time": "2024-03-16T18:18:56.678Z"
   },
   {
    "duration": 148,
    "start_time": "2024-03-16T18:18:56.925Z"
   },
   {
    "duration": 147,
    "start_time": "2024-03-16T18:18:57.074Z"
   },
   {
    "duration": 143,
    "start_time": "2024-03-16T18:18:57.223Z"
   },
   {
    "duration": 152,
    "start_time": "2024-03-16T18:18:57.369Z"
   },
   {
    "duration": 164,
    "start_time": "2024-03-16T18:18:57.522Z"
   },
   {
    "duration": 152,
    "start_time": "2024-03-16T18:18:57.688Z"
   },
   {
    "duration": 16,
    "start_time": "2024-03-16T18:18:57.841Z"
   },
   {
    "duration": 30,
    "start_time": "2024-03-16T18:18:57.859Z"
   },
   {
    "duration": 206,
    "start_time": "2024-03-16T18:18:57.891Z"
   },
   {
    "duration": 1229,
    "start_time": "2024-03-16T18:23:09.246Z"
   },
   {
    "duration": 222,
    "start_time": "2024-03-16T18:23:10.478Z"
   },
   {
    "duration": 1935,
    "start_time": "2024-03-16T18:23:10.702Z"
   },
   {
    "duration": 27,
    "start_time": "2024-03-16T18:23:12.639Z"
   },
   {
    "duration": 128,
    "start_time": "2024-03-16T18:23:12.668Z"
   },
   {
    "duration": 77,
    "start_time": "2024-03-16T18:23:12.798Z"
   },
   {
    "duration": 50,
    "start_time": "2024-03-16T18:23:12.878Z"
   },
   {
    "duration": 327,
    "start_time": "2024-03-16T18:23:12.930Z"
   },
   {
    "duration": 242,
    "start_time": "2024-03-16T18:23:13.259Z"
   },
   {
    "duration": 207,
    "start_time": "2024-03-16T18:23:13.504Z"
   },
   {
    "duration": 192,
    "start_time": "2024-03-16T18:23:13.713Z"
   },
   {
    "duration": 274,
    "start_time": "2024-03-16T18:23:13.906Z"
   },
   {
    "duration": 408,
    "start_time": "2024-03-16T18:23:14.182Z"
   },
   {
    "duration": 135,
    "start_time": "2024-03-16T18:23:14.592Z"
   },
   {
    "duration": 127,
    "start_time": "2024-03-16T18:23:14.728Z"
   },
   {
    "duration": 195,
    "start_time": "2024-03-16T18:23:14.857Z"
   },
   {
    "duration": 225,
    "start_time": "2024-03-16T18:23:15.053Z"
   },
   {
    "duration": 210,
    "start_time": "2024-03-16T18:23:15.280Z"
   },
   {
    "duration": 5,
    "start_time": "2024-03-16T18:23:15.491Z"
   },
   {
    "duration": 54,
    "start_time": "2024-03-16T18:23:15.497Z"
   },
   {
    "duration": 367,
    "start_time": "2024-03-16T18:23:15.552Z"
   },
   {
    "duration": 153,
    "start_time": "2024-03-16T18:23:15.921Z"
   },
   {
    "duration": 223,
    "start_time": "2024-03-16T18:23:16.075Z"
   },
   {
    "duration": 160,
    "start_time": "2024-03-16T18:23:16.299Z"
   },
   {
    "duration": 162,
    "start_time": "2024-03-16T18:23:16.460Z"
   },
   {
    "duration": 174,
    "start_time": "2024-03-16T18:23:16.623Z"
   },
   {
    "duration": 164,
    "start_time": "2024-03-16T18:23:16.798Z"
   },
   {
    "duration": 178,
    "start_time": "2024-03-16T18:23:16.969Z"
   },
   {
    "duration": 164,
    "start_time": "2024-03-16T18:23:17.148Z"
   },
   {
    "duration": 17,
    "start_time": "2024-03-16T18:23:17.313Z"
   },
   {
    "duration": 17,
    "start_time": "2024-03-16T18:23:17.332Z"
   },
   {
    "duration": 1141,
    "start_time": "2024-03-16T18:24:04.913Z"
   },
   {
    "duration": 211,
    "start_time": "2024-03-16T18:24:06.055Z"
   },
   {
    "duration": 1889,
    "start_time": "2024-03-16T18:24:06.268Z"
   },
   {
    "duration": 32,
    "start_time": "2024-03-16T18:24:08.159Z"
   },
   {
    "duration": 107,
    "start_time": "2024-03-16T18:24:08.192Z"
   },
   {
    "duration": 88,
    "start_time": "2024-03-16T18:24:08.301Z"
   },
   {
    "duration": 53,
    "start_time": "2024-03-16T18:24:08.391Z"
   },
   {
    "duration": 371,
    "start_time": "2024-03-16T18:24:08.446Z"
   },
   {
    "duration": 235,
    "start_time": "2024-03-16T18:24:08.819Z"
   },
   {
    "duration": 223,
    "start_time": "2024-03-16T18:24:09.057Z"
   },
   {
    "duration": 200,
    "start_time": "2024-03-16T18:24:09.282Z"
   },
   {
    "duration": 274,
    "start_time": "2024-03-16T18:24:09.484Z"
   },
   {
    "duration": 410,
    "start_time": "2024-03-16T18:24:09.759Z"
   },
   {
    "duration": 132,
    "start_time": "2024-03-16T18:24:10.172Z"
   },
   {
    "duration": 130,
    "start_time": "2024-03-16T18:24:10.306Z"
   },
   {
    "duration": 210,
    "start_time": "2024-03-16T18:24:10.439Z"
   },
   {
    "duration": 228,
    "start_time": "2024-03-16T18:24:10.651Z"
   },
   {
    "duration": 171,
    "start_time": "2024-03-16T18:24:10.881Z"
   },
   {
    "duration": 3,
    "start_time": "2024-03-16T18:24:11.054Z"
   },
   {
    "duration": 38,
    "start_time": "2024-03-16T18:24:11.058Z"
   },
   {
    "duration": 374,
    "start_time": "2024-03-16T18:24:11.097Z"
   },
   {
    "duration": 162,
    "start_time": "2024-03-16T18:24:11.473Z"
   },
   {
    "duration": 237,
    "start_time": "2024-03-16T18:24:11.637Z"
   },
   {
    "duration": 155,
    "start_time": "2024-03-16T18:24:11.876Z"
   },
   {
    "duration": 153,
    "start_time": "2024-03-16T18:24:12.032Z"
   },
   {
    "duration": 158,
    "start_time": "2024-03-16T18:24:12.186Z"
   },
   {
    "duration": 184,
    "start_time": "2024-03-16T18:24:12.345Z"
   },
   {
    "duration": 197,
    "start_time": "2024-03-16T18:24:12.532Z"
   },
   {
    "duration": 148,
    "start_time": "2024-03-16T18:24:12.730Z"
   },
   {
    "duration": 28,
    "start_time": "2024-03-16T18:24:12.881Z"
   },
   {
    "duration": 17,
    "start_time": "2024-03-16T18:24:12.910Z"
   },
   {
    "duration": 44954,
    "start_time": "2024-03-16T18:24:12.928Z"
   },
   {
    "duration": 1184,
    "start_time": "2024-03-16T18:25:59.328Z"
   },
   {
    "duration": 215,
    "start_time": "2024-03-16T18:26:00.514Z"
   },
   {
    "duration": 1967,
    "start_time": "2024-03-16T18:26:00.730Z"
   },
   {
    "duration": 28,
    "start_time": "2024-03-16T18:26:02.699Z"
   },
   {
    "duration": 171,
    "start_time": "2024-03-16T18:26:02.729Z"
   },
   {
    "duration": 71,
    "start_time": "2024-03-16T18:26:02.901Z"
   },
   {
    "duration": 54,
    "start_time": "2024-03-16T18:26:02.974Z"
   },
   {
    "duration": 385,
    "start_time": "2024-03-16T18:26:03.029Z"
   },
   {
    "duration": 241,
    "start_time": "2024-03-16T18:26:03.416Z"
   },
   {
    "duration": 222,
    "start_time": "2024-03-16T18:26:03.658Z"
   },
   {
    "duration": 198,
    "start_time": "2024-03-16T18:26:03.883Z"
   },
   {
    "duration": 275,
    "start_time": "2024-03-16T18:26:04.084Z"
   },
   {
    "duration": 386,
    "start_time": "2024-03-16T18:26:04.360Z"
   },
   {
    "duration": 127,
    "start_time": "2024-03-16T18:26:04.748Z"
   },
   {
    "duration": 130,
    "start_time": "2024-03-16T18:26:04.878Z"
   },
   {
    "duration": 200,
    "start_time": "2024-03-16T18:26:05.010Z"
   },
   {
    "duration": 229,
    "start_time": "2024-03-16T18:26:05.211Z"
   },
   {
    "duration": 204,
    "start_time": "2024-03-16T18:26:05.442Z"
   },
   {
    "duration": 5,
    "start_time": "2024-03-16T18:26:05.647Z"
   },
   {
    "duration": 38,
    "start_time": "2024-03-16T18:26:05.653Z"
   },
   {
    "duration": 377,
    "start_time": "2024-03-16T18:26:05.694Z"
   },
   {
    "duration": 155,
    "start_time": "2024-03-16T18:26:06.073Z"
   },
   {
    "duration": 212,
    "start_time": "2024-03-16T18:26:06.230Z"
   },
   {
    "duration": 149,
    "start_time": "2024-03-16T18:26:06.444Z"
   },
   {
    "duration": 145,
    "start_time": "2024-03-16T18:26:06.594Z"
   },
   {
    "duration": 148,
    "start_time": "2024-03-16T18:26:06.741Z"
   },
   {
    "duration": 163,
    "start_time": "2024-03-16T18:26:06.891Z"
   },
   {
    "duration": 166,
    "start_time": "2024-03-16T18:26:07.055Z"
   },
   {
    "duration": 149,
    "start_time": "2024-03-16T18:26:07.222Z"
   },
   {
    "duration": 19,
    "start_time": "2024-03-16T18:26:07.374Z"
   },
   {
    "duration": 45,
    "start_time": "2024-03-16T18:26:07.394Z"
   },
   {
    "duration": 168,
    "start_time": "2024-03-16T18:26:07.441Z"
   },
   {
    "duration": 1167,
    "start_time": "2024-03-16T18:29:57.147Z"
   },
   {
    "duration": 215,
    "start_time": "2024-03-16T18:29:58.316Z"
   },
   {
    "duration": 2057,
    "start_time": "2024-03-16T18:29:58.532Z"
   },
   {
    "duration": 30,
    "start_time": "2024-03-16T18:30:00.591Z"
   },
   {
    "duration": 102,
    "start_time": "2024-03-16T18:30:00.623Z"
   },
   {
    "duration": 85,
    "start_time": "2024-03-16T18:30:00.726Z"
   },
   {
    "duration": 96,
    "start_time": "2024-03-16T18:30:00.813Z"
   },
   {
    "duration": 371,
    "start_time": "2024-03-16T18:30:00.911Z"
   },
   {
    "duration": 222,
    "start_time": "2024-03-16T18:30:01.284Z"
   },
   {
    "duration": 201,
    "start_time": "2024-03-16T18:30:01.509Z"
   },
   {
    "duration": 182,
    "start_time": "2024-03-16T18:30:01.712Z"
   },
   {
    "duration": 274,
    "start_time": "2024-03-16T18:30:01.895Z"
   },
   {
    "duration": 364,
    "start_time": "2024-03-16T18:30:02.171Z"
   },
   {
    "duration": 116,
    "start_time": "2024-03-16T18:30:02.537Z"
   },
   {
    "duration": 140,
    "start_time": "2024-03-16T18:30:02.654Z"
   },
   {
    "duration": 167,
    "start_time": "2024-03-16T18:30:02.796Z"
   },
   {
    "duration": 229,
    "start_time": "2024-03-16T18:30:02.976Z"
   },
   {
    "duration": 170,
    "start_time": "2024-03-16T18:30:03.206Z"
   },
   {
    "duration": 6,
    "start_time": "2024-03-16T18:30:03.378Z"
   },
   {
    "duration": 22,
    "start_time": "2024-03-16T18:30:03.386Z"
   },
   {
    "duration": 428,
    "start_time": "2024-03-16T18:30:03.410Z"
   },
   {
    "duration": 166,
    "start_time": "2024-03-16T18:30:03.840Z"
   },
   {
    "duration": 227,
    "start_time": "2024-03-16T18:30:04.007Z"
   },
   {
    "duration": 145,
    "start_time": "2024-03-16T18:30:04.235Z"
   },
   {
    "duration": 153,
    "start_time": "2024-03-16T18:30:04.383Z"
   },
   {
    "duration": 163,
    "start_time": "2024-03-16T18:30:04.537Z"
   },
   {
    "duration": 159,
    "start_time": "2024-03-16T18:30:04.702Z"
   },
   {
    "duration": 177,
    "start_time": "2024-03-16T18:30:04.864Z"
   },
   {
    "duration": 167,
    "start_time": "2024-03-16T18:30:05.043Z"
   },
   {
    "duration": 25,
    "start_time": "2024-03-16T18:30:05.212Z"
   },
   {
    "duration": 42,
    "start_time": "2024-03-16T18:30:05.239Z"
   },
   {
    "duration": 201,
    "start_time": "2024-03-16T18:30:05.284Z"
   },
   {
    "duration": 1125,
    "start_time": "2024-03-16T18:40:34.274Z"
   },
   {
    "duration": 203,
    "start_time": "2024-03-16T18:40:35.401Z"
   },
   {
    "duration": 1912,
    "start_time": "2024-03-16T18:40:35.605Z"
   },
   {
    "duration": 29,
    "start_time": "2024-03-16T18:40:37.518Z"
   },
   {
    "duration": 129,
    "start_time": "2024-03-16T18:40:37.550Z"
   },
   {
    "duration": 59,
    "start_time": "2024-03-16T18:40:37.680Z"
   },
   {
    "duration": 72,
    "start_time": "2024-03-16T18:40:37.740Z"
   },
   {
    "duration": 306,
    "start_time": "2024-03-16T18:40:37.814Z"
   },
   {
    "duration": 219,
    "start_time": "2024-03-16T18:40:38.122Z"
   },
   {
    "duration": 186,
    "start_time": "2024-03-16T18:40:38.343Z"
   },
   {
    "duration": 180,
    "start_time": "2024-03-16T18:40:38.531Z"
   },
   {
    "duration": 261,
    "start_time": "2024-03-16T18:40:38.712Z"
   },
   {
    "duration": 352,
    "start_time": "2024-03-16T18:40:38.975Z"
   },
   {
    "duration": 117,
    "start_time": "2024-03-16T18:40:39.330Z"
   },
   {
    "duration": 110,
    "start_time": "2024-03-16T18:40:39.449Z"
   },
   {
    "duration": 184,
    "start_time": "2024-03-16T18:40:39.561Z"
   },
   {
    "duration": 235,
    "start_time": "2024-03-16T18:40:39.747Z"
   },
   {
    "duration": 185,
    "start_time": "2024-03-16T18:40:39.984Z"
   },
   {
    "duration": 4,
    "start_time": "2024-03-16T18:40:40.172Z"
   },
   {
    "duration": 27,
    "start_time": "2024-03-16T18:40:40.178Z"
   },
   {
    "duration": 397,
    "start_time": "2024-03-16T18:40:40.207Z"
   },
   {
    "duration": 158,
    "start_time": "2024-03-16T18:40:40.606Z"
   },
   {
    "duration": 239,
    "start_time": "2024-03-16T18:40:40.766Z"
   },
   {
    "duration": 142,
    "start_time": "2024-03-16T18:40:41.006Z"
   },
   {
    "duration": 137,
    "start_time": "2024-03-16T18:40:41.149Z"
   },
   {
    "duration": 135,
    "start_time": "2024-03-16T18:40:41.287Z"
   },
   {
    "duration": 166,
    "start_time": "2024-03-16T18:40:41.424Z"
   },
   {
    "duration": 179,
    "start_time": "2024-03-16T18:40:41.592Z"
   },
   {
    "duration": 140,
    "start_time": "2024-03-16T18:40:41.773Z"
   },
   {
    "duration": 18,
    "start_time": "2024-03-16T18:40:41.915Z"
   },
   {
    "duration": 38,
    "start_time": "2024-03-16T18:40:41.935Z"
   },
   {
    "duration": 172,
    "start_time": "2024-03-16T18:40:41.974Z"
   },
   {
    "duration": 1190,
    "start_time": "2024-03-16T20:04:43.992Z"
   },
   {
    "duration": 206,
    "start_time": "2024-03-16T20:04:45.184Z"
   },
   {
    "duration": 1866,
    "start_time": "2024-03-16T20:04:45.391Z"
   },
   {
    "duration": 30,
    "start_time": "2024-03-16T20:04:47.259Z"
   },
   {
    "duration": 108,
    "start_time": "2024-03-16T20:04:47.290Z"
   },
   {
    "duration": 72,
    "start_time": "2024-03-16T20:04:47.399Z"
   },
   {
    "duration": 60,
    "start_time": "2024-03-16T20:04:47.473Z"
   },
   {
    "duration": 314,
    "start_time": "2024-03-16T20:04:47.535Z"
   },
   {
    "duration": 208,
    "start_time": "2024-03-16T20:04:47.851Z"
   },
   {
    "duration": 188,
    "start_time": "2024-03-16T20:04:48.062Z"
   },
   {
    "duration": 172,
    "start_time": "2024-03-16T20:04:48.251Z"
   },
   {
    "duration": 245,
    "start_time": "2024-03-16T20:04:48.424Z"
   },
   {
    "duration": 354,
    "start_time": "2024-03-16T20:04:48.671Z"
   },
   {
    "duration": 113,
    "start_time": "2024-03-16T20:04:49.027Z"
   },
   {
    "duration": 109,
    "start_time": "2024-03-16T20:04:49.142Z"
   },
   {
    "duration": 171,
    "start_time": "2024-03-16T20:04:49.253Z"
   },
   {
    "duration": 198,
    "start_time": "2024-03-16T20:04:49.425Z"
   },
   {
    "duration": 172,
    "start_time": "2024-03-16T20:04:49.625Z"
   },
   {
    "duration": 4,
    "start_time": "2024-03-16T20:04:49.799Z"
   },
   {
    "duration": 19,
    "start_time": "2024-03-16T20:04:49.804Z"
   },
   {
    "duration": 381,
    "start_time": "2024-03-16T20:04:49.824Z"
   },
   {
    "duration": 151,
    "start_time": "2024-03-16T20:04:50.206Z"
   },
   {
    "duration": 222,
    "start_time": "2024-03-16T20:04:50.358Z"
   },
   {
    "duration": 141,
    "start_time": "2024-03-16T20:04:50.582Z"
   },
   {
    "duration": 141,
    "start_time": "2024-03-16T20:04:50.725Z"
   },
   {
    "duration": 139,
    "start_time": "2024-03-16T20:04:50.869Z"
   },
   {
    "duration": 148,
    "start_time": "2024-03-16T20:04:51.009Z"
   },
   {
    "duration": 175,
    "start_time": "2024-03-16T20:04:51.160Z"
   },
   {
    "duration": 142,
    "start_time": "2024-03-16T20:04:51.337Z"
   },
   {
    "duration": 19,
    "start_time": "2024-03-16T20:04:51.480Z"
   },
   {
    "duration": 24,
    "start_time": "2024-03-16T20:04:51.501Z"
   },
   {
    "duration": 180,
    "start_time": "2024-03-16T20:04:51.527Z"
   },
   {
    "duration": 1097,
    "start_time": "2024-03-16T22:24:56.284Z"
   },
   {
    "duration": 198,
    "start_time": "2024-03-16T22:24:57.382Z"
   },
   {
    "duration": 1855,
    "start_time": "2024-03-16T22:24:57.581Z"
   },
   {
    "duration": 31,
    "start_time": "2024-03-16T22:24:59.438Z"
   },
   {
    "duration": 117,
    "start_time": "2024-03-16T22:24:59.471Z"
   },
   {
    "duration": 59,
    "start_time": "2024-03-16T22:24:59.589Z"
   },
   {
    "duration": 70,
    "start_time": "2024-03-16T22:24:59.649Z"
   },
   {
    "duration": 326,
    "start_time": "2024-03-16T22:24:59.721Z"
   },
   {
    "duration": 229,
    "start_time": "2024-03-16T22:25:00.049Z"
   },
   {
    "duration": 210,
    "start_time": "2024-03-16T22:25:00.281Z"
   },
   {
    "duration": 254,
    "start_time": "2024-03-16T22:25:00.493Z"
   },
   {
    "duration": 251,
    "start_time": "2024-03-16T22:25:00.748Z"
   },
   {
    "duration": 378,
    "start_time": "2024-03-16T22:25:01.001Z"
   },
   {
    "duration": 118,
    "start_time": "2024-03-16T22:25:01.381Z"
   },
   {
    "duration": 117,
    "start_time": "2024-03-16T22:25:01.501Z"
   },
   {
    "duration": 176,
    "start_time": "2024-03-16T22:25:01.620Z"
   },
   {
    "duration": 198,
    "start_time": "2024-03-16T22:25:01.797Z"
   },
   {
    "duration": 168,
    "start_time": "2024-03-16T22:25:01.997Z"
   },
   {
    "duration": 7,
    "start_time": "2024-03-16T22:25:02.167Z"
   },
   {
    "duration": 46,
    "start_time": "2024-03-16T22:25:02.181Z"
   },
   {
    "duration": 373,
    "start_time": "2024-03-16T22:25:02.229Z"
   },
   {
    "duration": 158,
    "start_time": "2024-03-16T22:25:02.604Z"
   },
   {
    "duration": 216,
    "start_time": "2024-03-16T22:25:02.763Z"
   },
   {
    "duration": 155,
    "start_time": "2024-03-16T22:25:02.980Z"
   },
   {
    "duration": 144,
    "start_time": "2024-03-16T22:25:03.136Z"
   },
   {
    "duration": 151,
    "start_time": "2024-03-16T22:25:03.282Z"
   },
   {
    "duration": 140,
    "start_time": "2024-03-16T22:25:03.434Z"
   },
   {
    "duration": 175,
    "start_time": "2024-03-16T22:25:03.577Z"
   },
   {
    "duration": 135,
    "start_time": "2024-03-16T22:25:03.753Z"
   },
   {
    "duration": 16,
    "start_time": "2024-03-16T22:25:03.890Z"
   },
   {
    "duration": 38,
    "start_time": "2024-03-16T22:25:03.908Z"
   },
   {
    "duration": 165,
    "start_time": "2024-03-16T22:25:03.947Z"
   },
   {
    "duration": 1275,
    "start_time": "2024-03-17T10:47:28.856Z"
   },
   {
    "duration": 405,
    "start_time": "2024-03-17T10:47:30.133Z"
   },
   {
    "duration": 1943,
    "start_time": "2024-03-17T10:47:30.540Z"
   },
   {
    "duration": 29,
    "start_time": "2024-03-17T10:47:32.485Z"
   },
   {
    "duration": 122,
    "start_time": "2024-03-17T10:47:32.515Z"
   },
   {
    "duration": 59,
    "start_time": "2024-03-17T10:47:32.638Z"
   },
   {
    "duration": 75,
    "start_time": "2024-03-17T10:47:32.699Z"
   },
   {
    "duration": 306,
    "start_time": "2024-03-17T10:47:32.775Z"
   },
   {
    "duration": 219,
    "start_time": "2024-03-17T10:47:33.084Z"
   },
   {
    "duration": 216,
    "start_time": "2024-03-17T10:47:33.305Z"
   },
   {
    "duration": 199,
    "start_time": "2024-03-17T10:47:33.522Z"
   },
   {
    "duration": 355,
    "start_time": "2024-03-17T10:47:33.722Z"
   },
   {
    "duration": 255,
    "start_time": "2024-03-17T10:47:34.079Z"
   },
   {
    "duration": 123,
    "start_time": "2024-03-17T10:47:34.336Z"
   },
   {
    "duration": 114,
    "start_time": "2024-03-17T10:47:34.460Z"
   },
   {
    "duration": 180,
    "start_time": "2024-03-17T10:47:34.575Z"
   },
   {
    "duration": 218,
    "start_time": "2024-03-17T10:47:34.756Z"
   },
   {
    "duration": 167,
    "start_time": "2024-03-17T10:47:34.975Z"
   },
   {
    "duration": 4,
    "start_time": "2024-03-17T10:47:35.143Z"
   },
   {
    "duration": 46,
    "start_time": "2024-03-17T10:47:35.148Z"
   },
   {
    "duration": 352,
    "start_time": "2024-03-17T10:47:35.196Z"
   },
   {
    "duration": 257,
    "start_time": "2024-03-17T10:47:35.550Z"
   },
   {
    "duration": 153,
    "start_time": "2024-03-17T10:47:35.809Z"
   },
   {
    "duration": 160,
    "start_time": "2024-03-17T10:47:35.963Z"
   },
   {
    "duration": 183,
    "start_time": "2024-03-17T10:47:36.125Z"
   },
   {
    "duration": 153,
    "start_time": "2024-03-17T10:47:36.310Z"
   },
   {
    "duration": 169,
    "start_time": "2024-03-17T10:47:36.464Z"
   },
   {
    "duration": 183,
    "start_time": "2024-03-17T10:47:36.636Z"
   },
   {
    "duration": 153,
    "start_time": "2024-03-17T10:47:36.821Z"
   },
   {
    "duration": 18,
    "start_time": "2024-03-17T10:47:36.975Z"
   },
   {
    "duration": 40,
    "start_time": "2024-03-17T10:47:36.995Z"
   },
   {
    "duration": 184,
    "start_time": "2024-03-17T10:47:37.037Z"
   },
   {
    "duration": 69,
    "start_time": "2024-03-17T10:48:19.935Z"
   },
   {
    "duration": 1142,
    "start_time": "2024-03-17T10:49:28.975Z"
   },
   {
    "duration": 238,
    "start_time": "2024-03-17T10:49:30.119Z"
   },
   {
    "duration": 2092,
    "start_time": "2024-03-17T10:49:30.359Z"
   },
   {
    "duration": 29,
    "start_time": "2024-03-17T10:49:32.453Z"
   },
   {
    "duration": 94,
    "start_time": "2024-03-17T10:49:32.484Z"
   },
   {
    "duration": 87,
    "start_time": "2024-03-17T10:49:32.580Z"
   },
   {
    "duration": 98,
    "start_time": "2024-03-17T10:49:32.669Z"
   },
   {
    "duration": 378,
    "start_time": "2024-03-17T10:49:32.768Z"
   },
   {
    "duration": 235,
    "start_time": "2024-03-17T10:49:33.148Z"
   },
   {
    "duration": 219,
    "start_time": "2024-03-17T10:49:33.385Z"
   },
   {
    "duration": 216,
    "start_time": "2024-03-17T10:49:33.607Z"
   },
   {
    "duration": 297,
    "start_time": "2024-03-17T10:49:33.825Z"
   },
   {
    "duration": 362,
    "start_time": "2024-03-17T10:49:34.124Z"
   },
   {
    "duration": 114,
    "start_time": "2024-03-17T10:49:34.488Z"
   },
   {
    "duration": 128,
    "start_time": "2024-03-17T10:49:34.604Z"
   },
   {
    "duration": 176,
    "start_time": "2024-03-17T10:49:34.734Z"
   },
   {
    "duration": 209,
    "start_time": "2024-03-17T10:49:34.917Z"
   },
   {
    "duration": 203,
    "start_time": "2024-03-17T10:49:35.128Z"
   },
   {
    "duration": 6,
    "start_time": "2024-03-17T10:49:35.333Z"
   },
   {
    "duration": 85,
    "start_time": "2024-03-17T10:49:35.341Z"
   },
   {
    "duration": 21,
    "start_time": "2024-03-17T10:49:35.428Z"
   },
   {
    "duration": 398,
    "start_time": "2024-03-17T10:49:35.450Z"
   },
   {
    "duration": 172,
    "start_time": "2024-03-17T10:49:35.850Z"
   },
   {
    "duration": 236,
    "start_time": "2024-03-17T10:49:36.024Z"
   },
   {
    "duration": 199,
    "start_time": "2024-03-17T10:49:36.262Z"
   },
   {
    "duration": 225,
    "start_time": "2024-03-17T10:49:36.463Z"
   },
   {
    "duration": 165,
    "start_time": "2024-03-17T10:49:36.690Z"
   },
   {
    "duration": 159,
    "start_time": "2024-03-17T10:49:36.860Z"
   },
   {
    "duration": 186,
    "start_time": "2024-03-17T10:49:37.022Z"
   },
   {
    "duration": 158,
    "start_time": "2024-03-17T10:49:37.210Z"
   },
   {
    "duration": 20,
    "start_time": "2024-03-17T10:49:37.370Z"
   },
   {
    "duration": 38,
    "start_time": "2024-03-17T10:49:37.392Z"
   },
   {
    "duration": 183,
    "start_time": "2024-03-17T10:49:37.431Z"
   },
   {
    "duration": 176,
    "start_time": "2024-03-17T10:50:11.285Z"
   }
  ],
  "colab": {
   "provenance": []
  },
  "kernelspec": {
   "display_name": "Python 3 (ipykernel)",
   "language": "python",
   "name": "python3"
  },
  "language_info": {
   "codemirror_mode": {
    "name": "ipython",
    "version": 3
   },
   "file_extension": ".py",
   "mimetype": "text/x-python",
   "name": "python",
   "nbconvert_exporter": "python",
   "pygments_lexer": "ipython3",
   "version": "3.9.18"
  },
  "toc": {
   "base_numbering": 1,
   "nav_menu": {},
   "number_sections": true,
   "sideBar": true,
   "skip_h1_title": true,
   "title_cell": "Table of Contents",
   "title_sidebar": "Contents",
   "toc_cell": false,
   "toc_position": {},
   "toc_section_display": true,
   "toc_window_display": true
  },
  "varInspector": {
   "cols": {
    "lenName": 16,
    "lenType": 16,
    "lenVar": 40
   },
   "kernels_config": {
    "python": {
     "delete_cmd_postfix": "",
     "delete_cmd_prefix": "del ",
     "library": "var_list.py",
     "varRefreshCmd": "print(var_dic_list())"
    },
    "r": {
     "delete_cmd_postfix": ") ",
     "delete_cmd_prefix": "rm(",
     "library": "var_list.r",
     "varRefreshCmd": "cat(var_dic_list()) "
    }
   },
   "types_to_exclude": [
    "module",
    "function",
    "builtin_function_or_method",
    "instance",
    "_Feature"
   ],
   "window_display": false
  }
 },
 "nbformat": 4,
 "nbformat_minor": 1
}
